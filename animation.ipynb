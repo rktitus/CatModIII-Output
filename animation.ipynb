{
 "cells": [
  {
   "cell_type": "code",
   "execution_count": 5,
   "metadata": {},
   "outputs": [],
   "source": [
    "import pickle\n",
    "from IPython.display import display, HTML\n",
    "from plotly.offline import init_notebook_mode, iplot"
   ]
  },
  {
   "cell_type": "code",
   "execution_count": 2,
   "metadata": {},
   "outputs": [],
   "source": [
    "##############################\n",
    "##    Reading the figure    ##\n",
    "##############################\n",
    "\n",
    "with open('figure.pkl', 'rb') as file:\n",
    "    figure = pickle.load(file)"
   ]
  },
  {
   "cell_type": "code",
   "execution_count": 6,
   "metadata": {},
   "outputs": [
    {
     "data": {
      "text/html": [
       "        <script type=\"text/javascript\">\n",
       "        window.PlotlyConfig = {MathJaxConfig: 'local'};\n",
       "        if (window.MathJax) {MathJax.Hub.Config({SVG: {font: \"STIX-Web\"}});}\n",
       "        if (typeof require !== 'undefined') {\n",
       "        require.undef(\"plotly\");\n",
       "        requirejs.config({\n",
       "            paths: {\n",
       "                'plotly': ['https://cdn.plot.ly/plotly-latest.min']\n",
       "            }\n",
       "        });\n",
       "        require(['plotly'], function(Plotly) {\n",
       "            window._Plotly = Plotly;\n",
       "        });\n",
       "        }\n",
       "        </script>\n",
       "        "
      ]
     },
     "metadata": {},
     "output_type": "display_data"
    },
    {
     "data": {
      "application/vnd.plotly.v1+json": {
       "config": {
        "linkText": "Export to plot.ly",
        "plotlyServerURL": "https://plot.ly",
        "responsive": true,
        "showLink": false
       },
       "data": [
        {
         "autocolorscale": false,
         "colorbar": {
          "title": {
           "text": "Events"
          }
         },
         "colorscale": [
          [
           0,
           "rgb(242,240,247)"
          ],
          [
           0.2,
           "rgb(218,218,235)"
          ],
          [
           0.4,
           "rgb(188,189,220)"
          ],
          [
           0.6,
           "rgb(158,154,200)"
          ],
          [
           0.8,
           "rgb(117,107,177)"
          ],
          [
           1,
           "rgb(84,39,143)"
          ]
         ],
         "locationmode": "USA-states",
         "locations": [
          "OK",
          "TX",
          "PA",
          "NE",
          "MS",
          "NM",
          "AR",
          "MO",
          "CT",
          "FL",
          "NC",
          "AL",
          "KY",
          "MD",
          "MN",
          "SD",
          "IA",
          "LA",
          "OH",
          "KS",
          "ND",
          "IN",
          "CO",
          "SC",
          "WV",
          "WY",
          "GA",
          "WI",
          "IL",
          "TN",
          "NJ",
          "MI",
          "CA",
          "MA",
          "NH",
          "OR",
          "VA",
          "AZ",
          "NY",
          "MT",
          "ME",
          "VT",
          "UT",
          "DE",
          "ID",
          "WA",
          "HI",
          "RI",
          "NV",
          "AK"
         ],
         "marker": {
          "line": {
           "color": "rgb(255,255,255)",
           "width": 2
          }
         },
         "text": [
          "OKLAHOMA",
          "TEXAS",
          "PENNSYLVANIA",
          "NEBRASKA",
          "MISSISSIPPI",
          "NEW MEXICO",
          "ARKANSAS",
          "MISSOURI",
          "CONNECTICUT",
          "FLORIDA",
          "NORTH CAROLINA",
          "ALABAMA",
          "KENTUCKY",
          "MARYLAND",
          "MINNESOTA",
          "SOUTH DAKOTA",
          "IOWA",
          "LOUISIANA",
          "OHIO",
          "KANSAS",
          "NORTH DAKOTA",
          "INDIANA",
          "COLORADO",
          "SOUTH CAROLINA",
          "WEST VIRGINIA",
          "WYOMING",
          "GEORGIA",
          "WISCONSIN",
          "ILLINOIS",
          "TENNESSEE",
          "NEW JERSEY",
          "MICHIGAN",
          "CALIFORNIA",
          "MASSACHUSETTS",
          "NEW HAMPSHIRE",
          "OREGON",
          "VIRGINIA",
          "ARIZONA",
          "NEW YORK",
          "MONTANA",
          "MAINE",
          "VERMONT",
          "UTAH",
          "DELAWARE",
          "IDAHO",
          "WASHINGTON",
          "HAWAII",
          "RHODE ISLAND",
          "NEVADA",
          "ALASKA"
         ],
         "type": "choropleth",
         "uid": "b6c19aa0-1b56-406a-9932-58573327269a",
         "z": [
          25,
          20,
          6,
          6,
          16,
          2,
          13,
          6,
          2,
          6,
          9,
          2,
          2,
          1,
          1,
          1,
          4,
          28,
          3,
          33,
          2,
          3,
          3,
          1,
          1,
          3,
          4,
          6,
          11,
          3,
          0,
          0,
          0,
          0,
          0,
          0,
          0,
          0,
          0,
          0,
          0,
          0,
          0,
          0,
          0,
          0,
          0,
          0,
          0,
          0
         ]
        }
       ],
       "frames": [
        {
         "data": [
          {
           "autocolorscale": false,
           "colorbar": {
            "title": {
             "text": "Events"
            }
           },
           "colorscale": [
            [
             0,
             "rgb(242,240,247)"
            ],
            [
             0.2,
             "rgb(218,218,235)"
            ],
            [
             0.4,
             "rgb(188,189,220)"
            ],
            [
             0.6,
             "rgb(158,154,200)"
            ],
            [
             0.8,
             "rgb(117,107,177)"
            ],
            [
             1,
             "rgb(84,39,143)"
            ]
           ],
           "locationmode": "USA-states",
           "locations": [
            "OK",
            "TX",
            "PA",
            "NE",
            "MS",
            "NM",
            "AR",
            "MO",
            "CT",
            "FL",
            "NC",
            "AL",
            "KY",
            "MD",
            "MN",
            "SD",
            "IA",
            "LA",
            "OH",
            "KS",
            "ND",
            "IN",
            "CO",
            "SC",
            "WV",
            "WY",
            "GA",
            "WI",
            "IL",
            "TN",
            "NJ",
            "MI",
            "CA",
            "MA",
            "NH",
            "OR",
            "VA",
            "AZ",
            "NY",
            "MT",
            "ME",
            "VT",
            "UT",
            "DE",
            "ID",
            "WA",
            "HI",
            "RI",
            "NV",
            "AK"
           ],
           "marker": {
            "line": {
             "color": "rgb(255,255,255)",
             "width": 2
            }
           },
           "text": [
            "OKLAHOMA",
            "TEXAS",
            "PENNSYLVANIA",
            "NEBRASKA",
            "MISSISSIPPI",
            "NEW MEXICO",
            "ARKANSAS",
            "MISSOURI",
            "CONNECTICUT",
            "FLORIDA",
            "NORTH CAROLINA",
            "ALABAMA",
            "KENTUCKY",
            "MARYLAND",
            "MINNESOTA",
            "SOUTH DAKOTA",
            "IOWA",
            "LOUISIANA",
            "OHIO",
            "KANSAS",
            "NORTH DAKOTA",
            "INDIANA",
            "COLORADO",
            "SOUTH CAROLINA",
            "WEST VIRGINIA",
            "WYOMING",
            "GEORGIA",
            "WISCONSIN",
            "ILLINOIS",
            "TENNESSEE",
            "NEW JERSEY",
            "MICHIGAN",
            "CALIFORNIA",
            "MASSACHUSETTS",
            "NEW HAMPSHIRE",
            "OREGON",
            "VIRGINIA",
            "ARIZONA",
            "NEW YORK",
            "MONTANA",
            "MAINE",
            "VERMONT",
            "UTAH",
            "DELAWARE",
            "IDAHO",
            "WASHINGTON",
            "HAWAII",
            "RHODE ISLAND",
            "NEVADA",
            "ALASKA"
           ],
           "type": "choropleth",
           "z": [
            25,
            20,
            6,
            6,
            16,
            2,
            13,
            6,
            2,
            6,
            9,
            2,
            2,
            1,
            1,
            1,
            4,
            28,
            3,
            33,
            2,
            3,
            3,
            1,
            1,
            3,
            4,
            6,
            11,
            3,
            0,
            0,
            0,
            0,
            0,
            0,
            0,
            0,
            0,
            0,
            0,
            0,
            0,
            0,
            0,
            0,
            0,
            0,
            0,
            0
           ]
          }
         ],
         "name": "1950"
        },
        {
         "data": [
          {
           "autocolorscale": false,
           "colorbar": {
            "title": {
             "text": "Events"
            }
           },
           "colorscale": [
            [
             0,
             "rgb(242,240,247)"
            ],
            [
             0.2,
             "rgb(218,218,235)"
            ],
            [
             0.4,
             "rgb(188,189,220)"
            ],
            [
             0.6,
             "rgb(158,154,200)"
            ],
            [
             0.8,
             "rgb(117,107,177)"
            ],
            [
             1,
             "rgb(84,39,143)"
            ]
           ],
           "locationmode": "USA-states",
           "locations": [
            "OK",
            "TX",
            "PA",
            "NE",
            "MS",
            "NM",
            "AR",
            "MO",
            "CT",
            "FL",
            "NC",
            "AL",
            "KY",
            "MD",
            "MN",
            "SD",
            "IA",
            "LA",
            "OH",
            "KS",
            "ND",
            "IN",
            "CO",
            "SC",
            "WV",
            "WY",
            "GA",
            "WI",
            "IL",
            "TN",
            "NJ",
            "MI",
            "CA",
            "MA",
            "NH",
            "OR",
            "VA",
            "AZ",
            "NY",
            "MT",
            "ME",
            "VT",
            "UT",
            "DE",
            "ID",
            "WA",
            "HI",
            "RI",
            "NV",
            "AK"
           ],
           "marker": {
            "line": {
             "color": "rgb(255,255,255)",
             "width": 2
            }
           },
           "text": [
            "OKLAHOMA",
            "TEXAS",
            "PENNSYLVANIA",
            "NEBRASKA",
            "MISSISSIPPI",
            "NEW MEXICO",
            "ARKANSAS",
            "MISSOURI",
            "CONNECTICUT",
            "FLORIDA",
            "NORTH CAROLINA",
            "ALABAMA",
            "KENTUCKY",
            "MARYLAND",
            "MINNESOTA",
            "SOUTH DAKOTA",
            "IOWA",
            "LOUISIANA",
            "OHIO",
            "KANSAS",
            "NORTH DAKOTA",
            "INDIANA",
            "COLORADO",
            "SOUTH CAROLINA",
            "WEST VIRGINIA",
            "WYOMING",
            "GEORGIA",
            "WISCONSIN",
            "ILLINOIS",
            "TENNESSEE",
            "NEW JERSEY",
            "MICHIGAN",
            "CALIFORNIA",
            "MASSACHUSETTS",
            "NEW HAMPSHIRE",
            "OREGON",
            "VIRGINIA",
            "ARIZONA",
            "NEW YORK",
            "MONTANA",
            "MAINE",
            "VERMONT",
            "UTAH",
            "DELAWARE",
            "IDAHO",
            "WASHINGTON",
            "HAWAII",
            "RHODE ISLAND",
            "NEVADA",
            "ALASKA"
           ],
           "type": "choropleth",
           "z": [
            45,
            15,
            4,
            9,
            9,
            2,
            3,
            6,
            3,
            9,
            4,
            5,
            2,
            0,
            4,
            2,
            5,
            10,
            3,
            77,
            2,
            5,
            8,
            1,
            1,
            0,
            3,
            7,
            5,
            1,
            1,
            8,
            1,
            2,
            1,
            1,
            5,
            0,
            0,
            0,
            0,
            0,
            0,
            0,
            0,
            0,
            0,
            0,
            0,
            0
           ]
          }
         ],
         "name": "1951"
        },
        {
         "data": [
          {
           "autocolorscale": false,
           "colorbar": {
            "title": {
             "text": "Events"
            }
           },
           "colorscale": [
            [
             0,
             "rgb(242,240,247)"
            ],
            [
             0.2,
             "rgb(218,218,235)"
            ],
            [
             0.4,
             "rgb(188,189,220)"
            ],
            [
             0.6,
             "rgb(158,154,200)"
            ],
            [
             0.8,
             "rgb(117,107,177)"
            ],
            [
             1,
             "rgb(84,39,143)"
            ]
           ],
           "locationmode": "USA-states",
           "locations": [
            "OK",
            "TX",
            "PA",
            "NE",
            "MS",
            "NM",
            "AR",
            "MO",
            "CT",
            "FL",
            "NC",
            "AL",
            "KY",
            "MD",
            "MN",
            "SD",
            "IA",
            "LA",
            "OH",
            "KS",
            "ND",
            "IN",
            "CO",
            "SC",
            "WV",
            "WY",
            "GA",
            "WI",
            "IL",
            "TN",
            "NJ",
            "MI",
            "CA",
            "MA",
            "NH",
            "OR",
            "VA",
            "AZ",
            "NY",
            "MT",
            "ME",
            "VT",
            "UT",
            "DE",
            "ID",
            "WA",
            "HI",
            "RI",
            "NV",
            "AK"
           ],
           "marker": {
            "line": {
             "color": "rgb(255,255,255)",
             "width": 2
            }
           },
           "text": [
            "OKLAHOMA",
            "TEXAS",
            "PENNSYLVANIA",
            "NEBRASKA",
            "MISSISSIPPI",
            "NEW MEXICO",
            "ARKANSAS",
            "MISSOURI",
            "CONNECTICUT",
            "FLORIDA",
            "NORTH CAROLINA",
            "ALABAMA",
            "KENTUCKY",
            "MARYLAND",
            "MINNESOTA",
            "SOUTH DAKOTA",
            "IOWA",
            "LOUISIANA",
            "OHIO",
            "KANSAS",
            "NORTH DAKOTA",
            "INDIANA",
            "COLORADO",
            "SOUTH CAROLINA",
            "WEST VIRGINIA",
            "WYOMING",
            "GEORGIA",
            "WISCONSIN",
            "ILLINOIS",
            "TENNESSEE",
            "NEW JERSEY",
            "MICHIGAN",
            "CALIFORNIA",
            "MASSACHUSETTS",
            "NEW HAMPSHIRE",
            "OREGON",
            "VIRGINIA",
            "ARIZONA",
            "NEW YORK",
            "MONTANA",
            "MAINE",
            "VERMONT",
            "UTAH",
            "DELAWARE",
            "IDAHO",
            "WASHINGTON",
            "HAWAII",
            "RHODE ISLAND",
            "NEVADA",
            "ALASKA"
           ],
           "type": "choropleth",
           "z": [
            25,
            13,
            7,
            11,
            7,
            0,
            29,
            11,
            0,
            10,
            7,
            13,
            3,
            4,
            11,
            5,
            6,
            11,
            2,
            21,
            11,
            2,
            3,
            3,
            0,
            1,
            13,
            1,
            4,
            26,
            4,
            0,
            1,
            0,
            0,
            0,
            3,
            1,
            1,
            2,
            0,
            0,
            0,
            0,
            0,
            0,
            0,
            0,
            0,
            0
           ]
          }
         ],
         "name": "1952"
        },
        {
         "data": [
          {
           "autocolorscale": false,
           "colorbar": {
            "title": {
             "text": "Events"
            }
           },
           "colorscale": [
            [
             0,
             "rgb(242,240,247)"
            ],
            [
             0.2,
             "rgb(218,218,235)"
            ],
            [
             0.4,
             "rgb(188,189,220)"
            ],
            [
             0.6,
             "rgb(158,154,200)"
            ],
            [
             0.8,
             "rgb(117,107,177)"
            ],
            [
             1,
             "rgb(84,39,143)"
            ]
           ],
           "locationmode": "USA-states",
           "locations": [
            "OK",
            "TX",
            "PA",
            "NE",
            "MS",
            "NM",
            "AR",
            "MO",
            "CT",
            "FL",
            "NC",
            "AL",
            "KY",
            "MD",
            "MN",
            "SD",
            "IA",
            "LA",
            "OH",
            "KS",
            "ND",
            "IN",
            "CO",
            "SC",
            "WV",
            "WY",
            "GA",
            "WI",
            "IL",
            "TN",
            "NJ",
            "MI",
            "CA",
            "MA",
            "NH",
            "OR",
            "VA",
            "AZ",
            "NY",
            "MT",
            "ME",
            "VT",
            "UT",
            "DE",
            "ID",
            "WA",
            "HI",
            "RI",
            "NV",
            "AK"
           ],
           "marker": {
            "line": {
             "color": "rgb(255,255,255)",
             "width": 2
            }
           },
           "text": [
            "OKLAHOMA",
            "TEXAS",
            "PENNSYLVANIA",
            "NEBRASKA",
            "MISSISSIPPI",
            "NEW MEXICO",
            "ARKANSAS",
            "MISSOURI",
            "CONNECTICUT",
            "FLORIDA",
            "NORTH CAROLINA",
            "ALABAMA",
            "KENTUCKY",
            "MARYLAND",
            "MINNESOTA",
            "SOUTH DAKOTA",
            "IOWA",
            "LOUISIANA",
            "OHIO",
            "KANSAS",
            "NORTH DAKOTA",
            "INDIANA",
            "COLORADO",
            "SOUTH CAROLINA",
            "WEST VIRGINIA",
            "WYOMING",
            "GEORGIA",
            "WISCONSIN",
            "ILLINOIS",
            "TENNESSEE",
            "NEW JERSEY",
            "MICHIGAN",
            "CALIFORNIA",
            "MASSACHUSETTS",
            "NEW HAMPSHIRE",
            "OREGON",
            "VIRGINIA",
            "ARIZONA",
            "NEW YORK",
            "MONTANA",
            "MAINE",
            "VERMONT",
            "UTAH",
            "DELAWARE",
            "IDAHO",
            "WASHINGTON",
            "HAWAII",
            "RHODE ISLAND",
            "NEVADA",
            "ALASKA"
           ],
           "type": "choropleth",
           "z": [
            56,
            33,
            6,
            49,
            26,
            0,
            11,
            6,
            0,
            21,
            5,
            22,
            0,
            2,
            10,
            12,
            32,
            32,
            8,
            30,
            10,
            9,
            14,
            4,
            0,
            7,
            12,
            9,
            5,
            17,
            0,
            20,
            2,
            4,
            2,
            0,
            6,
            0,
            0,
            5,
            2,
            1,
            2,
            0,
            0,
            0,
            0,
            0,
            0,
            0
           ]
          }
         ],
         "name": "1953"
        },
        {
         "data": [
          {
           "autocolorscale": false,
           "colorbar": {
            "title": {
             "text": "Events"
            }
           },
           "colorscale": [
            [
             0,
             "rgb(242,240,247)"
            ],
            [
             0.2,
             "rgb(218,218,235)"
            ],
            [
             0.4,
             "rgb(188,189,220)"
            ],
            [
             0.6,
             "rgb(158,154,200)"
            ],
            [
             0.8,
             "rgb(117,107,177)"
            ],
            [
             1,
             "rgb(84,39,143)"
            ]
           ],
           "locationmode": "USA-states",
           "locations": [
            "OK",
            "TX",
            "PA",
            "NE",
            "MS",
            "NM",
            "AR",
            "MO",
            "CT",
            "FL",
            "NC",
            "AL",
            "KY",
            "MD",
            "MN",
            "SD",
            "IA",
            "LA",
            "OH",
            "KS",
            "ND",
            "IN",
            "CO",
            "SC",
            "WV",
            "WY",
            "GA",
            "WI",
            "IL",
            "TN",
            "NJ",
            "MI",
            "CA",
            "MA",
            "NH",
            "OR",
            "VA",
            "AZ",
            "NY",
            "MT",
            "ME",
            "VT",
            "UT",
            "DE",
            "ID",
            "WA",
            "HI",
            "RI",
            "NV",
            "AK"
           ],
           "marker": {
            "line": {
             "color": "rgb(255,255,255)",
             "width": 2
            }
           },
           "text": [
            "OKLAHOMA",
            "TEXAS",
            "PENNSYLVANIA",
            "NEBRASKA",
            "MISSISSIPPI",
            "NEW MEXICO",
            "ARKANSAS",
            "MISSOURI",
            "CONNECTICUT",
            "FLORIDA",
            "NORTH CAROLINA",
            "ALABAMA",
            "KENTUCKY",
            "MARYLAND",
            "MINNESOTA",
            "SOUTH DAKOTA",
            "IOWA",
            "LOUISIANA",
            "OHIO",
            "KANSAS",
            "NORTH DAKOTA",
            "INDIANA",
            "COLORADO",
            "SOUTH CAROLINA",
            "WEST VIRGINIA",
            "WYOMING",
            "GEORGIA",
            "WISCONSIN",
            "ILLINOIS",
            "TENNESSEE",
            "NEW JERSEY",
            "MICHIGAN",
            "CALIFORNIA",
            "MASSACHUSETTS",
            "NEW HAMPSHIRE",
            "OREGON",
            "VIRGINIA",
            "ARIZONA",
            "NEW YORK",
            "MONTANA",
            "MAINE",
            "VERMONT",
            "UTAH",
            "DELAWARE",
            "IDAHO",
            "WASHINGTON",
            "HAWAII",
            "RHODE ISLAND",
            "NEVADA",
            "ALASKA"
           ],
           "type": "choropleth",
           "z": [
            61,
            84,
            22,
            19,
            19,
            8,
            33,
            40,
            2,
            13,
            9,
            10,
            3,
            2,
            7,
            16,
            19,
            11,
            13,
            68,
            4,
            32,
            9,
            1,
            3,
            2,
            37,
            13,
            9,
            2,
            0,
            12,
            1,
            2,
            1,
            1,
            5,
            2,
            2,
            4,
            2,
            0,
            1,
            1,
            3,
            1,
            0,
            0,
            0,
            0
           ]
          }
         ],
         "name": "1954"
        },
        {
         "data": [
          {
           "autocolorscale": false,
           "colorbar": {
            "title": {
             "text": "Events"
            }
           },
           "colorscale": [
            [
             0,
             "rgb(242,240,247)"
            ],
            [
             0.2,
             "rgb(218,218,235)"
            ],
            [
             0.4,
             "rgb(188,189,220)"
            ],
            [
             0.6,
             "rgb(158,154,200)"
            ],
            [
             0.8,
             "rgb(117,107,177)"
            ],
            [
             1,
             "rgb(84,39,143)"
            ]
           ],
           "locationmode": "USA-states",
           "locations": [
            "OK",
            "TX",
            "PA",
            "NE",
            "MS",
            "NM",
            "AR",
            "MO",
            "CT",
            "FL",
            "NC",
            "AL",
            "KY",
            "MD",
            "MN",
            "SD",
            "IA",
            "LA",
            "OH",
            "KS",
            "ND",
            "IN",
            "CO",
            "SC",
            "WV",
            "WY",
            "GA",
            "WI",
            "IL",
            "TN",
            "NJ",
            "MI",
            "CA",
            "MA",
            "NH",
            "OR",
            "VA",
            "AZ",
            "NY",
            "MT",
            "ME",
            "VT",
            "UT",
            "DE",
            "ID",
            "WA",
            "HI",
            "RI",
            "NV",
            "AK"
           ],
           "marker": {
            "line": {
             "color": "rgb(255,255,255)",
             "width": 2
            }
           },
           "text": [
            "OKLAHOMA",
            "TEXAS",
            "PENNSYLVANIA",
            "NEBRASKA",
            "MISSISSIPPI",
            "NEW MEXICO",
            "ARKANSAS",
            "MISSOURI",
            "CONNECTICUT",
            "FLORIDA",
            "NORTH CAROLINA",
            "ALABAMA",
            "KENTUCKY",
            "MARYLAND",
            "MINNESOTA",
            "SOUTH DAKOTA",
            "IOWA",
            "LOUISIANA",
            "OHIO",
            "KANSAS",
            "NORTH DAKOTA",
            "INDIANA",
            "COLORADO",
            "SOUTH CAROLINA",
            "WEST VIRGINIA",
            "WYOMING",
            "GEORGIA",
            "WISCONSIN",
            "ILLINOIS",
            "TENNESSEE",
            "NEW JERSEY",
            "MICHIGAN",
            "CALIFORNIA",
            "MASSACHUSETTS",
            "NEW HAMPSHIRE",
            "OREGON",
            "VIRGINIA",
            "ARIZONA",
            "NEW YORK",
            "MONTANA",
            "MAINE",
            "VERMONT",
            "UTAH",
            "DELAWARE",
            "IDAHO",
            "WASHINGTON",
            "HAWAII",
            "RHODE ISLAND",
            "NEVADA",
            "ALASKA"
           ],
           "type": "choropleth",
           "z": [
            136,
            241,
            16,
            68,
            18,
            4,
            65,
            77,
            3,
            24,
            18,
            30,
            18,
            0,
            40,
            32,
            25,
            15,
            23,
            161,
            26,
            35,
            36,
            20,
            5,
            7,
            36,
            25,
            62,
            31,
            4,
            33,
            7,
            8,
            3,
            2,
            13,
            7,
            4,
            16,
            1,
            5,
            3,
            1,
            2,
            5,
            2,
            0,
            0,
            0
           ]
          }
         ],
         "name": "1955"
        },
        {
         "data": [
          {
           "autocolorscale": false,
           "colorbar": {
            "title": {
             "text": "Events"
            }
           },
           "colorscale": [
            [
             0,
             "rgb(242,240,247)"
            ],
            [
             0.2,
             "rgb(218,218,235)"
            ],
            [
             0.4,
             "rgb(188,189,220)"
            ],
            [
             0.6,
             "rgb(158,154,200)"
            ],
            [
             0.8,
             "rgb(117,107,177)"
            ],
            [
             1,
             "rgb(84,39,143)"
            ]
           ],
           "locationmode": "USA-states",
           "locations": [
            "OK",
            "TX",
            "PA",
            "NE",
            "MS",
            "NM",
            "AR",
            "MO",
            "CT",
            "FL",
            "NC",
            "AL",
            "KY",
            "MD",
            "MN",
            "SD",
            "IA",
            "LA",
            "OH",
            "KS",
            "ND",
            "IN",
            "CO",
            "SC",
            "WV",
            "WY",
            "GA",
            "WI",
            "IL",
            "TN",
            "NJ",
            "MI",
            "CA",
            "MA",
            "NH",
            "OR",
            "VA",
            "AZ",
            "NY",
            "MT",
            "ME",
            "VT",
            "UT",
            "DE",
            "ID",
            "WA",
            "HI",
            "RI",
            "NV",
            "AK"
           ],
           "marker": {
            "line": {
             "color": "rgb(255,255,255)",
             "width": 2
            }
           },
           "text": [
            "OKLAHOMA",
            "TEXAS",
            "PENNSYLVANIA",
            "NEBRASKA",
            "MISSISSIPPI",
            "NEW MEXICO",
            "ARKANSAS",
            "MISSOURI",
            "CONNECTICUT",
            "FLORIDA",
            "NORTH CAROLINA",
            "ALABAMA",
            "KENTUCKY",
            "MARYLAND",
            "MINNESOTA",
            "SOUTH DAKOTA",
            "IOWA",
            "LOUISIANA",
            "OHIO",
            "KANSAS",
            "NORTH DAKOTA",
            "INDIANA",
            "COLORADO",
            "SOUTH CAROLINA",
            "WEST VIRGINIA",
            "WYOMING",
            "GEORGIA",
            "WISCONSIN",
            "ILLINOIS",
            "TENNESSEE",
            "NEW JERSEY",
            "MICHIGAN",
            "CALIFORNIA",
            "MASSACHUSETTS",
            "NEW HAMPSHIRE",
            "OREGON",
            "VIRGINIA",
            "ARIZONA",
            "NEW YORK",
            "MONTANA",
            "MAINE",
            "VERMONT",
            "UTAH",
            "DELAWARE",
            "IDAHO",
            "WASHINGTON",
            "HAWAII",
            "RHODE ISLAND",
            "NEVADA",
            "ALASKA"
           ],
           "type": "choropleth",
           "z": [
            186,
            170,
            22,
            102,
            16,
            12,
            66,
            93,
            5,
            22,
            21,
            26,
            19,
            7,
            46,
            50,
            46,
            20,
            33,
            228,
            17,
            65,
            33,
            26,
            5,
            6,
            42,
            25,
            63,
            23,
            9,
            70,
            2,
            24,
            3,
            3,
            26,
            7,
            14,
            20,
            2,
            1,
            2,
            0,
            17,
            5,
            0,
            3,
            0,
            0
           ]
          }
         ],
         "name": "1956"
        },
        {
         "data": [
          {
           "autocolorscale": false,
           "colorbar": {
            "title": {
             "text": "Events"
            }
           },
           "colorscale": [
            [
             0,
             "rgb(242,240,247)"
            ],
            [
             0.2,
             "rgb(218,218,235)"
            ],
            [
             0.4,
             "rgb(188,189,220)"
            ],
            [
             0.6,
             "rgb(158,154,200)"
            ],
            [
             0.8,
             "rgb(117,107,177)"
            ],
            [
             1,
             "rgb(84,39,143)"
            ]
           ],
           "locationmode": "USA-states",
           "locations": [
            "OK",
            "TX",
            "PA",
            "NE",
            "MS",
            "NM",
            "AR",
            "MO",
            "CT",
            "FL",
            "NC",
            "AL",
            "KY",
            "MD",
            "MN",
            "SD",
            "IA",
            "LA",
            "OH",
            "KS",
            "ND",
            "IN",
            "CO",
            "SC",
            "WV",
            "WY",
            "GA",
            "WI",
            "IL",
            "TN",
            "NJ",
            "MI",
            "CA",
            "MA",
            "NH",
            "OR",
            "VA",
            "AZ",
            "NY",
            "MT",
            "ME",
            "VT",
            "UT",
            "DE",
            "ID",
            "WA",
            "HI",
            "RI",
            "NV",
            "AK"
           ],
           "marker": {
            "line": {
             "color": "rgb(255,255,255)",
             "width": 2
            }
           },
           "text": [
            "OKLAHOMA",
            "TEXAS",
            "PENNSYLVANIA",
            "NEBRASKA",
            "MISSISSIPPI",
            "NEW MEXICO",
            "ARKANSAS",
            "MISSOURI",
            "CONNECTICUT",
            "FLORIDA",
            "NORTH CAROLINA",
            "ALABAMA",
            "KENTUCKY",
            "MARYLAND",
            "MINNESOTA",
            "SOUTH DAKOTA",
            "IOWA",
            "LOUISIANA",
            "OHIO",
            "KANSAS",
            "NORTH DAKOTA",
            "INDIANA",
            "COLORADO",
            "SOUTH CAROLINA",
            "WEST VIRGINIA",
            "WYOMING",
            "GEORGIA",
            "WISCONSIN",
            "ILLINOIS",
            "TENNESSEE",
            "NEW JERSEY",
            "MICHIGAN",
            "CALIFORNIA",
            "MASSACHUSETTS",
            "NEW HAMPSHIRE",
            "OREGON",
            "VIRGINIA",
            "ARIZONA",
            "NEW YORK",
            "MONTANA",
            "MAINE",
            "VERMONT",
            "UTAH",
            "DELAWARE",
            "IDAHO",
            "WASHINGTON",
            "HAWAII",
            "RHODE ISLAND",
            "NEVADA",
            "ALASKA"
           ],
           "type": "choropleth",
           "z": [
            250,
            346,
            20,
            120,
            52,
            35,
            80,
            120,
            6,
            32,
            32,
            70,
            19,
            9,
            39,
            63,
            46,
            50,
            26,
            154,
            41,
            77,
            39,
            28,
            10,
            6,
            44,
            21,
            83,
            67,
            7,
            32,
            11,
            24,
            3,
            6,
            25,
            10,
            17,
            36,
            3,
            7,
            3,
            3,
            5,
            3,
            1,
            2,
            1,
            0
           ]
          }
         ],
         "name": "1957"
        },
        {
         "data": [
          {
           "autocolorscale": false,
           "colorbar": {
            "title": {
             "text": "Events"
            }
           },
           "colorscale": [
            [
             0,
             "rgb(242,240,247)"
            ],
            [
             0.2,
             "rgb(218,218,235)"
            ],
            [
             0.4,
             "rgb(188,189,220)"
            ],
            [
             0.6,
             "rgb(158,154,200)"
            ],
            [
             0.8,
             "rgb(117,107,177)"
            ],
            [
             1,
             "rgb(84,39,143)"
            ]
           ],
           "locationmode": "USA-states",
           "locations": [
            "OK",
            "TX",
            "PA",
            "NE",
            "MS",
            "NM",
            "AR",
            "MO",
            "CT",
            "FL",
            "NC",
            "AL",
            "KY",
            "MD",
            "MN",
            "SD",
            "IA",
            "LA",
            "OH",
            "KS",
            "ND",
            "IN",
            "CO",
            "SC",
            "WV",
            "WY",
            "GA",
            "WI",
            "IL",
            "TN",
            "NJ",
            "MI",
            "CA",
            "MA",
            "NH",
            "OR",
            "VA",
            "AZ",
            "NY",
            "MT",
            "ME",
            "VT",
            "UT",
            "DE",
            "ID",
            "WA",
            "HI",
            "RI",
            "NV",
            "AK"
           ],
           "marker": {
            "line": {
             "color": "rgb(255,255,255)",
             "width": 2
            }
           },
           "text": [
            "OKLAHOMA",
            "TEXAS",
            "PENNSYLVANIA",
            "NEBRASKA",
            "MISSISSIPPI",
            "NEW MEXICO",
            "ARKANSAS",
            "MISSOURI",
            "CONNECTICUT",
            "FLORIDA",
            "NORTH CAROLINA",
            "ALABAMA",
            "KENTUCKY",
            "MARYLAND",
            "MINNESOTA",
            "SOUTH DAKOTA",
            "IOWA",
            "LOUISIANA",
            "OHIO",
            "KANSAS",
            "NORTH DAKOTA",
            "INDIANA",
            "COLORADO",
            "SOUTH CAROLINA",
            "WEST VIRGINIA",
            "WYOMING",
            "GEORGIA",
            "WISCONSIN",
            "ILLINOIS",
            "TENNESSEE",
            "NEW JERSEY",
            "MICHIGAN",
            "CALIFORNIA",
            "MASSACHUSETTS",
            "NEW HAMPSHIRE",
            "OREGON",
            "VIRGINIA",
            "ARIZONA",
            "NEW YORK",
            "MONTANA",
            "MAINE",
            "VERMONT",
            "UTAH",
            "DELAWARE",
            "IDAHO",
            "WASHINGTON",
            "HAWAII",
            "RHODE ISLAND",
            "NEVADA",
            "ALASKA"
           ],
           "type": "choropleth",
           "z": [
            134,
            288,
            29,
            162,
            40,
            13,
            30,
            151,
            5,
            45,
            31,
            36,
            25,
            24,
            46,
            60,
            49,
            18,
            34,
            209,
            30,
            79,
            87,
            12,
            9,
            28,
            27,
            32,
            106,
            38,
            8,
            30,
            35,
            24,
            3,
            16,
            24,
            13,
            28,
            88,
            15,
            9,
            12,
            3,
            21,
            6,
            0,
            0,
            1,
            0
           ]
          }
         ],
         "name": "1958"
        },
        {
         "data": [
          {
           "autocolorscale": false,
           "colorbar": {
            "title": {
             "text": "Events"
            }
           },
           "colorscale": [
            [
             0,
             "rgb(242,240,247)"
            ],
            [
             0.2,
             "rgb(218,218,235)"
            ],
            [
             0.4,
             "rgb(188,189,220)"
            ],
            [
             0.6,
             "rgb(158,154,200)"
            ],
            [
             0.8,
             "rgb(117,107,177)"
            ],
            [
             1,
             "rgb(84,39,143)"
            ]
           ],
           "locationmode": "USA-states",
           "locations": [
            "OK",
            "TX",
            "PA",
            "NE",
            "MS",
            "NM",
            "AR",
            "MO",
            "CT",
            "FL",
            "NC",
            "AL",
            "KY",
            "MD",
            "MN",
            "SD",
            "IA",
            "LA",
            "OH",
            "KS",
            "ND",
            "IN",
            "CO",
            "SC",
            "WV",
            "WY",
            "GA",
            "WI",
            "IL",
            "TN",
            "NJ",
            "MI",
            "CA",
            "MA",
            "NH",
            "OR",
            "VA",
            "AZ",
            "NY",
            "MT",
            "ME",
            "VT",
            "UT",
            "DE",
            "ID",
            "WA",
            "HI",
            "RI",
            "NV",
            "AK"
           ],
           "marker": {
            "line": {
             "color": "rgb(255,255,255)",
             "width": 2
            }
           },
           "text": [
            "OKLAHOMA",
            "TEXAS",
            "PENNSYLVANIA",
            "NEBRASKA",
            "MISSISSIPPI",
            "NEW MEXICO",
            "ARKANSAS",
            "MISSOURI",
            "CONNECTICUT",
            "FLORIDA",
            "NORTH CAROLINA",
            "ALABAMA",
            "KENTUCKY",
            "MARYLAND",
            "MINNESOTA",
            "SOUTH DAKOTA",
            "IOWA",
            "LOUISIANA",
            "OHIO",
            "KANSAS",
            "NORTH DAKOTA",
            "INDIANA",
            "COLORADO",
            "SOUTH CAROLINA",
            "WEST VIRGINIA",
            "WYOMING",
            "GEORGIA",
            "WISCONSIN",
            "ILLINOIS",
            "TENNESSEE",
            "NEW JERSEY",
            "MICHIGAN",
            "CALIFORNIA",
            "MASSACHUSETTS",
            "NEW HAMPSHIRE",
            "OREGON",
            "VIRGINIA",
            "ARIZONA",
            "NEW YORK",
            "MONTANA",
            "MAINE",
            "VERMONT",
            "UTAH",
            "DELAWARE",
            "IDAHO",
            "WASHINGTON",
            "HAWAII",
            "RHODE ISLAND",
            "NEVADA",
            "ALASKA"
           ],
           "type": "choropleth",
           "z": [
            189,
            249,
            9,
            113,
            33,
            32,
            47,
            126,
            4,
            38,
            32,
            26,
            24,
            9,
            55,
            51,
            66,
            34,
            26,
            212,
            27,
            40,
            16,
            15,
            3,
            11,
            34,
            49,
            65,
            37,
            0,
            22,
            5,
            10,
            2,
            0,
            19,
            11,
            17,
            28,
            8,
            4,
            3,
            1,
            6,
            0,
            0,
            1,
            4,
            0
           ]
          }
         ],
         "name": "1959"
        },
        {
         "data": [
          {
           "autocolorscale": false,
           "colorbar": {
            "title": {
             "text": "Events"
            }
           },
           "colorscale": [
            [
             0,
             "rgb(242,240,247)"
            ],
            [
             0.2,
             "rgb(218,218,235)"
            ],
            [
             0.4,
             "rgb(188,189,220)"
            ],
            [
             0.6,
             "rgb(158,154,200)"
            ],
            [
             0.8,
             "rgb(117,107,177)"
            ],
            [
             1,
             "rgb(84,39,143)"
            ]
           ],
           "locationmode": "USA-states",
           "locations": [
            "OK",
            "TX",
            "PA",
            "NE",
            "MS",
            "NM",
            "AR",
            "MO",
            "CT",
            "FL",
            "NC",
            "AL",
            "KY",
            "MD",
            "MN",
            "SD",
            "IA",
            "LA",
            "OH",
            "KS",
            "ND",
            "IN",
            "CO",
            "SC",
            "WV",
            "WY",
            "GA",
            "WI",
            "IL",
            "TN",
            "NJ",
            "MI",
            "CA",
            "MA",
            "NH",
            "OR",
            "VA",
            "AZ",
            "NY",
            "MT",
            "ME",
            "VT",
            "UT",
            "DE",
            "ID",
            "WA",
            "HI",
            "RI",
            "NV",
            "AK"
           ],
           "marker": {
            "line": {
             "color": "rgb(255,255,255)",
             "width": 2
            }
           },
           "text": [
            "OKLAHOMA",
            "TEXAS",
            "PENNSYLVANIA",
            "NEBRASKA",
            "MISSISSIPPI",
            "NEW MEXICO",
            "ARKANSAS",
            "MISSOURI",
            "CONNECTICUT",
            "FLORIDA",
            "NORTH CAROLINA",
            "ALABAMA",
            "KENTUCKY",
            "MARYLAND",
            "MINNESOTA",
            "SOUTH DAKOTA",
            "IOWA",
            "LOUISIANA",
            "OHIO",
            "KANSAS",
            "NORTH DAKOTA",
            "INDIANA",
            "COLORADO",
            "SOUTH CAROLINA",
            "WEST VIRGINIA",
            "WYOMING",
            "GEORGIA",
            "WISCONSIN",
            "ILLINOIS",
            "TENNESSEE",
            "NEW JERSEY",
            "MICHIGAN",
            "CALIFORNIA",
            "MASSACHUSETTS",
            "NEW HAMPSHIRE",
            "OREGON",
            "VIRGINIA",
            "ARIZONA",
            "NEW YORK",
            "MONTANA",
            "MAINE",
            "VERMONT",
            "UTAH",
            "DELAWARE",
            "IDAHO",
            "WASHINGTON",
            "HAWAII",
            "RHODE ISLAND",
            "NEVADA",
            "ALASKA"
           ],
           "type": "choropleth",
           "z": [
            252,
            224,
            14,
            136,
            26,
            24,
            50,
            94,
            6,
            66,
            19,
            29,
            17,
            11,
            35,
            48,
            89,
            28,
            33,
            195,
            35,
            41,
            37,
            27,
            2,
            11,
            25,
            41,
            105,
            20,
            8,
            44,
            5,
            9,
            3,
            3,
            49,
            6,
            27,
            30,
            8,
            7,
            2,
            1,
            3,
            0,
            0,
            0,
            0,
            0
           ]
          }
         ],
         "name": "1960"
        },
        {
         "data": [
          {
           "autocolorscale": false,
           "colorbar": {
            "title": {
             "text": "Events"
            }
           },
           "colorscale": [
            [
             0,
             "rgb(242,240,247)"
            ],
            [
             0.2,
             "rgb(218,218,235)"
            ],
            [
             0.4,
             "rgb(188,189,220)"
            ],
            [
             0.6,
             "rgb(158,154,200)"
            ],
            [
             0.8,
             "rgb(117,107,177)"
            ],
            [
             1,
             "rgb(84,39,143)"
            ]
           ],
           "locationmode": "USA-states",
           "locations": [
            "OK",
            "TX",
            "PA",
            "NE",
            "MS",
            "NM",
            "AR",
            "MO",
            "CT",
            "FL",
            "NC",
            "AL",
            "KY",
            "MD",
            "MN",
            "SD",
            "IA",
            "LA",
            "OH",
            "KS",
            "ND",
            "IN",
            "CO",
            "SC",
            "WV",
            "WY",
            "GA",
            "WI",
            "IL",
            "TN",
            "NJ",
            "MI",
            "CA",
            "MA",
            "NH",
            "OR",
            "VA",
            "AZ",
            "NY",
            "MT",
            "ME",
            "VT",
            "UT",
            "DE",
            "ID",
            "WA",
            "HI",
            "RI",
            "NV",
            "AK"
           ],
           "marker": {
            "line": {
             "color": "rgb(255,255,255)",
             "width": 2
            }
           },
           "text": [
            "OKLAHOMA",
            "TEXAS",
            "PENNSYLVANIA",
            "NEBRASKA",
            "MISSISSIPPI",
            "NEW MEXICO",
            "ARKANSAS",
            "MISSOURI",
            "CONNECTICUT",
            "FLORIDA",
            "NORTH CAROLINA",
            "ALABAMA",
            "KENTUCKY",
            "MARYLAND",
            "MINNESOTA",
            "SOUTH DAKOTA",
            "IOWA",
            "LOUISIANA",
            "OHIO",
            "KANSAS",
            "NORTH DAKOTA",
            "INDIANA",
            "COLORADO",
            "SOUTH CAROLINA",
            "WEST VIRGINIA",
            "WYOMING",
            "GEORGIA",
            "WISCONSIN",
            "ILLINOIS",
            "TENNESSEE",
            "NEW JERSEY",
            "MICHIGAN",
            "CALIFORNIA",
            "MASSACHUSETTS",
            "NEW HAMPSHIRE",
            "OREGON",
            "VIRGINIA",
            "ARIZONA",
            "NEW YORK",
            "MONTANA",
            "MAINE",
            "VERMONT",
            "UTAH",
            "DELAWARE",
            "IDAHO",
            "WASHINGTON",
            "HAWAII",
            "RHODE ISLAND",
            "NEVADA",
            "ALASKA"
           ],
           "type": "choropleth",
           "z": [
            224,
            354,
            24,
            91,
            34,
            33,
            85,
            137,
            7,
            66,
            30,
            52,
            35,
            9,
            42,
            41,
            70,
            52,
            47,
            169,
            12,
            69,
            36,
            24,
            8,
            14,
            78,
            40,
            113,
            29,
            1,
            46,
            2,
            13,
            6,
            1,
            28,
            24,
            27,
            26,
            14,
            6,
            6,
            2,
            9,
            3,
            0,
            1,
            6,
            0
           ]
          }
         ],
         "name": "1961"
        },
        {
         "data": [
          {
           "autocolorscale": false,
           "colorbar": {
            "title": {
             "text": "Events"
            }
           },
           "colorscale": [
            [
             0,
             "rgb(242,240,247)"
            ],
            [
             0.2,
             "rgb(218,218,235)"
            ],
            [
             0.4,
             "rgb(188,189,220)"
            ],
            [
             0.6,
             "rgb(158,154,200)"
            ],
            [
             0.8,
             "rgb(117,107,177)"
            ],
            [
             1,
             "rgb(84,39,143)"
            ]
           ],
           "locationmode": "USA-states",
           "locations": [
            "OK",
            "TX",
            "PA",
            "NE",
            "MS",
            "NM",
            "AR",
            "MO",
            "CT",
            "FL",
            "NC",
            "AL",
            "KY",
            "MD",
            "MN",
            "SD",
            "IA",
            "LA",
            "OH",
            "KS",
            "ND",
            "IN",
            "CO",
            "SC",
            "WV",
            "WY",
            "GA",
            "WI",
            "IL",
            "TN",
            "NJ",
            "MI",
            "CA",
            "MA",
            "NH",
            "OR",
            "VA",
            "AZ",
            "NY",
            "MT",
            "ME",
            "VT",
            "UT",
            "DE",
            "ID",
            "WA",
            "HI",
            "RI",
            "NV",
            "AK"
           ],
           "marker": {
            "line": {
             "color": "rgb(255,255,255)",
             "width": 2
            }
           },
           "text": [
            "OKLAHOMA",
            "TEXAS",
            "PENNSYLVANIA",
            "NEBRASKA",
            "MISSISSIPPI",
            "NEW MEXICO",
            "ARKANSAS",
            "MISSOURI",
            "CONNECTICUT",
            "FLORIDA",
            "NORTH CAROLINA",
            "ALABAMA",
            "KENTUCKY",
            "MARYLAND",
            "MINNESOTA",
            "SOUTH DAKOTA",
            "IOWA",
            "LOUISIANA",
            "OHIO",
            "KANSAS",
            "NORTH DAKOTA",
            "INDIANA",
            "COLORADO",
            "SOUTH CAROLINA",
            "WEST VIRGINIA",
            "WYOMING",
            "GEORGIA",
            "WISCONSIN",
            "ILLINOIS",
            "TENNESSEE",
            "NEW JERSEY",
            "MICHIGAN",
            "CALIFORNIA",
            "MASSACHUSETTS",
            "NEW HAMPSHIRE",
            "OREGON",
            "VIRGINIA",
            "ARIZONA",
            "NEW YORK",
            "MONTANA",
            "MAINE",
            "VERMONT",
            "UTAH",
            "DELAWARE",
            "IDAHO",
            "WASHINGTON",
            "HAWAII",
            "RHODE ISLAND",
            "NEVADA",
            "ALASKA"
           ],
           "type": "choropleth",
           "z": [
            232,
            375,
            27,
            155,
            45,
            28,
            34,
            105,
            12,
            54,
            24,
            49,
            20,
            14,
            78,
            72,
            88,
            46,
            44,
            237,
            45,
            34,
            73,
            28,
            11,
            35,
            50,
            45,
            58,
            30,
            6,
            49,
            5,
            12,
            12,
            2,
            36,
            10,
            23,
            44,
            4,
            14,
            4,
            5,
            13,
            1,
            0,
            0,
            1,
            0
           ]
          }
         ],
         "name": "1962"
        },
        {
         "data": [
          {
           "autocolorscale": false,
           "colorbar": {
            "title": {
             "text": "Events"
            }
           },
           "colorscale": [
            [
             0,
             "rgb(242,240,247)"
            ],
            [
             0.2,
             "rgb(218,218,235)"
            ],
            [
             0.4,
             "rgb(188,189,220)"
            ],
            [
             0.6,
             "rgb(158,154,200)"
            ],
            [
             0.8,
             "rgb(117,107,177)"
            ],
            [
             1,
             "rgb(84,39,143)"
            ]
           ],
           "locationmode": "USA-states",
           "locations": [
            "OK",
            "TX",
            "PA",
            "NE",
            "MS",
            "NM",
            "AR",
            "MO",
            "CT",
            "FL",
            "NC",
            "AL",
            "KY",
            "MD",
            "MN",
            "SD",
            "IA",
            "LA",
            "OH",
            "KS",
            "ND",
            "IN",
            "CO",
            "SC",
            "WV",
            "WY",
            "GA",
            "WI",
            "IL",
            "TN",
            "NJ",
            "MI",
            "CA",
            "MA",
            "NH",
            "OR",
            "VA",
            "AZ",
            "NY",
            "MT",
            "ME",
            "VT",
            "UT",
            "DE",
            "ID",
            "WA",
            "HI",
            "RI",
            "NV",
            "AK"
           ],
           "marker": {
            "line": {
             "color": "rgb(255,255,255)",
             "width": 2
            }
           },
           "text": [
            "OKLAHOMA",
            "TEXAS",
            "PENNSYLVANIA",
            "NEBRASKA",
            "MISSISSIPPI",
            "NEW MEXICO",
            "ARKANSAS",
            "MISSOURI",
            "CONNECTICUT",
            "FLORIDA",
            "NORTH CAROLINA",
            "ALABAMA",
            "KENTUCKY",
            "MARYLAND",
            "MINNESOTA",
            "SOUTH DAKOTA",
            "IOWA",
            "LOUISIANA",
            "OHIO",
            "KANSAS",
            "NORTH DAKOTA",
            "INDIANA",
            "COLORADO",
            "SOUTH CAROLINA",
            "WEST VIRGINIA",
            "WYOMING",
            "GEORGIA",
            "WISCONSIN",
            "ILLINOIS",
            "TENNESSEE",
            "NEW JERSEY",
            "MICHIGAN",
            "CALIFORNIA",
            "MASSACHUSETTS",
            "NEW HAMPSHIRE",
            "OREGON",
            "VIRGINIA",
            "ARIZONA",
            "NEW YORK",
            "MONTANA",
            "MAINE",
            "VERMONT",
            "UTAH",
            "DELAWARE",
            "IDAHO",
            "WASHINGTON",
            "HAWAII",
            "RHODE ISLAND",
            "NEVADA",
            "ALASKA"
           ],
           "type": "choropleth",
           "z": [
            182,
            260,
            35,
            89,
            32,
            33,
            21,
            92,
            8,
            69,
            29,
            56,
            26,
            12,
            40,
            54,
            57,
            27,
            48,
            156,
            32,
            69,
            25,
            27,
            5,
            3,
            58,
            55,
            78,
            56,
            5,
            64,
            0,
            17,
            14,
            4,
            6,
            14,
            16,
            45,
            18,
            5,
            9,
            4,
            7,
            3,
            2,
            0,
            1,
            0
           ]
          }
         ],
         "name": "1963"
        },
        {
         "data": [
          {
           "autocolorscale": false,
           "colorbar": {
            "title": {
             "text": "Events"
            }
           },
           "colorscale": [
            [
             0,
             "rgb(242,240,247)"
            ],
            [
             0.2,
             "rgb(218,218,235)"
            ],
            [
             0.4,
             "rgb(188,189,220)"
            ],
            [
             0.6,
             "rgb(158,154,200)"
            ],
            [
             0.8,
             "rgb(117,107,177)"
            ],
            [
             1,
             "rgb(84,39,143)"
            ]
           ],
           "locationmode": "USA-states",
           "locations": [
            "OK",
            "TX",
            "PA",
            "NE",
            "MS",
            "NM",
            "AR",
            "MO",
            "CT",
            "FL",
            "NC",
            "AL",
            "KY",
            "MD",
            "MN",
            "SD",
            "IA",
            "LA",
            "OH",
            "KS",
            "ND",
            "IN",
            "CO",
            "SC",
            "WV",
            "WY",
            "GA",
            "WI",
            "IL",
            "TN",
            "NJ",
            "MI",
            "CA",
            "MA",
            "NH",
            "OR",
            "VA",
            "AZ",
            "NY",
            "MT",
            "ME",
            "VT",
            "UT",
            "DE",
            "ID",
            "WA",
            "HI",
            "RI",
            "NV",
            "AK"
           ],
           "marker": {
            "line": {
             "color": "rgb(255,255,255)",
             "width": 2
            }
           },
           "text": [
            "OKLAHOMA",
            "TEXAS",
            "PENNSYLVANIA",
            "NEBRASKA",
            "MISSISSIPPI",
            "NEW MEXICO",
            "ARKANSAS",
            "MISSOURI",
            "CONNECTICUT",
            "FLORIDA",
            "NORTH CAROLINA",
            "ALABAMA",
            "KENTUCKY",
            "MARYLAND",
            "MINNESOTA",
            "SOUTH DAKOTA",
            "IOWA",
            "LOUISIANA",
            "OHIO",
            "KANSAS",
            "NORTH DAKOTA",
            "INDIANA",
            "COLORADO",
            "SOUTH CAROLINA",
            "WEST VIRGINIA",
            "WYOMING",
            "GEORGIA",
            "WISCONSIN",
            "ILLINOIS",
            "TENNESSEE",
            "NEW JERSEY",
            "MICHIGAN",
            "CALIFORNIA",
            "MASSACHUSETTS",
            "NEW HAMPSHIRE",
            "OREGON",
            "VIRGINIA",
            "ARIZONA",
            "NEW YORK",
            "MONTANA",
            "MAINE",
            "VERMONT",
            "UTAH",
            "DELAWARE",
            "IDAHO",
            "WASHINGTON",
            "HAWAII",
            "RHODE ISLAND",
            "NEVADA",
            "ALASKA"
           ],
           "type": "choropleth",
           "z": [
            202,
            256,
            18,
            152,
            48,
            19,
            64,
            132,
            4,
            76,
            37,
            58,
            38,
            5,
            68,
            73,
            135,
            55,
            35,
            264,
            34,
            48,
            12,
            31,
            8,
            19,
            53,
            101,
            66,
            40,
            8,
            49,
            7,
            15,
            4,
            2,
            7,
            10,
            19,
            30,
            4,
            9,
            5,
            3,
            13,
            4,
            0,
            1,
            7,
            0
           ]
          }
         ],
         "name": "1964"
        },
        {
         "data": [
          {
           "autocolorscale": false,
           "colorbar": {
            "title": {
             "text": "Events"
            }
           },
           "colorscale": [
            [
             0,
             "rgb(242,240,247)"
            ],
            [
             0.2,
             "rgb(218,218,235)"
            ],
            [
             0.4,
             "rgb(188,189,220)"
            ],
            [
             0.6,
             "rgb(158,154,200)"
            ],
            [
             0.8,
             "rgb(117,107,177)"
            ],
            [
             1,
             "rgb(84,39,143)"
            ]
           ],
           "locationmode": "USA-states",
           "locations": [
            "OK",
            "TX",
            "PA",
            "NE",
            "MS",
            "NM",
            "AR",
            "MO",
            "CT",
            "FL",
            "NC",
            "AL",
            "KY",
            "MD",
            "MN",
            "SD",
            "IA",
            "LA",
            "OH",
            "KS",
            "ND",
            "IN",
            "CO",
            "SC",
            "WV",
            "WY",
            "GA",
            "WI",
            "IL",
            "TN",
            "NJ",
            "MI",
            "CA",
            "MA",
            "NH",
            "OR",
            "VA",
            "AZ",
            "NY",
            "MT",
            "ME",
            "VT",
            "UT",
            "DE",
            "ID",
            "WA",
            "HI",
            "RI",
            "NV",
            "AK"
           ],
           "marker": {
            "line": {
             "color": "rgb(255,255,255)",
             "width": 2
            }
           },
           "text": [
            "OKLAHOMA",
            "TEXAS",
            "PENNSYLVANIA",
            "NEBRASKA",
            "MISSISSIPPI",
            "NEW MEXICO",
            "ARKANSAS",
            "MISSOURI",
            "CONNECTICUT",
            "FLORIDA",
            "NORTH CAROLINA",
            "ALABAMA",
            "KENTUCKY",
            "MARYLAND",
            "MINNESOTA",
            "SOUTH DAKOTA",
            "IOWA",
            "LOUISIANA",
            "OHIO",
            "KANSAS",
            "NORTH DAKOTA",
            "INDIANA",
            "COLORADO",
            "SOUTH CAROLINA",
            "WEST VIRGINIA",
            "WYOMING",
            "GEORGIA",
            "WISCONSIN",
            "ILLINOIS",
            "TENNESSEE",
            "NEW JERSEY",
            "MICHIGAN",
            "CALIFORNIA",
            "MASSACHUSETTS",
            "NEW HAMPSHIRE",
            "OREGON",
            "VIRGINIA",
            "ARIZONA",
            "NEW YORK",
            "MONTANA",
            "MAINE",
            "VERMONT",
            "UTAH",
            "DELAWARE",
            "IDAHO",
            "WASHINGTON",
            "HAWAII",
            "RHODE ISLAND",
            "NEVADA",
            "ALASKA"
           ],
           "type": "choropleth",
           "z": [
            210,
            335,
            30,
            142,
            71,
            48,
            60,
            146,
            5,
            48,
            41,
            43,
            33,
            20,
            101,
            99,
            128,
            85,
            89,
            215,
            77,
            105,
            78,
            41,
            16,
            21,
            34,
            72,
            123,
            50,
            3,
            83,
            6,
            17,
            8,
            2,
            17,
            9,
            33,
            43,
            9,
            5,
            12,
            2,
            12,
            2,
            1,
            1,
            4,
            0
           ]
          }
         ],
         "name": "1965"
        },
        {
         "data": [
          {
           "autocolorscale": false,
           "colorbar": {
            "title": {
             "text": "Events"
            }
           },
           "colorscale": [
            [
             0,
             "rgb(242,240,247)"
            ],
            [
             0.2,
             "rgb(218,218,235)"
            ],
            [
             0.4,
             "rgb(188,189,220)"
            ],
            [
             0.6,
             "rgb(158,154,200)"
            ],
            [
             0.8,
             "rgb(117,107,177)"
            ],
            [
             1,
             "rgb(84,39,143)"
            ]
           ],
           "locationmode": "USA-states",
           "locations": [
            "OK",
            "TX",
            "PA",
            "NE",
            "MS",
            "NM",
            "AR",
            "MO",
            "CT",
            "FL",
            "NC",
            "AL",
            "KY",
            "MD",
            "MN",
            "SD",
            "IA",
            "LA",
            "OH",
            "KS",
            "ND",
            "IN",
            "CO",
            "SC",
            "WV",
            "WY",
            "GA",
            "WI",
            "IL",
            "TN",
            "NJ",
            "MI",
            "CA",
            "MA",
            "NH",
            "OR",
            "VA",
            "AZ",
            "NY",
            "MT",
            "ME",
            "VT",
            "UT",
            "DE",
            "ID",
            "WA",
            "HI",
            "RI",
            "NV",
            "AK"
           ],
           "marker": {
            "line": {
             "color": "rgb(255,255,255)",
             "width": 2
            }
           },
           "text": [
            "OKLAHOMA",
            "TEXAS",
            "PENNSYLVANIA",
            "NEBRASKA",
            "MISSISSIPPI",
            "NEW MEXICO",
            "ARKANSAS",
            "MISSOURI",
            "CONNECTICUT",
            "FLORIDA",
            "NORTH CAROLINA",
            "ALABAMA",
            "KENTUCKY",
            "MARYLAND",
            "MINNESOTA",
            "SOUTH DAKOTA",
            "IOWA",
            "LOUISIANA",
            "OHIO",
            "KANSAS",
            "NORTH DAKOTA",
            "INDIANA",
            "COLORADO",
            "SOUTH CAROLINA",
            "WEST VIRGINIA",
            "WYOMING",
            "GEORGIA",
            "WISCONSIN",
            "ILLINOIS",
            "TENNESSEE",
            "NEW JERSEY",
            "MICHIGAN",
            "CALIFORNIA",
            "MASSACHUSETTS",
            "NEW HAMPSHIRE",
            "OREGON",
            "VIRGINIA",
            "ARIZONA",
            "NEW YORK",
            "MONTANA",
            "MAINE",
            "VERMONT",
            "UTAH",
            "DELAWARE",
            "IDAHO",
            "WASHINGTON",
            "HAWAII",
            "RHODE ISLAND",
            "NEVADA",
            "ALASKA"
           ],
           "type": "choropleth",
           "z": [
            232,
            279,
            29,
            75,
            85,
            41,
            44,
            166,
            7,
            70,
            56,
            25,
            22,
            11,
            71,
            84,
            87,
            40,
            63,
            189,
            67,
            38,
            40,
            32,
            8,
            14,
            49,
            63,
            83,
            54,
            6,
            51,
            8,
            24,
            11,
            3,
            20,
            14,
            46,
            43,
            6,
            10,
            4,
            2,
            12,
            2,
            0,
            0,
            2,
            0
           ]
          }
         ],
         "name": "1966"
        },
        {
         "data": [
          {
           "autocolorscale": false,
           "colorbar": {
            "title": {
             "text": "Events"
            }
           },
           "colorscale": [
            [
             0,
             "rgb(242,240,247)"
            ],
            [
             0.2,
             "rgb(218,218,235)"
            ],
            [
             0.4,
             "rgb(188,189,220)"
            ],
            [
             0.6,
             "rgb(158,154,200)"
            ],
            [
             0.8,
             "rgb(117,107,177)"
            ],
            [
             1,
             "rgb(84,39,143)"
            ]
           ],
           "locationmode": "USA-states",
           "locations": [
            "OK",
            "TX",
            "PA",
            "NE",
            "MS",
            "NM",
            "AR",
            "MO",
            "CT",
            "FL",
            "NC",
            "AL",
            "KY",
            "MD",
            "MN",
            "SD",
            "IA",
            "LA",
            "OH",
            "KS",
            "ND",
            "IN",
            "CO",
            "SC",
            "WV",
            "WY",
            "GA",
            "WI",
            "IL",
            "TN",
            "NJ",
            "MI",
            "CA",
            "MA",
            "NH",
            "OR",
            "VA",
            "AZ",
            "NY",
            "MT",
            "ME",
            "VT",
            "UT",
            "DE",
            "ID",
            "WA",
            "HI",
            "RI",
            "NV",
            "AK"
           ],
           "marker": {
            "line": {
             "color": "rgb(255,255,255)",
             "width": 2
            }
           },
           "text": [
            "OKLAHOMA",
            "TEXAS",
            "PENNSYLVANIA",
            "NEBRASKA",
            "MISSISSIPPI",
            "NEW MEXICO",
            "ARKANSAS",
            "MISSOURI",
            "CONNECTICUT",
            "FLORIDA",
            "NORTH CAROLINA",
            "ALABAMA",
            "KENTUCKY",
            "MARYLAND",
            "MINNESOTA",
            "SOUTH DAKOTA",
            "IOWA",
            "LOUISIANA",
            "OHIO",
            "KANSAS",
            "NORTH DAKOTA",
            "INDIANA",
            "COLORADO",
            "SOUTH CAROLINA",
            "WEST VIRGINIA",
            "WYOMING",
            "GEORGIA",
            "WISCONSIN",
            "ILLINOIS",
            "TENNESSEE",
            "NEW JERSEY",
            "MICHIGAN",
            "CALIFORNIA",
            "MASSACHUSETTS",
            "NEW HAMPSHIRE",
            "OREGON",
            "VIRGINIA",
            "ARIZONA",
            "NEW YORK",
            "MONTANA",
            "MAINE",
            "VERMONT",
            "UTAH",
            "DELAWARE",
            "IDAHO",
            "WASHINGTON",
            "HAWAII",
            "RHODE ISLAND",
            "NEVADA",
            "ALASKA"
           ],
           "type": "choropleth",
           "z": [
            194,
            403,
            37,
            131,
            85,
            37,
            84,
            168,
            0,
            57,
            43,
            97,
            45,
            13,
            81,
            68,
            123,
            46,
            49,
            181,
            39,
            68,
            60,
            37,
            21,
            16,
            46,
            64,
            115,
            67,
            4,
            61,
            7,
            3,
            4,
            5,
            28,
            15,
            15,
            22,
            5,
            1,
            8,
            5,
            24,
            1,
            2,
            0,
            3,
            0
           ]
          }
         ],
         "name": "1967"
        },
        {
         "data": [
          {
           "autocolorscale": false,
           "colorbar": {
            "title": {
             "text": "Events"
            }
           },
           "colorscale": [
            [
             0,
             "rgb(242,240,247)"
            ],
            [
             0.2,
             "rgb(218,218,235)"
            ],
            [
             0.4,
             "rgb(188,189,220)"
            ],
            [
             0.6,
             "rgb(158,154,200)"
            ],
            [
             0.8,
             "rgb(117,107,177)"
            ],
            [
             1,
             "rgb(84,39,143)"
            ]
           ],
           "locationmode": "USA-states",
           "locations": [
            "OK",
            "TX",
            "PA",
            "NE",
            "MS",
            "NM",
            "AR",
            "MO",
            "CT",
            "FL",
            "NC",
            "AL",
            "KY",
            "MD",
            "MN",
            "SD",
            "IA",
            "LA",
            "OH",
            "KS",
            "ND",
            "IN",
            "CO",
            "SC",
            "WV",
            "WY",
            "GA",
            "WI",
            "IL",
            "TN",
            "NJ",
            "MI",
            "CA",
            "MA",
            "NH",
            "OR",
            "VA",
            "AZ",
            "NY",
            "MT",
            "ME",
            "VT",
            "UT",
            "DE",
            "ID",
            "WA",
            "HI",
            "RI",
            "NV",
            "AK"
           ],
           "marker": {
            "line": {
             "color": "rgb(255,255,255)",
             "width": 2
            }
           },
           "text": [
            "OKLAHOMA",
            "TEXAS",
            "PENNSYLVANIA",
            "NEBRASKA",
            "MISSISSIPPI",
            "NEW MEXICO",
            "ARKANSAS",
            "MISSOURI",
            "CONNECTICUT",
            "FLORIDA",
            "NORTH CAROLINA",
            "ALABAMA",
            "KENTUCKY",
            "MARYLAND",
            "MINNESOTA",
            "SOUTH DAKOTA",
            "IOWA",
            "LOUISIANA",
            "OHIO",
            "KANSAS",
            "NORTH DAKOTA",
            "INDIANA",
            "COLORADO",
            "SOUTH CAROLINA",
            "WEST VIRGINIA",
            "WYOMING",
            "GEORGIA",
            "WISCONSIN",
            "ILLINOIS",
            "TENNESSEE",
            "NEW JERSEY",
            "MICHIGAN",
            "CALIFORNIA",
            "MASSACHUSETTS",
            "NEW HAMPSHIRE",
            "OREGON",
            "VIRGINIA",
            "ARIZONA",
            "NEW YORK",
            "MONTANA",
            "MAINE",
            "VERMONT",
            "UTAH",
            "DELAWARE",
            "IDAHO",
            "WASHINGTON",
            "HAWAII",
            "RHODE ISLAND",
            "NEVADA",
            "ALASKA"
           ],
           "type": "choropleth",
           "z": [
            284,
            469,
            62,
            151,
            117,
            30,
            112,
            135,
            8,
            124,
            50,
            88,
            83,
            22,
            149,
            75,
            134,
            77,
            104,
            216,
            37,
            52,
            34,
            32,
            18,
            17,
            86,
            85,
            65,
            49,
            6,
            109,
            0,
            20,
            12,
            4,
            35,
            16,
            49,
            44,
            13,
            9,
            12,
            5,
            11,
            1,
            0,
            0,
            1,
            0
           ]
          }
         ],
         "name": "1968"
        },
        {
         "data": [
          {
           "autocolorscale": false,
           "colorbar": {
            "title": {
             "text": "Events"
            }
           },
           "colorscale": [
            [
             0,
             "rgb(242,240,247)"
            ],
            [
             0.2,
             "rgb(218,218,235)"
            ],
            [
             0.4,
             "rgb(188,189,220)"
            ],
            [
             0.6,
             "rgb(158,154,200)"
            ],
            [
             0.8,
             "rgb(117,107,177)"
            ],
            [
             1,
             "rgb(84,39,143)"
            ]
           ],
           "locationmode": "USA-states",
           "locations": [
            "OK",
            "TX",
            "PA",
            "NE",
            "MS",
            "NM",
            "AR",
            "MO",
            "CT",
            "FL",
            "NC",
            "AL",
            "KY",
            "MD",
            "MN",
            "SD",
            "IA",
            "LA",
            "OH",
            "KS",
            "ND",
            "IN",
            "CO",
            "SC",
            "WV",
            "WY",
            "GA",
            "WI",
            "IL",
            "TN",
            "NJ",
            "MI",
            "CA",
            "MA",
            "NH",
            "OR",
            "VA",
            "AZ",
            "NY",
            "MT",
            "ME",
            "VT",
            "UT",
            "DE",
            "ID",
            "WA",
            "HI",
            "RI",
            "NV",
            "AK"
           ],
           "marker": {
            "line": {
             "color": "rgb(255,255,255)",
             "width": 2
            }
           },
           "text": [
            "OKLAHOMA",
            "TEXAS",
            "PENNSYLVANIA",
            "NEBRASKA",
            "MISSISSIPPI",
            "NEW MEXICO",
            "ARKANSAS",
            "MISSOURI",
            "CONNECTICUT",
            "FLORIDA",
            "NORTH CAROLINA",
            "ALABAMA",
            "KENTUCKY",
            "MARYLAND",
            "MINNESOTA",
            "SOUTH DAKOTA",
            "IOWA",
            "LOUISIANA",
            "OHIO",
            "KANSAS",
            "NORTH DAKOTA",
            "INDIANA",
            "COLORADO",
            "SOUTH CAROLINA",
            "WEST VIRGINIA",
            "WYOMING",
            "GEORGIA",
            "WISCONSIN",
            "ILLINOIS",
            "TENNESSEE",
            "NEW JERSEY",
            "MICHIGAN",
            "CALIFORNIA",
            "MASSACHUSETTS",
            "NEW HAMPSHIRE",
            "OREGON",
            "VIRGINIA",
            "ARIZONA",
            "NEW YORK",
            "MONTANA",
            "MAINE",
            "VERMONT",
            "UTAH",
            "DELAWARE",
            "IDAHO",
            "WASHINGTON",
            "HAWAII",
            "RHODE ISLAND",
            "NEVADA",
            "ALASKA"
           ],
           "type": "choropleth",
           "z": [
            159,
            410,
            46,
            104,
            98,
            54,
            73,
            188,
            7,
            139,
            45,
            61,
            75,
            27,
            87,
            97,
            150,
            65,
            73,
            191,
            34,
            63,
            39,
            31,
            36,
            15,
            67,
            60,
            75,
            41,
            5,
            72,
            3,
            15,
            3,
            9,
            37,
            17,
            64,
            32,
            5,
            10,
            13,
            4,
            14,
            5,
            0,
            4,
            4,
            0
           ]
          }
         ],
         "name": "1969"
        },
        {
         "data": [
          {
           "autocolorscale": false,
           "colorbar": {
            "title": {
             "text": "Events"
            }
           },
           "colorscale": [
            [
             0,
             "rgb(242,240,247)"
            ],
            [
             0.2,
             "rgb(218,218,235)"
            ],
            [
             0.4,
             "rgb(188,189,220)"
            ],
            [
             0.6,
             "rgb(158,154,200)"
            ],
            [
             0.8,
             "rgb(117,107,177)"
            ],
            [
             1,
             "rgb(84,39,143)"
            ]
           ],
           "locationmode": "USA-states",
           "locations": [
            "OK",
            "TX",
            "PA",
            "NE",
            "MS",
            "NM",
            "AR",
            "MO",
            "CT",
            "FL",
            "NC",
            "AL",
            "KY",
            "MD",
            "MN",
            "SD",
            "IA",
            "LA",
            "OH",
            "KS",
            "ND",
            "IN",
            "CO",
            "SC",
            "WV",
            "WY",
            "GA",
            "WI",
            "IL",
            "TN",
            "NJ",
            "MI",
            "CA",
            "MA",
            "NH",
            "OR",
            "VA",
            "AZ",
            "NY",
            "MT",
            "ME",
            "VT",
            "UT",
            "DE",
            "ID",
            "WA",
            "HI",
            "RI",
            "NV",
            "AK"
           ],
           "marker": {
            "line": {
             "color": "rgb(255,255,255)",
             "width": 2
            }
           },
           "text": [
            "OKLAHOMA",
            "TEXAS",
            "PENNSYLVANIA",
            "NEBRASKA",
            "MISSISSIPPI",
            "NEW MEXICO",
            "ARKANSAS",
            "MISSOURI",
            "CONNECTICUT",
            "FLORIDA",
            "NORTH CAROLINA",
            "ALABAMA",
            "KENTUCKY",
            "MARYLAND",
            "MINNESOTA",
            "SOUTH DAKOTA",
            "IOWA",
            "LOUISIANA",
            "OHIO",
            "KANSAS",
            "NORTH DAKOTA",
            "INDIANA",
            "COLORADO",
            "SOUTH CAROLINA",
            "WEST VIRGINIA",
            "WYOMING",
            "GEORGIA",
            "WISCONSIN",
            "ILLINOIS",
            "TENNESSEE",
            "NEW JERSEY",
            "MICHIGAN",
            "CALIFORNIA",
            "MASSACHUSETTS",
            "NEW HAMPSHIRE",
            "OREGON",
            "VIRGINIA",
            "ARIZONA",
            "NEW YORK",
            "MONTANA",
            "MAINE",
            "VERMONT",
            "UTAH",
            "DELAWARE",
            "IDAHO",
            "WASHINGTON",
            "HAWAII",
            "RHODE ISLAND",
            "NEVADA",
            "ALASKA"
           ],
           "type": "choropleth",
           "z": [
            163,
            325,
            106,
            139,
            124,
            29,
            94,
            216,
            5,
            106,
            87,
            62,
            106,
            40,
            78,
            85,
            154,
            52,
            97,
            207,
            46,
            93,
            24,
            42,
            17,
            11,
            75,
            84,
            100,
            83,
            19,
            49,
            7,
            22,
            12,
            7,
            41,
            18,
            55,
            44,
            13,
            11,
            14,
            13,
            30,
            4,
            0,
            0,
            6,
            0
           ]
          }
         ],
         "name": "1970"
        },
        {
         "data": [
          {
           "autocolorscale": false,
           "colorbar": {
            "title": {
             "text": "Events"
            }
           },
           "colorscale": [
            [
             0,
             "rgb(242,240,247)"
            ],
            [
             0.2,
             "rgb(218,218,235)"
            ],
            [
             0.4,
             "rgb(188,189,220)"
            ],
            [
             0.6,
             "rgb(158,154,200)"
            ],
            [
             0.8,
             "rgb(117,107,177)"
            ],
            [
             1,
             "rgb(84,39,143)"
            ]
           ],
           "locationmode": "USA-states",
           "locations": [
            "OK",
            "TX",
            "PA",
            "NE",
            "MS",
            "NM",
            "AR",
            "MO",
            "CT",
            "FL",
            "NC",
            "AL",
            "KY",
            "MD",
            "MN",
            "SD",
            "IA",
            "LA",
            "OH",
            "KS",
            "ND",
            "IN",
            "CO",
            "SC",
            "WV",
            "WY",
            "GA",
            "WI",
            "IL",
            "TN",
            "NJ",
            "MI",
            "CA",
            "MA",
            "NH",
            "OR",
            "VA",
            "AZ",
            "NY",
            "MT",
            "ME",
            "VT",
            "UT",
            "DE",
            "ID",
            "WA",
            "HI",
            "RI",
            "NV",
            "AK"
           ],
           "marker": {
            "line": {
             "color": "rgb(255,255,255)",
             "width": 2
            }
           },
           "text": [
            "OKLAHOMA",
            "TEXAS",
            "PENNSYLVANIA",
            "NEBRASKA",
            "MISSISSIPPI",
            "NEW MEXICO",
            "ARKANSAS",
            "MISSOURI",
            "CONNECTICUT",
            "FLORIDA",
            "NORTH CAROLINA",
            "ALABAMA",
            "KENTUCKY",
            "MARYLAND",
            "MINNESOTA",
            "SOUTH DAKOTA",
            "IOWA",
            "LOUISIANA",
            "OHIO",
            "KANSAS",
            "NORTH DAKOTA",
            "INDIANA",
            "COLORADO",
            "SOUTH CAROLINA",
            "WEST VIRGINIA",
            "WYOMING",
            "GEORGIA",
            "WISCONSIN",
            "ILLINOIS",
            "TENNESSEE",
            "NEW JERSEY",
            "MICHIGAN",
            "CALIFORNIA",
            "MASSACHUSETTS",
            "NEW HAMPSHIRE",
            "OREGON",
            "VIRGINIA",
            "ARIZONA",
            "NEW YORK",
            "MONTANA",
            "MAINE",
            "VERMONT",
            "UTAH",
            "DELAWARE",
            "IDAHO",
            "WASHINGTON",
            "HAWAII",
            "RHODE ISLAND",
            "NEVADA",
            "ALASKA"
           ],
           "type": "choropleth",
           "z": [
            189,
            483,
            42,
            141,
            128,
            36,
            84,
            182,
            11,
            151,
            44,
            135,
            96,
            32,
            101,
            93,
            177,
            64,
            81,
            236,
            51,
            89,
            63,
            48,
            6,
            15,
            150,
            100,
            85,
            68,
            5,
            69,
            3,
            22,
            11,
            5,
            21,
            25,
            36,
            33,
            20,
            5,
            6,
            9,
            6,
            5,
            5,
            2,
            2,
            0
           ]
          }
         ],
         "name": "1971"
        },
        {
         "data": [
          {
           "autocolorscale": false,
           "colorbar": {
            "title": {
             "text": "Events"
            }
           },
           "colorscale": [
            [
             0,
             "rgb(242,240,247)"
            ],
            [
             0.2,
             "rgb(218,218,235)"
            ],
            [
             0.4,
             "rgb(188,189,220)"
            ],
            [
             0.6,
             "rgb(158,154,200)"
            ],
            [
             0.8,
             "rgb(117,107,177)"
            ],
            [
             1,
             "rgb(84,39,143)"
            ]
           ],
           "locationmode": "USA-states",
           "locations": [
            "OK",
            "TX",
            "PA",
            "NE",
            "MS",
            "NM",
            "AR",
            "MO",
            "CT",
            "FL",
            "NC",
            "AL",
            "KY",
            "MD",
            "MN",
            "SD",
            "IA",
            "LA",
            "OH",
            "KS",
            "ND",
            "IN",
            "CO",
            "SC",
            "WV",
            "WY",
            "GA",
            "WI",
            "IL",
            "TN",
            "NJ",
            "MI",
            "CA",
            "MA",
            "NH",
            "OR",
            "VA",
            "AZ",
            "NY",
            "MT",
            "ME",
            "VT",
            "UT",
            "DE",
            "ID",
            "WA",
            "HI",
            "RI",
            "NV",
            "AK"
           ],
           "marker": {
            "line": {
             "color": "rgb(255,255,255)",
             "width": 2
            }
           },
           "text": [
            "OKLAHOMA",
            "TEXAS",
            "PENNSYLVANIA",
            "NEBRASKA",
            "MISSISSIPPI",
            "NEW MEXICO",
            "ARKANSAS",
            "MISSOURI",
            "CONNECTICUT",
            "FLORIDA",
            "NORTH CAROLINA",
            "ALABAMA",
            "KENTUCKY",
            "MARYLAND",
            "MINNESOTA",
            "SOUTH DAKOTA",
            "IOWA",
            "LOUISIANA",
            "OHIO",
            "KANSAS",
            "NORTH DAKOTA",
            "INDIANA",
            "COLORADO",
            "SOUTH CAROLINA",
            "WEST VIRGINIA",
            "WYOMING",
            "GEORGIA",
            "WISCONSIN",
            "ILLINOIS",
            "TENNESSEE",
            "NEW JERSEY",
            "MICHIGAN",
            "CALIFORNIA",
            "MASSACHUSETTS",
            "NEW HAMPSHIRE",
            "OREGON",
            "VIRGINIA",
            "ARIZONA",
            "NEW YORK",
            "MONTANA",
            "MAINE",
            "VERMONT",
            "UTAH",
            "DELAWARE",
            "IDAHO",
            "WASHINGTON",
            "HAWAII",
            "RHODE ISLAND",
            "NEVADA",
            "ALASKA"
           ],
           "type": "choropleth",
           "z": [
            82,
            399,
            15,
            84,
            105,
            41,
            74,
            97,
            4,
            139,
            15,
            61,
            28,
            3,
            32,
            67,
            64,
            65,
            35,
            155,
            25,
            25,
            53,
            13,
            4,
            18,
            79,
            52,
            101,
            44,
            1,
            35,
            10,
            21,
            9,
            3,
            12,
            36,
            19,
            18,
            3,
            6,
            2,
            0,
            4,
            6,
            0,
            1,
            6,
            0
           ]
          }
         ],
         "name": "1972"
        },
        {
         "data": [
          {
           "autocolorscale": false,
           "colorbar": {
            "title": {
             "text": "Events"
            }
           },
           "colorscale": [
            [
             0,
             "rgb(242,240,247)"
            ],
            [
             0.2,
             "rgb(218,218,235)"
            ],
            [
             0.4,
             "rgb(188,189,220)"
            ],
            [
             0.6,
             "rgb(158,154,200)"
            ],
            [
             0.8,
             "rgb(117,107,177)"
            ],
            [
             1,
             "rgb(84,39,143)"
            ]
           ],
           "locationmode": "USA-states",
           "locations": [
            "OK",
            "TX",
            "PA",
            "NE",
            "MS",
            "NM",
            "AR",
            "MO",
            "CT",
            "FL",
            "NC",
            "AL",
            "KY",
            "MD",
            "MN",
            "SD",
            "IA",
            "LA",
            "OH",
            "KS",
            "ND",
            "IN",
            "CO",
            "SC",
            "WV",
            "WY",
            "GA",
            "WI",
            "IL",
            "TN",
            "NJ",
            "MI",
            "CA",
            "MA",
            "NH",
            "OR",
            "VA",
            "AZ",
            "NY",
            "MT",
            "ME",
            "VT",
            "UT",
            "DE",
            "ID",
            "WA",
            "HI",
            "RI",
            "NV",
            "AK"
           ],
           "marker": {
            "line": {
             "color": "rgb(255,255,255)",
             "width": 2
            }
           },
           "text": [
            "OKLAHOMA",
            "TEXAS",
            "PENNSYLVANIA",
            "NEBRASKA",
            "MISSISSIPPI",
            "NEW MEXICO",
            "ARKANSAS",
            "MISSOURI",
            "CONNECTICUT",
            "FLORIDA",
            "NORTH CAROLINA",
            "ALABAMA",
            "KENTUCKY",
            "MARYLAND",
            "MINNESOTA",
            "SOUTH DAKOTA",
            "IOWA",
            "LOUISIANA",
            "OHIO",
            "KANSAS",
            "NORTH DAKOTA",
            "INDIANA",
            "COLORADO",
            "SOUTH CAROLINA",
            "WEST VIRGINIA",
            "WYOMING",
            "GEORGIA",
            "WISCONSIN",
            "ILLINOIS",
            "TENNESSEE",
            "NEW JERSEY",
            "MICHIGAN",
            "CALIFORNIA",
            "MASSACHUSETTS",
            "NEW HAMPSHIRE",
            "OREGON",
            "VIRGINIA",
            "ARIZONA",
            "NEW YORK",
            "MONTANA",
            "MAINE",
            "VERMONT",
            "UTAH",
            "DELAWARE",
            "IDAHO",
            "WASHINGTON",
            "HAWAII",
            "RHODE ISLAND",
            "NEVADA",
            "ALASKA"
           ],
           "type": "choropleth",
           "z": [
            257,
            503,
            95,
            201,
            174,
            22,
            159,
            309,
            18,
            115,
            82,
            186,
            106,
            19,
            132,
            107,
            181,
            131,
            165,
            259,
            70,
            101,
            89,
            68,
            6,
            27,
            98,
            105,
            173,
            104,
            13,
            97,
            8,
            43,
            12,
            1,
            19,
            14,
            76,
            41,
            14,
            10,
            14,
            3,
            13,
            1,
            1,
            3,
            8,
            0
           ]
          }
         ],
         "name": "1973"
        },
        {
         "data": [
          {
           "autocolorscale": false,
           "colorbar": {
            "title": {
             "text": "Events"
            }
           },
           "colorscale": [
            [
             0,
             "rgb(242,240,247)"
            ],
            [
             0.2,
             "rgb(218,218,235)"
            ],
            [
             0.4,
             "rgb(188,189,220)"
            ],
            [
             0.6,
             "rgb(158,154,200)"
            ],
            [
             0.8,
             "rgb(117,107,177)"
            ],
            [
             1,
             "rgb(84,39,143)"
            ]
           ],
           "locationmode": "USA-states",
           "locations": [
            "OK",
            "TX",
            "PA",
            "NE",
            "MS",
            "NM",
            "AR",
            "MO",
            "CT",
            "FL",
            "NC",
            "AL",
            "KY",
            "MD",
            "MN",
            "SD",
            "IA",
            "LA",
            "OH",
            "KS",
            "ND",
            "IN",
            "CO",
            "SC",
            "WV",
            "WY",
            "GA",
            "WI",
            "IL",
            "TN",
            "NJ",
            "MI",
            "CA",
            "MA",
            "NH",
            "OR",
            "VA",
            "AZ",
            "NY",
            "MT",
            "ME",
            "VT",
            "UT",
            "DE",
            "ID",
            "WA",
            "HI",
            "RI",
            "NV",
            "AK"
           ],
           "marker": {
            "line": {
             "color": "rgb(255,255,255)",
             "width": 2
            }
           },
           "text": [
            "OKLAHOMA",
            "TEXAS",
            "PENNSYLVANIA",
            "NEBRASKA",
            "MISSISSIPPI",
            "NEW MEXICO",
            "ARKANSAS",
            "MISSOURI",
            "CONNECTICUT",
            "FLORIDA",
            "NORTH CAROLINA",
            "ALABAMA",
            "KENTUCKY",
            "MARYLAND",
            "MINNESOTA",
            "SOUTH DAKOTA",
            "IOWA",
            "LOUISIANA",
            "OHIO",
            "KANSAS",
            "NORTH DAKOTA",
            "INDIANA",
            "COLORADO",
            "SOUTH CAROLINA",
            "WEST VIRGINIA",
            "WYOMING",
            "GEORGIA",
            "WISCONSIN",
            "ILLINOIS",
            "TENNESSEE",
            "NEW JERSEY",
            "MICHIGAN",
            "CALIFORNIA",
            "MASSACHUSETTS",
            "NEW HAMPSHIRE",
            "OREGON",
            "VIRGINIA",
            "ARIZONA",
            "NEW YORK",
            "MONTANA",
            "MAINE",
            "VERMONT",
            "UTAH",
            "DELAWARE",
            "IDAHO",
            "WASHINGTON",
            "HAWAII",
            "RHODE ISLAND",
            "NEVADA",
            "ALASKA"
           ],
           "type": "choropleth",
           "z": [
            171,
            424,
            128,
            266,
            134,
            27,
            126,
            226,
            13,
            155,
            79,
            185,
            144,
            31,
            200,
            115,
            343,
            180,
            213,
            415,
            81,
            166,
            60,
            100,
            30,
            27,
            173,
            108,
            462,
            159,
            18,
            137,
            6,
            15,
            8,
            1,
            66,
            39,
            80,
            26,
            17,
            4,
            0,
            7,
            0,
            2,
            0,
            3,
            4,
            0
           ]
          }
         ],
         "name": "1974"
        },
        {
         "data": [
          {
           "autocolorscale": false,
           "colorbar": {
            "title": {
             "text": "Events"
            }
           },
           "colorscale": [
            [
             0,
             "rgb(242,240,247)"
            ],
            [
             0.2,
             "rgb(218,218,235)"
            ],
            [
             0.4,
             "rgb(188,189,220)"
            ],
            [
             0.6,
             "rgb(158,154,200)"
            ],
            [
             0.8,
             "rgb(117,107,177)"
            ],
            [
             1,
             "rgb(84,39,143)"
            ]
           ],
           "locationmode": "USA-states",
           "locations": [
            "OK",
            "TX",
            "PA",
            "NE",
            "MS",
            "NM",
            "AR",
            "MO",
            "CT",
            "FL",
            "NC",
            "AL",
            "KY",
            "MD",
            "MN",
            "SD",
            "IA",
            "LA",
            "OH",
            "KS",
            "ND",
            "IN",
            "CO",
            "SC",
            "WV",
            "WY",
            "GA",
            "WI",
            "IL",
            "TN",
            "NJ",
            "MI",
            "CA",
            "MA",
            "NH",
            "OR",
            "VA",
            "AZ",
            "NY",
            "MT",
            "ME",
            "VT",
            "UT",
            "DE",
            "ID",
            "WA",
            "HI",
            "RI",
            "NV",
            "AK"
           ],
           "marker": {
            "line": {
             "color": "rgb(255,255,255)",
             "width": 2
            }
           },
           "text": [
            "OKLAHOMA",
            "TEXAS",
            "PENNSYLVANIA",
            "NEBRASKA",
            "MISSISSIPPI",
            "NEW MEXICO",
            "ARKANSAS",
            "MISSOURI",
            "CONNECTICUT",
            "FLORIDA",
            "NORTH CAROLINA",
            "ALABAMA",
            "KENTUCKY",
            "MARYLAND",
            "MINNESOTA",
            "SOUTH DAKOTA",
            "IOWA",
            "LOUISIANA",
            "OHIO",
            "KANSAS",
            "NORTH DAKOTA",
            "INDIANA",
            "COLORADO",
            "SOUTH CAROLINA",
            "WEST VIRGINIA",
            "WYOMING",
            "GEORGIA",
            "WISCONSIN",
            "ILLINOIS",
            "TENNESSEE",
            "NEW JERSEY",
            "MICHIGAN",
            "CALIFORNIA",
            "MASSACHUSETTS",
            "NEW HAMPSHIRE",
            "OREGON",
            "VIRGINIA",
            "ARIZONA",
            "NEW YORK",
            "MONTANA",
            "MAINE",
            "VERMONT",
            "UTAH",
            "DELAWARE",
            "IDAHO",
            "WASHINGTON",
            "HAWAII",
            "RHODE ISLAND",
            "NEVADA",
            "ALASKA"
           ],
           "type": "choropleth",
           "z": [
            227,
            497,
            109,
            243,
            215,
            23,
            153,
            249,
            5,
            210,
            148,
            133,
            51,
            44,
            147,
            128,
            211,
            225,
            84,
            230,
            62,
            107,
            79,
            112,
            31,
            33,
            152,
            100,
            300,
            83,
            17,
            182,
            8,
            3,
            11,
            7,
            93,
            27,
            67,
            64,
            15,
            14,
            6,
            16,
            36,
            11,
            1,
            0,
            5,
            0
           ]
          }
         ],
         "name": "1975"
        },
        {
         "data": [
          {
           "autocolorscale": false,
           "colorbar": {
            "title": {
             "text": "Events"
            }
           },
           "colorscale": [
            [
             0,
             "rgb(242,240,247)"
            ],
            [
             0.2,
             "rgb(218,218,235)"
            ],
            [
             0.4,
             "rgb(188,189,220)"
            ],
            [
             0.6,
             "rgb(158,154,200)"
            ],
            [
             0.8,
             "rgb(117,107,177)"
            ],
            [
             1,
             "rgb(84,39,143)"
            ]
           ],
           "locationmode": "USA-states",
           "locations": [
            "OK",
            "TX",
            "PA",
            "NE",
            "MS",
            "NM",
            "AR",
            "MO",
            "CT",
            "FL",
            "NC",
            "AL",
            "KY",
            "MD",
            "MN",
            "SD",
            "IA",
            "LA",
            "OH",
            "KS",
            "ND",
            "IN",
            "CO",
            "SC",
            "WV",
            "WY",
            "GA",
            "WI",
            "IL",
            "TN",
            "NJ",
            "MI",
            "CA",
            "MA",
            "NH",
            "OR",
            "VA",
            "AZ",
            "NY",
            "MT",
            "ME",
            "VT",
            "UT",
            "DE",
            "ID",
            "WA",
            "HI",
            "RI",
            "NV",
            "AK"
           ],
           "marker": {
            "line": {
             "color": "rgb(255,255,255)",
             "width": 2
            }
           },
           "text": [
            "OKLAHOMA",
            "TEXAS",
            "PENNSYLVANIA",
            "NEBRASKA",
            "MISSISSIPPI",
            "NEW MEXICO",
            "ARKANSAS",
            "MISSOURI",
            "CONNECTICUT",
            "FLORIDA",
            "NORTH CAROLINA",
            "ALABAMA",
            "KENTUCKY",
            "MARYLAND",
            "MINNESOTA",
            "SOUTH DAKOTA",
            "IOWA",
            "LOUISIANA",
            "OHIO",
            "KANSAS",
            "NORTH DAKOTA",
            "INDIANA",
            "COLORADO",
            "SOUTH CAROLINA",
            "WEST VIRGINIA",
            "WYOMING",
            "GEORGIA",
            "WISCONSIN",
            "ILLINOIS",
            "TENNESSEE",
            "NEW JERSEY",
            "MICHIGAN",
            "CALIFORNIA",
            "MASSACHUSETTS",
            "NEW HAMPSHIRE",
            "OREGON",
            "VIRGINIA",
            "ARIZONA",
            "NEW YORK",
            "MONTANA",
            "MAINE",
            "VERMONT",
            "UTAH",
            "DELAWARE",
            "IDAHO",
            "WASHINGTON",
            "HAWAII",
            "RHODE ISLAND",
            "NEVADA",
            "ALASKA"
           ],
           "type": "choropleth",
           "z": [
            161,
            585,
            104,
            138,
            179,
            17,
            111,
            124,
            10,
            127,
            86,
            100,
            73,
            28,
            110,
            43,
            112,
            121,
            109,
            134,
            128,
            150,
            72,
            57,
            17,
            38,
            87,
            61,
            157,
            74,
            13,
            141,
            9,
            21,
            12,
            1,
            55,
            30,
            50,
            41,
            5,
            8,
            12,
            12,
            25,
            5,
            0,
            1,
            11,
            0
           ]
          }
         ],
         "name": "1976"
        },
        {
         "data": [
          {
           "autocolorscale": false,
           "colorbar": {
            "title": {
             "text": "Events"
            }
           },
           "colorscale": [
            [
             0,
             "rgb(242,240,247)"
            ],
            [
             0.2,
             "rgb(218,218,235)"
            ],
            [
             0.4,
             "rgb(188,189,220)"
            ],
            [
             0.6,
             "rgb(158,154,200)"
            ],
            [
             0.8,
             "rgb(117,107,177)"
            ],
            [
             1,
             "rgb(84,39,143)"
            ]
           ],
           "locationmode": "USA-states",
           "locations": [
            "OK",
            "TX",
            "PA",
            "NE",
            "MS",
            "NM",
            "AR",
            "MO",
            "CT",
            "FL",
            "NC",
            "AL",
            "KY",
            "MD",
            "MN",
            "SD",
            "IA",
            "LA",
            "OH",
            "KS",
            "ND",
            "IN",
            "CO",
            "SC",
            "WV",
            "WY",
            "GA",
            "WI",
            "IL",
            "TN",
            "NJ",
            "MI",
            "CA",
            "MA",
            "NH",
            "OR",
            "VA",
            "AZ",
            "NY",
            "MT",
            "ME",
            "VT",
            "UT",
            "DE",
            "ID",
            "WA",
            "HI",
            "RI",
            "NV",
            "AK"
           ],
           "marker": {
            "line": {
             "color": "rgb(255,255,255)",
             "width": 2
            }
           },
           "text": [
            "OKLAHOMA",
            "TEXAS",
            "PENNSYLVANIA",
            "NEBRASKA",
            "MISSISSIPPI",
            "NEW MEXICO",
            "ARKANSAS",
            "MISSOURI",
            "CONNECTICUT",
            "FLORIDA",
            "NORTH CAROLINA",
            "ALABAMA",
            "KENTUCKY",
            "MARYLAND",
            "MINNESOTA",
            "SOUTH DAKOTA",
            "IOWA",
            "LOUISIANA",
            "OHIO",
            "KANSAS",
            "NORTH DAKOTA",
            "INDIANA",
            "COLORADO",
            "SOUTH CAROLINA",
            "WEST VIRGINIA",
            "WYOMING",
            "GEORGIA",
            "WISCONSIN",
            "ILLINOIS",
            "TENNESSEE",
            "NEW JERSEY",
            "MICHIGAN",
            "CALIFORNIA",
            "MASSACHUSETTS",
            "NEW HAMPSHIRE",
            "OREGON",
            "VIRGINIA",
            "ARIZONA",
            "NEW YORK",
            "MONTANA",
            "MAINE",
            "VERMONT",
            "UTAH",
            "DELAWARE",
            "IDAHO",
            "WASHINGTON",
            "HAWAII",
            "RHODE ISLAND",
            "NEVADA",
            "ALASKA"
           ],
           "type": "choropleth",
           "z": [
            192,
            379,
            83,
            256,
            127,
            27,
            103,
            174,
            4,
            92,
            90,
            131,
            86,
            13,
            157,
            119,
            101,
            111,
            88,
            202,
            151,
            98,
            96,
            56,
            22,
            45,
            75,
            135,
            164,
            69,
            13,
            80,
            6,
            6,
            8,
            4,
            71,
            21,
            23,
            13,
            6,
            3,
            6,
            10,
            6,
            0,
            0,
            0,
            6,
            0
           ]
          }
         ],
         "name": "1977"
        },
        {
         "data": [
          {
           "autocolorscale": false,
           "colorbar": {
            "title": {
             "text": "Events"
            }
           },
           "colorscale": [
            [
             0,
             "rgb(242,240,247)"
            ],
            [
             0.2,
             "rgb(218,218,235)"
            ],
            [
             0.4,
             "rgb(188,189,220)"
            ],
            [
             0.6,
             "rgb(158,154,200)"
            ],
            [
             0.8,
             "rgb(117,107,177)"
            ],
            [
             1,
             "rgb(84,39,143)"
            ]
           ],
           "locationmode": "USA-states",
           "locations": [
            "OK",
            "TX",
            "PA",
            "NE",
            "MS",
            "NM",
            "AR",
            "MO",
            "CT",
            "FL",
            "NC",
            "AL",
            "KY",
            "MD",
            "MN",
            "SD",
            "IA",
            "LA",
            "OH",
            "KS",
            "ND",
            "IN",
            "CO",
            "SC",
            "WV",
            "WY",
            "GA",
            "WI",
            "IL",
            "TN",
            "NJ",
            "MI",
            "CA",
            "MA",
            "NH",
            "OR",
            "VA",
            "AZ",
            "NY",
            "MT",
            "ME",
            "VT",
            "UT",
            "DE",
            "ID",
            "WA",
            "HI",
            "RI",
            "NV",
            "AK"
           ],
           "marker": {
            "line": {
             "color": "rgb(255,255,255)",
             "width": 2
            }
           },
           "text": [
            "OKLAHOMA",
            "TEXAS",
            "PENNSYLVANIA",
            "NEBRASKA",
            "MISSISSIPPI",
            "NEW MEXICO",
            "ARKANSAS",
            "MISSOURI",
            "CONNECTICUT",
            "FLORIDA",
            "NORTH CAROLINA",
            "ALABAMA",
            "KENTUCKY",
            "MARYLAND",
            "MINNESOTA",
            "SOUTH DAKOTA",
            "IOWA",
            "LOUISIANA",
            "OHIO",
            "KANSAS",
            "NORTH DAKOTA",
            "INDIANA",
            "COLORADO",
            "SOUTH CAROLINA",
            "WEST VIRGINIA",
            "WYOMING",
            "GEORGIA",
            "WISCONSIN",
            "ILLINOIS",
            "TENNESSEE",
            "NEW JERSEY",
            "MICHIGAN",
            "CALIFORNIA",
            "MASSACHUSETTS",
            "NEW HAMPSHIRE",
            "OREGON",
            "VIRGINIA",
            "ARIZONA",
            "NEW YORK",
            "MONTANA",
            "MAINE",
            "VERMONT",
            "UTAH",
            "DELAWARE",
            "IDAHO",
            "WASHINGTON",
            "HAWAII",
            "RHODE ISLAND",
            "NEVADA",
            "ALASKA"
           ],
           "type": "choropleth",
           "z": [
            132,
            496,
            81,
            265,
            101,
            26,
            125,
            175,
            1,
            186,
            65,
            119,
            46,
            20,
            135,
            121,
            141,
            98,
            69,
            224,
            186,
            92,
            58,
            33,
            11,
            54,
            83,
            73,
            113,
            43,
            3,
            71,
            20,
            2,
            6,
            3,
            31,
            27,
            37,
            47,
            8,
            1,
            5,
            2,
            6,
            6,
            1,
            0,
            6,
            0
           ]
          }
         ],
         "name": "1978"
        },
        {
         "data": [
          {
           "autocolorscale": false,
           "colorbar": {
            "title": {
             "text": "Events"
            }
           },
           "colorscale": [
            [
             0,
             "rgb(242,240,247)"
            ],
            [
             0.2,
             "rgb(218,218,235)"
            ],
            [
             0.4,
             "rgb(188,189,220)"
            ],
            [
             0.6,
             "rgb(158,154,200)"
            ],
            [
             0.8,
             "rgb(117,107,177)"
            ],
            [
             1,
             "rgb(84,39,143)"
            ]
           ],
           "locationmode": "USA-states",
           "locations": [
            "OK",
            "TX",
            "PA",
            "NE",
            "MS",
            "NM",
            "AR",
            "MO",
            "CT",
            "FL",
            "NC",
            "AL",
            "KY",
            "MD",
            "MN",
            "SD",
            "IA",
            "LA",
            "OH",
            "KS",
            "ND",
            "IN",
            "CO",
            "SC",
            "WV",
            "WY",
            "GA",
            "WI",
            "IL",
            "TN",
            "NJ",
            "MI",
            "CA",
            "MA",
            "NH",
            "OR",
            "VA",
            "AZ",
            "NY",
            "MT",
            "ME",
            "VT",
            "UT",
            "DE",
            "ID",
            "WA",
            "HI",
            "RI",
            "NV",
            "AK"
           ],
           "marker": {
            "line": {
             "color": "rgb(255,255,255)",
             "width": 2
            }
           },
           "text": [
            "OKLAHOMA",
            "TEXAS",
            "PENNSYLVANIA",
            "NEBRASKA",
            "MISSISSIPPI",
            "NEW MEXICO",
            "ARKANSAS",
            "MISSOURI",
            "CONNECTICUT",
            "FLORIDA",
            "NORTH CAROLINA",
            "ALABAMA",
            "KENTUCKY",
            "MARYLAND",
            "MINNESOTA",
            "SOUTH DAKOTA",
            "IOWA",
            "LOUISIANA",
            "OHIO",
            "KANSAS",
            "NORTH DAKOTA",
            "INDIANA",
            "COLORADO",
            "SOUTH CAROLINA",
            "WEST VIRGINIA",
            "WYOMING",
            "GEORGIA",
            "WISCONSIN",
            "ILLINOIS",
            "TENNESSEE",
            "NEW JERSEY",
            "MICHIGAN",
            "CALIFORNIA",
            "MASSACHUSETTS",
            "NEW HAMPSHIRE",
            "OREGON",
            "VIRGINIA",
            "ARIZONA",
            "NEW YORK",
            "MONTANA",
            "MAINE",
            "VERMONT",
            "UTAH",
            "DELAWARE",
            "IDAHO",
            "WASHINGTON",
            "HAWAII",
            "RHODE ISLAND",
            "NEVADA",
            "ALASKA"
           ],
           "type": "choropleth",
           "z": [
            307,
            726,
            80,
            339,
            81,
            35,
            139,
            134,
            9,
            141,
            64,
            97,
            73,
            28,
            202,
            115,
            206,
            105,
            58,
            206,
            117,
            142,
            116,
            25,
            18,
            75,
            111,
            91,
            72,
            45,
            9,
            95,
            10,
            14,
            7,
            0,
            30,
            29,
            46,
            23,
            2,
            8,
            4,
            4,
            24,
            2,
            0,
            4,
            10,
            0
           ]
          }
         ],
         "name": "1979"
        },
        {
         "data": [
          {
           "autocolorscale": false,
           "colorbar": {
            "title": {
             "text": "Events"
            }
           },
           "colorscale": [
            [
             0,
             "rgb(242,240,247)"
            ],
            [
             0.2,
             "rgb(218,218,235)"
            ],
            [
             0.4,
             "rgb(188,189,220)"
            ],
            [
             0.6,
             "rgb(158,154,200)"
            ],
            [
             0.8,
             "rgb(117,107,177)"
            ],
            [
             1,
             "rgb(84,39,143)"
            ]
           ],
           "locationmode": "USA-states",
           "locations": [
            "OK",
            "TX",
            "PA",
            "NE",
            "MS",
            "NM",
            "AR",
            "MO",
            "CT",
            "FL",
            "NC",
            "AL",
            "KY",
            "MD",
            "MN",
            "SD",
            "IA",
            "LA",
            "OH",
            "KS",
            "ND",
            "IN",
            "CO",
            "SC",
            "WV",
            "WY",
            "GA",
            "WI",
            "IL",
            "TN",
            "NJ",
            "MI",
            "CA",
            "MA",
            "NH",
            "OR",
            "VA",
            "AZ",
            "NY",
            "MT",
            "ME",
            "VT",
            "UT",
            "DE",
            "ID",
            "WA",
            "HI",
            "RI",
            "NV",
            "AK"
           ],
           "marker": {
            "line": {
             "color": "rgb(255,255,255)",
             "width": 2
            }
           },
           "text": [
            "OKLAHOMA",
            "TEXAS",
            "PENNSYLVANIA",
            "NEBRASKA",
            "MISSISSIPPI",
            "NEW MEXICO",
            "ARKANSAS",
            "MISSOURI",
            "CONNECTICUT",
            "FLORIDA",
            "NORTH CAROLINA",
            "ALABAMA",
            "KENTUCKY",
            "MARYLAND",
            "MINNESOTA",
            "SOUTH DAKOTA",
            "IOWA",
            "LOUISIANA",
            "OHIO",
            "KANSAS",
            "NORTH DAKOTA",
            "INDIANA",
            "COLORADO",
            "SOUTH CAROLINA",
            "WEST VIRGINIA",
            "WYOMING",
            "GEORGIA",
            "WISCONSIN",
            "ILLINOIS",
            "TENNESSEE",
            "NEW JERSEY",
            "MICHIGAN",
            "CALIFORNIA",
            "MASSACHUSETTS",
            "NEW HAMPSHIRE",
            "OREGON",
            "VIRGINIA",
            "ARIZONA",
            "NEW YORK",
            "MONTANA",
            "MAINE",
            "VERMONT",
            "UTAH",
            "DELAWARE",
            "IDAHO",
            "WASHINGTON",
            "HAWAII",
            "RHODE ISLAND",
            "NEVADA",
            "ALASKA"
           ],
           "type": "choropleth",
           "z": [
            215,
            772,
            137,
            434,
            99,
            12,
            112,
            205,
            4,
            141,
            76,
            134,
            96,
            36,
            253,
            252,
            288,
            133,
            409,
            248,
            225,
            355,
            82,
            41,
            76,
            45,
            187,
            262,
            251,
            54,
            24,
            178,
            28,
            6,
            10,
            0,
            83,
            22,
            55,
            35,
            9,
            10,
            7,
            13,
            8,
            2,
            1,
            0,
            7,
            0
           ]
          }
         ],
         "name": "1980"
        },
        {
         "data": [
          {
           "autocolorscale": false,
           "colorbar": {
            "title": {
             "text": "Events"
            }
           },
           "colorscale": [
            [
             0,
             "rgb(242,240,247)"
            ],
            [
             0.2,
             "rgb(218,218,235)"
            ],
            [
             0.4,
             "rgb(188,189,220)"
            ],
            [
             0.6,
             "rgb(158,154,200)"
            ],
            [
             0.8,
             "rgb(117,107,177)"
            ],
            [
             1,
             "rgb(84,39,143)"
            ]
           ],
           "locationmode": "USA-states",
           "locations": [
            "OK",
            "TX",
            "PA",
            "NE",
            "MS",
            "NM",
            "AR",
            "MO",
            "CT",
            "FL",
            "NC",
            "AL",
            "KY",
            "MD",
            "MN",
            "SD",
            "IA",
            "LA",
            "OH",
            "KS",
            "ND",
            "IN",
            "CO",
            "SC",
            "WV",
            "WY",
            "GA",
            "WI",
            "IL",
            "TN",
            "NJ",
            "MI",
            "CA",
            "MA",
            "NH",
            "OR",
            "VA",
            "AZ",
            "NY",
            "MT",
            "ME",
            "VT",
            "UT",
            "DE",
            "ID",
            "WA",
            "HI",
            "RI",
            "NV",
            "AK"
           ],
           "marker": {
            "line": {
             "color": "rgb(255,255,255)",
             "width": 2
            }
           },
           "text": [
            "OKLAHOMA",
            "TEXAS",
            "PENNSYLVANIA",
            "NEBRASKA",
            "MISSISSIPPI",
            "NEW MEXICO",
            "ARKANSAS",
            "MISSOURI",
            "CONNECTICUT",
            "FLORIDA",
            "NORTH CAROLINA",
            "ALABAMA",
            "KENTUCKY",
            "MARYLAND",
            "MINNESOTA",
            "SOUTH DAKOTA",
            "IOWA",
            "LOUISIANA",
            "OHIO",
            "KANSAS",
            "NORTH DAKOTA",
            "INDIANA",
            "COLORADO",
            "SOUTH CAROLINA",
            "WEST VIRGINIA",
            "WYOMING",
            "GEORGIA",
            "WISCONSIN",
            "ILLINOIS",
            "TENNESSEE",
            "NEW JERSEY",
            "MICHIGAN",
            "CALIFORNIA",
            "MASSACHUSETTS",
            "NEW HAMPSHIRE",
            "OREGON",
            "VIRGINIA",
            "ARIZONA",
            "NEW YORK",
            "MONTANA",
            "MAINE",
            "VERMONT",
            "UTAH",
            "DELAWARE",
            "IDAHO",
            "WASHINGTON",
            "HAWAII",
            "RHODE ISLAND",
            "NEVADA",
            "ALASKA"
           ],
           "type": "choropleth",
           "z": [
            231,
            768,
            57,
            282,
            76,
            21,
            101,
            270,
            2,
            136,
            59,
            113,
            102,
            14,
            174,
            159,
            190,
            131,
            151,
            257,
            133,
            129,
            132,
            25,
            24,
            30,
            120,
            130,
            202,
            40,
            8,
            48,
            13,
            19,
            8,
            4,
            26,
            25,
            16,
            36,
            8,
            8,
            10,
            3,
            15,
            3,
            0,
            1,
            6,
            0
           ]
          }
         ],
         "name": "1981"
        },
        {
         "data": [
          {
           "autocolorscale": false,
           "colorbar": {
            "title": {
             "text": "Events"
            }
           },
           "colorscale": [
            [
             0,
             "rgb(242,240,247)"
            ],
            [
             0.2,
             "rgb(218,218,235)"
            ],
            [
             0.4,
             "rgb(188,189,220)"
            ],
            [
             0.6,
             "rgb(158,154,200)"
            ],
            [
             0.8,
             "rgb(117,107,177)"
            ],
            [
             1,
             "rgb(84,39,143)"
            ]
           ],
           "locationmode": "USA-states",
           "locations": [
            "OK",
            "TX",
            "PA",
            "NE",
            "MS",
            "NM",
            "AR",
            "MO",
            "CT",
            "FL",
            "NC",
            "AL",
            "KY",
            "MD",
            "MN",
            "SD",
            "IA",
            "LA",
            "OH",
            "KS",
            "ND",
            "IN",
            "CO",
            "SC",
            "WV",
            "WY",
            "GA",
            "WI",
            "IL",
            "TN",
            "NJ",
            "MI",
            "CA",
            "MA",
            "NH",
            "OR",
            "VA",
            "AZ",
            "NY",
            "MT",
            "ME",
            "VT",
            "UT",
            "DE",
            "ID",
            "WA",
            "HI",
            "RI",
            "NV",
            "AK"
           ],
           "marker": {
            "line": {
             "color": "rgb(255,255,255)",
             "width": 2
            }
           },
           "text": [
            "OKLAHOMA",
            "TEXAS",
            "PENNSYLVANIA",
            "NEBRASKA",
            "MISSISSIPPI",
            "NEW MEXICO",
            "ARKANSAS",
            "MISSOURI",
            "CONNECTICUT",
            "FLORIDA",
            "NORTH CAROLINA",
            "ALABAMA",
            "KENTUCKY",
            "MARYLAND",
            "MINNESOTA",
            "SOUTH DAKOTA",
            "IOWA",
            "LOUISIANA",
            "OHIO",
            "KANSAS",
            "NORTH DAKOTA",
            "INDIANA",
            "COLORADO",
            "SOUTH CAROLINA",
            "WEST VIRGINIA",
            "WYOMING",
            "GEORGIA",
            "WISCONSIN",
            "ILLINOIS",
            "TENNESSEE",
            "NEW JERSEY",
            "MICHIGAN",
            "CALIFORNIA",
            "MASSACHUSETTS",
            "NEW HAMPSHIRE",
            "OREGON",
            "VIRGINIA",
            "ARIZONA",
            "NEW YORK",
            "MONTANA",
            "MAINE",
            "VERMONT",
            "UTAH",
            "DELAWARE",
            "IDAHO",
            "WASHINGTON",
            "HAWAII",
            "RHODE ISLAND",
            "NEVADA",
            "ALASKA"
           ],
           "type": "choropleth",
           "z": [
            379,
            956,
            52,
            394,
            123,
            41,
            395,
            551,
            11,
            160,
            95,
            172,
            173,
            30,
            193,
            258,
            154,
            197,
            311,
            452,
            189,
            228,
            235,
            78,
            18,
            51,
            152,
            144,
            300,
            81,
            15,
            124,
            32,
            7,
            2,
            26,
            61,
            34,
            109,
            62,
            12,
            3,
            13,
            7,
            26,
            10,
            3,
            0,
            6,
            0
           ]
          }
         ],
         "name": "1982"
        },
        {
         "data": [
          {
           "autocolorscale": false,
           "colorbar": {
            "title": {
             "text": "Events"
            }
           },
           "colorscale": [
            [
             0,
             "rgb(242,240,247)"
            ],
            [
             0.2,
             "rgb(218,218,235)"
            ],
            [
             0.4,
             "rgb(188,189,220)"
            ],
            [
             0.6,
             "rgb(158,154,200)"
            ],
            [
             0.8,
             "rgb(117,107,177)"
            ],
            [
             1,
             "rgb(84,39,143)"
            ]
           ],
           "locationmode": "USA-states",
           "locations": [
            "OK",
            "TX",
            "PA",
            "NE",
            "MS",
            "NM",
            "AR",
            "MO",
            "CT",
            "FL",
            "NC",
            "AL",
            "KY",
            "MD",
            "MN",
            "SD",
            "IA",
            "LA",
            "OH",
            "KS",
            "ND",
            "IN",
            "CO",
            "SC",
            "WV",
            "WY",
            "GA",
            "WI",
            "IL",
            "TN",
            "NJ",
            "MI",
            "CA",
            "MA",
            "NH",
            "OR",
            "VA",
            "AZ",
            "NY",
            "MT",
            "ME",
            "VT",
            "UT",
            "DE",
            "ID",
            "WA",
            "HI",
            "RI",
            "NV",
            "AK"
           ],
           "marker": {
            "line": {
             "color": "rgb(255,255,255)",
             "width": 2
            }
           },
           "text": [
            "OKLAHOMA",
            "TEXAS",
            "PENNSYLVANIA",
            "NEBRASKA",
            "MISSISSIPPI",
            "NEW MEXICO",
            "ARKANSAS",
            "MISSOURI",
            "CONNECTICUT",
            "FLORIDA",
            "NORTH CAROLINA",
            "ALABAMA",
            "KENTUCKY",
            "MARYLAND",
            "MINNESOTA",
            "SOUTH DAKOTA",
            "IOWA",
            "LOUISIANA",
            "OHIO",
            "KANSAS",
            "NORTH DAKOTA",
            "INDIANA",
            "COLORADO",
            "SOUTH CAROLINA",
            "WEST VIRGINIA",
            "WYOMING",
            "GEORGIA",
            "WISCONSIN",
            "ILLINOIS",
            "TENNESSEE",
            "NEW JERSEY",
            "MICHIGAN",
            "CALIFORNIA",
            "MASSACHUSETTS",
            "NEW HAMPSHIRE",
            "OREGON",
            "VIRGINIA",
            "ARIZONA",
            "NEW YORK",
            "MONTANA",
            "MAINE",
            "VERMONT",
            "UTAH",
            "DELAWARE",
            "IDAHO",
            "WASHINGTON",
            "HAWAII",
            "RHODE ISLAND",
            "NEVADA",
            "ALASKA"
           ],
           "type": "choropleth",
           "z": [
            630,
            944,
            149,
            215,
            169,
            15,
            306,
            280,
            26,
            287,
            123,
            280,
            204,
            70,
            287,
            197,
            211,
            403,
            362,
            260,
            254,
            204,
            241,
            130,
            86,
            59,
            170,
            381,
            164,
            72,
            19,
            314,
            38,
            37,
            26,
            7,
            152,
            56,
            237,
            68,
            52,
            22,
            37,
            16,
            41,
            7,
            1,
            9,
            4,
            0
           ]
          }
         ],
         "name": "1983"
        },
        {
         "data": [
          {
           "autocolorscale": false,
           "colorbar": {
            "title": {
             "text": "Events"
            }
           },
           "colorscale": [
            [
             0,
             "rgb(242,240,247)"
            ],
            [
             0.2,
             "rgb(218,218,235)"
            ],
            [
             0.4,
             "rgb(188,189,220)"
            ],
            [
             0.6,
             "rgb(158,154,200)"
            ],
            [
             0.8,
             "rgb(117,107,177)"
            ],
            [
             1,
             "rgb(84,39,143)"
            ]
           ],
           "locationmode": "USA-states",
           "locations": [
            "OK",
            "TX",
            "PA",
            "NE",
            "MS",
            "NM",
            "AR",
            "MO",
            "CT",
            "FL",
            "NC",
            "AL",
            "KY",
            "MD",
            "MN",
            "SD",
            "IA",
            "LA",
            "OH",
            "KS",
            "ND",
            "IN",
            "CO",
            "SC",
            "WV",
            "WY",
            "GA",
            "WI",
            "IL",
            "TN",
            "NJ",
            "MI",
            "CA",
            "MA",
            "NH",
            "OR",
            "VA",
            "AZ",
            "NY",
            "MT",
            "ME",
            "VT",
            "UT",
            "DE",
            "ID",
            "WA",
            "HI",
            "RI",
            "NV",
            "AK"
           ],
           "marker": {
            "line": {
             "color": "rgb(255,255,255)",
             "width": 2
            }
           },
           "text": [
            "OKLAHOMA",
            "TEXAS",
            "PENNSYLVANIA",
            "NEBRASKA",
            "MISSISSIPPI",
            "NEW MEXICO",
            "ARKANSAS",
            "MISSOURI",
            "CONNECTICUT",
            "FLORIDA",
            "NORTH CAROLINA",
            "ALABAMA",
            "KENTUCKY",
            "MARYLAND",
            "MINNESOTA",
            "SOUTH DAKOTA",
            "IOWA",
            "LOUISIANA",
            "OHIO",
            "KANSAS",
            "NORTH DAKOTA",
            "INDIANA",
            "COLORADO",
            "SOUTH CAROLINA",
            "WEST VIRGINIA",
            "WYOMING",
            "GEORGIA",
            "WISCONSIN",
            "ILLINOIS",
            "TENNESSEE",
            "NEW JERSEY",
            "MICHIGAN",
            "CALIFORNIA",
            "MASSACHUSETTS",
            "NEW HAMPSHIRE",
            "OREGON",
            "VIRGINIA",
            "ARIZONA",
            "NEW YORK",
            "MONTANA",
            "MAINE",
            "VERMONT",
            "UTAH",
            "DELAWARE",
            "IDAHO",
            "WASHINGTON",
            "HAWAII",
            "RHODE ISLAND",
            "NEVADA",
            "ALASKA"
           ],
           "type": "choropleth",
           "z": [
            661,
            721,
            69,
            253,
            155,
            16,
            384,
            384,
            17,
            125,
            284,
            286,
            160,
            27,
            255,
            168,
            285,
            378,
            113,
            351,
            98,
            94,
            140,
            195,
            26,
            60,
            330,
            309,
            229,
            208,
            18,
            118,
            12,
            17,
            11,
            9,
            73,
            28,
            101,
            44,
            14,
            2,
            34,
            10,
            38,
            3,
            0,
            1,
            20,
            0
           ]
          }
         ],
         "name": "1984"
        },
        {
         "data": [
          {
           "autocolorscale": false,
           "colorbar": {
            "title": {
             "text": "Events"
            }
           },
           "colorscale": [
            [
             0,
             "rgb(242,240,247)"
            ],
            [
             0.2,
             "rgb(218,218,235)"
            ],
            [
             0.4,
             "rgb(188,189,220)"
            ],
            [
             0.6,
             "rgb(158,154,200)"
            ],
            [
             0.8,
             "rgb(117,107,177)"
            ],
            [
             1,
             "rgb(84,39,143)"
            ]
           ],
           "locationmode": "USA-states",
           "locations": [
            "OK",
            "TX",
            "PA",
            "NE",
            "MS",
            "NM",
            "AR",
            "MO",
            "CT",
            "FL",
            "NC",
            "AL",
            "KY",
            "MD",
            "MN",
            "SD",
            "IA",
            "LA",
            "OH",
            "KS",
            "ND",
            "IN",
            "CO",
            "SC",
            "WV",
            "WY",
            "GA",
            "WI",
            "IL",
            "TN",
            "NJ",
            "MI",
            "CA",
            "MA",
            "NH",
            "OR",
            "VA",
            "AZ",
            "NY",
            "MT",
            "ME",
            "VT",
            "UT",
            "DE",
            "ID",
            "WA",
            "HI",
            "RI",
            "NV",
            "AK"
           ],
           "marker": {
            "line": {
             "color": "rgb(255,255,255)",
             "width": 2
            }
           },
           "text": [
            "OKLAHOMA",
            "TEXAS",
            "PENNSYLVANIA",
            "NEBRASKA",
            "MISSISSIPPI",
            "NEW MEXICO",
            "ARKANSAS",
            "MISSOURI",
            "CONNECTICUT",
            "FLORIDA",
            "NORTH CAROLINA",
            "ALABAMA",
            "KENTUCKY",
            "MARYLAND",
            "MINNESOTA",
            "SOUTH DAKOTA",
            "IOWA",
            "LOUISIANA",
            "OHIO",
            "KANSAS",
            "NORTH DAKOTA",
            "INDIANA",
            "COLORADO",
            "SOUTH CAROLINA",
            "WEST VIRGINIA",
            "WYOMING",
            "GEORGIA",
            "WISCONSIN",
            "ILLINOIS",
            "TENNESSEE",
            "NEW JERSEY",
            "MICHIGAN",
            "CALIFORNIA",
            "MASSACHUSETTS",
            "NEW HAMPSHIRE",
            "OREGON",
            "VIRGINIA",
            "ARIZONA",
            "NEW YORK",
            "MONTANA",
            "MAINE",
            "VERMONT",
            "UTAH",
            "DELAWARE",
            "IDAHO",
            "WASHINGTON",
            "HAWAII",
            "RHODE ISLAND",
            "NEVADA",
            "ALASKA"
           ],
           "type": "choropleth",
           "z": [
            736,
            886,
            258,
            321,
            228,
            21,
            283,
            254,
            15,
            122,
            489,
            335,
            144,
            24,
            274,
            283,
            241,
            301,
            245,
            415,
            127,
            213,
            140,
            194,
            11,
            31,
            250,
            177,
            145,
            176,
            42,
            203,
            8,
            29,
            7,
            2,
            51,
            24,
            137,
            32,
            27,
            4,
            33,
            4,
            15,
            6,
            1,
            1,
            12,
            0
           ]
          }
         ],
         "name": "1985"
        },
        {
         "data": [
          {
           "autocolorscale": false,
           "colorbar": {
            "title": {
             "text": "Events"
            }
           },
           "colorscale": [
            [
             0,
             "rgb(242,240,247)"
            ],
            [
             0.2,
             "rgb(218,218,235)"
            ],
            [
             0.4,
             "rgb(188,189,220)"
            ],
            [
             0.6,
             "rgb(158,154,200)"
            ],
            [
             0.8,
             "rgb(117,107,177)"
            ],
            [
             1,
             "rgb(84,39,143)"
            ]
           ],
           "locationmode": "USA-states",
           "locations": [
            "OK",
            "TX",
            "PA",
            "NE",
            "MS",
            "NM",
            "AR",
            "MO",
            "CT",
            "FL",
            "NC",
            "AL",
            "KY",
            "MD",
            "MN",
            "SD",
            "IA",
            "LA",
            "OH",
            "KS",
            "ND",
            "IN",
            "CO",
            "SC",
            "WV",
            "WY",
            "GA",
            "WI",
            "IL",
            "TN",
            "NJ",
            "MI",
            "CA",
            "MA",
            "NH",
            "OR",
            "VA",
            "AZ",
            "NY",
            "MT",
            "ME",
            "VT",
            "UT",
            "DE",
            "ID",
            "WA",
            "HI",
            "RI",
            "NV",
            "AK"
           ],
           "marker": {
            "line": {
             "color": "rgb(255,255,255)",
             "width": 2
            }
           },
           "text": [
            "OKLAHOMA",
            "TEXAS",
            "PENNSYLVANIA",
            "NEBRASKA",
            "MISSISSIPPI",
            "NEW MEXICO",
            "ARKANSAS",
            "MISSOURI",
            "CONNECTICUT",
            "FLORIDA",
            "NORTH CAROLINA",
            "ALABAMA",
            "KENTUCKY",
            "MARYLAND",
            "MINNESOTA",
            "SOUTH DAKOTA",
            "IOWA",
            "LOUISIANA",
            "OHIO",
            "KANSAS",
            "NORTH DAKOTA",
            "INDIANA",
            "COLORADO",
            "SOUTH CAROLINA",
            "WEST VIRGINIA",
            "WYOMING",
            "GEORGIA",
            "WISCONSIN",
            "ILLINOIS",
            "TENNESSEE",
            "NEW JERSEY",
            "MICHIGAN",
            "CALIFORNIA",
            "MASSACHUSETTS",
            "NEW HAMPSHIRE",
            "OREGON",
            "VIRGINIA",
            "ARIZONA",
            "NEW YORK",
            "MONTANA",
            "MAINE",
            "VERMONT",
            "UTAH",
            "DELAWARE",
            "IDAHO",
            "WASHINGTON",
            "HAWAII",
            "RHODE ISLAND",
            "NEVADA",
            "ALASKA"
           ],
           "type": "choropleth",
           "z": [
            1055,
            1018,
            228,
            409,
            193,
            22,
            281,
            204,
            2,
            186,
            392,
            266,
            164,
            28,
            203,
            238,
            358,
            139,
            303,
            664,
            180,
            274,
            127,
            121,
            44,
            89,
            232,
            145,
            211,
            93,
            13,
            168,
            23,
            18,
            52,
            1,
            62,
            61,
            240,
            27,
            64,
            51,
            29,
            3,
            25,
            3,
            2,
            4,
            9,
            0
           ]
          }
         ],
         "name": "1986"
        },
        {
         "data": [
          {
           "autocolorscale": false,
           "colorbar": {
            "title": {
             "text": "Events"
            }
           },
           "colorscale": [
            [
             0,
             "rgb(242,240,247)"
            ],
            [
             0.2,
             "rgb(218,218,235)"
            ],
            [
             0.4,
             "rgb(188,189,220)"
            ],
            [
             0.6,
             "rgb(158,154,200)"
            ],
            [
             0.8,
             "rgb(117,107,177)"
            ],
            [
             1,
             "rgb(84,39,143)"
            ]
           ],
           "locationmode": "USA-states",
           "locations": [
            "OK",
            "TX",
            "PA",
            "NE",
            "MS",
            "NM",
            "AR",
            "MO",
            "CT",
            "FL",
            "NC",
            "AL",
            "KY",
            "MD",
            "MN",
            "SD",
            "IA",
            "LA",
            "OH",
            "KS",
            "ND",
            "IN",
            "CO",
            "SC",
            "WV",
            "WY",
            "GA",
            "WI",
            "IL",
            "TN",
            "NJ",
            "MI",
            "CA",
            "MA",
            "NH",
            "OR",
            "VA",
            "AZ",
            "NY",
            "MT",
            "ME",
            "VT",
            "UT",
            "DE",
            "ID",
            "WA",
            "HI",
            "RI",
            "NV",
            "AK"
           ],
           "marker": {
            "line": {
             "color": "rgb(255,255,255)",
             "width": 2
            }
           },
           "text": [
            "OKLAHOMA",
            "TEXAS",
            "PENNSYLVANIA",
            "NEBRASKA",
            "MISSISSIPPI",
            "NEW MEXICO",
            "ARKANSAS",
            "MISSOURI",
            "CONNECTICUT",
            "FLORIDA",
            "NORTH CAROLINA",
            "ALABAMA",
            "KENTUCKY",
            "MARYLAND",
            "MINNESOTA",
            "SOUTH DAKOTA",
            "IOWA",
            "LOUISIANA",
            "OHIO",
            "KANSAS",
            "NORTH DAKOTA",
            "INDIANA",
            "COLORADO",
            "SOUTH CAROLINA",
            "WEST VIRGINIA",
            "WYOMING",
            "GEORGIA",
            "WISCONSIN",
            "ILLINOIS",
            "TENNESSEE",
            "NEW JERSEY",
            "MICHIGAN",
            "CALIFORNIA",
            "MASSACHUSETTS",
            "NEW HAMPSHIRE",
            "OREGON",
            "VIRGINIA",
            "ARIZONA",
            "NEW YORK",
            "MONTANA",
            "MAINE",
            "VERMONT",
            "UTAH",
            "DELAWARE",
            "IDAHO",
            "WASHINGTON",
            "HAWAII",
            "RHODE ISLAND",
            "NEVADA",
            "ALASKA"
           ],
           "type": "choropleth",
           "z": [
            626,
            892,
            177,
            219,
            230,
            54,
            162,
            245,
            4,
            115,
            296,
            155,
            236,
            9,
            207,
            205,
            248,
            289,
            222,
            527,
            114,
            267,
            186,
            128,
            27,
            84,
            124,
            213,
            232,
            59,
            103,
            184,
            13,
            7,
            22,
            6,
            26,
            33,
            174,
            26,
            37,
            40,
            33,
            6,
            71,
            4,
            0,
            2,
            22,
            0
           ]
          }
         ],
         "name": "1987"
        },
        {
         "data": [
          {
           "autocolorscale": false,
           "colorbar": {
            "title": {
             "text": "Events"
            }
           },
           "colorscale": [
            [
             0,
             "rgb(242,240,247)"
            ],
            [
             0.2,
             "rgb(218,218,235)"
            ],
            [
             0.4,
             "rgb(188,189,220)"
            ],
            [
             0.6,
             "rgb(158,154,200)"
            ],
            [
             0.8,
             "rgb(117,107,177)"
            ],
            [
             1,
             "rgb(84,39,143)"
            ]
           ],
           "locationmode": "USA-states",
           "locations": [
            "OK",
            "TX",
            "PA",
            "NE",
            "MS",
            "NM",
            "AR",
            "MO",
            "CT",
            "FL",
            "NC",
            "AL",
            "KY",
            "MD",
            "MN",
            "SD",
            "IA",
            "LA",
            "OH",
            "KS",
            "ND",
            "IN",
            "CO",
            "SC",
            "WV",
            "WY",
            "GA",
            "WI",
            "IL",
            "TN",
            "NJ",
            "MI",
            "CA",
            "MA",
            "NH",
            "OR",
            "VA",
            "AZ",
            "NY",
            "MT",
            "ME",
            "VT",
            "UT",
            "DE",
            "ID",
            "WA",
            "HI",
            "RI",
            "NV",
            "AK"
           ],
           "marker": {
            "line": {
             "color": "rgb(255,255,255)",
             "width": 2
            }
           },
           "text": [
            "OKLAHOMA",
            "TEXAS",
            "PENNSYLVANIA",
            "NEBRASKA",
            "MISSISSIPPI",
            "NEW MEXICO",
            "ARKANSAS",
            "MISSOURI",
            "CONNECTICUT",
            "FLORIDA",
            "NORTH CAROLINA",
            "ALABAMA",
            "KENTUCKY",
            "MARYLAND",
            "MINNESOTA",
            "SOUTH DAKOTA",
            "IOWA",
            "LOUISIANA",
            "OHIO",
            "KANSAS",
            "NORTH DAKOTA",
            "INDIANA",
            "COLORADO",
            "SOUTH CAROLINA",
            "WEST VIRGINIA",
            "WYOMING",
            "GEORGIA",
            "WISCONSIN",
            "ILLINOIS",
            "TENNESSEE",
            "NEW JERSEY",
            "MICHIGAN",
            "CALIFORNIA",
            "MASSACHUSETTS",
            "NEW HAMPSHIRE",
            "OREGON",
            "VIRGINIA",
            "ARIZONA",
            "NEW YORK",
            "MONTANA",
            "MAINE",
            "VERMONT",
            "UTAH",
            "DELAWARE",
            "IDAHO",
            "WASHINGTON",
            "HAWAII",
            "RHODE ISLAND",
            "NEVADA",
            "ALASKA"
           ],
           "type": "choropleth",
           "z": [
            564,
            766,
            253,
            155,
            374,
            54,
            310,
            231,
            6,
            117,
            359,
            280,
            42,
            33,
            127,
            100,
            205,
            214,
            147,
            227,
            138,
            152,
            130,
            234,
            26,
            60,
            246,
            193,
            204,
            93,
            77,
            269,
            16,
            59,
            44,
            4,
            97,
            39,
            324,
            111,
            42,
            44,
            26,
            10,
            23,
            7,
            2,
            0,
            20,
            0
           ]
          }
         ],
         "name": "1988"
        },
        {
         "data": [
          {
           "autocolorscale": false,
           "colorbar": {
            "title": {
             "text": "Events"
            }
           },
           "colorscale": [
            [
             0,
             "rgb(242,240,247)"
            ],
            [
             0.2,
             "rgb(218,218,235)"
            ],
            [
             0.4,
             "rgb(188,189,220)"
            ],
            [
             0.6,
             "rgb(158,154,200)"
            ],
            [
             0.8,
             "rgb(117,107,177)"
            ],
            [
             1,
             "rgb(84,39,143)"
            ]
           ],
           "locationmode": "USA-states",
           "locations": [
            "OK",
            "TX",
            "PA",
            "NE",
            "MS",
            "NM",
            "AR",
            "MO",
            "CT",
            "FL",
            "NC",
            "AL",
            "KY",
            "MD",
            "MN",
            "SD",
            "IA",
            "LA",
            "OH",
            "KS",
            "ND",
            "IN",
            "CO",
            "SC",
            "WV",
            "WY",
            "GA",
            "WI",
            "IL",
            "TN",
            "NJ",
            "MI",
            "CA",
            "MA",
            "NH",
            "OR",
            "VA",
            "AZ",
            "NY",
            "MT",
            "ME",
            "VT",
            "UT",
            "DE",
            "ID",
            "WA",
            "HI",
            "RI",
            "NV",
            "AK"
           ],
           "marker": {
            "line": {
             "color": "rgb(255,255,255)",
             "width": 2
            }
           },
           "text": [
            "OKLAHOMA",
            "TEXAS",
            "PENNSYLVANIA",
            "NEBRASKA",
            "MISSISSIPPI",
            "NEW MEXICO",
            "ARKANSAS",
            "MISSOURI",
            "CONNECTICUT",
            "FLORIDA",
            "NORTH CAROLINA",
            "ALABAMA",
            "KENTUCKY",
            "MARYLAND",
            "MINNESOTA",
            "SOUTH DAKOTA",
            "IOWA",
            "LOUISIANA",
            "OHIO",
            "KANSAS",
            "NORTH DAKOTA",
            "INDIANA",
            "COLORADO",
            "SOUTH CAROLINA",
            "WEST VIRGINIA",
            "WYOMING",
            "GEORGIA",
            "WISCONSIN",
            "ILLINOIS",
            "TENNESSEE",
            "NEW JERSEY",
            "MICHIGAN",
            "CALIFORNIA",
            "MASSACHUSETTS",
            "NEW HAMPSHIRE",
            "OREGON",
            "VIRGINIA",
            "ARIZONA",
            "NEW YORK",
            "MONTANA",
            "MAINE",
            "VERMONT",
            "UTAH",
            "DELAWARE",
            "IDAHO",
            "WASHINGTON",
            "HAWAII",
            "RHODE ISLAND",
            "NEVADA",
            "ALASKA"
           ],
           "type": "choropleth",
           "z": [
            998,
            1626,
            257,
            280,
            361,
            127,
            435,
            179,
            16,
            291,
            430,
            369,
            156,
            70,
            174,
            113,
            340,
            323,
            219,
            450,
            144,
            270,
            147,
            298,
            80,
            70,
            492,
            231,
            163,
            134,
            119,
            147,
            13,
            69,
            7,
            5,
            218,
            26,
            296,
            89,
            27,
            42,
            20,
            15,
            45,
            8,
            1,
            2,
            12,
            0
           ]
          }
         ],
         "name": "1989"
        },
        {
         "data": [
          {
           "autocolorscale": false,
           "colorbar": {
            "title": {
             "text": "Events"
            }
           },
           "colorscale": [
            [
             0,
             "rgb(242,240,247)"
            ],
            [
             0.2,
             "rgb(218,218,235)"
            ],
            [
             0.4,
             "rgb(188,189,220)"
            ],
            [
             0.6,
             "rgb(158,154,200)"
            ],
            [
             0.8,
             "rgb(117,107,177)"
            ],
            [
             1,
             "rgb(84,39,143)"
            ]
           ],
           "locationmode": "USA-states",
           "locations": [
            "OK",
            "TX",
            "PA",
            "NE",
            "MS",
            "NM",
            "AR",
            "MO",
            "CT",
            "FL",
            "NC",
            "AL",
            "KY",
            "MD",
            "MN",
            "SD",
            "IA",
            "LA",
            "OH",
            "KS",
            "ND",
            "IN",
            "CO",
            "SC",
            "WV",
            "WY",
            "GA",
            "WI",
            "IL",
            "TN",
            "NJ",
            "MI",
            "CA",
            "MA",
            "NH",
            "OR",
            "VA",
            "AZ",
            "NY",
            "MT",
            "ME",
            "VT",
            "UT",
            "DE",
            "ID",
            "WA",
            "HI",
            "RI",
            "NV",
            "AK"
           ],
           "marker": {
            "line": {
             "color": "rgb(255,255,255)",
             "width": 2
            }
           },
           "text": [
            "OKLAHOMA",
            "TEXAS",
            "PENNSYLVANIA",
            "NEBRASKA",
            "MISSISSIPPI",
            "NEW MEXICO",
            "ARKANSAS",
            "MISSOURI",
            "CONNECTICUT",
            "FLORIDA",
            "NORTH CAROLINA",
            "ALABAMA",
            "KENTUCKY",
            "MARYLAND",
            "MINNESOTA",
            "SOUTH DAKOTA",
            "IOWA",
            "LOUISIANA",
            "OHIO",
            "KANSAS",
            "NORTH DAKOTA",
            "INDIANA",
            "COLORADO",
            "SOUTH CAROLINA",
            "WEST VIRGINIA",
            "WYOMING",
            "GEORGIA",
            "WISCONSIN",
            "ILLINOIS",
            "TENNESSEE",
            "NEW JERSEY",
            "MICHIGAN",
            "CALIFORNIA",
            "MASSACHUSETTS",
            "NEW HAMPSHIRE",
            "OREGON",
            "VIRGINIA",
            "ARIZONA",
            "NEW YORK",
            "MONTANA",
            "MAINE",
            "VERMONT",
            "UTAH",
            "DELAWARE",
            "IDAHO",
            "WASHINGTON",
            "HAWAII",
            "RHODE ISLAND",
            "NEVADA",
            "ALASKA"
           ],
           "type": "choropleth",
           "z": [
            834,
            1395,
            389,
            313,
            332,
            71,
            320,
            190,
            14,
            287,
            321,
            437,
            210,
            110,
            217,
            168,
            336,
            424,
            319,
            623,
            176,
            348,
            179,
            230,
            105,
            83,
            645,
            163,
            275,
            183,
            102,
            143,
            23,
            12,
            15,
            9,
            259,
            61,
            386,
            71,
            36,
            39,
            28,
            14,
            30,
            2,
            0,
            5,
            7,
            0
           ]
          }
         ],
         "name": "1990"
        },
        {
         "data": [
          {
           "autocolorscale": false,
           "colorbar": {
            "title": {
             "text": "Events"
            }
           },
           "colorscale": [
            [
             0,
             "rgb(242,240,247)"
            ],
            [
             0.2,
             "rgb(218,218,235)"
            ],
            [
             0.4,
             "rgb(188,189,220)"
            ],
            [
             0.6,
             "rgb(158,154,200)"
            ],
            [
             0.8,
             "rgb(117,107,177)"
            ],
            [
             1,
             "rgb(84,39,143)"
            ]
           ],
           "locationmode": "USA-states",
           "locations": [
            "OK",
            "TX",
            "PA",
            "NE",
            "MS",
            "NM",
            "AR",
            "MO",
            "CT",
            "FL",
            "NC",
            "AL",
            "KY",
            "MD",
            "MN",
            "SD",
            "IA",
            "LA",
            "OH",
            "KS",
            "ND",
            "IN",
            "CO",
            "SC",
            "WV",
            "WY",
            "GA",
            "WI",
            "IL",
            "TN",
            "NJ",
            "MI",
            "CA",
            "MA",
            "NH",
            "OR",
            "VA",
            "AZ",
            "NY",
            "MT",
            "ME",
            "VT",
            "UT",
            "DE",
            "ID",
            "WA",
            "HI",
            "RI",
            "NV",
            "AK"
           ],
           "marker": {
            "line": {
             "color": "rgb(255,255,255)",
             "width": 2
            }
           },
           "text": [
            "OKLAHOMA",
            "TEXAS",
            "PENNSYLVANIA",
            "NEBRASKA",
            "MISSISSIPPI",
            "NEW MEXICO",
            "ARKANSAS",
            "MISSOURI",
            "CONNECTICUT",
            "FLORIDA",
            "NORTH CAROLINA",
            "ALABAMA",
            "KENTUCKY",
            "MARYLAND",
            "MINNESOTA",
            "SOUTH DAKOTA",
            "IOWA",
            "LOUISIANA",
            "OHIO",
            "KANSAS",
            "NORTH DAKOTA",
            "INDIANA",
            "COLORADO",
            "SOUTH CAROLINA",
            "WEST VIRGINIA",
            "WYOMING",
            "GEORGIA",
            "WISCONSIN",
            "ILLINOIS",
            "TENNESSEE",
            "NEW JERSEY",
            "MICHIGAN",
            "CALIFORNIA",
            "MASSACHUSETTS",
            "NEW HAMPSHIRE",
            "OREGON",
            "VIRGINIA",
            "ARIZONA",
            "NEW YORK",
            "MONTANA",
            "MAINE",
            "VERMONT",
            "UTAH",
            "DELAWARE",
            "IDAHO",
            "WASHINGTON",
            "HAWAII",
            "RHODE ISLAND",
            "NEVADA",
            "ALASKA"
           ],
           "type": "choropleth",
           "z": [
            1133,
            1615,
            457,
            327,
            383,
            105,
            381,
            330,
            36,
            330,
            180,
            252,
            205,
            102,
            317,
            354,
            383,
            440,
            373,
            877,
            189,
            277,
            318,
            170,
            146,
            85,
            546,
            250,
            308,
            207,
            110,
            385,
            26,
            53,
            23,
            30,
            94,
            36,
            372,
            137,
            32,
            27,
            29,
            13,
            48,
            12,
            0,
            2,
            6,
            0
           ]
          }
         ],
         "name": "1991"
        },
        {
         "data": [
          {
           "autocolorscale": false,
           "colorbar": {
            "title": {
             "text": "Events"
            }
           },
           "colorscale": [
            [
             0,
             "rgb(242,240,247)"
            ],
            [
             0.2,
             "rgb(218,218,235)"
            ],
            [
             0.4,
             "rgb(188,189,220)"
            ],
            [
             0.6,
             "rgb(158,154,200)"
            ],
            [
             0.8,
             "rgb(117,107,177)"
            ],
            [
             1,
             "rgb(84,39,143)"
            ]
           ],
           "locationmode": "USA-states",
           "locations": [
            "OK",
            "TX",
            "PA",
            "NE",
            "MS",
            "NM",
            "AR",
            "MO",
            "CT",
            "FL",
            "NC",
            "AL",
            "KY",
            "MD",
            "MN",
            "SD",
            "IA",
            "LA",
            "OH",
            "KS",
            "ND",
            "IN",
            "CO",
            "SC",
            "WV",
            "WY",
            "GA",
            "WI",
            "IL",
            "TN",
            "NJ",
            "MI",
            "CA",
            "MA",
            "NH",
            "OR",
            "VA",
            "AZ",
            "NY",
            "MT",
            "ME",
            "VT",
            "UT",
            "DE",
            "ID",
            "WA",
            "HI",
            "RI",
            "NV",
            "AK"
           ],
           "marker": {
            "line": {
             "color": "rgb(255,255,255)",
             "width": 2
            }
           },
           "text": [
            "OKLAHOMA",
            "TEXAS",
            "PENNSYLVANIA",
            "NEBRASKA",
            "MISSISSIPPI",
            "NEW MEXICO",
            "ARKANSAS",
            "MISSOURI",
            "CONNECTICUT",
            "FLORIDA",
            "NORTH CAROLINA",
            "ALABAMA",
            "KENTUCKY",
            "MARYLAND",
            "MINNESOTA",
            "SOUTH DAKOTA",
            "IOWA",
            "LOUISIANA",
            "OHIO",
            "KANSAS",
            "NORTH DAKOTA",
            "INDIANA",
            "COLORADO",
            "SOUTH CAROLINA",
            "WEST VIRGINIA",
            "WYOMING",
            "GEORGIA",
            "WISCONSIN",
            "ILLINOIS",
            "TENNESSEE",
            "NEW JERSEY",
            "MICHIGAN",
            "CALIFORNIA",
            "MASSACHUSETTS",
            "NEW HAMPSHIRE",
            "OREGON",
            "VIRGINIA",
            "ARIZONA",
            "NEW YORK",
            "MONTANA",
            "MAINE",
            "VERMONT",
            "UTAH",
            "DELAWARE",
            "IDAHO",
            "WASHINGTON",
            "HAWAII",
            "RHODE ISLAND",
            "NEVADA",
            "ALASKA"
           ],
           "type": "choropleth",
           "z": [
            1499,
            2087,
            372,
            468,
            372,
            154,
            567,
            414,
            46,
            368,
            317,
            347,
            156,
            106,
            203,
            283,
            287,
            622,
            433,
            924,
            91,
            336,
            266,
            186,
            110,
            74,
            393,
            187,
            397,
            186,
            106,
            226,
            33,
            47,
            8,
            16,
            185,
            82,
            268,
            70,
            38,
            23,
            47,
            23,
            68,
            12,
            0,
            4,
            18,
            0
           ]
          }
         ],
         "name": "1992"
        },
        {
         "data": [
          {
           "autocolorscale": false,
           "colorbar": {
            "title": {
             "text": "Events"
            }
           },
           "colorscale": [
            [
             0,
             "rgb(242,240,247)"
            ],
            [
             0.2,
             "rgb(218,218,235)"
            ],
            [
             0.4,
             "rgb(188,189,220)"
            ],
            [
             0.6,
             "rgb(158,154,200)"
            ],
            [
             0.8,
             "rgb(117,107,177)"
            ],
            [
             1,
             "rgb(84,39,143)"
            ]
           ],
           "locationmode": "USA-states",
           "locations": [
            "OK",
            "TX",
            "PA",
            "NE",
            "MS",
            "NM",
            "AR",
            "MO",
            "CT",
            "FL",
            "NC",
            "AL",
            "KY",
            "MD",
            "MN",
            "SD",
            "IA",
            "LA",
            "OH",
            "KS",
            "ND",
            "IN",
            "CO",
            "SC",
            "WV",
            "WY",
            "GA",
            "WI",
            "IL",
            "TN",
            "NJ",
            "MI",
            "CA",
            "MA",
            "NH",
            "OR",
            "VA",
            "AZ",
            "NY",
            "MT",
            "ME",
            "VT",
            "UT",
            "DE",
            "ID",
            "WA",
            "HI",
            "RI",
            "NV",
            "AK"
           ],
           "marker": {
            "line": {
             "color": "rgb(255,255,255)",
             "width": 2
            }
           },
           "text": [
            "OKLAHOMA",
            "TEXAS",
            "PENNSYLVANIA",
            "NEBRASKA",
            "MISSISSIPPI",
            "NEW MEXICO",
            "ARKANSAS",
            "MISSOURI",
            "CONNECTICUT",
            "FLORIDA",
            "NORTH CAROLINA",
            "ALABAMA",
            "KENTUCKY",
            "MARYLAND",
            "MINNESOTA",
            "SOUTH DAKOTA",
            "IOWA",
            "LOUISIANA",
            "OHIO",
            "KANSAS",
            "NORTH DAKOTA",
            "INDIANA",
            "COLORADO",
            "SOUTH CAROLINA",
            "WEST VIRGINIA",
            "WYOMING",
            "GEORGIA",
            "WISCONSIN",
            "ILLINOIS",
            "TENNESSEE",
            "NEW JERSEY",
            "MICHIGAN",
            "CALIFORNIA",
            "MASSACHUSETTS",
            "NEW HAMPSHIRE",
            "OREGON",
            "VIRGINIA",
            "ARIZONA",
            "NEW YORK",
            "MONTANA",
            "MAINE",
            "VERMONT",
            "UTAH",
            "DELAWARE",
            "IDAHO",
            "WASHINGTON",
            "HAWAII",
            "RHODE ISLAND",
            "NEVADA",
            "ALASKA"
           ],
           "type": "choropleth",
           "z": [
            1119,
            1719,
            166,
            119,
            233,
            47,
            563,
            299,
            23,
            329,
            195,
            117,
            132,
            59,
            64,
            110,
            129,
            371,
            72,
            644,
            35,
            101,
            154,
            92,
            101,
            38,
            254,
            31,
            139,
            210,
            31,
            137,
            29,
            21,
            16,
            11,
            145,
            48,
            279,
            72,
            14,
            70,
            40,
            16,
            40,
            7,
            0,
            2,
            12,
            1
           ]
          }
         ],
         "name": "1993"
        },
        {
         "data": [
          {
           "autocolorscale": false,
           "colorbar": {
            "title": {
             "text": "Events"
            }
           },
           "colorscale": [
            [
             0,
             "rgb(242,240,247)"
            ],
            [
             0.2,
             "rgb(218,218,235)"
            ],
            [
             0.4,
             "rgb(188,189,220)"
            ],
            [
             0.6,
             "rgb(158,154,200)"
            ],
            [
             0.8,
             "rgb(117,107,177)"
            ],
            [
             1,
             "rgb(84,39,143)"
            ]
           ],
           "locationmode": "USA-states",
           "locations": [
            "OK",
            "TX",
            "PA",
            "NE",
            "MS",
            "NM",
            "AR",
            "MO",
            "CT",
            "FL",
            "NC",
            "AL",
            "KY",
            "MD",
            "MN",
            "SD",
            "IA",
            "LA",
            "OH",
            "KS",
            "ND",
            "IN",
            "CO",
            "SC",
            "WV",
            "WY",
            "GA",
            "WI",
            "IL",
            "TN",
            "NJ",
            "MI",
            "CA",
            "MA",
            "NH",
            "OR",
            "VA",
            "AZ",
            "NY",
            "MT",
            "ME",
            "VT",
            "UT",
            "DE",
            "ID",
            "WA",
            "HI",
            "RI",
            "NV",
            "AK"
           ],
           "marker": {
            "line": {
             "color": "rgb(255,255,255)",
             "width": 2
            }
           },
           "text": [
            "OKLAHOMA",
            "TEXAS",
            "PENNSYLVANIA",
            "NEBRASKA",
            "MISSISSIPPI",
            "NEW MEXICO",
            "ARKANSAS",
            "MISSOURI",
            "CONNECTICUT",
            "FLORIDA",
            "NORTH CAROLINA",
            "ALABAMA",
            "KENTUCKY",
            "MARYLAND",
            "MINNESOTA",
            "SOUTH DAKOTA",
            "IOWA",
            "LOUISIANA",
            "OHIO",
            "KANSAS",
            "NORTH DAKOTA",
            "INDIANA",
            "COLORADO",
            "SOUTH CAROLINA",
            "WEST VIRGINIA",
            "WYOMING",
            "GEORGIA",
            "WISCONSIN",
            "ILLINOIS",
            "TENNESSEE",
            "NEW JERSEY",
            "MICHIGAN",
            "CALIFORNIA",
            "MASSACHUSETTS",
            "NEW HAMPSHIRE",
            "OREGON",
            "VIRGINIA",
            "ARIZONA",
            "NEW YORK",
            "MONTANA",
            "MAINE",
            "VERMONT",
            "UTAH",
            "DELAWARE",
            "IDAHO",
            "WASHINGTON",
            "HAWAII",
            "RHODE ISLAND",
            "NEVADA",
            "ALASKA"
           ],
           "type": "choropleth",
           "z": [
            1670,
            2544,
            461,
            523,
            423,
            113,
            893,
            569,
            45,
            304,
            144,
            266,
            89,
            64,
            387,
            249,
            606,
            456,
            610,
            899,
            223,
            290,
            308,
            328,
            191,
            84,
            365,
            303,
            305,
            232,
            109,
            311,
            22,
            75,
            38,
            11,
            99,
            67,
            567,
            133,
            77,
            59,
            46,
            8,
            18,
            9,
            0,
            7,
            16,
            0
           ]
          }
         ],
         "name": "1994"
        },
        {
         "data": [
          {
           "autocolorscale": false,
           "colorbar": {
            "title": {
             "text": "Events"
            }
           },
           "colorscale": [
            [
             0,
             "rgb(242,240,247)"
            ],
            [
             0.2,
             "rgb(218,218,235)"
            ],
            [
             0.4,
             "rgb(188,189,220)"
            ],
            [
             0.6,
             "rgb(158,154,200)"
            ],
            [
             0.8,
             "rgb(117,107,177)"
            ],
            [
             1,
             "rgb(84,39,143)"
            ]
           ],
           "locationmode": "USA-states",
           "locations": [
            "OK",
            "TX",
            "PA",
            "NE",
            "MS",
            "NM",
            "AR",
            "MO",
            "CT",
            "FL",
            "NC",
            "AL",
            "KY",
            "MD",
            "MN",
            "SD",
            "IA",
            "LA",
            "OH",
            "KS",
            "ND",
            "IN",
            "CO",
            "SC",
            "WV",
            "WY",
            "GA",
            "WI",
            "IL",
            "TN",
            "NJ",
            "MI",
            "CA",
            "MA",
            "NH",
            "OR",
            "VA",
            "AZ",
            "NY",
            "MT",
            "ME",
            "VT",
            "UT",
            "DE",
            "ID",
            "WA",
            "HI",
            "RI",
            "NV",
            "AK"
           ],
           "marker": {
            "line": {
             "color": "rgb(255,255,255)",
             "width": 2
            }
           },
           "text": [
            "OKLAHOMA",
            "TEXAS",
            "PENNSYLVANIA",
            "NEBRASKA",
            "MISSISSIPPI",
            "NEW MEXICO",
            "ARKANSAS",
            "MISSOURI",
            "CONNECTICUT",
            "FLORIDA",
            "NORTH CAROLINA",
            "ALABAMA",
            "KENTUCKY",
            "MARYLAND",
            "MINNESOTA",
            "SOUTH DAKOTA",
            "IOWA",
            "LOUISIANA",
            "OHIO",
            "KANSAS",
            "NORTH DAKOTA",
            "INDIANA",
            "COLORADO",
            "SOUTH CAROLINA",
            "WEST VIRGINIA",
            "WYOMING",
            "GEORGIA",
            "WISCONSIN",
            "ILLINOIS",
            "TENNESSEE",
            "NEW JERSEY",
            "MICHIGAN",
            "CALIFORNIA",
            "MASSACHUSETTS",
            "NEW HAMPSHIRE",
            "OREGON",
            "VIRGINIA",
            "ARIZONA",
            "NEW YORK",
            "MONTANA",
            "MAINE",
            "VERMONT",
            "UTAH",
            "DELAWARE",
            "IDAHO",
            "WASHINGTON",
            "HAWAII",
            "RHODE ISLAND",
            "NEVADA",
            "ALASKA"
           ],
           "type": "choropleth",
           "z": [
            1714,
            2947,
            632,
            396,
            683,
            178,
            961,
            881,
            95,
            524,
            583,
            602,
            525,
            108,
            232,
            228,
            465,
            784,
            701,
            1123,
            160,
            273,
            306,
            573,
            161,
            72,
            574,
            455,
            475,
            652,
            106,
            320,
            27,
            98,
            18,
            39,
            548,
            97,
            585,
            262,
            30,
            42,
            28,
            9,
            116,
            8,
            1,
            20,
            20,
            0
           ]
          }
         ],
         "name": "1995"
        },
        {
         "data": [
          {
           "autocolorscale": false,
           "colorbar": {
            "title": {
             "text": "Events"
            }
           },
           "colorscale": [
            [
             0,
             "rgb(242,240,247)"
            ],
            [
             0.2,
             "rgb(218,218,235)"
            ],
            [
             0.4,
             "rgb(188,189,220)"
            ],
            [
             0.6,
             "rgb(158,154,200)"
            ],
            [
             0.8,
             "rgb(117,107,177)"
            ],
            [
             1,
             "rgb(84,39,143)"
            ]
           ],
           "locationmode": "USA-states",
           "locations": [
            "OK",
            "TX",
            "PA",
            "NE",
            "MS",
            "NM",
            "AR",
            "MO",
            "CT",
            "FL",
            "NC",
            "AL",
            "KY",
            "MD",
            "MN",
            "SD",
            "IA",
            "LA",
            "OH",
            "KS",
            "ND",
            "IN",
            "CO",
            "SC",
            "WV",
            "WY",
            "GA",
            "WI",
            "IL",
            "TN",
            "NJ",
            "MI",
            "CA",
            "MA",
            "NH",
            "OR",
            "VA",
            "AZ",
            "NY",
            "MT",
            "ME",
            "VT",
            "UT",
            "DE",
            "ID",
            "WA",
            "HI",
            "RI",
            "NV",
            "AK"
           ],
           "marker": {
            "line": {
             "color": "rgb(255,255,255)",
             "width": 2
            }
           },
           "text": [
            "OKLAHOMA",
            "TEXAS",
            "PENNSYLVANIA",
            "NEBRASKA",
            "MISSISSIPPI",
            "NEW MEXICO",
            "ARKANSAS",
            "MISSOURI",
            "CONNECTICUT",
            "FLORIDA",
            "NORTH CAROLINA",
            "ALABAMA",
            "KENTUCKY",
            "MARYLAND",
            "MINNESOTA",
            "SOUTH DAKOTA",
            "IOWA",
            "LOUISIANA",
            "OHIO",
            "KANSAS",
            "NORTH DAKOTA",
            "INDIANA",
            "COLORADO",
            "SOUTH CAROLINA",
            "WEST VIRGINIA",
            "WYOMING",
            "GEORGIA",
            "WISCONSIN",
            "ILLINOIS",
            "TENNESSEE",
            "NEW JERSEY",
            "MICHIGAN",
            "CALIFORNIA",
            "MASSACHUSETTS",
            "NEW HAMPSHIRE",
            "OREGON",
            "VIRGINIA",
            "ARIZONA",
            "NEW YORK",
            "MONTANA",
            "MAINE",
            "VERMONT",
            "UTAH",
            "DELAWARE",
            "IDAHO",
            "WASHINGTON",
            "HAWAII",
            "RHODE ISLAND",
            "NEVADA",
            "ALASKA"
           ],
           "type": "choropleth",
           "z": [
            2392,
            3966,
            1660,
            1741,
            696,
            378,
            1198,
            1309,
            292,
            959,
            1725,
            921,
            1078,
            522,
            1654,
            1262,
            1847,
            626,
            1607,
            2439,
            939,
            1202,
            1647,
            805,
            867,
            732,
            795,
            1389,
            1262,
            1071,
            788,
            723,
            396,
            542,
            257,
            334,
            1739,
            318,
            1606,
            625,
            428,
            278,
            186,
            92,
            268,
            139,
            180,
            142,
            127,
            280
           ]
          }
         ],
         "name": "1996"
        },
        {
         "data": [
          {
           "autocolorscale": false,
           "colorbar": {
            "title": {
             "text": "Events"
            }
           },
           "colorscale": [
            [
             0,
             "rgb(242,240,247)"
            ],
            [
             0.2,
             "rgb(218,218,235)"
            ],
            [
             0.4,
             "rgb(188,189,220)"
            ],
            [
             0.6,
             "rgb(158,154,200)"
            ],
            [
             0.8,
             "rgb(117,107,177)"
            ],
            [
             1,
             "rgb(84,39,143)"
            ]
           ],
           "locationmode": "USA-states",
           "locations": [
            "OK",
            "TX",
            "PA",
            "NE",
            "MS",
            "NM",
            "AR",
            "MO",
            "CT",
            "FL",
            "NC",
            "AL",
            "KY",
            "MD",
            "MN",
            "SD",
            "IA",
            "LA",
            "OH",
            "KS",
            "ND",
            "IN",
            "CO",
            "SC",
            "WV",
            "WY",
            "GA",
            "WI",
            "IL",
            "TN",
            "NJ",
            "MI",
            "CA",
            "MA",
            "NH",
            "OR",
            "VA",
            "AZ",
            "NY",
            "MT",
            "ME",
            "VT",
            "UT",
            "DE",
            "ID",
            "WA",
            "HI",
            "RI",
            "NV",
            "AK"
           ],
           "marker": {
            "line": {
             "color": "rgb(255,255,255)",
             "width": 2
            }
           },
           "text": [
            "OKLAHOMA",
            "TEXAS",
            "PENNSYLVANIA",
            "NEBRASKA",
            "MISSISSIPPI",
            "NEW MEXICO",
            "ARKANSAS",
            "MISSOURI",
            "CONNECTICUT",
            "FLORIDA",
            "NORTH CAROLINA",
            "ALABAMA",
            "KENTUCKY",
            "MARYLAND",
            "MINNESOTA",
            "SOUTH DAKOTA",
            "IOWA",
            "LOUISIANA",
            "OHIO",
            "KANSAS",
            "NORTH DAKOTA",
            "INDIANA",
            "COLORADO",
            "SOUTH CAROLINA",
            "WEST VIRGINIA",
            "WYOMING",
            "GEORGIA",
            "WISCONSIN",
            "ILLINOIS",
            "TENNESSEE",
            "NEW JERSEY",
            "MICHIGAN",
            "CALIFORNIA",
            "MASSACHUSETTS",
            "NEW HAMPSHIRE",
            "OREGON",
            "VIRGINIA",
            "ARIZONA",
            "NEW YORK",
            "MONTANA",
            "MAINE",
            "VERMONT",
            "UTAH",
            "DELAWARE",
            "IDAHO",
            "WASHINGTON",
            "HAWAII",
            "RHODE ISLAND",
            "NEVADA",
            "ALASKA"
           ],
           "type": "choropleth",
           "z": [
            1670,
            4001,
            1135,
            1627,
            771,
            395,
            742,
            1116,
            164,
            1264,
            1005,
            731,
            1037,
            377,
            1415,
            1238,
            1542,
            644,
            1137,
            1857,
            736,
            694,
            1352,
            550,
            784,
            412,
            1206,
            1069,
            1367,
            1145,
            759,
            1082,
            664,
            564,
            142,
            176,
            706,
            318,
            1114,
            601,
            211,
            319,
            348,
            116,
            335,
            204,
            353,
            140,
            158,
            278
           ]
          }
         ],
         "name": "1997"
        },
        {
         "data": [
          {
           "autocolorscale": false,
           "colorbar": {
            "title": {
             "text": "Events"
            }
           },
           "colorscale": [
            [
             0,
             "rgb(242,240,247)"
            ],
            [
             0.2,
             "rgb(218,218,235)"
            ],
            [
             0.4,
             "rgb(188,189,220)"
            ],
            [
             0.6,
             "rgb(158,154,200)"
            ],
            [
             0.8,
             "rgb(117,107,177)"
            ],
            [
             1,
             "rgb(84,39,143)"
            ]
           ],
           "locationmode": "USA-states",
           "locations": [
            "OK",
            "TX",
            "PA",
            "NE",
            "MS",
            "NM",
            "AR",
            "MO",
            "CT",
            "FL",
            "NC",
            "AL",
            "KY",
            "MD",
            "MN",
            "SD",
            "IA",
            "LA",
            "OH",
            "KS",
            "ND",
            "IN",
            "CO",
            "SC",
            "WV",
            "WY",
            "GA",
            "WI",
            "IL",
            "TN",
            "NJ",
            "MI",
            "CA",
            "MA",
            "NH",
            "OR",
            "VA",
            "AZ",
            "NY",
            "MT",
            "ME",
            "VT",
            "UT",
            "DE",
            "ID",
            "WA",
            "HI",
            "RI",
            "NV",
            "AK"
           ],
           "marker": {
            "line": {
             "color": "rgb(255,255,255)",
             "width": 2
            }
           },
           "text": [
            "OKLAHOMA",
            "TEXAS",
            "PENNSYLVANIA",
            "NEBRASKA",
            "MISSISSIPPI",
            "NEW MEXICO",
            "ARKANSAS",
            "MISSOURI",
            "CONNECTICUT",
            "FLORIDA",
            "NORTH CAROLINA",
            "ALABAMA",
            "KENTUCKY",
            "MARYLAND",
            "MINNESOTA",
            "SOUTH DAKOTA",
            "IOWA",
            "LOUISIANA",
            "OHIO",
            "KANSAS",
            "NORTH DAKOTA",
            "INDIANA",
            "COLORADO",
            "SOUTH CAROLINA",
            "WEST VIRGINIA",
            "WYOMING",
            "GEORGIA",
            "WISCONSIN",
            "ILLINOIS",
            "TENNESSEE",
            "NEW JERSEY",
            "MICHIGAN",
            "CALIFORNIA",
            "MASSACHUSETTS",
            "NEW HAMPSHIRE",
            "OREGON",
            "VIRGINIA",
            "ARIZONA",
            "NEW YORK",
            "MONTANA",
            "MAINE",
            "VERMONT",
            "UTAH",
            "DELAWARE",
            "IDAHO",
            "WASHINGTON",
            "HAWAII",
            "RHODE ISLAND",
            "NEVADA",
            "ALASKA"
           ],
           "type": "choropleth",
           "z": [
            2112,
            4092,
            1508,
            1477,
            835,
            305,
            1166,
            1723,
            170,
            1701,
            1907,
            1001,
            1255,
            561,
            1386,
            647,
            1847,
            852,
            1725,
            2334,
            485,
            1116,
            1066,
            908,
            780,
            372,
            1625,
            1291,
            1589,
            1260,
            865,
            1285,
            1057,
            659,
            352,
            335,
            1475,
            283,
            1380,
            621,
            694,
            311,
            506,
            161,
            279,
            217,
            335,
            139,
            262,
            407
           ]
          }
         ],
         "name": "1998"
        },
        {
         "data": [
          {
           "autocolorscale": false,
           "colorbar": {
            "title": {
             "text": "Events"
            }
           },
           "colorscale": [
            [
             0,
             "rgb(242,240,247)"
            ],
            [
             0.2,
             "rgb(218,218,235)"
            ],
            [
             0.4,
             "rgb(188,189,220)"
            ],
            [
             0.6,
             "rgb(158,154,200)"
            ],
            [
             0.8,
             "rgb(117,107,177)"
            ],
            [
             1,
             "rgb(84,39,143)"
            ]
           ],
           "locationmode": "USA-states",
           "locations": [
            "OK",
            "TX",
            "PA",
            "NE",
            "MS",
            "NM",
            "AR",
            "MO",
            "CT",
            "FL",
            "NC",
            "AL",
            "KY",
            "MD",
            "MN",
            "SD",
            "IA",
            "LA",
            "OH",
            "KS",
            "ND",
            "IN",
            "CO",
            "SC",
            "WV",
            "WY",
            "GA",
            "WI",
            "IL",
            "TN",
            "NJ",
            "MI",
            "CA",
            "MA",
            "NH",
            "OR",
            "VA",
            "AZ",
            "NY",
            "MT",
            "ME",
            "VT",
            "UT",
            "DE",
            "ID",
            "WA",
            "HI",
            "RI",
            "NV",
            "AK"
           ],
           "marker": {
            "line": {
             "color": "rgb(255,255,255)",
             "width": 2
            }
           },
           "text": [
            "OKLAHOMA",
            "TEXAS",
            "PENNSYLVANIA",
            "NEBRASKA",
            "MISSISSIPPI",
            "NEW MEXICO",
            "ARKANSAS",
            "MISSOURI",
            "CONNECTICUT",
            "FLORIDA",
            "NORTH CAROLINA",
            "ALABAMA",
            "KENTUCKY",
            "MARYLAND",
            "MINNESOTA",
            "SOUTH DAKOTA",
            "IOWA",
            "LOUISIANA",
            "OHIO",
            "KANSAS",
            "NORTH DAKOTA",
            "INDIANA",
            "COLORADO",
            "SOUTH CAROLINA",
            "WEST VIRGINIA",
            "WYOMING",
            "GEORGIA",
            "WISCONSIN",
            "ILLINOIS",
            "TENNESSEE",
            "NEW JERSEY",
            "MICHIGAN",
            "CALIFORNIA",
            "MASSACHUSETTS",
            "NEW HAMPSHIRE",
            "OREGON",
            "VIRGINIA",
            "ARIZONA",
            "NEW YORK",
            "MONTANA",
            "MAINE",
            "VERMONT",
            "UTAH",
            "DELAWARE",
            "IDAHO",
            "WASHINGTON",
            "HAWAII",
            "RHODE ISLAND",
            "NEVADA",
            "ALASKA"
           ],
           "type": "choropleth",
           "z": [
            2651,
            3140,
            1542,
            1407,
            652,
            411,
            1343,
            1336,
            169,
            1534,
            1344,
            714,
            746,
            607,
            1387,
            898,
            1640,
            602,
            1477,
            2112,
            777,
            805,
            1104,
            694,
            951,
            378,
            1530,
            1289,
            1348,
            916,
            915,
            987,
            836,
            469,
            420,
            444,
            1324,
            241,
            1152,
            728,
            825,
            221,
            195,
            155,
            210,
            220,
            347,
            137,
            200,
            581
           ]
          }
         ],
         "name": "1999"
        },
        {
         "data": [
          {
           "autocolorscale": false,
           "colorbar": {
            "title": {
             "text": "Events"
            }
           },
           "colorscale": [
            [
             0,
             "rgb(242,240,247)"
            ],
            [
             0.2,
             "rgb(218,218,235)"
            ],
            [
             0.4,
             "rgb(188,189,220)"
            ],
            [
             0.6,
             "rgb(158,154,200)"
            ],
            [
             0.8,
             "rgb(117,107,177)"
            ],
            [
             1,
             "rgb(84,39,143)"
            ]
           ],
           "locationmode": "USA-states",
           "locations": [
            "OK",
            "TX",
            "PA",
            "NE",
            "MS",
            "NM",
            "AR",
            "MO",
            "CT",
            "FL",
            "NC",
            "AL",
            "KY",
            "MD",
            "MN",
            "SD",
            "IA",
            "LA",
            "OH",
            "KS",
            "ND",
            "IN",
            "CO",
            "SC",
            "WV",
            "WY",
            "GA",
            "WI",
            "IL",
            "TN",
            "NJ",
            "MI",
            "CA",
            "MA",
            "NH",
            "OR",
            "VA",
            "AZ",
            "NY",
            "MT",
            "ME",
            "VT",
            "UT",
            "DE",
            "ID",
            "WA",
            "HI",
            "RI",
            "NV",
            "AK"
           ],
           "marker": {
            "line": {
             "color": "rgb(255,255,255)",
             "width": 2
            }
           },
           "text": [
            "OKLAHOMA",
            "TEXAS",
            "PENNSYLVANIA",
            "NEBRASKA",
            "MISSISSIPPI",
            "NEW MEXICO",
            "ARKANSAS",
            "MISSOURI",
            "CONNECTICUT",
            "FLORIDA",
            "NORTH CAROLINA",
            "ALABAMA",
            "KENTUCKY",
            "MARYLAND",
            "MINNESOTA",
            "SOUTH DAKOTA",
            "IOWA",
            "LOUISIANA",
            "OHIO",
            "KANSAS",
            "NORTH DAKOTA",
            "INDIANA",
            "COLORADO",
            "SOUTH CAROLINA",
            "WEST VIRGINIA",
            "WYOMING",
            "GEORGIA",
            "WISCONSIN",
            "ILLINOIS",
            "TENNESSEE",
            "NEW JERSEY",
            "MICHIGAN",
            "CALIFORNIA",
            "MASSACHUSETTS",
            "NEW HAMPSHIRE",
            "OREGON",
            "VIRGINIA",
            "ARIZONA",
            "NEW YORK",
            "MONTANA",
            "MAINE",
            "VERMONT",
            "UTAH",
            "DELAWARE",
            "IDAHO",
            "WASHINGTON",
            "HAWAII",
            "RHODE ISLAND",
            "NEVADA",
            "ALASKA"
           ],
           "type": "choropleth",
           "z": [
            1796,
            4288,
            1353,
            1505,
            934,
            419,
            1181,
            2015,
            181,
            1244,
            1711,
            1008,
            1331,
            774,
            1017,
            1323,
            2046,
            789,
            1418,
            2403,
            967,
            1037,
            1163,
            828,
            1123,
            363,
            2211,
            1335,
            1720,
            1047,
            781,
            1031,
            873,
            427,
            363,
            272,
            1695,
            263,
            1676,
            1002,
            728,
            306,
            198,
            126,
            232,
            191,
            328,
            87,
            152,
            493
           ]
          }
         ],
         "name": "2000"
        },
        {
         "data": [
          {
           "autocolorscale": false,
           "colorbar": {
            "title": {
             "text": "Events"
            }
           },
           "colorscale": [
            [
             0,
             "rgb(242,240,247)"
            ],
            [
             0.2,
             "rgb(218,218,235)"
            ],
            [
             0.4,
             "rgb(188,189,220)"
            ],
            [
             0.6,
             "rgb(158,154,200)"
            ],
            [
             0.8,
             "rgb(117,107,177)"
            ],
            [
             1,
             "rgb(84,39,143)"
            ]
           ],
           "locationmode": "USA-states",
           "locations": [
            "OK",
            "TX",
            "PA",
            "NE",
            "MS",
            "NM",
            "AR",
            "MO",
            "CT",
            "FL",
            "NC",
            "AL",
            "KY",
            "MD",
            "MN",
            "SD",
            "IA",
            "LA",
            "OH",
            "KS",
            "ND",
            "IN",
            "CO",
            "SC",
            "WV",
            "WY",
            "GA",
            "WI",
            "IL",
            "TN",
            "NJ",
            "MI",
            "CA",
            "MA",
            "NH",
            "OR",
            "VA",
            "AZ",
            "NY",
            "MT",
            "ME",
            "VT",
            "UT",
            "DE",
            "ID",
            "WA",
            "HI",
            "RI",
            "NV",
            "AK"
           ],
           "marker": {
            "line": {
             "color": "rgb(255,255,255)",
             "width": 2
            }
           },
           "text": [
            "OKLAHOMA",
            "TEXAS",
            "PENNSYLVANIA",
            "NEBRASKA",
            "MISSISSIPPI",
            "NEW MEXICO",
            "ARKANSAS",
            "MISSOURI",
            "CONNECTICUT",
            "FLORIDA",
            "NORTH CAROLINA",
            "ALABAMA",
            "KENTUCKY",
            "MARYLAND",
            "MINNESOTA",
            "SOUTH DAKOTA",
            "IOWA",
            "LOUISIANA",
            "OHIO",
            "KANSAS",
            "NORTH DAKOTA",
            "INDIANA",
            "COLORADO",
            "SOUTH CAROLINA",
            "WEST VIRGINIA",
            "WYOMING",
            "GEORGIA",
            "WISCONSIN",
            "ILLINOIS",
            "TENNESSEE",
            "NEW JERSEY",
            "MICHIGAN",
            "CALIFORNIA",
            "MASSACHUSETTS",
            "NEW HAMPSHIRE",
            "OREGON",
            "VIRGINIA",
            "ARIZONA",
            "NEW YORK",
            "MONTANA",
            "MAINE",
            "VERMONT",
            "UTAH",
            "DELAWARE",
            "IDAHO",
            "WASHINGTON",
            "HAWAII",
            "RHODE ISLAND",
            "NEVADA",
            "ALASKA"
           ],
           "type": "choropleth",
           "z": [
            2230,
            3488,
            1051,
            1688,
            976,
            204,
            1114,
            2279,
            155,
            1226,
            944,
            765,
            1005,
            561,
            1924,
            1171,
            2352,
            633,
            953,
            3307,
            966,
            995,
            1011,
            589,
            838,
            369,
            1678,
            1392,
            1300,
            1021,
            768,
            956,
            1163,
            357,
            399,
            332,
            958,
            255,
            939,
            1223,
            664,
            300,
            189,
            124,
            284,
            248,
            543,
            60,
            136,
            449
           ]
          }
         ],
         "name": "2001"
        },
        {
         "data": [
          {
           "autocolorscale": false,
           "colorbar": {
            "title": {
             "text": "Events"
            }
           },
           "colorscale": [
            [
             0,
             "rgb(242,240,247)"
            ],
            [
             0.2,
             "rgb(218,218,235)"
            ],
            [
             0.4,
             "rgb(188,189,220)"
            ],
            [
             0.6,
             "rgb(158,154,200)"
            ],
            [
             0.8,
             "rgb(117,107,177)"
            ],
            [
             1,
             "rgb(84,39,143)"
            ]
           ],
           "locationmode": "USA-states",
           "locations": [
            "OK",
            "TX",
            "PA",
            "NE",
            "MS",
            "NM",
            "AR",
            "MO",
            "CT",
            "FL",
            "NC",
            "AL",
            "KY",
            "MD",
            "MN",
            "SD",
            "IA",
            "LA",
            "OH",
            "KS",
            "ND",
            "IN",
            "CO",
            "SC",
            "WV",
            "WY",
            "GA",
            "WI",
            "IL",
            "TN",
            "NJ",
            "MI",
            "CA",
            "MA",
            "NH",
            "OR",
            "VA",
            "AZ",
            "NY",
            "MT",
            "ME",
            "VT",
            "UT",
            "DE",
            "ID",
            "WA",
            "HI",
            "RI",
            "NV",
            "AK"
           ],
           "marker": {
            "line": {
             "color": "rgb(255,255,255)",
             "width": 2
            }
           },
           "text": [
            "OKLAHOMA",
            "TEXAS",
            "PENNSYLVANIA",
            "NEBRASKA",
            "MISSISSIPPI",
            "NEW MEXICO",
            "ARKANSAS",
            "MISSOURI",
            "CONNECTICUT",
            "FLORIDA",
            "NORTH CAROLINA",
            "ALABAMA",
            "KENTUCKY",
            "MARYLAND",
            "MINNESOTA",
            "SOUTH DAKOTA",
            "IOWA",
            "LOUISIANA",
            "OHIO",
            "KANSAS",
            "NORTH DAKOTA",
            "INDIANA",
            "COLORADO",
            "SOUTH CAROLINA",
            "WEST VIRGINIA",
            "WYOMING",
            "GEORGIA",
            "WISCONSIN",
            "ILLINOIS",
            "TENNESSEE",
            "NEW JERSEY",
            "MICHIGAN",
            "CALIFORNIA",
            "MASSACHUSETTS",
            "NEW HAMPSHIRE",
            "OREGON",
            "VIRGINIA",
            "ARIZONA",
            "NEW YORK",
            "MONTANA",
            "MAINE",
            "VERMONT",
            "UTAH",
            "DELAWARE",
            "IDAHO",
            "WASHINGTON",
            "HAWAII",
            "RHODE ISLAND",
            "NEVADA",
            "ALASKA"
           ],
           "type": "choropleth",
           "z": [
            1572,
            3600,
            1440,
            1298,
            809,
            447,
            900,
            1962,
            168,
            870,
            1255,
            759,
            1426,
            647,
            1550,
            1273,
            1374,
            589,
            1531,
            3188,
            874,
            1018,
            1193,
            722,
            889,
            334,
            2752,
            1268,
            1427,
            1187,
            1050,
            1090,
            916,
            209,
            325,
            441,
            1369,
            213,
            1376,
            1147,
            530,
            309,
            324,
            182,
            357,
            226,
            351,
            31,
            192,
            463
           ]
          }
         ],
         "name": "2002"
        },
        {
         "data": [
          {
           "autocolorscale": false,
           "colorbar": {
            "title": {
             "text": "Events"
            }
           },
           "colorscale": [
            [
             0,
             "rgb(242,240,247)"
            ],
            [
             0.2,
             "rgb(218,218,235)"
            ],
            [
             0.4,
             "rgb(188,189,220)"
            ],
            [
             0.6,
             "rgb(158,154,200)"
            ],
            [
             0.8,
             "rgb(117,107,177)"
            ],
            [
             1,
             "rgb(84,39,143)"
            ]
           ],
           "locationmode": "USA-states",
           "locations": [
            "OK",
            "TX",
            "PA",
            "NE",
            "MS",
            "NM",
            "AR",
            "MO",
            "CT",
            "FL",
            "NC",
            "AL",
            "KY",
            "MD",
            "MN",
            "SD",
            "IA",
            "LA",
            "OH",
            "KS",
            "ND",
            "IN",
            "CO",
            "SC",
            "WV",
            "WY",
            "GA",
            "WI",
            "IL",
            "TN",
            "NJ",
            "MI",
            "CA",
            "MA",
            "NH",
            "OR",
            "VA",
            "AZ",
            "NY",
            "MT",
            "ME",
            "VT",
            "UT",
            "DE",
            "ID",
            "WA",
            "HI",
            "RI",
            "NV",
            "AK"
           ],
           "marker": {
            "line": {
             "color": "rgb(255,255,255)",
             "width": 2
            }
           },
           "text": [
            "OKLAHOMA",
            "TEXAS",
            "PENNSYLVANIA",
            "NEBRASKA",
            "MISSISSIPPI",
            "NEW MEXICO",
            "ARKANSAS",
            "MISSOURI",
            "CONNECTICUT",
            "FLORIDA",
            "NORTH CAROLINA",
            "ALABAMA",
            "KENTUCKY",
            "MARYLAND",
            "MINNESOTA",
            "SOUTH DAKOTA",
            "IOWA",
            "LOUISIANA",
            "OHIO",
            "KANSAS",
            "NORTH DAKOTA",
            "INDIANA",
            "COLORADO",
            "SOUTH CAROLINA",
            "WEST VIRGINIA",
            "WYOMING",
            "GEORGIA",
            "WISCONSIN",
            "ILLINOIS",
            "TENNESSEE",
            "NEW JERSEY",
            "MICHIGAN",
            "CALIFORNIA",
            "MASSACHUSETTS",
            "NEW HAMPSHIRE",
            "OREGON",
            "VIRGINIA",
            "ARIZONA",
            "NEW YORK",
            "MONTANA",
            "MAINE",
            "VERMONT",
            "UTAH",
            "DELAWARE",
            "IDAHO",
            "WASHINGTON",
            "HAWAII",
            "RHODE ISLAND",
            "NEVADA",
            "ALASKA"
           ],
           "type": "choropleth",
           "z": [
            1975,
            3224,
            1591,
            1381,
            1197,
            445,
            1262,
            2530,
            129,
            920,
            1939,
            1143,
            1488,
            793,
            1050,
            1207,
            1646,
            525,
            1739,
            2547,
            583,
            1422,
            1384,
            789,
            866,
            360,
            1846,
            759,
            1765,
            1737,
            920,
            1022,
            823,
            256,
            180,
            410,
            2027,
            261,
            1101,
            887,
            446,
            276,
            419,
            181,
            312,
            270,
            308,
            48,
            164,
            334
           ]
          }
         ],
         "name": "2003"
        },
        {
         "data": [
          {
           "autocolorscale": false,
           "colorbar": {
            "title": {
             "text": "Events"
            }
           },
           "colorscale": [
            [
             0,
             "rgb(242,240,247)"
            ],
            [
             0.2,
             "rgb(218,218,235)"
            ],
            [
             0.4,
             "rgb(188,189,220)"
            ],
            [
             0.6,
             "rgb(158,154,200)"
            ],
            [
             0.8,
             "rgb(117,107,177)"
            ],
            [
             1,
             "rgb(84,39,143)"
            ]
           ],
           "locationmode": "USA-states",
           "locations": [
            "OK",
            "TX",
            "PA",
            "NE",
            "MS",
            "NM",
            "AR",
            "MO",
            "CT",
            "FL",
            "NC",
            "AL",
            "KY",
            "MD",
            "MN",
            "SD",
            "IA",
            "LA",
            "OH",
            "KS",
            "ND",
            "IN",
            "CO",
            "SC",
            "WV",
            "WY",
            "GA",
            "WI",
            "IL",
            "TN",
            "NJ",
            "MI",
            "CA",
            "MA",
            "NH",
            "OR",
            "VA",
            "AZ",
            "NY",
            "MT",
            "ME",
            "VT",
            "UT",
            "DE",
            "ID",
            "WA",
            "HI",
            "RI",
            "NV",
            "AK"
           ],
           "marker": {
            "line": {
             "color": "rgb(255,255,255)",
             "width": 2
            }
           },
           "text": [
            "OKLAHOMA",
            "TEXAS",
            "PENNSYLVANIA",
            "NEBRASKA",
            "MISSISSIPPI",
            "NEW MEXICO",
            "ARKANSAS",
            "MISSOURI",
            "CONNECTICUT",
            "FLORIDA",
            "NORTH CAROLINA",
            "ALABAMA",
            "KENTUCKY",
            "MARYLAND",
            "MINNESOTA",
            "SOUTH DAKOTA",
            "IOWA",
            "LOUISIANA",
            "OHIO",
            "KANSAS",
            "NORTH DAKOTA",
            "INDIANA",
            "COLORADO",
            "SOUTH CAROLINA",
            "WEST VIRGINIA",
            "WYOMING",
            "GEORGIA",
            "WISCONSIN",
            "ILLINOIS",
            "TENNESSEE",
            "NEW JERSEY",
            "MICHIGAN",
            "CALIFORNIA",
            "MASSACHUSETTS",
            "NEW HAMPSHIRE",
            "OREGON",
            "VIRGINIA",
            "ARIZONA",
            "NEW YORK",
            "MONTANA",
            "MAINE",
            "VERMONT",
            "UTAH",
            "DELAWARE",
            "IDAHO",
            "WASHINGTON",
            "HAWAII",
            "RHODE ISLAND",
            "NEVADA",
            "ALASKA"
           ],
           "type": "choropleth",
           "z": [
            1890,
            3977,
            1582,
            1690,
            849,
            478,
            1016,
            1892,
            97,
            1123,
            1550,
            848,
            1601,
            505,
            1590,
            1300,
            2341,
            636,
            1441,
            3126,
            1025,
            1137,
            1788,
            788,
            618,
            214,
            1814,
            1176,
            1657,
            1269,
            746,
            1217,
            766,
            214,
            173,
            414,
            1063,
            280,
            1207,
            685,
            339,
            247,
            292,
            143,
            289,
            229,
            476,
            31,
            192,
            381
           ]
          }
         ],
         "name": "2004"
        },
        {
         "data": [
          {
           "autocolorscale": false,
           "colorbar": {
            "title": {
             "text": "Events"
            }
           },
           "colorscale": [
            [
             0,
             "rgb(242,240,247)"
            ],
            [
             0.2,
             "rgb(218,218,235)"
            ],
            [
             0.4,
             "rgb(188,189,220)"
            ],
            [
             0.6,
             "rgb(158,154,200)"
            ],
            [
             0.8,
             "rgb(117,107,177)"
            ],
            [
             1,
             "rgb(84,39,143)"
            ]
           ],
           "locationmode": "USA-states",
           "locations": [
            "OK",
            "TX",
            "PA",
            "NE",
            "MS",
            "NM",
            "AR",
            "MO",
            "CT",
            "FL",
            "NC",
            "AL",
            "KY",
            "MD",
            "MN",
            "SD",
            "IA",
            "LA",
            "OH",
            "KS",
            "ND",
            "IN",
            "CO",
            "SC",
            "WV",
            "WY",
            "GA",
            "WI",
            "IL",
            "TN",
            "NJ",
            "MI",
            "CA",
            "MA",
            "NH",
            "OR",
            "VA",
            "AZ",
            "NY",
            "MT",
            "ME",
            "VT",
            "UT",
            "DE",
            "ID",
            "WA",
            "HI",
            "RI",
            "NV",
            "AK"
           ],
           "marker": {
            "line": {
             "color": "rgb(255,255,255)",
             "width": 2
            }
           },
           "text": [
            "OKLAHOMA",
            "TEXAS",
            "PENNSYLVANIA",
            "NEBRASKA",
            "MISSISSIPPI",
            "NEW MEXICO",
            "ARKANSAS",
            "MISSOURI",
            "CONNECTICUT",
            "FLORIDA",
            "NORTH CAROLINA",
            "ALABAMA",
            "KENTUCKY",
            "MARYLAND",
            "MINNESOTA",
            "SOUTH DAKOTA",
            "IOWA",
            "LOUISIANA",
            "OHIO",
            "KANSAS",
            "NORTH DAKOTA",
            "INDIANA",
            "COLORADO",
            "SOUTH CAROLINA",
            "WEST VIRGINIA",
            "WYOMING",
            "GEORGIA",
            "WISCONSIN",
            "ILLINOIS",
            "TENNESSEE",
            "NEW JERSEY",
            "MICHIGAN",
            "CALIFORNIA",
            "MASSACHUSETTS",
            "NEW HAMPSHIRE",
            "OREGON",
            "VIRGINIA",
            "ARIZONA",
            "NEW YORK",
            "MONTANA",
            "MAINE",
            "VERMONT",
            "UTAH",
            "DELAWARE",
            "IDAHO",
            "WASHINGTON",
            "HAWAII",
            "RHODE ISLAND",
            "NEVADA",
            "ALASKA"
           ],
           "type": "choropleth",
           "z": [
            1692,
            3370,
            1568,
            1776,
            1382,
            382,
            821,
            2116,
            215,
            892,
            1152,
            1332,
            856,
            441,
            2026,
            1612,
            1641,
            704,
            1140,
            3081,
            1199,
            1273,
            1863,
            707,
            422,
            286,
            2141,
            1443,
            1635,
            1020,
            931,
            1134,
            1061,
            488,
            284,
            452,
            1085,
            341,
            1600,
            1128,
            585,
            491,
            443,
            144,
            238,
            245,
            565,
            87,
            199,
            305
           ]
          }
         ],
         "name": "2005"
        },
        {
         "data": [
          {
           "autocolorscale": false,
           "colorbar": {
            "title": {
             "text": "Events"
            }
           },
           "colorscale": [
            [
             0,
             "rgb(242,240,247)"
            ],
            [
             0.2,
             "rgb(218,218,235)"
            ],
            [
             0.4,
             "rgb(188,189,220)"
            ],
            [
             0.6,
             "rgb(158,154,200)"
            ],
            [
             0.8,
             "rgb(117,107,177)"
            ],
            [
             1,
             "rgb(84,39,143)"
            ]
           ],
           "locationmode": "USA-states",
           "locations": [
            "OK",
            "TX",
            "PA",
            "NE",
            "MS",
            "NM",
            "AR",
            "MO",
            "CT",
            "FL",
            "NC",
            "AL",
            "KY",
            "MD",
            "MN",
            "SD",
            "IA",
            "LA",
            "OH",
            "KS",
            "ND",
            "IN",
            "CO",
            "SC",
            "WV",
            "WY",
            "GA",
            "WI",
            "IL",
            "TN",
            "NJ",
            "MI",
            "CA",
            "MA",
            "NH",
            "OR",
            "VA",
            "AZ",
            "NY",
            "MT",
            "ME",
            "VT",
            "UT",
            "DE",
            "ID",
            "WA",
            "HI",
            "RI",
            "NV",
            "AK"
           ],
           "marker": {
            "line": {
             "color": "rgb(255,255,255)",
             "width": 2
            }
           },
           "text": [
            "OKLAHOMA",
            "TEXAS",
            "PENNSYLVANIA",
            "NEBRASKA",
            "MISSISSIPPI",
            "NEW MEXICO",
            "ARKANSAS",
            "MISSOURI",
            "CONNECTICUT",
            "FLORIDA",
            "NORTH CAROLINA",
            "ALABAMA",
            "KENTUCKY",
            "MARYLAND",
            "MINNESOTA",
            "SOUTH DAKOTA",
            "IOWA",
            "LOUISIANA",
            "OHIO",
            "KANSAS",
            "NORTH DAKOTA",
            "INDIANA",
            "COLORADO",
            "SOUTH CAROLINA",
            "WEST VIRGINIA",
            "WYOMING",
            "GEORGIA",
            "WISCONSIN",
            "ILLINOIS",
            "TENNESSEE",
            "NEW JERSEY",
            "MICHIGAN",
            "CALIFORNIA",
            "MASSACHUSETTS",
            "NEW HAMPSHIRE",
            "OREGON",
            "VIRGINIA",
            "ARIZONA",
            "NEW YORK",
            "MONTANA",
            "MAINE",
            "VERMONT",
            "UTAH",
            "DELAWARE",
            "IDAHO",
            "WASHINGTON",
            "HAWAII",
            "RHODE ISLAND",
            "NEVADA",
            "ALASKA"
           ],
           "type": "choropleth",
           "z": [
            2536,
            3812,
            1277,
            1389,
            1010,
            439,
            1266,
            2854,
            199,
            699,
            1981,
            1143,
            1822,
            539,
            1377,
            1377,
            1507,
            603,
            1213,
            2820,
            811,
            1592,
            1564,
            1145,
            479,
            277,
            1287,
            1626,
            2661,
            1427,
            856,
            1339,
            862,
            409,
            257,
            745,
            1373,
            389,
            1306,
            901,
            540,
            412,
            409,
            179,
            388,
            434,
            552,
            64,
            202,
            330
           ]
          }
         ],
         "name": "2006"
        },
        {
         "data": [
          {
           "autocolorscale": false,
           "colorbar": {
            "title": {
             "text": "Events"
            }
           },
           "colorscale": [
            [
             0,
             "rgb(242,240,247)"
            ],
            [
             0.2,
             "rgb(218,218,235)"
            ],
            [
             0.4,
             "rgb(188,189,220)"
            ],
            [
             0.6,
             "rgb(158,154,200)"
            ],
            [
             0.8,
             "rgb(117,107,177)"
            ],
            [
             1,
             "rgb(84,39,143)"
            ]
           ],
           "locationmode": "USA-states",
           "locations": [
            "OK",
            "TX",
            "PA",
            "NE",
            "MS",
            "NM",
            "AR",
            "MO",
            "CT",
            "FL",
            "NC",
            "AL",
            "KY",
            "MD",
            "MN",
            "SD",
            "IA",
            "LA",
            "OH",
            "KS",
            "ND",
            "IN",
            "CO",
            "SC",
            "WV",
            "WY",
            "GA",
            "WI",
            "IL",
            "TN",
            "NJ",
            "MI",
            "CA",
            "MA",
            "NH",
            "OR",
            "VA",
            "AZ",
            "NY",
            "MT",
            "ME",
            "VT",
            "UT",
            "DE",
            "ID",
            "WA",
            "HI",
            "RI",
            "NV",
            "AK"
           ],
           "marker": {
            "line": {
             "color": "rgb(255,255,255)",
             "width": 2
            }
           },
           "text": [
            "OKLAHOMA",
            "TEXAS",
            "PENNSYLVANIA",
            "NEBRASKA",
            "MISSISSIPPI",
            "NEW MEXICO",
            "ARKANSAS",
            "MISSOURI",
            "CONNECTICUT",
            "FLORIDA",
            "NORTH CAROLINA",
            "ALABAMA",
            "KENTUCKY",
            "MARYLAND",
            "MINNESOTA",
            "SOUTH DAKOTA",
            "IOWA",
            "LOUISIANA",
            "OHIO",
            "KANSAS",
            "NORTH DAKOTA",
            "INDIANA",
            "COLORADO",
            "SOUTH CAROLINA",
            "WEST VIRGINIA",
            "WYOMING",
            "GEORGIA",
            "WISCONSIN",
            "ILLINOIS",
            "TENNESSEE",
            "NEW JERSEY",
            "MICHIGAN",
            "CALIFORNIA",
            "MASSACHUSETTS",
            "NEW HAMPSHIRE",
            "OREGON",
            "VIRGINIA",
            "ARIZONA",
            "NEW YORK",
            "MONTANA",
            "MAINE",
            "VERMONT",
            "UTAH",
            "DELAWARE",
            "IDAHO",
            "WASHINGTON",
            "HAWAII",
            "RHODE ISLAND",
            "NEVADA",
            "ALASKA"
           ],
           "type": "choropleth",
           "z": [
            1716,
            4701,
            1687,
            1766,
            1218,
            527,
            1028,
            2016,
            148,
            1041,
            1721,
            1315,
            1391,
            673,
            1881,
            1568,
            2337,
            463,
            1233,
            3170,
            905,
            1165,
            1687,
            915,
            757,
            391,
            1983,
            1850,
            2024,
            1125,
            1044,
            1637,
            862,
            416,
            394,
            379,
            1647,
            341,
            1750,
            1212,
            758,
            600,
            364,
            200,
            247,
            275,
            457,
            51,
            154,
            257
           ]
          }
         ],
         "name": "2007"
        },
        {
         "data": [
          {
           "autocolorscale": false,
           "colorbar": {
            "title": {
             "text": "Events"
            }
           },
           "colorscale": [
            [
             0,
             "rgb(242,240,247)"
            ],
            [
             0.2,
             "rgb(218,218,235)"
            ],
            [
             0.4,
             "rgb(188,189,220)"
            ],
            [
             0.6,
             "rgb(158,154,200)"
            ],
            [
             0.8,
             "rgb(117,107,177)"
            ],
            [
             1,
             "rgb(84,39,143)"
            ]
           ],
           "locationmode": "USA-states",
           "locations": [
            "OK",
            "TX",
            "PA",
            "NE",
            "MS",
            "NM",
            "AR",
            "MO",
            "CT",
            "FL",
            "NC",
            "AL",
            "KY",
            "MD",
            "MN",
            "SD",
            "IA",
            "LA",
            "OH",
            "KS",
            "ND",
            "IN",
            "CO",
            "SC",
            "WV",
            "WY",
            "GA",
            "WI",
            "IL",
            "TN",
            "NJ",
            "MI",
            "CA",
            "MA",
            "NH",
            "OR",
            "VA",
            "AZ",
            "NY",
            "MT",
            "ME",
            "VT",
            "UT",
            "DE",
            "ID",
            "WA",
            "HI",
            "RI",
            "NV",
            "AK"
           ],
           "marker": {
            "line": {
             "color": "rgb(255,255,255)",
             "width": 2
            }
           },
           "text": [
            "OKLAHOMA",
            "TEXAS",
            "PENNSYLVANIA",
            "NEBRASKA",
            "MISSISSIPPI",
            "NEW MEXICO",
            "ARKANSAS",
            "MISSOURI",
            "CONNECTICUT",
            "FLORIDA",
            "NORTH CAROLINA",
            "ALABAMA",
            "KENTUCKY",
            "MARYLAND",
            "MINNESOTA",
            "SOUTH DAKOTA",
            "IOWA",
            "LOUISIANA",
            "OHIO",
            "KANSAS",
            "NORTH DAKOTA",
            "INDIANA",
            "COLORADO",
            "SOUTH CAROLINA",
            "WEST VIRGINIA",
            "WYOMING",
            "GEORGIA",
            "WISCONSIN",
            "ILLINOIS",
            "TENNESSEE",
            "NEW JERSEY",
            "MICHIGAN",
            "CALIFORNIA",
            "MASSACHUSETTS",
            "NEW HAMPSHIRE",
            "OREGON",
            "VIRGINIA",
            "ARIZONA",
            "NEW YORK",
            "MONTANA",
            "MAINE",
            "VERMONT",
            "UTAH",
            "DELAWARE",
            "IDAHO",
            "WASHINGTON",
            "HAWAII",
            "RHODE ISLAND",
            "NEVADA",
            "ALASKA"
           ],
           "type": "choropleth",
           "z": [
            2341,
            3718,
            1424,
            1934,
            1809,
            539,
            2055,
            3023,
            304,
            1173,
            2539,
            1695,
            2031,
            864,
            2001,
            1870,
            3457,
            1000,
            1569,
            3481,
            1206,
            1933,
            1365,
            1521,
            733,
            600,
            1775,
            2024,
            2891,
            1230,
            966,
            1675,
            1138,
            749,
            382,
            428,
            1948,
            397,
            2490,
            1336,
            670,
            539,
            408,
            181,
            356,
            433,
            476,
            88,
            308,
            334
           ]
          }
         ],
         "name": "2008"
        },
        {
         "data": [
          {
           "autocolorscale": false,
           "colorbar": {
            "title": {
             "text": "Events"
            }
           },
           "colorscale": [
            [
             0,
             "rgb(242,240,247)"
            ],
            [
             0.2,
             "rgb(218,218,235)"
            ],
            [
             0.4,
             "rgb(188,189,220)"
            ],
            [
             0.6,
             "rgb(158,154,200)"
            ],
            [
             0.8,
             "rgb(117,107,177)"
            ],
            [
             1,
             "rgb(84,39,143)"
            ]
           ],
           "locationmode": "USA-states",
           "locations": [
            "OK",
            "TX",
            "PA",
            "NE",
            "MS",
            "NM",
            "AR",
            "MO",
            "CT",
            "FL",
            "NC",
            "AL",
            "KY",
            "MD",
            "MN",
            "SD",
            "IA",
            "LA",
            "OH",
            "KS",
            "ND",
            "IN",
            "CO",
            "SC",
            "WV",
            "WY",
            "GA",
            "WI",
            "IL",
            "TN",
            "NJ",
            "MI",
            "CA",
            "MA",
            "NH",
            "OR",
            "VA",
            "AZ",
            "NY",
            "MT",
            "ME",
            "VT",
            "UT",
            "DE",
            "ID",
            "WA",
            "HI",
            "RI",
            "NV",
            "AK"
           ],
           "marker": {
            "line": {
             "color": "rgb(255,255,255)",
             "width": 2
            }
           },
           "text": [
            "OKLAHOMA",
            "TEXAS",
            "PENNSYLVANIA",
            "NEBRASKA",
            "MISSISSIPPI",
            "NEW MEXICO",
            "ARKANSAS",
            "MISSOURI",
            "CONNECTICUT",
            "FLORIDA",
            "NORTH CAROLINA",
            "ALABAMA",
            "KENTUCKY",
            "MARYLAND",
            "MINNESOTA",
            "SOUTH DAKOTA",
            "IOWA",
            "LOUISIANA",
            "OHIO",
            "KANSAS",
            "NORTH DAKOTA",
            "INDIANA",
            "COLORADO",
            "SOUTH CAROLINA",
            "WEST VIRGINIA",
            "WYOMING",
            "GEORGIA",
            "WISCONSIN",
            "ILLINOIS",
            "TENNESSEE",
            "NEW JERSEY",
            "MICHIGAN",
            "CALIFORNIA",
            "MASSACHUSETTS",
            "NEW HAMPSHIRE",
            "OREGON",
            "VIRGINIA",
            "ARIZONA",
            "NEW YORK",
            "MONTANA",
            "MAINE",
            "VERMONT",
            "UTAH",
            "DELAWARE",
            "IDAHO",
            "WASHINGTON",
            "HAWAII",
            "RHODE ISLAND",
            "NEVADA",
            "ALASKA"
           ],
           "type": "choropleth",
           "z": [
            2038,
            5051,
            1226,
            1817,
            1221,
            518,
            1961,
            1925,
            286,
            1037,
            1842,
            1756,
            2113,
            596,
            1140,
            1521,
            1872,
            915,
            926,
            2884,
            957,
            1158,
            1739,
            1069,
            636,
            651,
            1603,
            1173,
            1879,
            1593,
            935,
            751,
            875,
            326,
            167,
            342,
            1500,
            360,
            1475,
            883,
            444,
            312,
            306,
            179,
            268,
            306,
            653,
            37,
            187,
            464
           ]
          }
         ],
         "name": "2009"
        },
        {
         "data": [
          {
           "autocolorscale": false,
           "colorbar": {
            "title": {
             "text": "Events"
            }
           },
           "colorscale": [
            [
             0,
             "rgb(242,240,247)"
            ],
            [
             0.2,
             "rgb(218,218,235)"
            ],
            [
             0.4,
             "rgb(188,189,220)"
            ],
            [
             0.6,
             "rgb(158,154,200)"
            ],
            [
             0.8,
             "rgb(117,107,177)"
            ],
            [
             1,
             "rgb(84,39,143)"
            ]
           ],
           "locationmode": "USA-states",
           "locations": [
            "OK",
            "TX",
            "PA",
            "NE",
            "MS",
            "NM",
            "AR",
            "MO",
            "CT",
            "FL",
            "NC",
            "AL",
            "KY",
            "MD",
            "MN",
            "SD",
            "IA",
            "LA",
            "OH",
            "KS",
            "ND",
            "IN",
            "CO",
            "SC",
            "WV",
            "WY",
            "GA",
            "WI",
            "IL",
            "TN",
            "NJ",
            "MI",
            "CA",
            "MA",
            "NH",
            "OR",
            "VA",
            "AZ",
            "NY",
            "MT",
            "ME",
            "VT",
            "UT",
            "DE",
            "ID",
            "WA",
            "HI",
            "RI",
            "NV",
            "AK"
           ],
           "marker": {
            "line": {
             "color": "rgb(255,255,255)",
             "width": 2
            }
           },
           "text": [
            "OKLAHOMA",
            "TEXAS",
            "PENNSYLVANIA",
            "NEBRASKA",
            "MISSISSIPPI",
            "NEW MEXICO",
            "ARKANSAS",
            "MISSOURI",
            "CONNECTICUT",
            "FLORIDA",
            "NORTH CAROLINA",
            "ALABAMA",
            "KENTUCKY",
            "MARYLAND",
            "MINNESOTA",
            "SOUTH DAKOTA",
            "IOWA",
            "LOUISIANA",
            "OHIO",
            "KANSAS",
            "NORTH DAKOTA",
            "INDIANA",
            "COLORADO",
            "SOUTH CAROLINA",
            "WEST VIRGINIA",
            "WYOMING",
            "GEORGIA",
            "WISCONSIN",
            "ILLINOIS",
            "TENNESSEE",
            "NEW JERSEY",
            "MICHIGAN",
            "CALIFORNIA",
            "MASSACHUSETTS",
            "NEW HAMPSHIRE",
            "OREGON",
            "VIRGINIA",
            "ARIZONA",
            "NEW YORK",
            "MONTANA",
            "MAINE",
            "VERMONT",
            "UTAH",
            "DELAWARE",
            "IDAHO",
            "WASHINGTON",
            "HAWAII",
            "RHODE ISLAND",
            "NEVADA",
            "ALASKA"
           ],
           "type": "choropleth",
           "z": [
            1229,
            2950,
            1263,
            2151,
            1579,
            764,
            1598,
            2417,
            312,
            794,
            2236,
            1274,
            2997,
            754,
            2023,
            1957,
            2940,
            696,
            1457,
            2705,
            1420,
            1299,
            1756,
            1164,
            674,
            982,
            1353,
            1554,
            2482,
            1781,
            906,
            853,
            871,
            500,
            236,
            375,
            2324,
            546,
            1479,
            1185,
            430,
            330,
            470,
            143,
            321,
            324,
            600,
            54,
            239,
            255
           ]
          }
         ],
         "name": "2010"
        },
        {
         "data": [
          {
           "autocolorscale": false,
           "colorbar": {
            "title": {
             "text": "Events"
            }
           },
           "colorscale": [
            [
             0,
             "rgb(242,240,247)"
            ],
            [
             0.2,
             "rgb(218,218,235)"
            ],
            [
             0.4,
             "rgb(188,189,220)"
            ],
            [
             0.6,
             "rgb(158,154,200)"
            ],
            [
             0.8,
             "rgb(117,107,177)"
            ],
            [
             1,
             "rgb(84,39,143)"
            ]
           ],
           "locationmode": "USA-states",
           "locations": [
            "OK",
            "TX",
            "PA",
            "NE",
            "MS",
            "NM",
            "AR",
            "MO",
            "CT",
            "FL",
            "NC",
            "AL",
            "KY",
            "MD",
            "MN",
            "SD",
            "IA",
            "LA",
            "OH",
            "KS",
            "ND",
            "IN",
            "CO",
            "SC",
            "WV",
            "WY",
            "GA",
            "WI",
            "IL",
            "TN",
            "NJ",
            "MI",
            "CA",
            "MA",
            "NH",
            "OR",
            "VA",
            "AZ",
            "NY",
            "MT",
            "ME",
            "VT",
            "UT",
            "DE",
            "ID",
            "WA",
            "HI",
            "RI",
            "NV",
            "AK"
           ],
           "marker": {
            "line": {
             "color": "rgb(255,255,255)",
             "width": 2
            }
           },
           "text": [
            "OKLAHOMA",
            "TEXAS",
            "PENNSYLVANIA",
            "NEBRASKA",
            "MISSISSIPPI",
            "NEW MEXICO",
            "ARKANSAS",
            "MISSOURI",
            "CONNECTICUT",
            "FLORIDA",
            "NORTH CAROLINA",
            "ALABAMA",
            "KENTUCKY",
            "MARYLAND",
            "MINNESOTA",
            "SOUTH DAKOTA",
            "IOWA",
            "LOUISIANA",
            "OHIO",
            "KANSAS",
            "NORTH DAKOTA",
            "INDIANA",
            "COLORADO",
            "SOUTH CAROLINA",
            "WEST VIRGINIA",
            "WYOMING",
            "GEORGIA",
            "WISCONSIN",
            "ILLINOIS",
            "TENNESSEE",
            "NEW JERSEY",
            "MICHIGAN",
            "CALIFORNIA",
            "MASSACHUSETTS",
            "NEW HAMPSHIRE",
            "OREGON",
            "VIRGINIA",
            "ARIZONA",
            "NEW YORK",
            "MONTANA",
            "MAINE",
            "VERMONT",
            "UTAH",
            "DELAWARE",
            "IDAHO",
            "WASHINGTON",
            "HAWAII",
            "RHODE ISLAND",
            "NEVADA",
            "ALASKA"
           ],
           "type": "choropleth",
           "z": [
            2805,
            5582,
            1925,
            2479,
            1739,
            1009,
            2811,
            3194,
            292,
            1378,
            2435,
            2468,
            2689,
            1073,
            1570,
            1906,
            2072,
            1207,
            2233,
            3664,
            1469,
            1799,
            1611,
            1723,
            1062,
            936,
            2359,
            1552,
            2859,
            2038,
            1047,
            1270,
            811,
            503,
            353,
            342,
            2542,
            604,
            2227,
            1514,
            665,
            572,
            375,
            180,
            270,
            303,
            666,
            54,
            187,
            431
           ]
          }
         ],
         "name": "2011"
        },
        {
         "data": [
          {
           "autocolorscale": false,
           "colorbar": {
            "title": {
             "text": "Events"
            }
           },
           "colorscale": [
            [
             0,
             "rgb(242,240,247)"
            ],
            [
             0.2,
             "rgb(218,218,235)"
            ],
            [
             0.4,
             "rgb(188,189,220)"
            ],
            [
             0.6,
             "rgb(158,154,200)"
            ],
            [
             0.8,
             "rgb(117,107,177)"
            ],
            [
             1,
             "rgb(84,39,143)"
            ]
           ],
           "locationmode": "USA-states",
           "locations": [
            "OK",
            "TX",
            "PA",
            "NE",
            "MS",
            "NM",
            "AR",
            "MO",
            "CT",
            "FL",
            "NC",
            "AL",
            "KY",
            "MD",
            "MN",
            "SD",
            "IA",
            "LA",
            "OH",
            "KS",
            "ND",
            "IN",
            "CO",
            "SC",
            "WV",
            "WY",
            "GA",
            "WI",
            "IL",
            "TN",
            "NJ",
            "MI",
            "CA",
            "MA",
            "NH",
            "OR",
            "VA",
            "AZ",
            "NY",
            "MT",
            "ME",
            "VT",
            "UT",
            "DE",
            "ID",
            "WA",
            "HI",
            "RI",
            "NV",
            "AK"
           ],
           "marker": {
            "line": {
             "color": "rgb(255,255,255)",
             "width": 2
            }
           },
           "text": [
            "OKLAHOMA",
            "TEXAS",
            "PENNSYLVANIA",
            "NEBRASKA",
            "MISSISSIPPI",
            "NEW MEXICO",
            "ARKANSAS",
            "MISSOURI",
            "CONNECTICUT",
            "FLORIDA",
            "NORTH CAROLINA",
            "ALABAMA",
            "KENTUCKY",
            "MARYLAND",
            "MINNESOTA",
            "SOUTH DAKOTA",
            "IOWA",
            "LOUISIANA",
            "OHIO",
            "KANSAS",
            "NORTH DAKOTA",
            "INDIANA",
            "COLORADO",
            "SOUTH CAROLINA",
            "WEST VIRGINIA",
            "WYOMING",
            "GEORGIA",
            "WISCONSIN",
            "ILLINOIS",
            "TENNESSEE",
            "NEW JERSEY",
            "MICHIGAN",
            "CALIFORNIA",
            "MASSACHUSETTS",
            "NEW HAMPSHIRE",
            "OREGON",
            "VIRGINIA",
            "ARIZONA",
            "NEW YORK",
            "MONTANA",
            "MAINE",
            "VERMONT",
            "UTAH",
            "DELAWARE",
            "IDAHO",
            "WASHINGTON",
            "HAWAII",
            "RHODE ISLAND",
            "NEVADA",
            "ALASKA"
           ],
           "type": "choropleth",
           "z": [
            1857,
            4814,
            1685,
            1963,
            1071,
            1158,
            1905,
            2351,
            253,
            1406,
            1915,
            1723,
            2314,
            1073,
            1777,
            1556,
            1982,
            805,
            1806,
            2384,
            687,
            1596,
            1326,
            1275,
            859,
            953,
            1804,
            1458,
            2134,
            1553,
            997,
            992,
            889,
            453,
            229,
            503,
            2202,
            498,
            1603,
            1028,
            283,
            366,
            419,
            208,
            333,
            450,
            580,
            99,
            241,
            358
           ]
          }
         ],
         "name": "2012"
        },
        {
         "data": [
          {
           "autocolorscale": false,
           "colorbar": {
            "title": {
             "text": "Events"
            }
           },
           "colorscale": [
            [
             0,
             "rgb(242,240,247)"
            ],
            [
             0.2,
             "rgb(218,218,235)"
            ],
            [
             0.4,
             "rgb(188,189,220)"
            ],
            [
             0.6,
             "rgb(158,154,200)"
            ],
            [
             0.8,
             "rgb(117,107,177)"
            ],
            [
             1,
             "rgb(84,39,143)"
            ]
           ],
           "locationmode": "USA-states",
           "locations": [
            "OK",
            "TX",
            "PA",
            "NE",
            "MS",
            "NM",
            "AR",
            "MO",
            "CT",
            "FL",
            "NC",
            "AL",
            "KY",
            "MD",
            "MN",
            "SD",
            "IA",
            "LA",
            "OH",
            "KS",
            "ND",
            "IN",
            "CO",
            "SC",
            "WV",
            "WY",
            "GA",
            "WI",
            "IL",
            "TN",
            "NJ",
            "MI",
            "CA",
            "MA",
            "NH",
            "OR",
            "VA",
            "AZ",
            "NY",
            "MT",
            "ME",
            "VT",
            "UT",
            "DE",
            "ID",
            "WA",
            "HI",
            "RI",
            "NV",
            "AK"
           ],
           "marker": {
            "line": {
             "color": "rgb(255,255,255)",
             "width": 2
            }
           },
           "text": [
            "OKLAHOMA",
            "TEXAS",
            "PENNSYLVANIA",
            "NEBRASKA",
            "MISSISSIPPI",
            "NEW MEXICO",
            "ARKANSAS",
            "MISSOURI",
            "CONNECTICUT",
            "FLORIDA",
            "NORTH CAROLINA",
            "ALABAMA",
            "KENTUCKY",
            "MARYLAND",
            "MINNESOTA",
            "SOUTH DAKOTA",
            "IOWA",
            "LOUISIANA",
            "OHIO",
            "KANSAS",
            "NORTH DAKOTA",
            "INDIANA",
            "COLORADO",
            "SOUTH CAROLINA",
            "WEST VIRGINIA",
            "WYOMING",
            "GEORGIA",
            "WISCONSIN",
            "ILLINOIS",
            "TENNESSEE",
            "NEW JERSEY",
            "MICHIGAN",
            "CALIFORNIA",
            "MASSACHUSETTS",
            "NEW HAMPSHIRE",
            "OREGON",
            "VIRGINIA",
            "ARIZONA",
            "NEW YORK",
            "MONTANA",
            "MAINE",
            "VERMONT",
            "UTAH",
            "DELAWARE",
            "IDAHO",
            "WASHINGTON",
            "HAWAII",
            "RHODE ISLAND",
            "NEVADA",
            "ALASKA"
           ],
           "type": "choropleth",
           "z": [
            2212,
            5269,
            1803,
            2363,
            661,
            1387,
            1341,
            1979,
            203,
            866,
            1237,
            935,
            1478,
            629,
            1836,
            1743,
            2170,
            586,
            1767,
            2739,
            1148,
            1182,
            1542,
            920,
            759,
            1398,
            997,
            1272,
            1847,
            1121,
            821,
            1216,
            739,
            455,
            261,
            290,
            1556,
            561,
            1759,
            1672,
            568,
            311,
            482,
            144,
            295,
            247,
            732,
            63,
            208,
            269
           ]
          }
         ],
         "name": "2013"
        },
        {
         "data": [
          {
           "autocolorscale": false,
           "colorbar": {
            "title": {
             "text": "Events"
            }
           },
           "colorscale": [
            [
             0,
             "rgb(242,240,247)"
            ],
            [
             0.2,
             "rgb(218,218,235)"
            ],
            [
             0.4,
             "rgb(188,189,220)"
            ],
            [
             0.6,
             "rgb(158,154,200)"
            ],
            [
             0.8,
             "rgb(117,107,177)"
            ],
            [
             1,
             "rgb(84,39,143)"
            ]
           ],
           "locationmode": "USA-states",
           "locations": [
            "OK",
            "TX",
            "PA",
            "NE",
            "MS",
            "NM",
            "AR",
            "MO",
            "CT",
            "FL",
            "NC",
            "AL",
            "KY",
            "MD",
            "MN",
            "SD",
            "IA",
            "LA",
            "OH",
            "KS",
            "ND",
            "IN",
            "CO",
            "SC",
            "WV",
            "WY",
            "GA",
            "WI",
            "IL",
            "TN",
            "NJ",
            "MI",
            "CA",
            "MA",
            "NH",
            "OR",
            "VA",
            "AZ",
            "NY",
            "MT",
            "ME",
            "VT",
            "UT",
            "DE",
            "ID",
            "WA",
            "HI",
            "RI",
            "NV",
            "AK"
           ],
           "marker": {
            "line": {
             "color": "rgb(255,255,255)",
             "width": 2
            }
           },
           "text": [
            "OKLAHOMA",
            "TEXAS",
            "PENNSYLVANIA",
            "NEBRASKA",
            "MISSISSIPPI",
            "NEW MEXICO",
            "ARKANSAS",
            "MISSOURI",
            "CONNECTICUT",
            "FLORIDA",
            "NORTH CAROLINA",
            "ALABAMA",
            "KENTUCKY",
            "MARYLAND",
            "MINNESOTA",
            "SOUTH DAKOTA",
            "IOWA",
            "LOUISIANA",
            "OHIO",
            "KANSAS",
            "NORTH DAKOTA",
            "INDIANA",
            "COLORADO",
            "SOUTH CAROLINA",
            "WEST VIRGINIA",
            "WYOMING",
            "GEORGIA",
            "WISCONSIN",
            "ILLINOIS",
            "TENNESSEE",
            "NEW JERSEY",
            "MICHIGAN",
            "CALIFORNIA",
            "MASSACHUSETTS",
            "NEW HAMPSHIRE",
            "OREGON",
            "VIRGINIA",
            "ARIZONA",
            "NEW YORK",
            "MONTANA",
            "MAINE",
            "VERMONT",
            "UTAH",
            "DELAWARE",
            "IDAHO",
            "WASHINGTON",
            "HAWAII",
            "RHODE ISLAND",
            "NEVADA",
            "ALASKA"
           ],
           "type": "choropleth",
           "z": [
            1440,
            4708,
            1676,
            2352,
            899,
            1238,
            1259,
            1698,
            170,
            1121,
            1557,
            890,
            1785,
            977,
            1799,
            1335,
            2571,
            610,
            1473,
            2639,
            876,
            1205,
            1458,
            782,
            1055,
            1478,
            1228,
            1285,
            1707,
            1143,
            972,
            1214,
            1141,
            541,
            264,
            399,
            1824,
            570,
            1782,
            1311,
            388,
            194,
            328,
            161,
            392,
            433,
            629,
            50,
            285,
            172
           ]
          }
         ],
         "name": "2014"
        },
        {
         "data": [
          {
           "autocolorscale": false,
           "colorbar": {
            "title": {
             "text": "Events"
            }
           },
           "colorscale": [
            [
             0,
             "rgb(242,240,247)"
            ],
            [
             0.2,
             "rgb(218,218,235)"
            ],
            [
             0.4,
             "rgb(188,189,220)"
            ],
            [
             0.6,
             "rgb(158,154,200)"
            ],
            [
             0.8,
             "rgb(117,107,177)"
            ],
            [
             1,
             "rgb(84,39,143)"
            ]
           ],
           "locationmode": "USA-states",
           "locations": [
            "OK",
            "TX",
            "PA",
            "NE",
            "MS",
            "NM",
            "AR",
            "MO",
            "CT",
            "FL",
            "NC",
            "AL",
            "KY",
            "MD",
            "MN",
            "SD",
            "IA",
            "LA",
            "OH",
            "KS",
            "ND",
            "IN",
            "CO",
            "SC",
            "WV",
            "WY",
            "GA",
            "WI",
            "IL",
            "TN",
            "NJ",
            "MI",
            "CA",
            "MA",
            "NH",
            "OR",
            "VA",
            "AZ",
            "NY",
            "MT",
            "ME",
            "VT",
            "UT",
            "DE",
            "ID",
            "WA",
            "HI",
            "RI",
            "NV",
            "AK"
           ],
           "marker": {
            "line": {
             "color": "rgb(255,255,255)",
             "width": 2
            }
           },
           "text": [
            "OKLAHOMA",
            "TEXAS",
            "PENNSYLVANIA",
            "NEBRASKA",
            "MISSISSIPPI",
            "NEW MEXICO",
            "ARKANSAS",
            "MISSOURI",
            "CONNECTICUT",
            "FLORIDA",
            "NORTH CAROLINA",
            "ALABAMA",
            "KENTUCKY",
            "MARYLAND",
            "MINNESOTA",
            "SOUTH DAKOTA",
            "IOWA",
            "LOUISIANA",
            "OHIO",
            "KANSAS",
            "NORTH DAKOTA",
            "INDIANA",
            "COLORADO",
            "SOUTH CAROLINA",
            "WEST VIRGINIA",
            "WYOMING",
            "GEORGIA",
            "WISCONSIN",
            "ILLINOIS",
            "TENNESSEE",
            "NEW JERSEY",
            "MICHIGAN",
            "CALIFORNIA",
            "MASSACHUSETTS",
            "NEW HAMPSHIRE",
            "OREGON",
            "VIRGINIA",
            "ARIZONA",
            "NEW YORK",
            "MONTANA",
            "MAINE",
            "VERMONT",
            "UTAH",
            "DELAWARE",
            "IDAHO",
            "WASHINGTON",
            "HAWAII",
            "RHODE ISLAND",
            "NEVADA",
            "ALASKA"
           ],
           "type": "choropleth",
           "z": [
            2057,
            5278,
            1470,
            1481,
            863,
            814,
            1243,
            2477,
            170,
            1200,
            1384,
            892,
            2457,
            878,
            1231,
            1680,
            2102,
            752,
            1416,
            2047,
            811,
            1315,
            1292,
            1317,
            895,
            1016,
            1355,
            824,
            1810,
            1180,
            861,
            878,
            1143,
            605,
            187,
            381,
            1686,
            518,
            1272,
            787,
            441,
            234,
            325,
            166,
            373,
            538,
            759,
            109,
            254,
            220
           ]
          }
         ],
         "name": "2015"
        },
        {
         "data": [
          {
           "autocolorscale": false,
           "colorbar": {
            "title": {
             "text": "Events"
            }
           },
           "colorscale": [
            [
             0,
             "rgb(242,240,247)"
            ],
            [
             0.2,
             "rgb(218,218,235)"
            ],
            [
             0.4,
             "rgb(188,189,220)"
            ],
            [
             0.6,
             "rgb(158,154,200)"
            ],
            [
             0.8,
             "rgb(117,107,177)"
            ],
            [
             1,
             "rgb(84,39,143)"
            ]
           ],
           "locationmode": "USA-states",
           "locations": [
            "OK",
            "TX",
            "PA",
            "NE",
            "MS",
            "NM",
            "AR",
            "MO",
            "CT",
            "FL",
            "NC",
            "AL",
            "KY",
            "MD",
            "MN",
            "SD",
            "IA",
            "LA",
            "OH",
            "KS",
            "ND",
            "IN",
            "CO",
            "SC",
            "WV",
            "WY",
            "GA",
            "WI",
            "IL",
            "TN",
            "NJ",
            "MI",
            "CA",
            "MA",
            "NH",
            "OR",
            "VA",
            "AZ",
            "NY",
            "MT",
            "ME",
            "VT",
            "UT",
            "DE",
            "ID",
            "WA",
            "HI",
            "RI",
            "NV",
            "AK"
           ],
           "marker": {
            "line": {
             "color": "rgb(255,255,255)",
             "width": 2
            }
           },
           "text": [
            "OKLAHOMA",
            "TEXAS",
            "PENNSYLVANIA",
            "NEBRASKA",
            "MISSISSIPPI",
            "NEW MEXICO",
            "ARKANSAS",
            "MISSOURI",
            "CONNECTICUT",
            "FLORIDA",
            "NORTH CAROLINA",
            "ALABAMA",
            "KENTUCKY",
            "MARYLAND",
            "MINNESOTA",
            "SOUTH DAKOTA",
            "IOWA",
            "LOUISIANA",
            "OHIO",
            "KANSAS",
            "NORTH DAKOTA",
            "INDIANA",
            "COLORADO",
            "SOUTH CAROLINA",
            "WEST VIRGINIA",
            "WYOMING",
            "GEORGIA",
            "WISCONSIN",
            "ILLINOIS",
            "TENNESSEE",
            "NEW JERSEY",
            "MICHIGAN",
            "CALIFORNIA",
            "MASSACHUSETTS",
            "NEW HAMPSHIRE",
            "OREGON",
            "VIRGINIA",
            "ARIZONA",
            "NEW YORK",
            "MONTANA",
            "MAINE",
            "VERMONT",
            "UTAH",
            "DELAWARE",
            "IDAHO",
            "WASHINGTON",
            "HAWAII",
            "RHODE ISLAND",
            "NEVADA",
            "ALASKA"
           ],
           "type": "choropleth",
           "z": [
            1363,
            3474,
            898,
            1554,
            1260,
            482,
            882,
            1512,
            210,
            1065,
            1656,
            976,
            2123,
            888,
            1826,
            1793,
            1880,
            901,
            1050,
            2225,
            1092,
            1045,
            1346,
            1113,
            894,
            1636,
            1664,
            1194,
            1412,
            1592,
            722,
            797,
            1330,
            889,
            168,
            317,
            2235,
            444,
            1334,
            948,
            385,
            210,
            348,
            277,
            280,
            320,
            727,
            178,
            187,
            150
           ]
          }
         ],
         "name": "2016"
        },
        {
         "data": [
          {
           "autocolorscale": false,
           "colorbar": {
            "title": {
             "text": "Events"
            }
           },
           "colorscale": [
            [
             0,
             "rgb(242,240,247)"
            ],
            [
             0.2,
             "rgb(218,218,235)"
            ],
            [
             0.4,
             "rgb(188,189,220)"
            ],
            [
             0.6,
             "rgb(158,154,200)"
            ],
            [
             0.8,
             "rgb(117,107,177)"
            ],
            [
             1,
             "rgb(84,39,143)"
            ]
           ],
           "locationmode": "USA-states",
           "locations": [
            "OK",
            "TX",
            "PA",
            "NE",
            "MS",
            "NM",
            "AR",
            "MO",
            "CT",
            "FL",
            "NC",
            "AL",
            "KY",
            "MD",
            "MN",
            "SD",
            "IA",
            "LA",
            "OH",
            "KS",
            "ND",
            "IN",
            "CO",
            "SC",
            "WV",
            "WY",
            "GA",
            "WI",
            "IL",
            "TN",
            "NJ",
            "MI",
            "CA",
            "MA",
            "NH",
            "OR",
            "VA",
            "AZ",
            "NY",
            "MT",
            "ME",
            "VT",
            "UT",
            "DE",
            "ID",
            "WA",
            "HI",
            "RI",
            "NV",
            "AK"
           ],
           "marker": {
            "line": {
             "color": "rgb(255,255,255)",
             "width": 2
            }
           },
           "text": [
            "OKLAHOMA",
            "TEXAS",
            "PENNSYLVANIA",
            "NEBRASKA",
            "MISSISSIPPI",
            "NEW MEXICO",
            "ARKANSAS",
            "MISSOURI",
            "CONNECTICUT",
            "FLORIDA",
            "NORTH CAROLINA",
            "ALABAMA",
            "KENTUCKY",
            "MARYLAND",
            "MINNESOTA",
            "SOUTH DAKOTA",
            "IOWA",
            "LOUISIANA",
            "OHIO",
            "KANSAS",
            "NORTH DAKOTA",
            "INDIANA",
            "COLORADO",
            "SOUTH CAROLINA",
            "WEST VIRGINIA",
            "WYOMING",
            "GEORGIA",
            "WISCONSIN",
            "ILLINOIS",
            "TENNESSEE",
            "NEW JERSEY",
            "MICHIGAN",
            "CALIFORNIA",
            "MASSACHUSETTS",
            "NEW HAMPSHIRE",
            "OREGON",
            "VIRGINIA",
            "ARIZONA",
            "NEW YORK",
            "MONTANA",
            "MAINE",
            "VERMONT",
            "UTAH",
            "DELAWARE",
            "IDAHO",
            "WASHINGTON",
            "HAWAII",
            "RHODE ISLAND",
            "NEVADA",
            "ALASKA"
           ],
           "type": "choropleth",
           "z": [
            1933,
            3622,
            1494,
            1544,
            1033,
            761,
            1212,
            2289,
            201,
            1155,
            1224,
            1300,
            1345,
            851,
            1314,
            1423,
            1942,
            821,
            1473,
            2153,
            720,
            954,
            1095,
            912,
            631,
            1641,
            1679,
            1346,
            1730,
            1404,
            628,
            628,
            1889,
            757,
            295,
            398,
            1544,
            498,
            2024,
            969,
            368,
            346,
            262,
            152,
            520,
            521,
            629,
            68,
            272,
            231
           ]
          }
         ],
         "name": "2017"
        },
        {
         "data": [
          {
           "autocolorscale": false,
           "colorbar": {
            "title": {
             "text": "Events"
            }
           },
           "colorscale": [
            [
             0,
             "rgb(242,240,247)"
            ],
            [
             0.2,
             "rgb(218,218,235)"
            ],
            [
             0.4,
             "rgb(188,189,220)"
            ],
            [
             0.6,
             "rgb(158,154,200)"
            ],
            [
             0.8,
             "rgb(117,107,177)"
            ],
            [
             1,
             "rgb(84,39,143)"
            ]
           ],
           "locationmode": "USA-states",
           "locations": [
            "OK",
            "TX",
            "PA",
            "NE",
            "MS",
            "NM",
            "AR",
            "MO",
            "CT",
            "FL",
            "NC",
            "AL",
            "KY",
            "MD",
            "MN",
            "SD",
            "IA",
            "LA",
            "OH",
            "KS",
            "ND",
            "IN",
            "CO",
            "SC",
            "WV",
            "WY",
            "GA",
            "WI",
            "IL",
            "TN",
            "NJ",
            "MI",
            "CA",
            "MA",
            "NH",
            "OR",
            "VA",
            "AZ",
            "NY",
            "MT",
            "ME",
            "VT",
            "UT",
            "DE",
            "ID",
            "WA",
            "HI",
            "RI",
            "NV",
            "AK"
           ],
           "marker": {
            "line": {
             "color": "rgb(255,255,255)",
             "width": 2
            }
           },
           "text": [
            "OKLAHOMA",
            "TEXAS",
            "PENNSYLVANIA",
            "NEBRASKA",
            "MISSISSIPPI",
            "NEW MEXICO",
            "ARKANSAS",
            "MISSOURI",
            "CONNECTICUT",
            "FLORIDA",
            "NORTH CAROLINA",
            "ALABAMA",
            "KENTUCKY",
            "MARYLAND",
            "MINNESOTA",
            "SOUTH DAKOTA",
            "IOWA",
            "LOUISIANA",
            "OHIO",
            "KANSAS",
            "NORTH DAKOTA",
            "INDIANA",
            "COLORADO",
            "SOUTH CAROLINA",
            "WEST VIRGINIA",
            "WYOMING",
            "GEORGIA",
            "WISCONSIN",
            "ILLINOIS",
            "TENNESSEE",
            "NEW JERSEY",
            "MICHIGAN",
            "CALIFORNIA",
            "MASSACHUSETTS",
            "NEW HAMPSHIRE",
            "OREGON",
            "VIRGINIA",
            "ARIZONA",
            "NEW YORK",
            "MONTANA",
            "MAINE",
            "VERMONT",
            "UTAH",
            "DELAWARE",
            "IDAHO",
            "WASHINGTON",
            "HAWAII",
            "RHODE ISLAND",
            "NEVADA",
            "ALASKA"
           ],
           "type": "choropleth",
           "z": [
            1532,
            3370,
            1556,
            1708,
            1124,
            1152,
            1331,
            1944,
            335,
            985,
            1830,
            1005,
            2050,
            1198,
            1731,
            2089,
            2715,
            739,
            1331,
            2458,
            923,
            1017,
            1761,
            929,
            1027,
            1316,
            1257,
            1334,
            1700,
            1410,
            626,
            767,
            1599,
            672,
            249,
            246,
            2999,
            849,
            1985,
            1085,
            400,
            307,
            306,
            62,
            321,
            406,
            840,
            71,
            400,
            116
           ]
          }
         ],
         "name": "2018"
        }
       ],
       "layout": {
        "geo": {
         "lakecolor": "rgb(255, 255, 255)",
         "projection": {
          "type": "albers usa"
         },
         "scope": "usa",
         "showlakes": true
        },
        "hovermode": "closest",
        "sliders": [
         {
          "active": 0,
          "currentvalue": {
           "font": {
            "size": 20
           },
           "prefix": "Year:",
           "visible": true,
           "xanchor": "right"
          },
          "len": 0.9,
          "pad": {
           "b": 10,
           "t": 50
          },
          "steps": [
           {
            "args": [
             [
              "1950"
             ],
             {
              "frame": {
               "duration": 300,
               "redraw": false
              },
              "mode": "immediate",
              "transition": {
               "duration": 300
              }
             }
            ],
            "label": "1950",
            "method": "animate"
           },
           {
            "args": [
             [
              "1951"
             ],
             {
              "frame": {
               "duration": 300,
               "redraw": false
              },
              "mode": "immediate",
              "transition": {
               "duration": 300
              }
             }
            ],
            "label": "1951",
            "method": "animate"
           },
           {
            "args": [
             [
              "1952"
             ],
             {
              "frame": {
               "duration": 300,
               "redraw": false
              },
              "mode": "immediate",
              "transition": {
               "duration": 300
              }
             }
            ],
            "label": "1952",
            "method": "animate"
           },
           {
            "args": [
             [
              "1953"
             ],
             {
              "frame": {
               "duration": 300,
               "redraw": false
              },
              "mode": "immediate",
              "transition": {
               "duration": 300
              }
             }
            ],
            "label": "1953",
            "method": "animate"
           },
           {
            "args": [
             [
              "1954"
             ],
             {
              "frame": {
               "duration": 300,
               "redraw": false
              },
              "mode": "immediate",
              "transition": {
               "duration": 300
              }
             }
            ],
            "label": "1954",
            "method": "animate"
           },
           {
            "args": [
             [
              "1955"
             ],
             {
              "frame": {
               "duration": 300,
               "redraw": false
              },
              "mode": "immediate",
              "transition": {
               "duration": 300
              }
             }
            ],
            "label": "1955",
            "method": "animate"
           },
           {
            "args": [
             [
              "1956"
             ],
             {
              "frame": {
               "duration": 300,
               "redraw": false
              },
              "mode": "immediate",
              "transition": {
               "duration": 300
              }
             }
            ],
            "label": "1956",
            "method": "animate"
           },
           {
            "args": [
             [
              "1957"
             ],
             {
              "frame": {
               "duration": 300,
               "redraw": false
              },
              "mode": "immediate",
              "transition": {
               "duration": 300
              }
             }
            ],
            "label": "1957",
            "method": "animate"
           },
           {
            "args": [
             [
              "1958"
             ],
             {
              "frame": {
               "duration": 300,
               "redraw": false
              },
              "mode": "immediate",
              "transition": {
               "duration": 300
              }
             }
            ],
            "label": "1958",
            "method": "animate"
           },
           {
            "args": [
             [
              "1959"
             ],
             {
              "frame": {
               "duration": 300,
               "redraw": false
              },
              "mode": "immediate",
              "transition": {
               "duration": 300
              }
             }
            ],
            "label": "1959",
            "method": "animate"
           },
           {
            "args": [
             [
              "1960"
             ],
             {
              "frame": {
               "duration": 300,
               "redraw": false
              },
              "mode": "immediate",
              "transition": {
               "duration": 300
              }
             }
            ],
            "label": "1960",
            "method": "animate"
           },
           {
            "args": [
             [
              "1961"
             ],
             {
              "frame": {
               "duration": 300,
               "redraw": false
              },
              "mode": "immediate",
              "transition": {
               "duration": 300
              }
             }
            ],
            "label": "1961",
            "method": "animate"
           },
           {
            "args": [
             [
              "1962"
             ],
             {
              "frame": {
               "duration": 300,
               "redraw": false
              },
              "mode": "immediate",
              "transition": {
               "duration": 300
              }
             }
            ],
            "label": "1962",
            "method": "animate"
           },
           {
            "args": [
             [
              "1963"
             ],
             {
              "frame": {
               "duration": 300,
               "redraw": false
              },
              "mode": "immediate",
              "transition": {
               "duration": 300
              }
             }
            ],
            "label": "1963",
            "method": "animate"
           },
           {
            "args": [
             [
              "1964"
             ],
             {
              "frame": {
               "duration": 300,
               "redraw": false
              },
              "mode": "immediate",
              "transition": {
               "duration": 300
              }
             }
            ],
            "label": "1964",
            "method": "animate"
           },
           {
            "args": [
             [
              "1965"
             ],
             {
              "frame": {
               "duration": 300,
               "redraw": false
              },
              "mode": "immediate",
              "transition": {
               "duration": 300
              }
             }
            ],
            "label": "1965",
            "method": "animate"
           },
           {
            "args": [
             [
              "1966"
             ],
             {
              "frame": {
               "duration": 300,
               "redraw": false
              },
              "mode": "immediate",
              "transition": {
               "duration": 300
              }
             }
            ],
            "label": "1966",
            "method": "animate"
           },
           {
            "args": [
             [
              "1967"
             ],
             {
              "frame": {
               "duration": 300,
               "redraw": false
              },
              "mode": "immediate",
              "transition": {
               "duration": 300
              }
             }
            ],
            "label": "1967",
            "method": "animate"
           },
           {
            "args": [
             [
              "1968"
             ],
             {
              "frame": {
               "duration": 300,
               "redraw": false
              },
              "mode": "immediate",
              "transition": {
               "duration": 300
              }
             }
            ],
            "label": "1968",
            "method": "animate"
           },
           {
            "args": [
             [
              "1969"
             ],
             {
              "frame": {
               "duration": 300,
               "redraw": false
              },
              "mode": "immediate",
              "transition": {
               "duration": 300
              }
             }
            ],
            "label": "1969",
            "method": "animate"
           },
           {
            "args": [
             [
              "1970"
             ],
             {
              "frame": {
               "duration": 300,
               "redraw": false
              },
              "mode": "immediate",
              "transition": {
               "duration": 300
              }
             }
            ],
            "label": "1970",
            "method": "animate"
           },
           {
            "args": [
             [
              "1971"
             ],
             {
              "frame": {
               "duration": 300,
               "redraw": false
              },
              "mode": "immediate",
              "transition": {
               "duration": 300
              }
             }
            ],
            "label": "1971",
            "method": "animate"
           },
           {
            "args": [
             [
              "1972"
             ],
             {
              "frame": {
               "duration": 300,
               "redraw": false
              },
              "mode": "immediate",
              "transition": {
               "duration": 300
              }
             }
            ],
            "label": "1972",
            "method": "animate"
           },
           {
            "args": [
             [
              "1973"
             ],
             {
              "frame": {
               "duration": 300,
               "redraw": false
              },
              "mode": "immediate",
              "transition": {
               "duration": 300
              }
             }
            ],
            "label": "1973",
            "method": "animate"
           },
           {
            "args": [
             [
              "1974"
             ],
             {
              "frame": {
               "duration": 300,
               "redraw": false
              },
              "mode": "immediate",
              "transition": {
               "duration": 300
              }
             }
            ],
            "label": "1974",
            "method": "animate"
           },
           {
            "args": [
             [
              "1975"
             ],
             {
              "frame": {
               "duration": 300,
               "redraw": false
              },
              "mode": "immediate",
              "transition": {
               "duration": 300
              }
             }
            ],
            "label": "1975",
            "method": "animate"
           },
           {
            "args": [
             [
              "1976"
             ],
             {
              "frame": {
               "duration": 300,
               "redraw": false
              },
              "mode": "immediate",
              "transition": {
               "duration": 300
              }
             }
            ],
            "label": "1976",
            "method": "animate"
           },
           {
            "args": [
             [
              "1977"
             ],
             {
              "frame": {
               "duration": 300,
               "redraw": false
              },
              "mode": "immediate",
              "transition": {
               "duration": 300
              }
             }
            ],
            "label": "1977",
            "method": "animate"
           },
           {
            "args": [
             [
              "1978"
             ],
             {
              "frame": {
               "duration": 300,
               "redraw": false
              },
              "mode": "immediate",
              "transition": {
               "duration": 300
              }
             }
            ],
            "label": "1978",
            "method": "animate"
           },
           {
            "args": [
             [
              "1979"
             ],
             {
              "frame": {
               "duration": 300,
               "redraw": false
              },
              "mode": "immediate",
              "transition": {
               "duration": 300
              }
             }
            ],
            "label": "1979",
            "method": "animate"
           },
           {
            "args": [
             [
              "1980"
             ],
             {
              "frame": {
               "duration": 300,
               "redraw": false
              },
              "mode": "immediate",
              "transition": {
               "duration": 300
              }
             }
            ],
            "label": "1980",
            "method": "animate"
           },
           {
            "args": [
             [
              "1981"
             ],
             {
              "frame": {
               "duration": 300,
               "redraw": false
              },
              "mode": "immediate",
              "transition": {
               "duration": 300
              }
             }
            ],
            "label": "1981",
            "method": "animate"
           },
           {
            "args": [
             [
              "1982"
             ],
             {
              "frame": {
               "duration": 300,
               "redraw": false
              },
              "mode": "immediate",
              "transition": {
               "duration": 300
              }
             }
            ],
            "label": "1982",
            "method": "animate"
           },
           {
            "args": [
             [
              "1983"
             ],
             {
              "frame": {
               "duration": 300,
               "redraw": false
              },
              "mode": "immediate",
              "transition": {
               "duration": 300
              }
             }
            ],
            "label": "1983",
            "method": "animate"
           },
           {
            "args": [
             [
              "1984"
             ],
             {
              "frame": {
               "duration": 300,
               "redraw": false
              },
              "mode": "immediate",
              "transition": {
               "duration": 300
              }
             }
            ],
            "label": "1984",
            "method": "animate"
           },
           {
            "args": [
             [
              "1985"
             ],
             {
              "frame": {
               "duration": 300,
               "redraw": false
              },
              "mode": "immediate",
              "transition": {
               "duration": 300
              }
             }
            ],
            "label": "1985",
            "method": "animate"
           },
           {
            "args": [
             [
              "1986"
             ],
             {
              "frame": {
               "duration": 300,
               "redraw": false
              },
              "mode": "immediate",
              "transition": {
               "duration": 300
              }
             }
            ],
            "label": "1986",
            "method": "animate"
           },
           {
            "args": [
             [
              "1987"
             ],
             {
              "frame": {
               "duration": 300,
               "redraw": false
              },
              "mode": "immediate",
              "transition": {
               "duration": 300
              }
             }
            ],
            "label": "1987",
            "method": "animate"
           },
           {
            "args": [
             [
              "1988"
             ],
             {
              "frame": {
               "duration": 300,
               "redraw": false
              },
              "mode": "immediate",
              "transition": {
               "duration": 300
              }
             }
            ],
            "label": "1988",
            "method": "animate"
           },
           {
            "args": [
             [
              "1989"
             ],
             {
              "frame": {
               "duration": 300,
               "redraw": false
              },
              "mode": "immediate",
              "transition": {
               "duration": 300
              }
             }
            ],
            "label": "1989",
            "method": "animate"
           },
           {
            "args": [
             [
              "1990"
             ],
             {
              "frame": {
               "duration": 300,
               "redraw": false
              },
              "mode": "immediate",
              "transition": {
               "duration": 300
              }
             }
            ],
            "label": "1990",
            "method": "animate"
           },
           {
            "args": [
             [
              "1991"
             ],
             {
              "frame": {
               "duration": 300,
               "redraw": false
              },
              "mode": "immediate",
              "transition": {
               "duration": 300
              }
             }
            ],
            "label": "1991",
            "method": "animate"
           },
           {
            "args": [
             [
              "1992"
             ],
             {
              "frame": {
               "duration": 300,
               "redraw": false
              },
              "mode": "immediate",
              "transition": {
               "duration": 300
              }
             }
            ],
            "label": "1992",
            "method": "animate"
           },
           {
            "args": [
             [
              "1993"
             ],
             {
              "frame": {
               "duration": 300,
               "redraw": false
              },
              "mode": "immediate",
              "transition": {
               "duration": 300
              }
             }
            ],
            "label": "1993",
            "method": "animate"
           },
           {
            "args": [
             [
              "1994"
             ],
             {
              "frame": {
               "duration": 300,
               "redraw": false
              },
              "mode": "immediate",
              "transition": {
               "duration": 300
              }
             }
            ],
            "label": "1994",
            "method": "animate"
           },
           {
            "args": [
             [
              "1995"
             ],
             {
              "frame": {
               "duration": 300,
               "redraw": false
              },
              "mode": "immediate",
              "transition": {
               "duration": 300
              }
             }
            ],
            "label": "1995",
            "method": "animate"
           },
           {
            "args": [
             [
              "1996"
             ],
             {
              "frame": {
               "duration": 300,
               "redraw": false
              },
              "mode": "immediate",
              "transition": {
               "duration": 300
              }
             }
            ],
            "label": "1996",
            "method": "animate"
           },
           {
            "args": [
             [
              "1997"
             ],
             {
              "frame": {
               "duration": 300,
               "redraw": false
              },
              "mode": "immediate",
              "transition": {
               "duration": 300
              }
             }
            ],
            "label": "1997",
            "method": "animate"
           },
           {
            "args": [
             [
              "1998"
             ],
             {
              "frame": {
               "duration": 300,
               "redraw": false
              },
              "mode": "immediate",
              "transition": {
               "duration": 300
              }
             }
            ],
            "label": "1998",
            "method": "animate"
           },
           {
            "args": [
             [
              "1999"
             ],
             {
              "frame": {
               "duration": 300,
               "redraw": false
              },
              "mode": "immediate",
              "transition": {
               "duration": 300
              }
             }
            ],
            "label": "1999",
            "method": "animate"
           },
           {
            "args": [
             [
              "2000"
             ],
             {
              "frame": {
               "duration": 300,
               "redraw": false
              },
              "mode": "immediate",
              "transition": {
               "duration": 300
              }
             }
            ],
            "label": "2000",
            "method": "animate"
           },
           {
            "args": [
             [
              "2001"
             ],
             {
              "frame": {
               "duration": 300,
               "redraw": false
              },
              "mode": "immediate",
              "transition": {
               "duration": 300
              }
             }
            ],
            "label": "2001",
            "method": "animate"
           },
           {
            "args": [
             [
              "2002"
             ],
             {
              "frame": {
               "duration": 300,
               "redraw": false
              },
              "mode": "immediate",
              "transition": {
               "duration": 300
              }
             }
            ],
            "label": "2002",
            "method": "animate"
           },
           {
            "args": [
             [
              "2003"
             ],
             {
              "frame": {
               "duration": 300,
               "redraw": false
              },
              "mode": "immediate",
              "transition": {
               "duration": 300
              }
             }
            ],
            "label": "2003",
            "method": "animate"
           },
           {
            "args": [
             [
              "2004"
             ],
             {
              "frame": {
               "duration": 300,
               "redraw": false
              },
              "mode": "immediate",
              "transition": {
               "duration": 300
              }
             }
            ],
            "label": "2004",
            "method": "animate"
           },
           {
            "args": [
             [
              "2005"
             ],
             {
              "frame": {
               "duration": 300,
               "redraw": false
              },
              "mode": "immediate",
              "transition": {
               "duration": 300
              }
             }
            ],
            "label": "2005",
            "method": "animate"
           },
           {
            "args": [
             [
              "2006"
             ],
             {
              "frame": {
               "duration": 300,
               "redraw": false
              },
              "mode": "immediate",
              "transition": {
               "duration": 300
              }
             }
            ],
            "label": "2006",
            "method": "animate"
           },
           {
            "args": [
             [
              "2007"
             ],
             {
              "frame": {
               "duration": 300,
               "redraw": false
              },
              "mode": "immediate",
              "transition": {
               "duration": 300
              }
             }
            ],
            "label": "2007",
            "method": "animate"
           },
           {
            "args": [
             [
              "2008"
             ],
             {
              "frame": {
               "duration": 300,
               "redraw": false
              },
              "mode": "immediate",
              "transition": {
               "duration": 300
              }
             }
            ],
            "label": "2008",
            "method": "animate"
           },
           {
            "args": [
             [
              "2009"
             ],
             {
              "frame": {
               "duration": 300,
               "redraw": false
              },
              "mode": "immediate",
              "transition": {
               "duration": 300
              }
             }
            ],
            "label": "2009",
            "method": "animate"
           },
           {
            "args": [
             [
              "2010"
             ],
             {
              "frame": {
               "duration": 300,
               "redraw": false
              },
              "mode": "immediate",
              "transition": {
               "duration": 300
              }
             }
            ],
            "label": "2010",
            "method": "animate"
           },
           {
            "args": [
             [
              "2011"
             ],
             {
              "frame": {
               "duration": 300,
               "redraw": false
              },
              "mode": "immediate",
              "transition": {
               "duration": 300
              }
             }
            ],
            "label": "2011",
            "method": "animate"
           },
           {
            "args": [
             [
              "2012"
             ],
             {
              "frame": {
               "duration": 300,
               "redraw": false
              },
              "mode": "immediate",
              "transition": {
               "duration": 300
              }
             }
            ],
            "label": "2012",
            "method": "animate"
           },
           {
            "args": [
             [
              "2013"
             ],
             {
              "frame": {
               "duration": 300,
               "redraw": false
              },
              "mode": "immediate",
              "transition": {
               "duration": 300
              }
             }
            ],
            "label": "2013",
            "method": "animate"
           },
           {
            "args": [
             [
              "2014"
             ],
             {
              "frame": {
               "duration": 300,
               "redraw": false
              },
              "mode": "immediate",
              "transition": {
               "duration": 300
              }
             }
            ],
            "label": "2014",
            "method": "animate"
           },
           {
            "args": [
             [
              "2015"
             ],
             {
              "frame": {
               "duration": 300,
               "redraw": false
              },
              "mode": "immediate",
              "transition": {
               "duration": 300
              }
             }
            ],
            "label": "2015",
            "method": "animate"
           },
           {
            "args": [
             [
              "2016"
             ],
             {
              "frame": {
               "duration": 300,
               "redraw": false
              },
              "mode": "immediate",
              "transition": {
               "duration": 300
              }
             }
            ],
            "label": "2016",
            "method": "animate"
           },
           {
            "args": [
             [
              "2017"
             ],
             {
              "frame": {
               "duration": 300,
               "redraw": false
              },
              "mode": "immediate",
              "transition": {
               "duration": 300
              }
             }
            ],
            "label": "2017",
            "method": "animate"
           },
           {
            "args": [
             [
              "2018"
             ],
             {
              "frame": {
               "duration": 300,
               "redraw": false
              },
              "mode": "immediate",
              "transition": {
               "duration": 300
              }
             }
            ],
            "label": "2018",
            "method": "animate"
           }
          ],
          "transition": {
           "duration": 300,
           "easing": "cubic-in-out"
          },
          "x": 0.1,
          "xanchor": "left",
          "y": 0,
          "yanchor": "top"
         }
        ],
        "title": {
         "text": "Event counts"
        },
        "updatemenus": [
         {
          "buttons": [
           {
            "args": [
             null,
             {
              "frame": {
               "duration": 500,
               "redraw": false
              },
              "fromcurrent": true,
              "transition": {
               "duration": 300,
               "easing": "quadratic-in-out"
              }
             }
            ],
            "label": "Play",
            "method": "animate"
           },
           {
            "args": [
             [
              null
             ],
             {
              "frame": {
               "duration": 0,
               "redraw": false
              },
              "mode": "immediate",
              "transition": {
               "duration": 0
              }
             }
            ],
            "label": "Pause",
            "method": "animate"
           }
          ],
          "direction": "left",
          "pad": {
           "r": 10,
           "t": 87
          },
          "showactive": false,
          "type": "buttons",
          "x": 0.1,
          "xanchor": "right",
          "y": 0,
          "yanchor": "top"
         }
        ]
       }
      },
      "text/html": [
       "<div>\n",
       "        \n",
       "        \n",
       "            <div id=\"a247356e-affa-42b4-b249-507c220cc1bb\" class=\"plotly-graph-div\" style=\"height:525px; width:100%;\"></div>\n",
       "            <script type=\"text/javascript\">\n",
       "                require([\"plotly\"], function(Plotly) {\n",
       "                    window.PLOTLYENV=window.PLOTLYENV || {};\n",
       "                    window.PLOTLYENV.BASE_URL='https://plot.ly';\n",
       "                    \n",
       "                if (document.getElementById(\"a247356e-affa-42b4-b249-507c220cc1bb\")) {\n",
       "                    Plotly.newPlot(\n",
       "                        'a247356e-affa-42b4-b249-507c220cc1bb',\n",
       "                        [{\"autocolorscale\": false, \"colorbar\": {\"title\": {\"text\": \"Events\"}}, \"colorscale\": [[0.0, \"rgb(242,240,247)\"], [0.2, \"rgb(218,218,235)\"], [0.4, \"rgb(188,189,220)\"], [0.6, \"rgb(158,154,200)\"], [0.8, \"rgb(117,107,177)\"], [1.0, \"rgb(84,39,143)\"]], \"locationmode\": \"USA-states\", \"locations\": [\"OK\", \"TX\", \"PA\", \"NE\", \"MS\", \"NM\", \"AR\", \"MO\", \"CT\", \"FL\", \"NC\", \"AL\", \"KY\", \"MD\", \"MN\", \"SD\", \"IA\", \"LA\", \"OH\", \"KS\", \"ND\", \"IN\", \"CO\", \"SC\", \"WV\", \"WY\", \"GA\", \"WI\", \"IL\", \"TN\", \"NJ\", \"MI\", \"CA\", \"MA\", \"NH\", \"OR\", \"VA\", \"AZ\", \"NY\", \"MT\", \"ME\", \"VT\", \"UT\", \"DE\", \"ID\", \"WA\", \"HI\", \"RI\", \"NV\", \"AK\"], \"marker\": {\"line\": {\"color\": \"rgb(255,255,255)\", \"width\": 2}}, \"text\": [\"OKLAHOMA\", \"TEXAS\", \"PENNSYLVANIA\", \"NEBRASKA\", \"MISSISSIPPI\", \"NEW MEXICO\", \"ARKANSAS\", \"MISSOURI\", \"CONNECTICUT\", \"FLORIDA\", \"NORTH CAROLINA\", \"ALABAMA\", \"KENTUCKY\", \"MARYLAND\", \"MINNESOTA\", \"SOUTH DAKOTA\", \"IOWA\", \"LOUISIANA\", \"OHIO\", \"KANSAS\", \"NORTH DAKOTA\", \"INDIANA\", \"COLORADO\", \"SOUTH CAROLINA\", \"WEST VIRGINIA\", \"WYOMING\", \"GEORGIA\", \"WISCONSIN\", \"ILLINOIS\", \"TENNESSEE\", \"NEW JERSEY\", \"MICHIGAN\", \"CALIFORNIA\", \"MASSACHUSETTS\", \"NEW HAMPSHIRE\", \"OREGON\", \"VIRGINIA\", \"ARIZONA\", \"NEW YORK\", \"MONTANA\", \"MAINE\", \"VERMONT\", \"UTAH\", \"DELAWARE\", \"IDAHO\", \"WASHINGTON\", \"HAWAII\", \"RHODE ISLAND\", \"NEVADA\", \"ALASKA\"], \"type\": \"choropleth\", \"uid\": \"8fe7645b-caea-40bc-b1a7-938a1a668124\", \"z\": [25, 20, 6, 6, 16, 2, 13, 6, 2, 6, 9, 2, 2, 1, 1, 1, 4, 28, 3, 33, 2, 3, 3, 1, 1, 3, 4, 6, 11, 3, 0, 0, 0, 0, 0, 0, 0, 0, 0, 0, 0, 0, 0, 0, 0, 0, 0, 0, 0, 0]}],\n",
       "                        {\"geo\": {\"lakecolor\": \"rgb(255, 255, 255)\", \"projection\": {\"type\": \"albers usa\"}, \"scope\": \"usa\", \"showlakes\": true}, \"hovermode\": \"closest\", \"sliders\": [{\"active\": 0, \"currentvalue\": {\"font\": {\"size\": 20}, \"prefix\": \"Year:\", \"visible\": true, \"xanchor\": \"right\"}, \"len\": 0.9, \"pad\": {\"b\": 10, \"t\": 50}, \"steps\": [{\"args\": [[\"1950\"], {\"frame\": {\"duration\": 300, \"redraw\": false}, \"mode\": \"immediate\", \"transition\": {\"duration\": 300}}], \"label\": \"1950\", \"method\": \"animate\"}, {\"args\": [[\"1951\"], {\"frame\": {\"duration\": 300, \"redraw\": false}, \"mode\": \"immediate\", \"transition\": {\"duration\": 300}}], \"label\": \"1951\", \"method\": \"animate\"}, {\"args\": [[\"1952\"], {\"frame\": {\"duration\": 300, \"redraw\": false}, \"mode\": \"immediate\", \"transition\": {\"duration\": 300}}], \"label\": \"1952\", \"method\": \"animate\"}, {\"args\": [[\"1953\"], {\"frame\": {\"duration\": 300, \"redraw\": false}, \"mode\": \"immediate\", \"transition\": {\"duration\": 300}}], \"label\": \"1953\", \"method\": \"animate\"}, {\"args\": [[\"1954\"], {\"frame\": {\"duration\": 300, \"redraw\": false}, \"mode\": \"immediate\", \"transition\": {\"duration\": 300}}], \"label\": \"1954\", \"method\": \"animate\"}, {\"args\": [[\"1955\"], {\"frame\": {\"duration\": 300, \"redraw\": false}, \"mode\": \"immediate\", \"transition\": {\"duration\": 300}}], \"label\": \"1955\", \"method\": \"animate\"}, {\"args\": [[\"1956\"], {\"frame\": {\"duration\": 300, \"redraw\": false}, \"mode\": \"immediate\", \"transition\": {\"duration\": 300}}], \"label\": \"1956\", \"method\": \"animate\"}, {\"args\": [[\"1957\"], {\"frame\": {\"duration\": 300, \"redraw\": false}, \"mode\": \"immediate\", \"transition\": {\"duration\": 300}}], \"label\": \"1957\", \"method\": \"animate\"}, {\"args\": [[\"1958\"], {\"frame\": {\"duration\": 300, \"redraw\": false}, \"mode\": \"immediate\", \"transition\": {\"duration\": 300}}], \"label\": \"1958\", \"method\": \"animate\"}, {\"args\": [[\"1959\"], {\"frame\": {\"duration\": 300, \"redraw\": false}, \"mode\": \"immediate\", \"transition\": {\"duration\": 300}}], \"label\": \"1959\", \"method\": \"animate\"}, {\"args\": [[\"1960\"], {\"frame\": {\"duration\": 300, \"redraw\": false}, \"mode\": \"immediate\", \"transition\": {\"duration\": 300}}], \"label\": \"1960\", \"method\": \"animate\"}, {\"args\": [[\"1961\"], {\"frame\": {\"duration\": 300, \"redraw\": false}, \"mode\": \"immediate\", \"transition\": {\"duration\": 300}}], \"label\": \"1961\", \"method\": \"animate\"}, {\"args\": [[\"1962\"], {\"frame\": {\"duration\": 300, \"redraw\": false}, \"mode\": \"immediate\", \"transition\": {\"duration\": 300}}], \"label\": \"1962\", \"method\": \"animate\"}, {\"args\": [[\"1963\"], {\"frame\": {\"duration\": 300, \"redraw\": false}, \"mode\": \"immediate\", \"transition\": {\"duration\": 300}}], \"label\": \"1963\", \"method\": \"animate\"}, {\"args\": [[\"1964\"], {\"frame\": {\"duration\": 300, \"redraw\": false}, \"mode\": \"immediate\", \"transition\": {\"duration\": 300}}], \"label\": \"1964\", \"method\": \"animate\"}, {\"args\": [[\"1965\"], {\"frame\": {\"duration\": 300, \"redraw\": false}, \"mode\": \"immediate\", \"transition\": {\"duration\": 300}}], \"label\": \"1965\", \"method\": \"animate\"}, {\"args\": [[\"1966\"], {\"frame\": {\"duration\": 300, \"redraw\": false}, \"mode\": \"immediate\", \"transition\": {\"duration\": 300}}], \"label\": \"1966\", \"method\": \"animate\"}, {\"args\": [[\"1967\"], {\"frame\": {\"duration\": 300, \"redraw\": false}, \"mode\": \"immediate\", \"transition\": {\"duration\": 300}}], \"label\": \"1967\", \"method\": \"animate\"}, {\"args\": [[\"1968\"], {\"frame\": {\"duration\": 300, \"redraw\": false}, \"mode\": \"immediate\", \"transition\": {\"duration\": 300}}], \"label\": \"1968\", \"method\": \"animate\"}, {\"args\": [[\"1969\"], {\"frame\": {\"duration\": 300, \"redraw\": false}, \"mode\": \"immediate\", \"transition\": {\"duration\": 300}}], \"label\": \"1969\", \"method\": \"animate\"}, {\"args\": [[\"1970\"], {\"frame\": {\"duration\": 300, \"redraw\": false}, \"mode\": \"immediate\", \"transition\": {\"duration\": 300}}], \"label\": \"1970\", \"method\": \"animate\"}, {\"args\": [[\"1971\"], {\"frame\": {\"duration\": 300, \"redraw\": false}, \"mode\": \"immediate\", \"transition\": {\"duration\": 300}}], \"label\": \"1971\", \"method\": \"animate\"}, {\"args\": [[\"1972\"], {\"frame\": {\"duration\": 300, \"redraw\": false}, \"mode\": \"immediate\", \"transition\": {\"duration\": 300}}], \"label\": \"1972\", \"method\": \"animate\"}, {\"args\": [[\"1973\"], {\"frame\": {\"duration\": 300, \"redraw\": false}, \"mode\": \"immediate\", \"transition\": {\"duration\": 300}}], \"label\": \"1973\", \"method\": \"animate\"}, {\"args\": [[\"1974\"], {\"frame\": {\"duration\": 300, \"redraw\": false}, \"mode\": \"immediate\", \"transition\": {\"duration\": 300}}], \"label\": \"1974\", \"method\": \"animate\"}, {\"args\": [[\"1975\"], {\"frame\": {\"duration\": 300, \"redraw\": false}, \"mode\": \"immediate\", \"transition\": {\"duration\": 300}}], \"label\": \"1975\", \"method\": \"animate\"}, {\"args\": [[\"1976\"], {\"frame\": {\"duration\": 300, \"redraw\": false}, \"mode\": \"immediate\", \"transition\": {\"duration\": 300}}], \"label\": \"1976\", \"method\": \"animate\"}, {\"args\": [[\"1977\"], {\"frame\": {\"duration\": 300, \"redraw\": false}, \"mode\": \"immediate\", \"transition\": {\"duration\": 300}}], \"label\": \"1977\", \"method\": \"animate\"}, {\"args\": [[\"1978\"], {\"frame\": {\"duration\": 300, \"redraw\": false}, \"mode\": \"immediate\", \"transition\": {\"duration\": 300}}], \"label\": \"1978\", \"method\": \"animate\"}, {\"args\": [[\"1979\"], {\"frame\": {\"duration\": 300, \"redraw\": false}, \"mode\": \"immediate\", \"transition\": {\"duration\": 300}}], \"label\": \"1979\", \"method\": \"animate\"}, {\"args\": [[\"1980\"], {\"frame\": {\"duration\": 300, \"redraw\": false}, \"mode\": \"immediate\", \"transition\": {\"duration\": 300}}], \"label\": \"1980\", \"method\": \"animate\"}, {\"args\": [[\"1981\"], {\"frame\": {\"duration\": 300, \"redraw\": false}, \"mode\": \"immediate\", \"transition\": {\"duration\": 300}}], \"label\": \"1981\", \"method\": \"animate\"}, {\"args\": [[\"1982\"], {\"frame\": {\"duration\": 300, \"redraw\": false}, \"mode\": \"immediate\", \"transition\": {\"duration\": 300}}], \"label\": \"1982\", \"method\": \"animate\"}, {\"args\": [[\"1983\"], {\"frame\": {\"duration\": 300, \"redraw\": false}, \"mode\": \"immediate\", \"transition\": {\"duration\": 300}}], \"label\": \"1983\", \"method\": \"animate\"}, {\"args\": [[\"1984\"], {\"frame\": {\"duration\": 300, \"redraw\": false}, \"mode\": \"immediate\", \"transition\": {\"duration\": 300}}], \"label\": \"1984\", \"method\": \"animate\"}, {\"args\": [[\"1985\"], {\"frame\": {\"duration\": 300, \"redraw\": false}, \"mode\": \"immediate\", \"transition\": {\"duration\": 300}}], \"label\": \"1985\", \"method\": \"animate\"}, {\"args\": [[\"1986\"], {\"frame\": {\"duration\": 300, \"redraw\": false}, \"mode\": \"immediate\", \"transition\": {\"duration\": 300}}], \"label\": \"1986\", \"method\": \"animate\"}, {\"args\": [[\"1987\"], {\"frame\": {\"duration\": 300, \"redraw\": false}, \"mode\": \"immediate\", \"transition\": {\"duration\": 300}}], \"label\": \"1987\", \"method\": \"animate\"}, {\"args\": [[\"1988\"], {\"frame\": {\"duration\": 300, \"redraw\": false}, \"mode\": \"immediate\", \"transition\": {\"duration\": 300}}], \"label\": \"1988\", \"method\": \"animate\"}, {\"args\": [[\"1989\"], {\"frame\": {\"duration\": 300, \"redraw\": false}, \"mode\": \"immediate\", \"transition\": {\"duration\": 300}}], \"label\": \"1989\", \"method\": \"animate\"}, {\"args\": [[\"1990\"], {\"frame\": {\"duration\": 300, \"redraw\": false}, \"mode\": \"immediate\", \"transition\": {\"duration\": 300}}], \"label\": \"1990\", \"method\": \"animate\"}, {\"args\": [[\"1991\"], {\"frame\": {\"duration\": 300, \"redraw\": false}, \"mode\": \"immediate\", \"transition\": {\"duration\": 300}}], \"label\": \"1991\", \"method\": \"animate\"}, {\"args\": [[\"1992\"], {\"frame\": {\"duration\": 300, \"redraw\": false}, \"mode\": \"immediate\", \"transition\": {\"duration\": 300}}], \"label\": \"1992\", \"method\": \"animate\"}, {\"args\": [[\"1993\"], {\"frame\": {\"duration\": 300, \"redraw\": false}, \"mode\": \"immediate\", \"transition\": {\"duration\": 300}}], \"label\": \"1993\", \"method\": \"animate\"}, {\"args\": [[\"1994\"], {\"frame\": {\"duration\": 300, \"redraw\": false}, \"mode\": \"immediate\", \"transition\": {\"duration\": 300}}], \"label\": \"1994\", \"method\": \"animate\"}, {\"args\": [[\"1995\"], {\"frame\": {\"duration\": 300, \"redraw\": false}, \"mode\": \"immediate\", \"transition\": {\"duration\": 300}}], \"label\": \"1995\", \"method\": \"animate\"}, {\"args\": [[\"1996\"], {\"frame\": {\"duration\": 300, \"redraw\": false}, \"mode\": \"immediate\", \"transition\": {\"duration\": 300}}], \"label\": \"1996\", \"method\": \"animate\"}, {\"args\": [[\"1997\"], {\"frame\": {\"duration\": 300, \"redraw\": false}, \"mode\": \"immediate\", \"transition\": {\"duration\": 300}}], \"label\": \"1997\", \"method\": \"animate\"}, {\"args\": [[\"1998\"], {\"frame\": {\"duration\": 300, \"redraw\": false}, \"mode\": \"immediate\", \"transition\": {\"duration\": 300}}], \"label\": \"1998\", \"method\": \"animate\"}, {\"args\": [[\"1999\"], {\"frame\": {\"duration\": 300, \"redraw\": false}, \"mode\": \"immediate\", \"transition\": {\"duration\": 300}}], \"label\": \"1999\", \"method\": \"animate\"}, {\"args\": [[\"2000\"], {\"frame\": {\"duration\": 300, \"redraw\": false}, \"mode\": \"immediate\", \"transition\": {\"duration\": 300}}], \"label\": \"2000\", \"method\": \"animate\"}, {\"args\": [[\"2001\"], {\"frame\": {\"duration\": 300, \"redraw\": false}, \"mode\": \"immediate\", \"transition\": {\"duration\": 300}}], \"label\": \"2001\", \"method\": \"animate\"}, {\"args\": [[\"2002\"], {\"frame\": {\"duration\": 300, \"redraw\": false}, \"mode\": \"immediate\", \"transition\": {\"duration\": 300}}], \"label\": \"2002\", \"method\": \"animate\"}, {\"args\": [[\"2003\"], {\"frame\": {\"duration\": 300, \"redraw\": false}, \"mode\": \"immediate\", \"transition\": {\"duration\": 300}}], \"label\": \"2003\", \"method\": \"animate\"}, {\"args\": [[\"2004\"], {\"frame\": {\"duration\": 300, \"redraw\": false}, \"mode\": \"immediate\", \"transition\": {\"duration\": 300}}], \"label\": \"2004\", \"method\": \"animate\"}, {\"args\": [[\"2005\"], {\"frame\": {\"duration\": 300, \"redraw\": false}, \"mode\": \"immediate\", \"transition\": {\"duration\": 300}}], \"label\": \"2005\", \"method\": \"animate\"}, {\"args\": [[\"2006\"], {\"frame\": {\"duration\": 300, \"redraw\": false}, \"mode\": \"immediate\", \"transition\": {\"duration\": 300}}], \"label\": \"2006\", \"method\": \"animate\"}, {\"args\": [[\"2007\"], {\"frame\": {\"duration\": 300, \"redraw\": false}, \"mode\": \"immediate\", \"transition\": {\"duration\": 300}}], \"label\": \"2007\", \"method\": \"animate\"}, {\"args\": [[\"2008\"], {\"frame\": {\"duration\": 300, \"redraw\": false}, \"mode\": \"immediate\", \"transition\": {\"duration\": 300}}], \"label\": \"2008\", \"method\": \"animate\"}, {\"args\": [[\"2009\"], {\"frame\": {\"duration\": 300, \"redraw\": false}, \"mode\": \"immediate\", \"transition\": {\"duration\": 300}}], \"label\": \"2009\", \"method\": \"animate\"}, {\"args\": [[\"2010\"], {\"frame\": {\"duration\": 300, \"redraw\": false}, \"mode\": \"immediate\", \"transition\": {\"duration\": 300}}], \"label\": \"2010\", \"method\": \"animate\"}, {\"args\": [[\"2011\"], {\"frame\": {\"duration\": 300, \"redraw\": false}, \"mode\": \"immediate\", \"transition\": {\"duration\": 300}}], \"label\": \"2011\", \"method\": \"animate\"}, {\"args\": [[\"2012\"], {\"frame\": {\"duration\": 300, \"redraw\": false}, \"mode\": \"immediate\", \"transition\": {\"duration\": 300}}], \"label\": \"2012\", \"method\": \"animate\"}, {\"args\": [[\"2013\"], {\"frame\": {\"duration\": 300, \"redraw\": false}, \"mode\": \"immediate\", \"transition\": {\"duration\": 300}}], \"label\": \"2013\", \"method\": \"animate\"}, {\"args\": [[\"2014\"], {\"frame\": {\"duration\": 300, \"redraw\": false}, \"mode\": \"immediate\", \"transition\": {\"duration\": 300}}], \"label\": \"2014\", \"method\": \"animate\"}, {\"args\": [[\"2015\"], {\"frame\": {\"duration\": 300, \"redraw\": false}, \"mode\": \"immediate\", \"transition\": {\"duration\": 300}}], \"label\": \"2015\", \"method\": \"animate\"}, {\"args\": [[\"2016\"], {\"frame\": {\"duration\": 300, \"redraw\": false}, \"mode\": \"immediate\", \"transition\": {\"duration\": 300}}], \"label\": \"2016\", \"method\": \"animate\"}, {\"args\": [[\"2017\"], {\"frame\": {\"duration\": 300, \"redraw\": false}, \"mode\": \"immediate\", \"transition\": {\"duration\": 300}}], \"label\": \"2017\", \"method\": \"animate\"}, {\"args\": [[\"2018\"], {\"frame\": {\"duration\": 300, \"redraw\": false}, \"mode\": \"immediate\", \"transition\": {\"duration\": 300}}], \"label\": \"2018\", \"method\": \"animate\"}], \"transition\": {\"duration\": 300, \"easing\": \"cubic-in-out\"}, \"x\": 0.1, \"xanchor\": \"left\", \"y\": 0, \"yanchor\": \"top\"}], \"title\": {\"text\": \"Event counts\"}, \"updatemenus\": [{\"buttons\": [{\"args\": [null, {\"frame\": {\"duration\": 500, \"redraw\": false}, \"fromcurrent\": true, \"transition\": {\"duration\": 300, \"easing\": \"quadratic-in-out\"}}], \"label\": \"Play\", \"method\": \"animate\"}, {\"args\": [[null], {\"frame\": {\"duration\": 0, \"redraw\": false}, \"mode\": \"immediate\", \"transition\": {\"duration\": 0}}], \"label\": \"Pause\", \"method\": \"animate\"}], \"direction\": \"left\", \"pad\": {\"r\": 10, \"t\": 87}, \"showactive\": false, \"type\": \"buttons\", \"x\": 0.1, \"xanchor\": \"right\", \"y\": 0, \"yanchor\": \"top\"}]},\n",
       "                        {\"showLink\": false, \"plotlyServerURL\": \"https://plot.ly\", \"responsive\": true, \"linkText\": \"Export to plot.ly\"}\n",
       "                    ).then(function(){\n",
       "                            Plotly.addFrames('a247356e-affa-42b4-b249-507c220cc1bb', [{\"name\": \"1950\", \"data\": [{\"autocolorscale\": false, \"colorbar\": {\"title\": {\"text\": \"Events\"}}, \"locations\": [\"OK\", \"TX\", \"PA\", \"NE\", \"MS\", \"NM\", \"AR\", \"MO\", \"CT\", \"FL\", \"NC\", \"AL\", \"KY\", \"MD\", \"MN\", \"SD\", \"IA\", \"LA\", \"OH\", \"KS\", \"ND\", \"IN\", \"CO\", \"SC\", \"WV\", \"WY\", \"GA\", \"WI\", \"IL\", \"TN\", \"NJ\", \"MI\", \"CA\", \"MA\", \"NH\", \"OR\", \"VA\", \"AZ\", \"NY\", \"MT\", \"ME\", \"VT\", \"UT\", \"DE\", \"ID\", \"WA\", \"HI\", \"RI\", \"NV\", \"AK\"], \"locationmode\": \"USA-states\", \"marker\": {\"line\": {\"width\": 2, \"color\": \"rgb(255,255,255)\"}}, \"colorscale\": [[0.0, \"rgb(242,240,247)\"], [0.2, \"rgb(218,218,235)\"], [0.4, \"rgb(188,189,220)\"], [0.6, \"rgb(158,154,200)\"], [0.8, \"rgb(117,107,177)\"], [1.0, \"rgb(84,39,143)\"]], \"type\": \"choropleth\", \"text\": [\"OKLAHOMA\", \"TEXAS\", \"PENNSYLVANIA\", \"NEBRASKA\", \"MISSISSIPPI\", \"NEW MEXICO\", \"ARKANSAS\", \"MISSOURI\", \"CONNECTICUT\", \"FLORIDA\", \"NORTH CAROLINA\", \"ALABAMA\", \"KENTUCKY\", \"MARYLAND\", \"MINNESOTA\", \"SOUTH DAKOTA\", \"IOWA\", \"LOUISIANA\", \"OHIO\", \"KANSAS\", \"NORTH DAKOTA\", \"INDIANA\", \"COLORADO\", \"SOUTH CAROLINA\", \"WEST VIRGINIA\", \"WYOMING\", \"GEORGIA\", \"WISCONSIN\", \"ILLINOIS\", \"TENNESSEE\", \"NEW JERSEY\", \"MICHIGAN\", \"CALIFORNIA\", \"MASSACHUSETTS\", \"NEW HAMPSHIRE\", \"OREGON\", \"VIRGINIA\", \"ARIZONA\", \"NEW YORK\", \"MONTANA\", \"MAINE\", \"VERMONT\", \"UTAH\", \"DELAWARE\", \"IDAHO\", \"WASHINGTON\", \"HAWAII\", \"RHODE ISLAND\", \"NEVADA\", \"ALASKA\"], \"z\": [25, 20, 6, 6, 16, 2, 13, 6, 2, 6, 9, 2, 2, 1, 1, 1, 4, 28, 3, 33, 2, 3, 3, 1, 1, 3, 4, 6, 11, 3, 0, 0, 0, 0, 0, 0, 0, 0, 0, 0, 0, 0, 0, 0, 0, 0, 0, 0, 0, 0]}]}, {\"name\": \"1951\", \"data\": [{\"autocolorscale\": false, \"colorbar\": {\"title\": {\"text\": \"Events\"}}, \"locations\": [\"OK\", \"TX\", \"PA\", \"NE\", \"MS\", \"NM\", \"AR\", \"MO\", \"CT\", \"FL\", \"NC\", \"AL\", \"KY\", \"MD\", \"MN\", \"SD\", \"IA\", \"LA\", \"OH\", \"KS\", \"ND\", \"IN\", \"CO\", \"SC\", \"WV\", \"WY\", \"GA\", \"WI\", \"IL\", \"TN\", \"NJ\", \"MI\", \"CA\", \"MA\", \"NH\", \"OR\", \"VA\", \"AZ\", \"NY\", \"MT\", \"ME\", \"VT\", \"UT\", \"DE\", \"ID\", \"WA\", \"HI\", \"RI\", \"NV\", \"AK\"], \"locationmode\": \"USA-states\", \"marker\": {\"line\": {\"width\": 2, \"color\": \"rgb(255,255,255)\"}}, \"colorscale\": [[0.0, \"rgb(242,240,247)\"], [0.2, \"rgb(218,218,235)\"], [0.4, \"rgb(188,189,220)\"], [0.6, \"rgb(158,154,200)\"], [0.8, \"rgb(117,107,177)\"], [1.0, \"rgb(84,39,143)\"]], \"type\": \"choropleth\", \"text\": [\"OKLAHOMA\", \"TEXAS\", \"PENNSYLVANIA\", \"NEBRASKA\", \"MISSISSIPPI\", \"NEW MEXICO\", \"ARKANSAS\", \"MISSOURI\", \"CONNECTICUT\", \"FLORIDA\", \"NORTH CAROLINA\", \"ALABAMA\", \"KENTUCKY\", \"MARYLAND\", \"MINNESOTA\", \"SOUTH DAKOTA\", \"IOWA\", \"LOUISIANA\", \"OHIO\", \"KANSAS\", \"NORTH DAKOTA\", \"INDIANA\", \"COLORADO\", \"SOUTH CAROLINA\", \"WEST VIRGINIA\", \"WYOMING\", \"GEORGIA\", \"WISCONSIN\", \"ILLINOIS\", \"TENNESSEE\", \"NEW JERSEY\", \"MICHIGAN\", \"CALIFORNIA\", \"MASSACHUSETTS\", \"NEW HAMPSHIRE\", \"OREGON\", \"VIRGINIA\", \"ARIZONA\", \"NEW YORK\", \"MONTANA\", \"MAINE\", \"VERMONT\", \"UTAH\", \"DELAWARE\", \"IDAHO\", \"WASHINGTON\", \"HAWAII\", \"RHODE ISLAND\", \"NEVADA\", \"ALASKA\"], \"z\": [45, 15, 4, 9, 9, 2, 3, 6, 3, 9, 4, 5, 2, 0, 4, 2, 5, 10, 3, 77, 2, 5, 8, 1, 1, 0, 3, 7, 5, 1, 1, 8, 1, 2, 1, 1, 5, 0, 0, 0, 0, 0, 0, 0, 0, 0, 0, 0, 0, 0]}]}, {\"name\": \"1952\", \"data\": [{\"autocolorscale\": false, \"colorbar\": {\"title\": {\"text\": \"Events\"}}, \"locations\": [\"OK\", \"TX\", \"PA\", \"NE\", \"MS\", \"NM\", \"AR\", \"MO\", \"CT\", \"FL\", \"NC\", \"AL\", \"KY\", \"MD\", \"MN\", \"SD\", \"IA\", \"LA\", \"OH\", \"KS\", \"ND\", \"IN\", \"CO\", \"SC\", \"WV\", \"WY\", \"GA\", \"WI\", \"IL\", \"TN\", \"NJ\", \"MI\", \"CA\", \"MA\", \"NH\", \"OR\", \"VA\", \"AZ\", \"NY\", \"MT\", \"ME\", \"VT\", \"UT\", \"DE\", \"ID\", \"WA\", \"HI\", \"RI\", \"NV\", \"AK\"], \"locationmode\": \"USA-states\", \"marker\": {\"line\": {\"width\": 2, \"color\": \"rgb(255,255,255)\"}}, \"colorscale\": [[0.0, \"rgb(242,240,247)\"], [0.2, \"rgb(218,218,235)\"], [0.4, \"rgb(188,189,220)\"], [0.6, \"rgb(158,154,200)\"], [0.8, \"rgb(117,107,177)\"], [1.0, \"rgb(84,39,143)\"]], \"type\": \"choropleth\", \"text\": [\"OKLAHOMA\", \"TEXAS\", \"PENNSYLVANIA\", \"NEBRASKA\", \"MISSISSIPPI\", \"NEW MEXICO\", \"ARKANSAS\", \"MISSOURI\", \"CONNECTICUT\", \"FLORIDA\", \"NORTH CAROLINA\", \"ALABAMA\", \"KENTUCKY\", \"MARYLAND\", \"MINNESOTA\", \"SOUTH DAKOTA\", \"IOWA\", \"LOUISIANA\", \"OHIO\", \"KANSAS\", \"NORTH DAKOTA\", \"INDIANA\", \"COLORADO\", \"SOUTH CAROLINA\", \"WEST VIRGINIA\", \"WYOMING\", \"GEORGIA\", \"WISCONSIN\", \"ILLINOIS\", \"TENNESSEE\", \"NEW JERSEY\", \"MICHIGAN\", \"CALIFORNIA\", \"MASSACHUSETTS\", \"NEW HAMPSHIRE\", \"OREGON\", \"VIRGINIA\", \"ARIZONA\", \"NEW YORK\", \"MONTANA\", \"MAINE\", \"VERMONT\", \"UTAH\", \"DELAWARE\", \"IDAHO\", \"WASHINGTON\", \"HAWAII\", \"RHODE ISLAND\", \"NEVADA\", \"ALASKA\"], \"z\": [25, 13, 7, 11, 7, 0, 29, 11, 0, 10, 7, 13, 3, 4, 11, 5, 6, 11, 2, 21, 11, 2, 3, 3, 0, 1, 13, 1, 4, 26, 4, 0, 1, 0, 0, 0, 3, 1, 1, 2, 0, 0, 0, 0, 0, 0, 0, 0, 0, 0]}]}, {\"name\": \"1953\", \"data\": [{\"autocolorscale\": false, \"colorbar\": {\"title\": {\"text\": \"Events\"}}, \"locations\": [\"OK\", \"TX\", \"PA\", \"NE\", \"MS\", \"NM\", \"AR\", \"MO\", \"CT\", \"FL\", \"NC\", \"AL\", \"KY\", \"MD\", \"MN\", \"SD\", \"IA\", \"LA\", \"OH\", \"KS\", \"ND\", \"IN\", \"CO\", \"SC\", \"WV\", \"WY\", \"GA\", \"WI\", \"IL\", \"TN\", \"NJ\", \"MI\", \"CA\", \"MA\", \"NH\", \"OR\", \"VA\", \"AZ\", \"NY\", \"MT\", \"ME\", \"VT\", \"UT\", \"DE\", \"ID\", \"WA\", \"HI\", \"RI\", \"NV\", \"AK\"], \"locationmode\": \"USA-states\", \"marker\": {\"line\": {\"width\": 2, \"color\": \"rgb(255,255,255)\"}}, \"colorscale\": [[0.0, \"rgb(242,240,247)\"], [0.2, \"rgb(218,218,235)\"], [0.4, \"rgb(188,189,220)\"], [0.6, \"rgb(158,154,200)\"], [0.8, \"rgb(117,107,177)\"], [1.0, \"rgb(84,39,143)\"]], \"type\": \"choropleth\", \"text\": [\"OKLAHOMA\", \"TEXAS\", \"PENNSYLVANIA\", \"NEBRASKA\", \"MISSISSIPPI\", \"NEW MEXICO\", \"ARKANSAS\", \"MISSOURI\", \"CONNECTICUT\", \"FLORIDA\", \"NORTH CAROLINA\", \"ALABAMA\", \"KENTUCKY\", \"MARYLAND\", \"MINNESOTA\", \"SOUTH DAKOTA\", \"IOWA\", \"LOUISIANA\", \"OHIO\", \"KANSAS\", \"NORTH DAKOTA\", \"INDIANA\", \"COLORADO\", \"SOUTH CAROLINA\", \"WEST VIRGINIA\", \"WYOMING\", \"GEORGIA\", \"WISCONSIN\", \"ILLINOIS\", \"TENNESSEE\", \"NEW JERSEY\", \"MICHIGAN\", \"CALIFORNIA\", \"MASSACHUSETTS\", \"NEW HAMPSHIRE\", \"OREGON\", \"VIRGINIA\", \"ARIZONA\", \"NEW YORK\", \"MONTANA\", \"MAINE\", \"VERMONT\", \"UTAH\", \"DELAWARE\", \"IDAHO\", \"WASHINGTON\", \"HAWAII\", \"RHODE ISLAND\", \"NEVADA\", \"ALASKA\"], \"z\": [56, 33, 6, 49, 26, 0, 11, 6, 0, 21, 5, 22, 0, 2, 10, 12, 32, 32, 8, 30, 10, 9, 14, 4, 0, 7, 12, 9, 5, 17, 0, 20, 2, 4, 2, 0, 6, 0, 0, 5, 2, 1, 2, 0, 0, 0, 0, 0, 0, 0]}]}, {\"name\": \"1954\", \"data\": [{\"autocolorscale\": false, \"colorbar\": {\"title\": {\"text\": \"Events\"}}, \"locations\": [\"OK\", \"TX\", \"PA\", \"NE\", \"MS\", \"NM\", \"AR\", \"MO\", \"CT\", \"FL\", \"NC\", \"AL\", \"KY\", \"MD\", \"MN\", \"SD\", \"IA\", \"LA\", \"OH\", \"KS\", \"ND\", \"IN\", \"CO\", \"SC\", \"WV\", \"WY\", \"GA\", \"WI\", \"IL\", \"TN\", \"NJ\", \"MI\", \"CA\", \"MA\", \"NH\", \"OR\", \"VA\", \"AZ\", \"NY\", \"MT\", \"ME\", \"VT\", \"UT\", \"DE\", \"ID\", \"WA\", \"HI\", \"RI\", \"NV\", \"AK\"], \"locationmode\": \"USA-states\", \"marker\": {\"line\": {\"width\": 2, \"color\": \"rgb(255,255,255)\"}}, \"colorscale\": [[0.0, \"rgb(242,240,247)\"], [0.2, \"rgb(218,218,235)\"], [0.4, \"rgb(188,189,220)\"], [0.6, \"rgb(158,154,200)\"], [0.8, \"rgb(117,107,177)\"], [1.0, \"rgb(84,39,143)\"]], \"type\": \"choropleth\", \"text\": [\"OKLAHOMA\", \"TEXAS\", \"PENNSYLVANIA\", \"NEBRASKA\", \"MISSISSIPPI\", \"NEW MEXICO\", \"ARKANSAS\", \"MISSOURI\", \"CONNECTICUT\", \"FLORIDA\", \"NORTH CAROLINA\", \"ALABAMA\", \"KENTUCKY\", \"MARYLAND\", \"MINNESOTA\", \"SOUTH DAKOTA\", \"IOWA\", \"LOUISIANA\", \"OHIO\", \"KANSAS\", \"NORTH DAKOTA\", \"INDIANA\", \"COLORADO\", \"SOUTH CAROLINA\", \"WEST VIRGINIA\", \"WYOMING\", \"GEORGIA\", \"WISCONSIN\", \"ILLINOIS\", \"TENNESSEE\", \"NEW JERSEY\", \"MICHIGAN\", \"CALIFORNIA\", \"MASSACHUSETTS\", \"NEW HAMPSHIRE\", \"OREGON\", \"VIRGINIA\", \"ARIZONA\", \"NEW YORK\", \"MONTANA\", \"MAINE\", \"VERMONT\", \"UTAH\", \"DELAWARE\", \"IDAHO\", \"WASHINGTON\", \"HAWAII\", \"RHODE ISLAND\", \"NEVADA\", \"ALASKA\"], \"z\": [61, 84, 22, 19, 19, 8, 33, 40, 2, 13, 9, 10, 3, 2, 7, 16, 19, 11, 13, 68, 4, 32, 9, 1, 3, 2, 37, 13, 9, 2, 0, 12, 1, 2, 1, 1, 5, 2, 2, 4, 2, 0, 1, 1, 3, 1, 0, 0, 0, 0]}]}, {\"name\": \"1955\", \"data\": [{\"autocolorscale\": false, \"colorbar\": {\"title\": {\"text\": \"Events\"}}, \"locations\": [\"OK\", \"TX\", \"PA\", \"NE\", \"MS\", \"NM\", \"AR\", \"MO\", \"CT\", \"FL\", \"NC\", \"AL\", \"KY\", \"MD\", \"MN\", \"SD\", \"IA\", \"LA\", \"OH\", \"KS\", \"ND\", \"IN\", \"CO\", \"SC\", \"WV\", \"WY\", \"GA\", \"WI\", \"IL\", \"TN\", \"NJ\", \"MI\", \"CA\", \"MA\", \"NH\", \"OR\", \"VA\", \"AZ\", \"NY\", \"MT\", \"ME\", \"VT\", \"UT\", \"DE\", \"ID\", \"WA\", \"HI\", \"RI\", \"NV\", \"AK\"], \"locationmode\": \"USA-states\", \"marker\": {\"line\": {\"width\": 2, \"color\": \"rgb(255,255,255)\"}}, \"colorscale\": [[0.0, \"rgb(242,240,247)\"], [0.2, \"rgb(218,218,235)\"], [0.4, \"rgb(188,189,220)\"], [0.6, \"rgb(158,154,200)\"], [0.8, \"rgb(117,107,177)\"], [1.0, \"rgb(84,39,143)\"]], \"type\": \"choropleth\", \"text\": [\"OKLAHOMA\", \"TEXAS\", \"PENNSYLVANIA\", \"NEBRASKA\", \"MISSISSIPPI\", \"NEW MEXICO\", \"ARKANSAS\", \"MISSOURI\", \"CONNECTICUT\", \"FLORIDA\", \"NORTH CAROLINA\", \"ALABAMA\", \"KENTUCKY\", \"MARYLAND\", \"MINNESOTA\", \"SOUTH DAKOTA\", \"IOWA\", \"LOUISIANA\", \"OHIO\", \"KANSAS\", \"NORTH DAKOTA\", \"INDIANA\", \"COLORADO\", \"SOUTH CAROLINA\", \"WEST VIRGINIA\", \"WYOMING\", \"GEORGIA\", \"WISCONSIN\", \"ILLINOIS\", \"TENNESSEE\", \"NEW JERSEY\", \"MICHIGAN\", \"CALIFORNIA\", \"MASSACHUSETTS\", \"NEW HAMPSHIRE\", \"OREGON\", \"VIRGINIA\", \"ARIZONA\", \"NEW YORK\", \"MONTANA\", \"MAINE\", \"VERMONT\", \"UTAH\", \"DELAWARE\", \"IDAHO\", \"WASHINGTON\", \"HAWAII\", \"RHODE ISLAND\", \"NEVADA\", \"ALASKA\"], \"z\": [136, 241, 16, 68, 18, 4, 65, 77, 3, 24, 18, 30, 18, 0, 40, 32, 25, 15, 23, 161, 26, 35, 36, 20, 5, 7, 36, 25, 62, 31, 4, 33, 7, 8, 3, 2, 13, 7, 4, 16, 1, 5, 3, 1, 2, 5, 2, 0, 0, 0]}]}, {\"name\": \"1956\", \"data\": [{\"autocolorscale\": false, \"colorbar\": {\"title\": {\"text\": \"Events\"}}, \"locations\": [\"OK\", \"TX\", \"PA\", \"NE\", \"MS\", \"NM\", \"AR\", \"MO\", \"CT\", \"FL\", \"NC\", \"AL\", \"KY\", \"MD\", \"MN\", \"SD\", \"IA\", \"LA\", \"OH\", \"KS\", \"ND\", \"IN\", \"CO\", \"SC\", \"WV\", \"WY\", \"GA\", \"WI\", \"IL\", \"TN\", \"NJ\", \"MI\", \"CA\", \"MA\", \"NH\", \"OR\", \"VA\", \"AZ\", \"NY\", \"MT\", \"ME\", \"VT\", \"UT\", \"DE\", \"ID\", \"WA\", \"HI\", \"RI\", \"NV\", \"AK\"], \"locationmode\": \"USA-states\", \"marker\": {\"line\": {\"width\": 2, \"color\": \"rgb(255,255,255)\"}}, \"colorscale\": [[0.0, \"rgb(242,240,247)\"], [0.2, \"rgb(218,218,235)\"], [0.4, \"rgb(188,189,220)\"], [0.6, \"rgb(158,154,200)\"], [0.8, \"rgb(117,107,177)\"], [1.0, \"rgb(84,39,143)\"]], \"type\": \"choropleth\", \"text\": [\"OKLAHOMA\", \"TEXAS\", \"PENNSYLVANIA\", \"NEBRASKA\", \"MISSISSIPPI\", \"NEW MEXICO\", \"ARKANSAS\", \"MISSOURI\", \"CONNECTICUT\", \"FLORIDA\", \"NORTH CAROLINA\", \"ALABAMA\", \"KENTUCKY\", \"MARYLAND\", \"MINNESOTA\", \"SOUTH DAKOTA\", \"IOWA\", \"LOUISIANA\", \"OHIO\", \"KANSAS\", \"NORTH DAKOTA\", \"INDIANA\", \"COLORADO\", \"SOUTH CAROLINA\", \"WEST VIRGINIA\", \"WYOMING\", \"GEORGIA\", \"WISCONSIN\", \"ILLINOIS\", \"TENNESSEE\", \"NEW JERSEY\", \"MICHIGAN\", \"CALIFORNIA\", \"MASSACHUSETTS\", \"NEW HAMPSHIRE\", \"OREGON\", \"VIRGINIA\", \"ARIZONA\", \"NEW YORK\", \"MONTANA\", \"MAINE\", \"VERMONT\", \"UTAH\", \"DELAWARE\", \"IDAHO\", \"WASHINGTON\", \"HAWAII\", \"RHODE ISLAND\", \"NEVADA\", \"ALASKA\"], \"z\": [186, 170, 22, 102, 16, 12, 66, 93, 5, 22, 21, 26, 19, 7, 46, 50, 46, 20, 33, 228, 17, 65, 33, 26, 5, 6, 42, 25, 63, 23, 9, 70, 2, 24, 3, 3, 26, 7, 14, 20, 2, 1, 2, 0, 17, 5, 0, 3, 0, 0]}]}, {\"name\": \"1957\", \"data\": [{\"autocolorscale\": false, \"colorbar\": {\"title\": {\"text\": \"Events\"}}, \"locations\": [\"OK\", \"TX\", \"PA\", \"NE\", \"MS\", \"NM\", \"AR\", \"MO\", \"CT\", \"FL\", \"NC\", \"AL\", \"KY\", \"MD\", \"MN\", \"SD\", \"IA\", \"LA\", \"OH\", \"KS\", \"ND\", \"IN\", \"CO\", \"SC\", \"WV\", \"WY\", \"GA\", \"WI\", \"IL\", \"TN\", \"NJ\", \"MI\", \"CA\", \"MA\", \"NH\", \"OR\", \"VA\", \"AZ\", \"NY\", \"MT\", \"ME\", \"VT\", \"UT\", \"DE\", \"ID\", \"WA\", \"HI\", \"RI\", \"NV\", \"AK\"], \"locationmode\": \"USA-states\", \"marker\": {\"line\": {\"width\": 2, \"color\": \"rgb(255,255,255)\"}}, \"colorscale\": [[0.0, \"rgb(242,240,247)\"], [0.2, \"rgb(218,218,235)\"], [0.4, \"rgb(188,189,220)\"], [0.6, \"rgb(158,154,200)\"], [0.8, \"rgb(117,107,177)\"], [1.0, \"rgb(84,39,143)\"]], \"type\": \"choropleth\", \"text\": [\"OKLAHOMA\", \"TEXAS\", \"PENNSYLVANIA\", \"NEBRASKA\", \"MISSISSIPPI\", \"NEW MEXICO\", \"ARKANSAS\", \"MISSOURI\", \"CONNECTICUT\", \"FLORIDA\", \"NORTH CAROLINA\", \"ALABAMA\", \"KENTUCKY\", \"MARYLAND\", \"MINNESOTA\", \"SOUTH DAKOTA\", \"IOWA\", \"LOUISIANA\", \"OHIO\", \"KANSAS\", \"NORTH DAKOTA\", \"INDIANA\", \"COLORADO\", \"SOUTH CAROLINA\", \"WEST VIRGINIA\", \"WYOMING\", \"GEORGIA\", \"WISCONSIN\", \"ILLINOIS\", \"TENNESSEE\", \"NEW JERSEY\", \"MICHIGAN\", \"CALIFORNIA\", \"MASSACHUSETTS\", \"NEW HAMPSHIRE\", \"OREGON\", \"VIRGINIA\", \"ARIZONA\", \"NEW YORK\", \"MONTANA\", \"MAINE\", \"VERMONT\", \"UTAH\", \"DELAWARE\", \"IDAHO\", \"WASHINGTON\", \"HAWAII\", \"RHODE ISLAND\", \"NEVADA\", \"ALASKA\"], \"z\": [250, 346, 20, 120, 52, 35, 80, 120, 6, 32, 32, 70, 19, 9, 39, 63, 46, 50, 26, 154, 41, 77, 39, 28, 10, 6, 44, 21, 83, 67, 7, 32, 11, 24, 3, 6, 25, 10, 17, 36, 3, 7, 3, 3, 5, 3, 1, 2, 1, 0]}]}, {\"name\": \"1958\", \"data\": [{\"autocolorscale\": false, \"colorbar\": {\"title\": {\"text\": \"Events\"}}, \"locations\": [\"OK\", \"TX\", \"PA\", \"NE\", \"MS\", \"NM\", \"AR\", \"MO\", \"CT\", \"FL\", \"NC\", \"AL\", \"KY\", \"MD\", \"MN\", \"SD\", \"IA\", \"LA\", \"OH\", \"KS\", \"ND\", \"IN\", \"CO\", \"SC\", \"WV\", \"WY\", \"GA\", \"WI\", \"IL\", \"TN\", \"NJ\", \"MI\", \"CA\", \"MA\", \"NH\", \"OR\", \"VA\", \"AZ\", \"NY\", \"MT\", \"ME\", \"VT\", \"UT\", \"DE\", \"ID\", \"WA\", \"HI\", \"RI\", \"NV\", \"AK\"], \"locationmode\": \"USA-states\", \"marker\": {\"line\": {\"width\": 2, \"color\": \"rgb(255,255,255)\"}}, \"colorscale\": [[0.0, \"rgb(242,240,247)\"], [0.2, \"rgb(218,218,235)\"], [0.4, \"rgb(188,189,220)\"], [0.6, \"rgb(158,154,200)\"], [0.8, \"rgb(117,107,177)\"], [1.0, \"rgb(84,39,143)\"]], \"type\": \"choropleth\", \"text\": [\"OKLAHOMA\", \"TEXAS\", \"PENNSYLVANIA\", \"NEBRASKA\", \"MISSISSIPPI\", \"NEW MEXICO\", \"ARKANSAS\", \"MISSOURI\", \"CONNECTICUT\", \"FLORIDA\", \"NORTH CAROLINA\", \"ALABAMA\", \"KENTUCKY\", \"MARYLAND\", \"MINNESOTA\", \"SOUTH DAKOTA\", \"IOWA\", \"LOUISIANA\", \"OHIO\", \"KANSAS\", \"NORTH DAKOTA\", \"INDIANA\", \"COLORADO\", \"SOUTH CAROLINA\", \"WEST VIRGINIA\", \"WYOMING\", \"GEORGIA\", \"WISCONSIN\", \"ILLINOIS\", \"TENNESSEE\", \"NEW JERSEY\", \"MICHIGAN\", \"CALIFORNIA\", \"MASSACHUSETTS\", \"NEW HAMPSHIRE\", \"OREGON\", \"VIRGINIA\", \"ARIZONA\", \"NEW YORK\", \"MONTANA\", \"MAINE\", \"VERMONT\", \"UTAH\", \"DELAWARE\", \"IDAHO\", \"WASHINGTON\", \"HAWAII\", \"RHODE ISLAND\", \"NEVADA\", \"ALASKA\"], \"z\": [134, 288, 29, 162, 40, 13, 30, 151, 5, 45, 31, 36, 25, 24, 46, 60, 49, 18, 34, 209, 30, 79, 87, 12, 9, 28, 27, 32, 106, 38, 8, 30, 35, 24, 3, 16, 24, 13, 28, 88, 15, 9, 12, 3, 21, 6, 0, 0, 1, 0]}]}, {\"name\": \"1959\", \"data\": [{\"autocolorscale\": false, \"colorbar\": {\"title\": {\"text\": \"Events\"}}, \"locations\": [\"OK\", \"TX\", \"PA\", \"NE\", \"MS\", \"NM\", \"AR\", \"MO\", \"CT\", \"FL\", \"NC\", \"AL\", \"KY\", \"MD\", \"MN\", \"SD\", \"IA\", \"LA\", \"OH\", \"KS\", \"ND\", \"IN\", \"CO\", \"SC\", \"WV\", \"WY\", \"GA\", \"WI\", \"IL\", \"TN\", \"NJ\", \"MI\", \"CA\", \"MA\", \"NH\", \"OR\", \"VA\", \"AZ\", \"NY\", \"MT\", \"ME\", \"VT\", \"UT\", \"DE\", \"ID\", \"WA\", \"HI\", \"RI\", \"NV\", \"AK\"], \"locationmode\": \"USA-states\", \"marker\": {\"line\": {\"width\": 2, \"color\": \"rgb(255,255,255)\"}}, \"colorscale\": [[0.0, \"rgb(242,240,247)\"], [0.2, \"rgb(218,218,235)\"], [0.4, \"rgb(188,189,220)\"], [0.6, \"rgb(158,154,200)\"], [0.8, \"rgb(117,107,177)\"], [1.0, \"rgb(84,39,143)\"]], \"type\": \"choropleth\", \"text\": [\"OKLAHOMA\", \"TEXAS\", \"PENNSYLVANIA\", \"NEBRASKA\", \"MISSISSIPPI\", \"NEW MEXICO\", \"ARKANSAS\", \"MISSOURI\", \"CONNECTICUT\", \"FLORIDA\", \"NORTH CAROLINA\", \"ALABAMA\", \"KENTUCKY\", \"MARYLAND\", \"MINNESOTA\", \"SOUTH DAKOTA\", \"IOWA\", \"LOUISIANA\", \"OHIO\", \"KANSAS\", \"NORTH DAKOTA\", \"INDIANA\", \"COLORADO\", \"SOUTH CAROLINA\", \"WEST VIRGINIA\", \"WYOMING\", \"GEORGIA\", \"WISCONSIN\", \"ILLINOIS\", \"TENNESSEE\", \"NEW JERSEY\", \"MICHIGAN\", \"CALIFORNIA\", \"MASSACHUSETTS\", \"NEW HAMPSHIRE\", \"OREGON\", \"VIRGINIA\", \"ARIZONA\", \"NEW YORK\", \"MONTANA\", \"MAINE\", \"VERMONT\", \"UTAH\", \"DELAWARE\", \"IDAHO\", \"WASHINGTON\", \"HAWAII\", \"RHODE ISLAND\", \"NEVADA\", \"ALASKA\"], \"z\": [189, 249, 9, 113, 33, 32, 47, 126, 4, 38, 32, 26, 24, 9, 55, 51, 66, 34, 26, 212, 27, 40, 16, 15, 3, 11, 34, 49, 65, 37, 0, 22, 5, 10, 2, 0, 19, 11, 17, 28, 8, 4, 3, 1, 6, 0, 0, 1, 4, 0]}]}, {\"name\": \"1960\", \"data\": [{\"autocolorscale\": false, \"colorbar\": {\"title\": {\"text\": \"Events\"}}, \"locations\": [\"OK\", \"TX\", \"PA\", \"NE\", \"MS\", \"NM\", \"AR\", \"MO\", \"CT\", \"FL\", \"NC\", \"AL\", \"KY\", \"MD\", \"MN\", \"SD\", \"IA\", \"LA\", \"OH\", \"KS\", \"ND\", \"IN\", \"CO\", \"SC\", \"WV\", \"WY\", \"GA\", \"WI\", \"IL\", \"TN\", \"NJ\", \"MI\", \"CA\", \"MA\", \"NH\", \"OR\", \"VA\", \"AZ\", \"NY\", \"MT\", \"ME\", \"VT\", \"UT\", \"DE\", \"ID\", \"WA\", \"HI\", \"RI\", \"NV\", \"AK\"], \"locationmode\": \"USA-states\", \"marker\": {\"line\": {\"width\": 2, \"color\": \"rgb(255,255,255)\"}}, \"colorscale\": [[0.0, \"rgb(242,240,247)\"], [0.2, \"rgb(218,218,235)\"], [0.4, \"rgb(188,189,220)\"], [0.6, \"rgb(158,154,200)\"], [0.8, \"rgb(117,107,177)\"], [1.0, \"rgb(84,39,143)\"]], \"type\": \"choropleth\", \"text\": [\"OKLAHOMA\", \"TEXAS\", \"PENNSYLVANIA\", \"NEBRASKA\", \"MISSISSIPPI\", \"NEW MEXICO\", \"ARKANSAS\", \"MISSOURI\", \"CONNECTICUT\", \"FLORIDA\", \"NORTH CAROLINA\", \"ALABAMA\", \"KENTUCKY\", \"MARYLAND\", \"MINNESOTA\", \"SOUTH DAKOTA\", \"IOWA\", \"LOUISIANA\", \"OHIO\", \"KANSAS\", \"NORTH DAKOTA\", \"INDIANA\", \"COLORADO\", \"SOUTH CAROLINA\", \"WEST VIRGINIA\", \"WYOMING\", \"GEORGIA\", \"WISCONSIN\", \"ILLINOIS\", \"TENNESSEE\", \"NEW JERSEY\", \"MICHIGAN\", \"CALIFORNIA\", \"MASSACHUSETTS\", \"NEW HAMPSHIRE\", \"OREGON\", \"VIRGINIA\", \"ARIZONA\", \"NEW YORK\", \"MONTANA\", \"MAINE\", \"VERMONT\", \"UTAH\", \"DELAWARE\", \"IDAHO\", \"WASHINGTON\", \"HAWAII\", \"RHODE ISLAND\", \"NEVADA\", \"ALASKA\"], \"z\": [252, 224, 14, 136, 26, 24, 50, 94, 6, 66, 19, 29, 17, 11, 35, 48, 89, 28, 33, 195, 35, 41, 37, 27, 2, 11, 25, 41, 105, 20, 8, 44, 5, 9, 3, 3, 49, 6, 27, 30, 8, 7, 2, 1, 3, 0, 0, 0, 0, 0]}]}, {\"name\": \"1961\", \"data\": [{\"autocolorscale\": false, \"colorbar\": {\"title\": {\"text\": \"Events\"}}, \"locations\": [\"OK\", \"TX\", \"PA\", \"NE\", \"MS\", \"NM\", \"AR\", \"MO\", \"CT\", \"FL\", \"NC\", \"AL\", \"KY\", \"MD\", \"MN\", \"SD\", \"IA\", \"LA\", \"OH\", \"KS\", \"ND\", \"IN\", \"CO\", \"SC\", \"WV\", \"WY\", \"GA\", \"WI\", \"IL\", \"TN\", \"NJ\", \"MI\", \"CA\", \"MA\", \"NH\", \"OR\", \"VA\", \"AZ\", \"NY\", \"MT\", \"ME\", \"VT\", \"UT\", \"DE\", \"ID\", \"WA\", \"HI\", \"RI\", \"NV\", \"AK\"], \"locationmode\": \"USA-states\", \"marker\": {\"line\": {\"width\": 2, \"color\": \"rgb(255,255,255)\"}}, \"colorscale\": [[0.0, \"rgb(242,240,247)\"], [0.2, \"rgb(218,218,235)\"], [0.4, \"rgb(188,189,220)\"], [0.6, \"rgb(158,154,200)\"], [0.8, \"rgb(117,107,177)\"], [1.0, \"rgb(84,39,143)\"]], \"type\": \"choropleth\", \"text\": [\"OKLAHOMA\", \"TEXAS\", \"PENNSYLVANIA\", \"NEBRASKA\", \"MISSISSIPPI\", \"NEW MEXICO\", \"ARKANSAS\", \"MISSOURI\", \"CONNECTICUT\", \"FLORIDA\", \"NORTH CAROLINA\", \"ALABAMA\", \"KENTUCKY\", \"MARYLAND\", \"MINNESOTA\", \"SOUTH DAKOTA\", \"IOWA\", \"LOUISIANA\", \"OHIO\", \"KANSAS\", \"NORTH DAKOTA\", \"INDIANA\", \"COLORADO\", \"SOUTH CAROLINA\", \"WEST VIRGINIA\", \"WYOMING\", \"GEORGIA\", \"WISCONSIN\", \"ILLINOIS\", \"TENNESSEE\", \"NEW JERSEY\", \"MICHIGAN\", \"CALIFORNIA\", \"MASSACHUSETTS\", \"NEW HAMPSHIRE\", \"OREGON\", \"VIRGINIA\", \"ARIZONA\", \"NEW YORK\", \"MONTANA\", \"MAINE\", \"VERMONT\", \"UTAH\", \"DELAWARE\", \"IDAHO\", \"WASHINGTON\", \"HAWAII\", \"RHODE ISLAND\", \"NEVADA\", \"ALASKA\"], \"z\": [224, 354, 24, 91, 34, 33, 85, 137, 7, 66, 30, 52, 35, 9, 42, 41, 70, 52, 47, 169, 12, 69, 36, 24, 8, 14, 78, 40, 113, 29, 1, 46, 2, 13, 6, 1, 28, 24, 27, 26, 14, 6, 6, 2, 9, 3, 0, 1, 6, 0]}]}, {\"name\": \"1962\", \"data\": [{\"autocolorscale\": false, \"colorbar\": {\"title\": {\"text\": \"Events\"}}, \"locations\": [\"OK\", \"TX\", \"PA\", \"NE\", \"MS\", \"NM\", \"AR\", \"MO\", \"CT\", \"FL\", \"NC\", \"AL\", \"KY\", \"MD\", \"MN\", \"SD\", \"IA\", \"LA\", \"OH\", \"KS\", \"ND\", \"IN\", \"CO\", \"SC\", \"WV\", \"WY\", \"GA\", \"WI\", \"IL\", \"TN\", \"NJ\", \"MI\", \"CA\", \"MA\", \"NH\", \"OR\", \"VA\", \"AZ\", \"NY\", \"MT\", \"ME\", \"VT\", \"UT\", \"DE\", \"ID\", \"WA\", \"HI\", \"RI\", \"NV\", \"AK\"], \"locationmode\": \"USA-states\", \"marker\": {\"line\": {\"width\": 2, \"color\": \"rgb(255,255,255)\"}}, \"colorscale\": [[0.0, \"rgb(242,240,247)\"], [0.2, \"rgb(218,218,235)\"], [0.4, \"rgb(188,189,220)\"], [0.6, \"rgb(158,154,200)\"], [0.8, \"rgb(117,107,177)\"], [1.0, \"rgb(84,39,143)\"]], \"type\": \"choropleth\", \"text\": [\"OKLAHOMA\", \"TEXAS\", \"PENNSYLVANIA\", \"NEBRASKA\", \"MISSISSIPPI\", \"NEW MEXICO\", \"ARKANSAS\", \"MISSOURI\", \"CONNECTICUT\", \"FLORIDA\", \"NORTH CAROLINA\", \"ALABAMA\", \"KENTUCKY\", \"MARYLAND\", \"MINNESOTA\", \"SOUTH DAKOTA\", \"IOWA\", \"LOUISIANA\", \"OHIO\", \"KANSAS\", \"NORTH DAKOTA\", \"INDIANA\", \"COLORADO\", \"SOUTH CAROLINA\", \"WEST VIRGINIA\", \"WYOMING\", \"GEORGIA\", \"WISCONSIN\", \"ILLINOIS\", \"TENNESSEE\", \"NEW JERSEY\", \"MICHIGAN\", \"CALIFORNIA\", \"MASSACHUSETTS\", \"NEW HAMPSHIRE\", \"OREGON\", \"VIRGINIA\", \"ARIZONA\", \"NEW YORK\", \"MONTANA\", \"MAINE\", \"VERMONT\", \"UTAH\", \"DELAWARE\", \"IDAHO\", \"WASHINGTON\", \"HAWAII\", \"RHODE ISLAND\", \"NEVADA\", \"ALASKA\"], \"z\": [232, 375, 27, 155, 45, 28, 34, 105, 12, 54, 24, 49, 20, 14, 78, 72, 88, 46, 44, 237, 45, 34, 73, 28, 11, 35, 50, 45, 58, 30, 6, 49, 5, 12, 12, 2, 36, 10, 23, 44, 4, 14, 4, 5, 13, 1, 0, 0, 1, 0]}]}, {\"name\": \"1963\", \"data\": [{\"autocolorscale\": false, \"colorbar\": {\"title\": {\"text\": \"Events\"}}, \"locations\": [\"OK\", \"TX\", \"PA\", \"NE\", \"MS\", \"NM\", \"AR\", \"MO\", \"CT\", \"FL\", \"NC\", \"AL\", \"KY\", \"MD\", \"MN\", \"SD\", \"IA\", \"LA\", \"OH\", \"KS\", \"ND\", \"IN\", \"CO\", \"SC\", \"WV\", \"WY\", \"GA\", \"WI\", \"IL\", \"TN\", \"NJ\", \"MI\", \"CA\", \"MA\", \"NH\", \"OR\", \"VA\", \"AZ\", \"NY\", \"MT\", \"ME\", \"VT\", \"UT\", \"DE\", \"ID\", \"WA\", \"HI\", \"RI\", \"NV\", \"AK\"], \"locationmode\": \"USA-states\", \"marker\": {\"line\": {\"width\": 2, \"color\": \"rgb(255,255,255)\"}}, \"colorscale\": [[0.0, \"rgb(242,240,247)\"], [0.2, \"rgb(218,218,235)\"], [0.4, \"rgb(188,189,220)\"], [0.6, \"rgb(158,154,200)\"], [0.8, \"rgb(117,107,177)\"], [1.0, \"rgb(84,39,143)\"]], \"type\": \"choropleth\", \"text\": [\"OKLAHOMA\", \"TEXAS\", \"PENNSYLVANIA\", \"NEBRASKA\", \"MISSISSIPPI\", \"NEW MEXICO\", \"ARKANSAS\", \"MISSOURI\", \"CONNECTICUT\", \"FLORIDA\", \"NORTH CAROLINA\", \"ALABAMA\", \"KENTUCKY\", \"MARYLAND\", \"MINNESOTA\", \"SOUTH DAKOTA\", \"IOWA\", \"LOUISIANA\", \"OHIO\", \"KANSAS\", \"NORTH DAKOTA\", \"INDIANA\", \"COLORADO\", \"SOUTH CAROLINA\", \"WEST VIRGINIA\", \"WYOMING\", \"GEORGIA\", \"WISCONSIN\", \"ILLINOIS\", \"TENNESSEE\", \"NEW JERSEY\", \"MICHIGAN\", \"CALIFORNIA\", \"MASSACHUSETTS\", \"NEW HAMPSHIRE\", \"OREGON\", \"VIRGINIA\", \"ARIZONA\", \"NEW YORK\", \"MONTANA\", \"MAINE\", \"VERMONT\", \"UTAH\", \"DELAWARE\", \"IDAHO\", \"WASHINGTON\", \"HAWAII\", \"RHODE ISLAND\", \"NEVADA\", \"ALASKA\"], \"z\": [182, 260, 35, 89, 32, 33, 21, 92, 8, 69, 29, 56, 26, 12, 40, 54, 57, 27, 48, 156, 32, 69, 25, 27, 5, 3, 58, 55, 78, 56, 5, 64, 0, 17, 14, 4, 6, 14, 16, 45, 18, 5, 9, 4, 7, 3, 2, 0, 1, 0]}]}, {\"name\": \"1964\", \"data\": [{\"autocolorscale\": false, \"colorbar\": {\"title\": {\"text\": \"Events\"}}, \"locations\": [\"OK\", \"TX\", \"PA\", \"NE\", \"MS\", \"NM\", \"AR\", \"MO\", \"CT\", \"FL\", \"NC\", \"AL\", \"KY\", \"MD\", \"MN\", \"SD\", \"IA\", \"LA\", \"OH\", \"KS\", \"ND\", \"IN\", \"CO\", \"SC\", \"WV\", \"WY\", \"GA\", \"WI\", \"IL\", \"TN\", \"NJ\", \"MI\", \"CA\", \"MA\", \"NH\", \"OR\", \"VA\", \"AZ\", \"NY\", \"MT\", \"ME\", \"VT\", \"UT\", \"DE\", \"ID\", \"WA\", \"HI\", \"RI\", \"NV\", \"AK\"], \"locationmode\": \"USA-states\", \"marker\": {\"line\": {\"width\": 2, \"color\": \"rgb(255,255,255)\"}}, \"colorscale\": [[0.0, \"rgb(242,240,247)\"], [0.2, \"rgb(218,218,235)\"], [0.4, \"rgb(188,189,220)\"], [0.6, \"rgb(158,154,200)\"], [0.8, \"rgb(117,107,177)\"], [1.0, \"rgb(84,39,143)\"]], \"type\": \"choropleth\", \"text\": [\"OKLAHOMA\", \"TEXAS\", \"PENNSYLVANIA\", \"NEBRASKA\", \"MISSISSIPPI\", \"NEW MEXICO\", \"ARKANSAS\", \"MISSOURI\", \"CONNECTICUT\", \"FLORIDA\", \"NORTH CAROLINA\", \"ALABAMA\", \"KENTUCKY\", \"MARYLAND\", \"MINNESOTA\", \"SOUTH DAKOTA\", \"IOWA\", \"LOUISIANA\", \"OHIO\", \"KANSAS\", \"NORTH DAKOTA\", \"INDIANA\", \"COLORADO\", \"SOUTH CAROLINA\", \"WEST VIRGINIA\", \"WYOMING\", \"GEORGIA\", \"WISCONSIN\", \"ILLINOIS\", \"TENNESSEE\", \"NEW JERSEY\", \"MICHIGAN\", \"CALIFORNIA\", \"MASSACHUSETTS\", \"NEW HAMPSHIRE\", \"OREGON\", \"VIRGINIA\", \"ARIZONA\", \"NEW YORK\", \"MONTANA\", \"MAINE\", \"VERMONT\", \"UTAH\", \"DELAWARE\", \"IDAHO\", \"WASHINGTON\", \"HAWAII\", \"RHODE ISLAND\", \"NEVADA\", \"ALASKA\"], \"z\": [202, 256, 18, 152, 48, 19, 64, 132, 4, 76, 37, 58, 38, 5, 68, 73, 135, 55, 35, 264, 34, 48, 12, 31, 8, 19, 53, 101, 66, 40, 8, 49, 7, 15, 4, 2, 7, 10, 19, 30, 4, 9, 5, 3, 13, 4, 0, 1, 7, 0]}]}, {\"name\": \"1965\", \"data\": [{\"autocolorscale\": false, \"colorbar\": {\"title\": {\"text\": \"Events\"}}, \"locations\": [\"OK\", \"TX\", \"PA\", \"NE\", \"MS\", \"NM\", \"AR\", \"MO\", \"CT\", \"FL\", \"NC\", \"AL\", \"KY\", \"MD\", \"MN\", \"SD\", \"IA\", \"LA\", \"OH\", \"KS\", \"ND\", \"IN\", \"CO\", \"SC\", \"WV\", \"WY\", \"GA\", \"WI\", \"IL\", \"TN\", \"NJ\", \"MI\", \"CA\", \"MA\", \"NH\", \"OR\", \"VA\", \"AZ\", \"NY\", \"MT\", \"ME\", \"VT\", \"UT\", \"DE\", \"ID\", \"WA\", \"HI\", \"RI\", \"NV\", \"AK\"], \"locationmode\": \"USA-states\", \"marker\": {\"line\": {\"width\": 2, \"color\": \"rgb(255,255,255)\"}}, \"colorscale\": [[0.0, \"rgb(242,240,247)\"], [0.2, \"rgb(218,218,235)\"], [0.4, \"rgb(188,189,220)\"], [0.6, \"rgb(158,154,200)\"], [0.8, \"rgb(117,107,177)\"], [1.0, \"rgb(84,39,143)\"]], \"type\": \"choropleth\", \"text\": [\"OKLAHOMA\", \"TEXAS\", \"PENNSYLVANIA\", \"NEBRASKA\", \"MISSISSIPPI\", \"NEW MEXICO\", \"ARKANSAS\", \"MISSOURI\", \"CONNECTICUT\", \"FLORIDA\", \"NORTH CAROLINA\", \"ALABAMA\", \"KENTUCKY\", \"MARYLAND\", \"MINNESOTA\", \"SOUTH DAKOTA\", \"IOWA\", \"LOUISIANA\", \"OHIO\", \"KANSAS\", \"NORTH DAKOTA\", \"INDIANA\", \"COLORADO\", \"SOUTH CAROLINA\", \"WEST VIRGINIA\", \"WYOMING\", \"GEORGIA\", \"WISCONSIN\", \"ILLINOIS\", \"TENNESSEE\", \"NEW JERSEY\", \"MICHIGAN\", \"CALIFORNIA\", \"MASSACHUSETTS\", \"NEW HAMPSHIRE\", \"OREGON\", \"VIRGINIA\", \"ARIZONA\", \"NEW YORK\", \"MONTANA\", \"MAINE\", \"VERMONT\", \"UTAH\", \"DELAWARE\", \"IDAHO\", \"WASHINGTON\", \"HAWAII\", \"RHODE ISLAND\", \"NEVADA\", \"ALASKA\"], \"z\": [210, 335, 30, 142, 71, 48, 60, 146, 5, 48, 41, 43, 33, 20, 101, 99, 128, 85, 89, 215, 77, 105, 78, 41, 16, 21, 34, 72, 123, 50, 3, 83, 6, 17, 8, 2, 17, 9, 33, 43, 9, 5, 12, 2, 12, 2, 1, 1, 4, 0]}]}, {\"name\": \"1966\", \"data\": [{\"autocolorscale\": false, \"colorbar\": {\"title\": {\"text\": \"Events\"}}, \"locations\": [\"OK\", \"TX\", \"PA\", \"NE\", \"MS\", \"NM\", \"AR\", \"MO\", \"CT\", \"FL\", \"NC\", \"AL\", \"KY\", \"MD\", \"MN\", \"SD\", \"IA\", \"LA\", \"OH\", \"KS\", \"ND\", \"IN\", \"CO\", \"SC\", \"WV\", \"WY\", \"GA\", \"WI\", \"IL\", \"TN\", \"NJ\", \"MI\", \"CA\", \"MA\", \"NH\", \"OR\", \"VA\", \"AZ\", \"NY\", \"MT\", \"ME\", \"VT\", \"UT\", \"DE\", \"ID\", \"WA\", \"HI\", \"RI\", \"NV\", \"AK\"], \"locationmode\": \"USA-states\", \"marker\": {\"line\": {\"width\": 2, \"color\": \"rgb(255,255,255)\"}}, \"colorscale\": [[0.0, \"rgb(242,240,247)\"], [0.2, \"rgb(218,218,235)\"], [0.4, \"rgb(188,189,220)\"], [0.6, \"rgb(158,154,200)\"], [0.8, \"rgb(117,107,177)\"], [1.0, \"rgb(84,39,143)\"]], \"type\": \"choropleth\", \"text\": [\"OKLAHOMA\", \"TEXAS\", \"PENNSYLVANIA\", \"NEBRASKA\", \"MISSISSIPPI\", \"NEW MEXICO\", \"ARKANSAS\", \"MISSOURI\", \"CONNECTICUT\", \"FLORIDA\", \"NORTH CAROLINA\", \"ALABAMA\", \"KENTUCKY\", \"MARYLAND\", \"MINNESOTA\", \"SOUTH DAKOTA\", \"IOWA\", \"LOUISIANA\", \"OHIO\", \"KANSAS\", \"NORTH DAKOTA\", \"INDIANA\", \"COLORADO\", \"SOUTH CAROLINA\", \"WEST VIRGINIA\", \"WYOMING\", \"GEORGIA\", \"WISCONSIN\", \"ILLINOIS\", \"TENNESSEE\", \"NEW JERSEY\", \"MICHIGAN\", \"CALIFORNIA\", \"MASSACHUSETTS\", \"NEW HAMPSHIRE\", \"OREGON\", \"VIRGINIA\", \"ARIZONA\", \"NEW YORK\", \"MONTANA\", \"MAINE\", \"VERMONT\", \"UTAH\", \"DELAWARE\", \"IDAHO\", \"WASHINGTON\", \"HAWAII\", \"RHODE ISLAND\", \"NEVADA\", \"ALASKA\"], \"z\": [232, 279, 29, 75, 85, 41, 44, 166, 7, 70, 56, 25, 22, 11, 71, 84, 87, 40, 63, 189, 67, 38, 40, 32, 8, 14, 49, 63, 83, 54, 6, 51, 8, 24, 11, 3, 20, 14, 46, 43, 6, 10, 4, 2, 12, 2, 0, 0, 2, 0]}]}, {\"name\": \"1967\", \"data\": [{\"autocolorscale\": false, \"colorbar\": {\"title\": {\"text\": \"Events\"}}, \"locations\": [\"OK\", \"TX\", \"PA\", \"NE\", \"MS\", \"NM\", \"AR\", \"MO\", \"CT\", \"FL\", \"NC\", \"AL\", \"KY\", \"MD\", \"MN\", \"SD\", \"IA\", \"LA\", \"OH\", \"KS\", \"ND\", \"IN\", \"CO\", \"SC\", \"WV\", \"WY\", \"GA\", \"WI\", \"IL\", \"TN\", \"NJ\", \"MI\", \"CA\", \"MA\", \"NH\", \"OR\", \"VA\", \"AZ\", \"NY\", \"MT\", \"ME\", \"VT\", \"UT\", \"DE\", \"ID\", \"WA\", \"HI\", \"RI\", \"NV\", \"AK\"], \"locationmode\": \"USA-states\", \"marker\": {\"line\": {\"width\": 2, \"color\": \"rgb(255,255,255)\"}}, \"colorscale\": [[0.0, \"rgb(242,240,247)\"], [0.2, \"rgb(218,218,235)\"], [0.4, \"rgb(188,189,220)\"], [0.6, \"rgb(158,154,200)\"], [0.8, \"rgb(117,107,177)\"], [1.0, \"rgb(84,39,143)\"]], \"type\": \"choropleth\", \"text\": [\"OKLAHOMA\", \"TEXAS\", \"PENNSYLVANIA\", \"NEBRASKA\", \"MISSISSIPPI\", \"NEW MEXICO\", \"ARKANSAS\", \"MISSOURI\", \"CONNECTICUT\", \"FLORIDA\", \"NORTH CAROLINA\", \"ALABAMA\", \"KENTUCKY\", \"MARYLAND\", \"MINNESOTA\", \"SOUTH DAKOTA\", \"IOWA\", \"LOUISIANA\", \"OHIO\", \"KANSAS\", \"NORTH DAKOTA\", \"INDIANA\", \"COLORADO\", \"SOUTH CAROLINA\", \"WEST VIRGINIA\", \"WYOMING\", \"GEORGIA\", \"WISCONSIN\", \"ILLINOIS\", \"TENNESSEE\", \"NEW JERSEY\", \"MICHIGAN\", \"CALIFORNIA\", \"MASSACHUSETTS\", \"NEW HAMPSHIRE\", \"OREGON\", \"VIRGINIA\", \"ARIZONA\", \"NEW YORK\", \"MONTANA\", \"MAINE\", \"VERMONT\", \"UTAH\", \"DELAWARE\", \"IDAHO\", \"WASHINGTON\", \"HAWAII\", \"RHODE ISLAND\", \"NEVADA\", \"ALASKA\"], \"z\": [194, 403, 37, 131, 85, 37, 84, 168, 0, 57, 43, 97, 45, 13, 81, 68, 123, 46, 49, 181, 39, 68, 60, 37, 21, 16, 46, 64, 115, 67, 4, 61, 7, 3, 4, 5, 28, 15, 15, 22, 5, 1, 8, 5, 24, 1, 2, 0, 3, 0]}]}, {\"name\": \"1968\", \"data\": [{\"autocolorscale\": false, \"colorbar\": {\"title\": {\"text\": \"Events\"}}, \"locations\": [\"OK\", \"TX\", \"PA\", \"NE\", \"MS\", \"NM\", \"AR\", \"MO\", \"CT\", \"FL\", \"NC\", \"AL\", \"KY\", \"MD\", \"MN\", \"SD\", \"IA\", \"LA\", \"OH\", \"KS\", \"ND\", \"IN\", \"CO\", \"SC\", \"WV\", \"WY\", \"GA\", \"WI\", \"IL\", \"TN\", \"NJ\", \"MI\", \"CA\", \"MA\", \"NH\", \"OR\", \"VA\", \"AZ\", \"NY\", \"MT\", \"ME\", \"VT\", \"UT\", \"DE\", \"ID\", \"WA\", \"HI\", \"RI\", \"NV\", \"AK\"], \"locationmode\": \"USA-states\", \"marker\": {\"line\": {\"width\": 2, \"color\": \"rgb(255,255,255)\"}}, \"colorscale\": [[0.0, \"rgb(242,240,247)\"], [0.2, \"rgb(218,218,235)\"], [0.4, \"rgb(188,189,220)\"], [0.6, \"rgb(158,154,200)\"], [0.8, \"rgb(117,107,177)\"], [1.0, \"rgb(84,39,143)\"]], \"type\": \"choropleth\", \"text\": [\"OKLAHOMA\", \"TEXAS\", \"PENNSYLVANIA\", \"NEBRASKA\", \"MISSISSIPPI\", \"NEW MEXICO\", \"ARKANSAS\", \"MISSOURI\", \"CONNECTICUT\", \"FLORIDA\", \"NORTH CAROLINA\", \"ALABAMA\", \"KENTUCKY\", \"MARYLAND\", \"MINNESOTA\", \"SOUTH DAKOTA\", \"IOWA\", \"LOUISIANA\", \"OHIO\", \"KANSAS\", \"NORTH DAKOTA\", \"INDIANA\", \"COLORADO\", \"SOUTH CAROLINA\", \"WEST VIRGINIA\", \"WYOMING\", \"GEORGIA\", \"WISCONSIN\", \"ILLINOIS\", \"TENNESSEE\", \"NEW JERSEY\", \"MICHIGAN\", \"CALIFORNIA\", \"MASSACHUSETTS\", \"NEW HAMPSHIRE\", \"OREGON\", \"VIRGINIA\", \"ARIZONA\", \"NEW YORK\", \"MONTANA\", \"MAINE\", \"VERMONT\", \"UTAH\", \"DELAWARE\", \"IDAHO\", \"WASHINGTON\", \"HAWAII\", \"RHODE ISLAND\", \"NEVADA\", \"ALASKA\"], \"z\": [284, 469, 62, 151, 117, 30, 112, 135, 8, 124, 50, 88, 83, 22, 149, 75, 134, 77, 104, 216, 37, 52, 34, 32, 18, 17, 86, 85, 65, 49, 6, 109, 0, 20, 12, 4, 35, 16, 49, 44, 13, 9, 12, 5, 11, 1, 0, 0, 1, 0]}]}, {\"name\": \"1969\", \"data\": [{\"autocolorscale\": false, \"colorbar\": {\"title\": {\"text\": \"Events\"}}, \"locations\": [\"OK\", \"TX\", \"PA\", \"NE\", \"MS\", \"NM\", \"AR\", \"MO\", \"CT\", \"FL\", \"NC\", \"AL\", \"KY\", \"MD\", \"MN\", \"SD\", \"IA\", \"LA\", \"OH\", \"KS\", \"ND\", \"IN\", \"CO\", \"SC\", \"WV\", \"WY\", \"GA\", \"WI\", \"IL\", \"TN\", \"NJ\", \"MI\", \"CA\", \"MA\", \"NH\", \"OR\", \"VA\", \"AZ\", \"NY\", \"MT\", \"ME\", \"VT\", \"UT\", \"DE\", \"ID\", \"WA\", \"HI\", \"RI\", \"NV\", \"AK\"], \"locationmode\": \"USA-states\", \"marker\": {\"line\": {\"width\": 2, \"color\": \"rgb(255,255,255)\"}}, \"colorscale\": [[0.0, \"rgb(242,240,247)\"], [0.2, \"rgb(218,218,235)\"], [0.4, \"rgb(188,189,220)\"], [0.6, \"rgb(158,154,200)\"], [0.8, \"rgb(117,107,177)\"], [1.0, \"rgb(84,39,143)\"]], \"type\": \"choropleth\", \"text\": [\"OKLAHOMA\", \"TEXAS\", \"PENNSYLVANIA\", \"NEBRASKA\", \"MISSISSIPPI\", \"NEW MEXICO\", \"ARKANSAS\", \"MISSOURI\", \"CONNECTICUT\", \"FLORIDA\", \"NORTH CAROLINA\", \"ALABAMA\", \"KENTUCKY\", \"MARYLAND\", \"MINNESOTA\", \"SOUTH DAKOTA\", \"IOWA\", \"LOUISIANA\", \"OHIO\", \"KANSAS\", \"NORTH DAKOTA\", \"INDIANA\", \"COLORADO\", \"SOUTH CAROLINA\", \"WEST VIRGINIA\", \"WYOMING\", \"GEORGIA\", \"WISCONSIN\", \"ILLINOIS\", \"TENNESSEE\", \"NEW JERSEY\", \"MICHIGAN\", \"CALIFORNIA\", \"MASSACHUSETTS\", \"NEW HAMPSHIRE\", \"OREGON\", \"VIRGINIA\", \"ARIZONA\", \"NEW YORK\", \"MONTANA\", \"MAINE\", \"VERMONT\", \"UTAH\", \"DELAWARE\", \"IDAHO\", \"WASHINGTON\", \"HAWAII\", \"RHODE ISLAND\", \"NEVADA\", \"ALASKA\"], \"z\": [159, 410, 46, 104, 98, 54, 73, 188, 7, 139, 45, 61, 75, 27, 87, 97, 150, 65, 73, 191, 34, 63, 39, 31, 36, 15, 67, 60, 75, 41, 5, 72, 3, 15, 3, 9, 37, 17, 64, 32, 5, 10, 13, 4, 14, 5, 0, 4, 4, 0]}]}, {\"name\": \"1970\", \"data\": [{\"autocolorscale\": false, \"colorbar\": {\"title\": {\"text\": \"Events\"}}, \"locations\": [\"OK\", \"TX\", \"PA\", \"NE\", \"MS\", \"NM\", \"AR\", \"MO\", \"CT\", \"FL\", \"NC\", \"AL\", \"KY\", \"MD\", \"MN\", \"SD\", \"IA\", \"LA\", \"OH\", \"KS\", \"ND\", \"IN\", \"CO\", \"SC\", \"WV\", \"WY\", \"GA\", \"WI\", \"IL\", \"TN\", \"NJ\", \"MI\", \"CA\", \"MA\", \"NH\", \"OR\", \"VA\", \"AZ\", \"NY\", \"MT\", \"ME\", \"VT\", \"UT\", \"DE\", \"ID\", \"WA\", \"HI\", \"RI\", \"NV\", \"AK\"], \"locationmode\": \"USA-states\", \"marker\": {\"line\": {\"width\": 2, \"color\": \"rgb(255,255,255)\"}}, \"colorscale\": [[0.0, \"rgb(242,240,247)\"], [0.2, \"rgb(218,218,235)\"], [0.4, \"rgb(188,189,220)\"], [0.6, \"rgb(158,154,200)\"], [0.8, \"rgb(117,107,177)\"], [1.0, \"rgb(84,39,143)\"]], \"type\": \"choropleth\", \"text\": [\"OKLAHOMA\", \"TEXAS\", \"PENNSYLVANIA\", \"NEBRASKA\", \"MISSISSIPPI\", \"NEW MEXICO\", \"ARKANSAS\", \"MISSOURI\", \"CONNECTICUT\", \"FLORIDA\", \"NORTH CAROLINA\", \"ALABAMA\", \"KENTUCKY\", \"MARYLAND\", \"MINNESOTA\", \"SOUTH DAKOTA\", \"IOWA\", \"LOUISIANA\", \"OHIO\", \"KANSAS\", \"NORTH DAKOTA\", \"INDIANA\", \"COLORADO\", \"SOUTH CAROLINA\", \"WEST VIRGINIA\", \"WYOMING\", \"GEORGIA\", \"WISCONSIN\", \"ILLINOIS\", \"TENNESSEE\", \"NEW JERSEY\", \"MICHIGAN\", \"CALIFORNIA\", \"MASSACHUSETTS\", \"NEW HAMPSHIRE\", \"OREGON\", \"VIRGINIA\", \"ARIZONA\", \"NEW YORK\", \"MONTANA\", \"MAINE\", \"VERMONT\", \"UTAH\", \"DELAWARE\", \"IDAHO\", \"WASHINGTON\", \"HAWAII\", \"RHODE ISLAND\", \"NEVADA\", \"ALASKA\"], \"z\": [163, 325, 106, 139, 124, 29, 94, 216, 5, 106, 87, 62, 106, 40, 78, 85, 154, 52, 97, 207, 46, 93, 24, 42, 17, 11, 75, 84, 100, 83, 19, 49, 7, 22, 12, 7, 41, 18, 55, 44, 13, 11, 14, 13, 30, 4, 0, 0, 6, 0]}]}, {\"name\": \"1971\", \"data\": [{\"autocolorscale\": false, \"colorbar\": {\"title\": {\"text\": \"Events\"}}, \"locations\": [\"OK\", \"TX\", \"PA\", \"NE\", \"MS\", \"NM\", \"AR\", \"MO\", \"CT\", \"FL\", \"NC\", \"AL\", \"KY\", \"MD\", \"MN\", \"SD\", \"IA\", \"LA\", \"OH\", \"KS\", \"ND\", \"IN\", \"CO\", \"SC\", \"WV\", \"WY\", \"GA\", \"WI\", \"IL\", \"TN\", \"NJ\", \"MI\", \"CA\", \"MA\", \"NH\", \"OR\", \"VA\", \"AZ\", \"NY\", \"MT\", \"ME\", \"VT\", \"UT\", \"DE\", \"ID\", \"WA\", \"HI\", \"RI\", \"NV\", \"AK\"], \"locationmode\": \"USA-states\", \"marker\": {\"line\": {\"width\": 2, \"color\": \"rgb(255,255,255)\"}}, \"colorscale\": [[0.0, \"rgb(242,240,247)\"], [0.2, \"rgb(218,218,235)\"], [0.4, \"rgb(188,189,220)\"], [0.6, \"rgb(158,154,200)\"], [0.8, \"rgb(117,107,177)\"], [1.0, \"rgb(84,39,143)\"]], \"type\": \"choropleth\", \"text\": [\"OKLAHOMA\", \"TEXAS\", \"PENNSYLVANIA\", \"NEBRASKA\", \"MISSISSIPPI\", \"NEW MEXICO\", \"ARKANSAS\", \"MISSOURI\", \"CONNECTICUT\", \"FLORIDA\", \"NORTH CAROLINA\", \"ALABAMA\", \"KENTUCKY\", \"MARYLAND\", \"MINNESOTA\", \"SOUTH DAKOTA\", \"IOWA\", \"LOUISIANA\", \"OHIO\", \"KANSAS\", \"NORTH DAKOTA\", \"INDIANA\", \"COLORADO\", \"SOUTH CAROLINA\", \"WEST VIRGINIA\", \"WYOMING\", \"GEORGIA\", \"WISCONSIN\", \"ILLINOIS\", \"TENNESSEE\", \"NEW JERSEY\", \"MICHIGAN\", \"CALIFORNIA\", \"MASSACHUSETTS\", \"NEW HAMPSHIRE\", \"OREGON\", \"VIRGINIA\", \"ARIZONA\", \"NEW YORK\", \"MONTANA\", \"MAINE\", \"VERMONT\", \"UTAH\", \"DELAWARE\", \"IDAHO\", \"WASHINGTON\", \"HAWAII\", \"RHODE ISLAND\", \"NEVADA\", \"ALASKA\"], \"z\": [189, 483, 42, 141, 128, 36, 84, 182, 11, 151, 44, 135, 96, 32, 101, 93, 177, 64, 81, 236, 51, 89, 63, 48, 6, 15, 150, 100, 85, 68, 5, 69, 3, 22, 11, 5, 21, 25, 36, 33, 20, 5, 6, 9, 6, 5, 5, 2, 2, 0]}]}, {\"name\": \"1972\", \"data\": [{\"autocolorscale\": false, \"colorbar\": {\"title\": {\"text\": \"Events\"}}, \"locations\": [\"OK\", \"TX\", \"PA\", \"NE\", \"MS\", \"NM\", \"AR\", \"MO\", \"CT\", \"FL\", \"NC\", \"AL\", \"KY\", \"MD\", \"MN\", \"SD\", \"IA\", \"LA\", \"OH\", \"KS\", \"ND\", \"IN\", \"CO\", \"SC\", \"WV\", \"WY\", \"GA\", \"WI\", \"IL\", \"TN\", \"NJ\", \"MI\", \"CA\", \"MA\", \"NH\", \"OR\", \"VA\", \"AZ\", \"NY\", \"MT\", \"ME\", \"VT\", \"UT\", \"DE\", \"ID\", \"WA\", \"HI\", \"RI\", \"NV\", \"AK\"], \"locationmode\": \"USA-states\", \"marker\": {\"line\": {\"width\": 2, \"color\": \"rgb(255,255,255)\"}}, \"colorscale\": [[0.0, \"rgb(242,240,247)\"], [0.2, \"rgb(218,218,235)\"], [0.4, \"rgb(188,189,220)\"], [0.6, \"rgb(158,154,200)\"], [0.8, \"rgb(117,107,177)\"], [1.0, \"rgb(84,39,143)\"]], \"type\": \"choropleth\", \"text\": [\"OKLAHOMA\", \"TEXAS\", \"PENNSYLVANIA\", \"NEBRASKA\", \"MISSISSIPPI\", \"NEW MEXICO\", \"ARKANSAS\", \"MISSOURI\", \"CONNECTICUT\", \"FLORIDA\", \"NORTH CAROLINA\", \"ALABAMA\", \"KENTUCKY\", \"MARYLAND\", \"MINNESOTA\", \"SOUTH DAKOTA\", \"IOWA\", \"LOUISIANA\", \"OHIO\", \"KANSAS\", \"NORTH DAKOTA\", \"INDIANA\", \"COLORADO\", \"SOUTH CAROLINA\", \"WEST VIRGINIA\", \"WYOMING\", \"GEORGIA\", \"WISCONSIN\", \"ILLINOIS\", \"TENNESSEE\", \"NEW JERSEY\", \"MICHIGAN\", \"CALIFORNIA\", \"MASSACHUSETTS\", \"NEW HAMPSHIRE\", \"OREGON\", \"VIRGINIA\", \"ARIZONA\", \"NEW YORK\", \"MONTANA\", \"MAINE\", \"VERMONT\", \"UTAH\", \"DELAWARE\", \"IDAHO\", \"WASHINGTON\", \"HAWAII\", \"RHODE ISLAND\", \"NEVADA\", \"ALASKA\"], \"z\": [82, 399, 15, 84, 105, 41, 74, 97, 4, 139, 15, 61, 28, 3, 32, 67, 64, 65, 35, 155, 25, 25, 53, 13, 4, 18, 79, 52, 101, 44, 1, 35, 10, 21, 9, 3, 12, 36, 19, 18, 3, 6, 2, 0, 4, 6, 0, 1, 6, 0]}]}, {\"name\": \"1973\", \"data\": [{\"autocolorscale\": false, \"colorbar\": {\"title\": {\"text\": \"Events\"}}, \"locations\": [\"OK\", \"TX\", \"PA\", \"NE\", \"MS\", \"NM\", \"AR\", \"MO\", \"CT\", \"FL\", \"NC\", \"AL\", \"KY\", \"MD\", \"MN\", \"SD\", \"IA\", \"LA\", \"OH\", \"KS\", \"ND\", \"IN\", \"CO\", \"SC\", \"WV\", \"WY\", \"GA\", \"WI\", \"IL\", \"TN\", \"NJ\", \"MI\", \"CA\", \"MA\", \"NH\", \"OR\", \"VA\", \"AZ\", \"NY\", \"MT\", \"ME\", \"VT\", \"UT\", \"DE\", \"ID\", \"WA\", \"HI\", \"RI\", \"NV\", \"AK\"], \"locationmode\": \"USA-states\", \"marker\": {\"line\": {\"width\": 2, \"color\": \"rgb(255,255,255)\"}}, \"colorscale\": [[0.0, \"rgb(242,240,247)\"], [0.2, \"rgb(218,218,235)\"], [0.4, \"rgb(188,189,220)\"], [0.6, \"rgb(158,154,200)\"], [0.8, \"rgb(117,107,177)\"], [1.0, \"rgb(84,39,143)\"]], \"type\": \"choropleth\", \"text\": [\"OKLAHOMA\", \"TEXAS\", \"PENNSYLVANIA\", \"NEBRASKA\", \"MISSISSIPPI\", \"NEW MEXICO\", \"ARKANSAS\", \"MISSOURI\", \"CONNECTICUT\", \"FLORIDA\", \"NORTH CAROLINA\", \"ALABAMA\", \"KENTUCKY\", \"MARYLAND\", \"MINNESOTA\", \"SOUTH DAKOTA\", \"IOWA\", \"LOUISIANA\", \"OHIO\", \"KANSAS\", \"NORTH DAKOTA\", \"INDIANA\", \"COLORADO\", \"SOUTH CAROLINA\", \"WEST VIRGINIA\", \"WYOMING\", \"GEORGIA\", \"WISCONSIN\", \"ILLINOIS\", \"TENNESSEE\", \"NEW JERSEY\", \"MICHIGAN\", \"CALIFORNIA\", \"MASSACHUSETTS\", \"NEW HAMPSHIRE\", \"OREGON\", \"VIRGINIA\", \"ARIZONA\", \"NEW YORK\", \"MONTANA\", \"MAINE\", \"VERMONT\", \"UTAH\", \"DELAWARE\", \"IDAHO\", \"WASHINGTON\", \"HAWAII\", \"RHODE ISLAND\", \"NEVADA\", \"ALASKA\"], \"z\": [257, 503, 95, 201, 174, 22, 159, 309, 18, 115, 82, 186, 106, 19, 132, 107, 181, 131, 165, 259, 70, 101, 89, 68, 6, 27, 98, 105, 173, 104, 13, 97, 8, 43, 12, 1, 19, 14, 76, 41, 14, 10, 14, 3, 13, 1, 1, 3, 8, 0]}]}, {\"name\": \"1974\", \"data\": [{\"autocolorscale\": false, \"colorbar\": {\"title\": {\"text\": \"Events\"}}, \"locations\": [\"OK\", \"TX\", \"PA\", \"NE\", \"MS\", \"NM\", \"AR\", \"MO\", \"CT\", \"FL\", \"NC\", \"AL\", \"KY\", \"MD\", \"MN\", \"SD\", \"IA\", \"LA\", \"OH\", \"KS\", \"ND\", \"IN\", \"CO\", \"SC\", \"WV\", \"WY\", \"GA\", \"WI\", \"IL\", \"TN\", \"NJ\", \"MI\", \"CA\", \"MA\", \"NH\", \"OR\", \"VA\", \"AZ\", \"NY\", \"MT\", \"ME\", \"VT\", \"UT\", \"DE\", \"ID\", \"WA\", \"HI\", \"RI\", \"NV\", \"AK\"], \"locationmode\": \"USA-states\", \"marker\": {\"line\": {\"width\": 2, \"color\": \"rgb(255,255,255)\"}}, \"colorscale\": [[0.0, \"rgb(242,240,247)\"], [0.2, \"rgb(218,218,235)\"], [0.4, \"rgb(188,189,220)\"], [0.6, \"rgb(158,154,200)\"], [0.8, \"rgb(117,107,177)\"], [1.0, \"rgb(84,39,143)\"]], \"type\": \"choropleth\", \"text\": [\"OKLAHOMA\", \"TEXAS\", \"PENNSYLVANIA\", \"NEBRASKA\", \"MISSISSIPPI\", \"NEW MEXICO\", \"ARKANSAS\", \"MISSOURI\", \"CONNECTICUT\", \"FLORIDA\", \"NORTH CAROLINA\", \"ALABAMA\", \"KENTUCKY\", \"MARYLAND\", \"MINNESOTA\", \"SOUTH DAKOTA\", \"IOWA\", \"LOUISIANA\", \"OHIO\", \"KANSAS\", \"NORTH DAKOTA\", \"INDIANA\", \"COLORADO\", \"SOUTH CAROLINA\", \"WEST VIRGINIA\", \"WYOMING\", \"GEORGIA\", \"WISCONSIN\", \"ILLINOIS\", \"TENNESSEE\", \"NEW JERSEY\", \"MICHIGAN\", \"CALIFORNIA\", \"MASSACHUSETTS\", \"NEW HAMPSHIRE\", \"OREGON\", \"VIRGINIA\", \"ARIZONA\", \"NEW YORK\", \"MONTANA\", \"MAINE\", \"VERMONT\", \"UTAH\", \"DELAWARE\", \"IDAHO\", \"WASHINGTON\", \"HAWAII\", \"RHODE ISLAND\", \"NEVADA\", \"ALASKA\"], \"z\": [171, 424, 128, 266, 134, 27, 126, 226, 13, 155, 79, 185, 144, 31, 200, 115, 343, 180, 213, 415, 81, 166, 60, 100, 30, 27, 173, 108, 462, 159, 18, 137, 6, 15, 8, 1, 66, 39, 80, 26, 17, 4, 0, 7, 0, 2, 0, 3, 4, 0]}]}, {\"name\": \"1975\", \"data\": [{\"autocolorscale\": false, \"colorbar\": {\"title\": {\"text\": \"Events\"}}, \"locations\": [\"OK\", \"TX\", \"PA\", \"NE\", \"MS\", \"NM\", \"AR\", \"MO\", \"CT\", \"FL\", \"NC\", \"AL\", \"KY\", \"MD\", \"MN\", \"SD\", \"IA\", \"LA\", \"OH\", \"KS\", \"ND\", \"IN\", \"CO\", \"SC\", \"WV\", \"WY\", \"GA\", \"WI\", \"IL\", \"TN\", \"NJ\", \"MI\", \"CA\", \"MA\", \"NH\", \"OR\", \"VA\", \"AZ\", \"NY\", \"MT\", \"ME\", \"VT\", \"UT\", \"DE\", \"ID\", \"WA\", \"HI\", \"RI\", \"NV\", \"AK\"], \"locationmode\": \"USA-states\", \"marker\": {\"line\": {\"width\": 2, \"color\": \"rgb(255,255,255)\"}}, \"colorscale\": [[0.0, \"rgb(242,240,247)\"], [0.2, \"rgb(218,218,235)\"], [0.4, \"rgb(188,189,220)\"], [0.6, \"rgb(158,154,200)\"], [0.8, \"rgb(117,107,177)\"], [1.0, \"rgb(84,39,143)\"]], \"type\": \"choropleth\", \"text\": [\"OKLAHOMA\", \"TEXAS\", \"PENNSYLVANIA\", \"NEBRASKA\", \"MISSISSIPPI\", \"NEW MEXICO\", \"ARKANSAS\", \"MISSOURI\", \"CONNECTICUT\", \"FLORIDA\", \"NORTH CAROLINA\", \"ALABAMA\", \"KENTUCKY\", \"MARYLAND\", \"MINNESOTA\", \"SOUTH DAKOTA\", \"IOWA\", \"LOUISIANA\", \"OHIO\", \"KANSAS\", \"NORTH DAKOTA\", \"INDIANA\", \"COLORADO\", \"SOUTH CAROLINA\", \"WEST VIRGINIA\", \"WYOMING\", \"GEORGIA\", \"WISCONSIN\", \"ILLINOIS\", \"TENNESSEE\", \"NEW JERSEY\", \"MICHIGAN\", \"CALIFORNIA\", \"MASSACHUSETTS\", \"NEW HAMPSHIRE\", \"OREGON\", \"VIRGINIA\", \"ARIZONA\", \"NEW YORK\", \"MONTANA\", \"MAINE\", \"VERMONT\", \"UTAH\", \"DELAWARE\", \"IDAHO\", \"WASHINGTON\", \"HAWAII\", \"RHODE ISLAND\", \"NEVADA\", \"ALASKA\"], \"z\": [227, 497, 109, 243, 215, 23, 153, 249, 5, 210, 148, 133, 51, 44, 147, 128, 211, 225, 84, 230, 62, 107, 79, 112, 31, 33, 152, 100, 300, 83, 17, 182, 8, 3, 11, 7, 93, 27, 67, 64, 15, 14, 6, 16, 36, 11, 1, 0, 5, 0]}]}, {\"name\": \"1976\", \"data\": [{\"autocolorscale\": false, \"colorbar\": {\"title\": {\"text\": \"Events\"}}, \"locations\": [\"OK\", \"TX\", \"PA\", \"NE\", \"MS\", \"NM\", \"AR\", \"MO\", \"CT\", \"FL\", \"NC\", \"AL\", \"KY\", \"MD\", \"MN\", \"SD\", \"IA\", \"LA\", \"OH\", \"KS\", \"ND\", \"IN\", \"CO\", \"SC\", \"WV\", \"WY\", \"GA\", \"WI\", \"IL\", \"TN\", \"NJ\", \"MI\", \"CA\", \"MA\", \"NH\", \"OR\", \"VA\", \"AZ\", \"NY\", \"MT\", \"ME\", \"VT\", \"UT\", \"DE\", \"ID\", \"WA\", \"HI\", \"RI\", \"NV\", \"AK\"], \"locationmode\": \"USA-states\", \"marker\": {\"line\": {\"width\": 2, \"color\": \"rgb(255,255,255)\"}}, \"colorscale\": [[0.0, \"rgb(242,240,247)\"], [0.2, \"rgb(218,218,235)\"], [0.4, \"rgb(188,189,220)\"], [0.6, \"rgb(158,154,200)\"], [0.8, \"rgb(117,107,177)\"], [1.0, \"rgb(84,39,143)\"]], \"type\": \"choropleth\", \"text\": [\"OKLAHOMA\", \"TEXAS\", \"PENNSYLVANIA\", \"NEBRASKA\", \"MISSISSIPPI\", \"NEW MEXICO\", \"ARKANSAS\", \"MISSOURI\", \"CONNECTICUT\", \"FLORIDA\", \"NORTH CAROLINA\", \"ALABAMA\", \"KENTUCKY\", \"MARYLAND\", \"MINNESOTA\", \"SOUTH DAKOTA\", \"IOWA\", \"LOUISIANA\", \"OHIO\", \"KANSAS\", \"NORTH DAKOTA\", \"INDIANA\", \"COLORADO\", \"SOUTH CAROLINA\", \"WEST VIRGINIA\", \"WYOMING\", \"GEORGIA\", \"WISCONSIN\", \"ILLINOIS\", \"TENNESSEE\", \"NEW JERSEY\", \"MICHIGAN\", \"CALIFORNIA\", \"MASSACHUSETTS\", \"NEW HAMPSHIRE\", \"OREGON\", \"VIRGINIA\", \"ARIZONA\", \"NEW YORK\", \"MONTANA\", \"MAINE\", \"VERMONT\", \"UTAH\", \"DELAWARE\", \"IDAHO\", \"WASHINGTON\", \"HAWAII\", \"RHODE ISLAND\", \"NEVADA\", \"ALASKA\"], \"z\": [161, 585, 104, 138, 179, 17, 111, 124, 10, 127, 86, 100, 73, 28, 110, 43, 112, 121, 109, 134, 128, 150, 72, 57, 17, 38, 87, 61, 157, 74, 13, 141, 9, 21, 12, 1, 55, 30, 50, 41, 5, 8, 12, 12, 25, 5, 0, 1, 11, 0]}]}, {\"name\": \"1977\", \"data\": [{\"autocolorscale\": false, \"colorbar\": {\"title\": {\"text\": \"Events\"}}, \"locations\": [\"OK\", \"TX\", \"PA\", \"NE\", \"MS\", \"NM\", \"AR\", \"MO\", \"CT\", \"FL\", \"NC\", \"AL\", \"KY\", \"MD\", \"MN\", \"SD\", \"IA\", \"LA\", \"OH\", \"KS\", \"ND\", \"IN\", \"CO\", \"SC\", \"WV\", \"WY\", \"GA\", \"WI\", \"IL\", \"TN\", \"NJ\", \"MI\", \"CA\", \"MA\", \"NH\", \"OR\", \"VA\", \"AZ\", \"NY\", \"MT\", \"ME\", \"VT\", \"UT\", \"DE\", \"ID\", \"WA\", \"HI\", \"RI\", \"NV\", \"AK\"], \"locationmode\": \"USA-states\", \"marker\": {\"line\": {\"width\": 2, \"color\": \"rgb(255,255,255)\"}}, \"colorscale\": [[0.0, \"rgb(242,240,247)\"], [0.2, \"rgb(218,218,235)\"], [0.4, \"rgb(188,189,220)\"], [0.6, \"rgb(158,154,200)\"], [0.8, \"rgb(117,107,177)\"], [1.0, \"rgb(84,39,143)\"]], \"type\": \"choropleth\", \"text\": [\"OKLAHOMA\", \"TEXAS\", \"PENNSYLVANIA\", \"NEBRASKA\", \"MISSISSIPPI\", \"NEW MEXICO\", \"ARKANSAS\", \"MISSOURI\", \"CONNECTICUT\", \"FLORIDA\", \"NORTH CAROLINA\", \"ALABAMA\", \"KENTUCKY\", \"MARYLAND\", \"MINNESOTA\", \"SOUTH DAKOTA\", \"IOWA\", \"LOUISIANA\", \"OHIO\", \"KANSAS\", \"NORTH DAKOTA\", \"INDIANA\", \"COLORADO\", \"SOUTH CAROLINA\", \"WEST VIRGINIA\", \"WYOMING\", \"GEORGIA\", \"WISCONSIN\", \"ILLINOIS\", \"TENNESSEE\", \"NEW JERSEY\", \"MICHIGAN\", \"CALIFORNIA\", \"MASSACHUSETTS\", \"NEW HAMPSHIRE\", \"OREGON\", \"VIRGINIA\", \"ARIZONA\", \"NEW YORK\", \"MONTANA\", \"MAINE\", \"VERMONT\", \"UTAH\", \"DELAWARE\", \"IDAHO\", \"WASHINGTON\", \"HAWAII\", \"RHODE ISLAND\", \"NEVADA\", \"ALASKA\"], \"z\": [192, 379, 83, 256, 127, 27, 103, 174, 4, 92, 90, 131, 86, 13, 157, 119, 101, 111, 88, 202, 151, 98, 96, 56, 22, 45, 75, 135, 164, 69, 13, 80, 6, 6, 8, 4, 71, 21, 23, 13, 6, 3, 6, 10, 6, 0, 0, 0, 6, 0]}]}, {\"name\": \"1978\", \"data\": [{\"autocolorscale\": false, \"colorbar\": {\"title\": {\"text\": \"Events\"}}, \"locations\": [\"OK\", \"TX\", \"PA\", \"NE\", \"MS\", \"NM\", \"AR\", \"MO\", \"CT\", \"FL\", \"NC\", \"AL\", \"KY\", \"MD\", \"MN\", \"SD\", \"IA\", \"LA\", \"OH\", \"KS\", \"ND\", \"IN\", \"CO\", \"SC\", \"WV\", \"WY\", \"GA\", \"WI\", \"IL\", \"TN\", \"NJ\", \"MI\", \"CA\", \"MA\", \"NH\", \"OR\", \"VA\", \"AZ\", \"NY\", \"MT\", \"ME\", \"VT\", \"UT\", \"DE\", \"ID\", \"WA\", \"HI\", \"RI\", \"NV\", \"AK\"], \"locationmode\": \"USA-states\", \"marker\": {\"line\": {\"width\": 2, \"color\": \"rgb(255,255,255)\"}}, \"colorscale\": [[0.0, \"rgb(242,240,247)\"], [0.2, \"rgb(218,218,235)\"], [0.4, \"rgb(188,189,220)\"], [0.6, \"rgb(158,154,200)\"], [0.8, \"rgb(117,107,177)\"], [1.0, \"rgb(84,39,143)\"]], \"type\": \"choropleth\", \"text\": [\"OKLAHOMA\", \"TEXAS\", \"PENNSYLVANIA\", \"NEBRASKA\", \"MISSISSIPPI\", \"NEW MEXICO\", \"ARKANSAS\", \"MISSOURI\", \"CONNECTICUT\", \"FLORIDA\", \"NORTH CAROLINA\", \"ALABAMA\", \"KENTUCKY\", \"MARYLAND\", \"MINNESOTA\", \"SOUTH DAKOTA\", \"IOWA\", \"LOUISIANA\", \"OHIO\", \"KANSAS\", \"NORTH DAKOTA\", \"INDIANA\", \"COLORADO\", \"SOUTH CAROLINA\", \"WEST VIRGINIA\", \"WYOMING\", \"GEORGIA\", \"WISCONSIN\", \"ILLINOIS\", \"TENNESSEE\", \"NEW JERSEY\", \"MICHIGAN\", \"CALIFORNIA\", \"MASSACHUSETTS\", \"NEW HAMPSHIRE\", \"OREGON\", \"VIRGINIA\", \"ARIZONA\", \"NEW YORK\", \"MONTANA\", \"MAINE\", \"VERMONT\", \"UTAH\", \"DELAWARE\", \"IDAHO\", \"WASHINGTON\", \"HAWAII\", \"RHODE ISLAND\", \"NEVADA\", \"ALASKA\"], \"z\": [132, 496, 81, 265, 101, 26, 125, 175, 1, 186, 65, 119, 46, 20, 135, 121, 141, 98, 69, 224, 186, 92, 58, 33, 11, 54, 83, 73, 113, 43, 3, 71, 20, 2, 6, 3, 31, 27, 37, 47, 8, 1, 5, 2, 6, 6, 1, 0, 6, 0]}]}, {\"name\": \"1979\", \"data\": [{\"autocolorscale\": false, \"colorbar\": {\"title\": {\"text\": \"Events\"}}, \"locations\": [\"OK\", \"TX\", \"PA\", \"NE\", \"MS\", \"NM\", \"AR\", \"MO\", \"CT\", \"FL\", \"NC\", \"AL\", \"KY\", \"MD\", \"MN\", \"SD\", \"IA\", \"LA\", \"OH\", \"KS\", \"ND\", \"IN\", \"CO\", \"SC\", \"WV\", \"WY\", \"GA\", \"WI\", \"IL\", \"TN\", \"NJ\", \"MI\", \"CA\", \"MA\", \"NH\", \"OR\", \"VA\", \"AZ\", \"NY\", \"MT\", \"ME\", \"VT\", \"UT\", \"DE\", \"ID\", \"WA\", \"HI\", \"RI\", \"NV\", \"AK\"], \"locationmode\": \"USA-states\", \"marker\": {\"line\": {\"width\": 2, \"color\": \"rgb(255,255,255)\"}}, \"colorscale\": [[0.0, \"rgb(242,240,247)\"], [0.2, \"rgb(218,218,235)\"], [0.4, \"rgb(188,189,220)\"], [0.6, \"rgb(158,154,200)\"], [0.8, \"rgb(117,107,177)\"], [1.0, \"rgb(84,39,143)\"]], \"type\": \"choropleth\", \"text\": [\"OKLAHOMA\", \"TEXAS\", \"PENNSYLVANIA\", \"NEBRASKA\", \"MISSISSIPPI\", \"NEW MEXICO\", \"ARKANSAS\", \"MISSOURI\", \"CONNECTICUT\", \"FLORIDA\", \"NORTH CAROLINA\", \"ALABAMA\", \"KENTUCKY\", \"MARYLAND\", \"MINNESOTA\", \"SOUTH DAKOTA\", \"IOWA\", \"LOUISIANA\", \"OHIO\", \"KANSAS\", \"NORTH DAKOTA\", \"INDIANA\", \"COLORADO\", \"SOUTH CAROLINA\", \"WEST VIRGINIA\", \"WYOMING\", \"GEORGIA\", \"WISCONSIN\", \"ILLINOIS\", \"TENNESSEE\", \"NEW JERSEY\", \"MICHIGAN\", \"CALIFORNIA\", \"MASSACHUSETTS\", \"NEW HAMPSHIRE\", \"OREGON\", \"VIRGINIA\", \"ARIZONA\", \"NEW YORK\", \"MONTANA\", \"MAINE\", \"VERMONT\", \"UTAH\", \"DELAWARE\", \"IDAHO\", \"WASHINGTON\", \"HAWAII\", \"RHODE ISLAND\", \"NEVADA\", \"ALASKA\"], \"z\": [307, 726, 80, 339, 81, 35, 139, 134, 9, 141, 64, 97, 73, 28, 202, 115, 206, 105, 58, 206, 117, 142, 116, 25, 18, 75, 111, 91, 72, 45, 9, 95, 10, 14, 7, 0, 30, 29, 46, 23, 2, 8, 4, 4, 24, 2, 0, 4, 10, 0]}]}, {\"name\": \"1980\", \"data\": [{\"autocolorscale\": false, \"colorbar\": {\"title\": {\"text\": \"Events\"}}, \"locations\": [\"OK\", \"TX\", \"PA\", \"NE\", \"MS\", \"NM\", \"AR\", \"MO\", \"CT\", \"FL\", \"NC\", \"AL\", \"KY\", \"MD\", \"MN\", \"SD\", \"IA\", \"LA\", \"OH\", \"KS\", \"ND\", \"IN\", \"CO\", \"SC\", \"WV\", \"WY\", \"GA\", \"WI\", \"IL\", \"TN\", \"NJ\", \"MI\", \"CA\", \"MA\", \"NH\", \"OR\", \"VA\", \"AZ\", \"NY\", \"MT\", \"ME\", \"VT\", \"UT\", \"DE\", \"ID\", \"WA\", \"HI\", \"RI\", \"NV\", \"AK\"], \"locationmode\": \"USA-states\", \"marker\": {\"line\": {\"width\": 2, \"color\": \"rgb(255,255,255)\"}}, \"colorscale\": [[0.0, \"rgb(242,240,247)\"], [0.2, \"rgb(218,218,235)\"], [0.4, \"rgb(188,189,220)\"], [0.6, \"rgb(158,154,200)\"], [0.8, \"rgb(117,107,177)\"], [1.0, \"rgb(84,39,143)\"]], \"type\": \"choropleth\", \"text\": [\"OKLAHOMA\", \"TEXAS\", \"PENNSYLVANIA\", \"NEBRASKA\", \"MISSISSIPPI\", \"NEW MEXICO\", \"ARKANSAS\", \"MISSOURI\", \"CONNECTICUT\", \"FLORIDA\", \"NORTH CAROLINA\", \"ALABAMA\", \"KENTUCKY\", \"MARYLAND\", \"MINNESOTA\", \"SOUTH DAKOTA\", \"IOWA\", \"LOUISIANA\", \"OHIO\", \"KANSAS\", \"NORTH DAKOTA\", \"INDIANA\", \"COLORADO\", \"SOUTH CAROLINA\", \"WEST VIRGINIA\", \"WYOMING\", \"GEORGIA\", \"WISCONSIN\", \"ILLINOIS\", \"TENNESSEE\", \"NEW JERSEY\", \"MICHIGAN\", \"CALIFORNIA\", \"MASSACHUSETTS\", \"NEW HAMPSHIRE\", \"OREGON\", \"VIRGINIA\", \"ARIZONA\", \"NEW YORK\", \"MONTANA\", \"MAINE\", \"VERMONT\", \"UTAH\", \"DELAWARE\", \"IDAHO\", \"WASHINGTON\", \"HAWAII\", \"RHODE ISLAND\", \"NEVADA\", \"ALASKA\"], \"z\": [215, 772, 137, 434, 99, 12, 112, 205, 4, 141, 76, 134, 96, 36, 253, 252, 288, 133, 409, 248, 225, 355, 82, 41, 76, 45, 187, 262, 251, 54, 24, 178, 28, 6, 10, 0, 83, 22, 55, 35, 9, 10, 7, 13, 8, 2, 1, 0, 7, 0]}]}, {\"name\": \"1981\", \"data\": [{\"autocolorscale\": false, \"colorbar\": {\"title\": {\"text\": \"Events\"}}, \"locations\": [\"OK\", \"TX\", \"PA\", \"NE\", \"MS\", \"NM\", \"AR\", \"MO\", \"CT\", \"FL\", \"NC\", \"AL\", \"KY\", \"MD\", \"MN\", \"SD\", \"IA\", \"LA\", \"OH\", \"KS\", \"ND\", \"IN\", \"CO\", \"SC\", \"WV\", \"WY\", \"GA\", \"WI\", \"IL\", \"TN\", \"NJ\", \"MI\", \"CA\", \"MA\", \"NH\", \"OR\", \"VA\", \"AZ\", \"NY\", \"MT\", \"ME\", \"VT\", \"UT\", \"DE\", \"ID\", \"WA\", \"HI\", \"RI\", \"NV\", \"AK\"], \"locationmode\": \"USA-states\", \"marker\": {\"line\": {\"width\": 2, \"color\": \"rgb(255,255,255)\"}}, \"colorscale\": [[0.0, \"rgb(242,240,247)\"], [0.2, \"rgb(218,218,235)\"], [0.4, \"rgb(188,189,220)\"], [0.6, \"rgb(158,154,200)\"], [0.8, \"rgb(117,107,177)\"], [1.0, \"rgb(84,39,143)\"]], \"type\": \"choropleth\", \"text\": [\"OKLAHOMA\", \"TEXAS\", \"PENNSYLVANIA\", \"NEBRASKA\", \"MISSISSIPPI\", \"NEW MEXICO\", \"ARKANSAS\", \"MISSOURI\", \"CONNECTICUT\", \"FLORIDA\", \"NORTH CAROLINA\", \"ALABAMA\", \"KENTUCKY\", \"MARYLAND\", \"MINNESOTA\", \"SOUTH DAKOTA\", \"IOWA\", \"LOUISIANA\", \"OHIO\", \"KANSAS\", \"NORTH DAKOTA\", \"INDIANA\", \"COLORADO\", \"SOUTH CAROLINA\", \"WEST VIRGINIA\", \"WYOMING\", \"GEORGIA\", \"WISCONSIN\", \"ILLINOIS\", \"TENNESSEE\", \"NEW JERSEY\", \"MICHIGAN\", \"CALIFORNIA\", \"MASSACHUSETTS\", \"NEW HAMPSHIRE\", \"OREGON\", \"VIRGINIA\", \"ARIZONA\", \"NEW YORK\", \"MONTANA\", \"MAINE\", \"VERMONT\", \"UTAH\", \"DELAWARE\", \"IDAHO\", \"WASHINGTON\", \"HAWAII\", \"RHODE ISLAND\", \"NEVADA\", \"ALASKA\"], \"z\": [231, 768, 57, 282, 76, 21, 101, 270, 2, 136, 59, 113, 102, 14, 174, 159, 190, 131, 151, 257, 133, 129, 132, 25, 24, 30, 120, 130, 202, 40, 8, 48, 13, 19, 8, 4, 26, 25, 16, 36, 8, 8, 10, 3, 15, 3, 0, 1, 6, 0]}]}, {\"name\": \"1982\", \"data\": [{\"autocolorscale\": false, \"colorbar\": {\"title\": {\"text\": \"Events\"}}, \"locations\": [\"OK\", \"TX\", \"PA\", \"NE\", \"MS\", \"NM\", \"AR\", \"MO\", \"CT\", \"FL\", \"NC\", \"AL\", \"KY\", \"MD\", \"MN\", \"SD\", \"IA\", \"LA\", \"OH\", \"KS\", \"ND\", \"IN\", \"CO\", \"SC\", \"WV\", \"WY\", \"GA\", \"WI\", \"IL\", \"TN\", \"NJ\", \"MI\", \"CA\", \"MA\", \"NH\", \"OR\", \"VA\", \"AZ\", \"NY\", \"MT\", \"ME\", \"VT\", \"UT\", \"DE\", \"ID\", \"WA\", \"HI\", \"RI\", \"NV\", \"AK\"], \"locationmode\": \"USA-states\", \"marker\": {\"line\": {\"width\": 2, \"color\": \"rgb(255,255,255)\"}}, \"colorscale\": [[0.0, \"rgb(242,240,247)\"], [0.2, \"rgb(218,218,235)\"], [0.4, \"rgb(188,189,220)\"], [0.6, \"rgb(158,154,200)\"], [0.8, \"rgb(117,107,177)\"], [1.0, \"rgb(84,39,143)\"]], \"type\": \"choropleth\", \"text\": [\"OKLAHOMA\", \"TEXAS\", \"PENNSYLVANIA\", \"NEBRASKA\", \"MISSISSIPPI\", \"NEW MEXICO\", \"ARKANSAS\", \"MISSOURI\", \"CONNECTICUT\", \"FLORIDA\", \"NORTH CAROLINA\", \"ALABAMA\", \"KENTUCKY\", \"MARYLAND\", \"MINNESOTA\", \"SOUTH DAKOTA\", \"IOWA\", \"LOUISIANA\", \"OHIO\", \"KANSAS\", \"NORTH DAKOTA\", \"INDIANA\", \"COLORADO\", \"SOUTH CAROLINA\", \"WEST VIRGINIA\", \"WYOMING\", \"GEORGIA\", \"WISCONSIN\", \"ILLINOIS\", \"TENNESSEE\", \"NEW JERSEY\", \"MICHIGAN\", \"CALIFORNIA\", \"MASSACHUSETTS\", \"NEW HAMPSHIRE\", \"OREGON\", \"VIRGINIA\", \"ARIZONA\", \"NEW YORK\", \"MONTANA\", \"MAINE\", \"VERMONT\", \"UTAH\", \"DELAWARE\", \"IDAHO\", \"WASHINGTON\", \"HAWAII\", \"RHODE ISLAND\", \"NEVADA\", \"ALASKA\"], \"z\": [379, 956, 52, 394, 123, 41, 395, 551, 11, 160, 95, 172, 173, 30, 193, 258, 154, 197, 311, 452, 189, 228, 235, 78, 18, 51, 152, 144, 300, 81, 15, 124, 32, 7, 2, 26, 61, 34, 109, 62, 12, 3, 13, 7, 26, 10, 3, 0, 6, 0]}]}, {\"name\": \"1983\", \"data\": [{\"autocolorscale\": false, \"colorbar\": {\"title\": {\"text\": \"Events\"}}, \"locations\": [\"OK\", \"TX\", \"PA\", \"NE\", \"MS\", \"NM\", \"AR\", \"MO\", \"CT\", \"FL\", \"NC\", \"AL\", \"KY\", \"MD\", \"MN\", \"SD\", \"IA\", \"LA\", \"OH\", \"KS\", \"ND\", \"IN\", \"CO\", \"SC\", \"WV\", \"WY\", \"GA\", \"WI\", \"IL\", \"TN\", \"NJ\", \"MI\", \"CA\", \"MA\", \"NH\", \"OR\", \"VA\", \"AZ\", \"NY\", \"MT\", \"ME\", \"VT\", \"UT\", \"DE\", \"ID\", \"WA\", \"HI\", \"RI\", \"NV\", \"AK\"], \"locationmode\": \"USA-states\", \"marker\": {\"line\": {\"width\": 2, \"color\": \"rgb(255,255,255)\"}}, \"colorscale\": [[0.0, \"rgb(242,240,247)\"], [0.2, \"rgb(218,218,235)\"], [0.4, \"rgb(188,189,220)\"], [0.6, \"rgb(158,154,200)\"], [0.8, \"rgb(117,107,177)\"], [1.0, \"rgb(84,39,143)\"]], \"type\": \"choropleth\", \"text\": [\"OKLAHOMA\", \"TEXAS\", \"PENNSYLVANIA\", \"NEBRASKA\", \"MISSISSIPPI\", \"NEW MEXICO\", \"ARKANSAS\", \"MISSOURI\", \"CONNECTICUT\", \"FLORIDA\", \"NORTH CAROLINA\", \"ALABAMA\", \"KENTUCKY\", \"MARYLAND\", \"MINNESOTA\", \"SOUTH DAKOTA\", \"IOWA\", \"LOUISIANA\", \"OHIO\", \"KANSAS\", \"NORTH DAKOTA\", \"INDIANA\", \"COLORADO\", \"SOUTH CAROLINA\", \"WEST VIRGINIA\", \"WYOMING\", \"GEORGIA\", \"WISCONSIN\", \"ILLINOIS\", \"TENNESSEE\", \"NEW JERSEY\", \"MICHIGAN\", \"CALIFORNIA\", \"MASSACHUSETTS\", \"NEW HAMPSHIRE\", \"OREGON\", \"VIRGINIA\", \"ARIZONA\", \"NEW YORK\", \"MONTANA\", \"MAINE\", \"VERMONT\", \"UTAH\", \"DELAWARE\", \"IDAHO\", \"WASHINGTON\", \"HAWAII\", \"RHODE ISLAND\", \"NEVADA\", \"ALASKA\"], \"z\": [630, 944, 149, 215, 169, 15, 306, 280, 26, 287, 123, 280, 204, 70, 287, 197, 211, 403, 362, 260, 254, 204, 241, 130, 86, 59, 170, 381, 164, 72, 19, 314, 38, 37, 26, 7, 152, 56, 237, 68, 52, 22, 37, 16, 41, 7, 1, 9, 4, 0]}]}, {\"name\": \"1984\", \"data\": [{\"autocolorscale\": false, \"colorbar\": {\"title\": {\"text\": \"Events\"}}, \"locations\": [\"OK\", \"TX\", \"PA\", \"NE\", \"MS\", \"NM\", \"AR\", \"MO\", \"CT\", \"FL\", \"NC\", \"AL\", \"KY\", \"MD\", \"MN\", \"SD\", \"IA\", \"LA\", \"OH\", \"KS\", \"ND\", \"IN\", \"CO\", \"SC\", \"WV\", \"WY\", \"GA\", \"WI\", \"IL\", \"TN\", \"NJ\", \"MI\", \"CA\", \"MA\", \"NH\", \"OR\", \"VA\", \"AZ\", \"NY\", \"MT\", \"ME\", \"VT\", \"UT\", \"DE\", \"ID\", \"WA\", \"HI\", \"RI\", \"NV\", \"AK\"], \"locationmode\": \"USA-states\", \"marker\": {\"line\": {\"width\": 2, \"color\": \"rgb(255,255,255)\"}}, \"colorscale\": [[0.0, \"rgb(242,240,247)\"], [0.2, \"rgb(218,218,235)\"], [0.4, \"rgb(188,189,220)\"], [0.6, \"rgb(158,154,200)\"], [0.8, \"rgb(117,107,177)\"], [1.0, \"rgb(84,39,143)\"]], \"type\": \"choropleth\", \"text\": [\"OKLAHOMA\", \"TEXAS\", \"PENNSYLVANIA\", \"NEBRASKA\", \"MISSISSIPPI\", \"NEW MEXICO\", \"ARKANSAS\", \"MISSOURI\", \"CONNECTICUT\", \"FLORIDA\", \"NORTH CAROLINA\", \"ALABAMA\", \"KENTUCKY\", \"MARYLAND\", \"MINNESOTA\", \"SOUTH DAKOTA\", \"IOWA\", \"LOUISIANA\", \"OHIO\", \"KANSAS\", \"NORTH DAKOTA\", \"INDIANA\", \"COLORADO\", \"SOUTH CAROLINA\", \"WEST VIRGINIA\", \"WYOMING\", \"GEORGIA\", \"WISCONSIN\", \"ILLINOIS\", \"TENNESSEE\", \"NEW JERSEY\", \"MICHIGAN\", \"CALIFORNIA\", \"MASSACHUSETTS\", \"NEW HAMPSHIRE\", \"OREGON\", \"VIRGINIA\", \"ARIZONA\", \"NEW YORK\", \"MONTANA\", \"MAINE\", \"VERMONT\", \"UTAH\", \"DELAWARE\", \"IDAHO\", \"WASHINGTON\", \"HAWAII\", \"RHODE ISLAND\", \"NEVADA\", \"ALASKA\"], \"z\": [661, 721, 69, 253, 155, 16, 384, 384, 17, 125, 284, 286, 160, 27, 255, 168, 285, 378, 113, 351, 98, 94, 140, 195, 26, 60, 330, 309, 229, 208, 18, 118, 12, 17, 11, 9, 73, 28, 101, 44, 14, 2, 34, 10, 38, 3, 0, 1, 20, 0]}]}, {\"name\": \"1985\", \"data\": [{\"autocolorscale\": false, \"colorbar\": {\"title\": {\"text\": \"Events\"}}, \"locations\": [\"OK\", \"TX\", \"PA\", \"NE\", \"MS\", \"NM\", \"AR\", \"MO\", \"CT\", \"FL\", \"NC\", \"AL\", \"KY\", \"MD\", \"MN\", \"SD\", \"IA\", \"LA\", \"OH\", \"KS\", \"ND\", \"IN\", \"CO\", \"SC\", \"WV\", \"WY\", \"GA\", \"WI\", \"IL\", \"TN\", \"NJ\", \"MI\", \"CA\", \"MA\", \"NH\", \"OR\", \"VA\", \"AZ\", \"NY\", \"MT\", \"ME\", \"VT\", \"UT\", \"DE\", \"ID\", \"WA\", \"HI\", \"RI\", \"NV\", \"AK\"], \"locationmode\": \"USA-states\", \"marker\": {\"line\": {\"width\": 2, \"color\": \"rgb(255,255,255)\"}}, \"colorscale\": [[0.0, \"rgb(242,240,247)\"], [0.2, \"rgb(218,218,235)\"], [0.4, \"rgb(188,189,220)\"], [0.6, \"rgb(158,154,200)\"], [0.8, \"rgb(117,107,177)\"], [1.0, \"rgb(84,39,143)\"]], \"type\": \"choropleth\", \"text\": [\"OKLAHOMA\", \"TEXAS\", \"PENNSYLVANIA\", \"NEBRASKA\", \"MISSISSIPPI\", \"NEW MEXICO\", \"ARKANSAS\", \"MISSOURI\", \"CONNECTICUT\", \"FLORIDA\", \"NORTH CAROLINA\", \"ALABAMA\", \"KENTUCKY\", \"MARYLAND\", \"MINNESOTA\", \"SOUTH DAKOTA\", \"IOWA\", \"LOUISIANA\", \"OHIO\", \"KANSAS\", \"NORTH DAKOTA\", \"INDIANA\", \"COLORADO\", \"SOUTH CAROLINA\", \"WEST VIRGINIA\", \"WYOMING\", \"GEORGIA\", \"WISCONSIN\", \"ILLINOIS\", \"TENNESSEE\", \"NEW JERSEY\", \"MICHIGAN\", \"CALIFORNIA\", \"MASSACHUSETTS\", \"NEW HAMPSHIRE\", \"OREGON\", \"VIRGINIA\", \"ARIZONA\", \"NEW YORK\", \"MONTANA\", \"MAINE\", \"VERMONT\", \"UTAH\", \"DELAWARE\", \"IDAHO\", \"WASHINGTON\", \"HAWAII\", \"RHODE ISLAND\", \"NEVADA\", \"ALASKA\"], \"z\": [736, 886, 258, 321, 228, 21, 283, 254, 15, 122, 489, 335, 144, 24, 274, 283, 241, 301, 245, 415, 127, 213, 140, 194, 11, 31, 250, 177, 145, 176, 42, 203, 8, 29, 7, 2, 51, 24, 137, 32, 27, 4, 33, 4, 15, 6, 1, 1, 12, 0]}]}, {\"name\": \"1986\", \"data\": [{\"autocolorscale\": false, \"colorbar\": {\"title\": {\"text\": \"Events\"}}, \"locations\": [\"OK\", \"TX\", \"PA\", \"NE\", \"MS\", \"NM\", \"AR\", \"MO\", \"CT\", \"FL\", \"NC\", \"AL\", \"KY\", \"MD\", \"MN\", \"SD\", \"IA\", \"LA\", \"OH\", \"KS\", \"ND\", \"IN\", \"CO\", \"SC\", \"WV\", \"WY\", \"GA\", \"WI\", \"IL\", \"TN\", \"NJ\", \"MI\", \"CA\", \"MA\", \"NH\", \"OR\", \"VA\", \"AZ\", \"NY\", \"MT\", \"ME\", \"VT\", \"UT\", \"DE\", \"ID\", \"WA\", \"HI\", \"RI\", \"NV\", \"AK\"], \"locationmode\": \"USA-states\", \"marker\": {\"line\": {\"width\": 2, \"color\": \"rgb(255,255,255)\"}}, \"colorscale\": [[0.0, \"rgb(242,240,247)\"], [0.2, \"rgb(218,218,235)\"], [0.4, \"rgb(188,189,220)\"], [0.6, \"rgb(158,154,200)\"], [0.8, \"rgb(117,107,177)\"], [1.0, \"rgb(84,39,143)\"]], \"type\": \"choropleth\", \"text\": [\"OKLAHOMA\", \"TEXAS\", \"PENNSYLVANIA\", \"NEBRASKA\", \"MISSISSIPPI\", \"NEW MEXICO\", \"ARKANSAS\", \"MISSOURI\", \"CONNECTICUT\", \"FLORIDA\", \"NORTH CAROLINA\", \"ALABAMA\", \"KENTUCKY\", \"MARYLAND\", \"MINNESOTA\", \"SOUTH DAKOTA\", \"IOWA\", \"LOUISIANA\", \"OHIO\", \"KANSAS\", \"NORTH DAKOTA\", \"INDIANA\", \"COLORADO\", \"SOUTH CAROLINA\", \"WEST VIRGINIA\", \"WYOMING\", \"GEORGIA\", \"WISCONSIN\", \"ILLINOIS\", \"TENNESSEE\", \"NEW JERSEY\", \"MICHIGAN\", \"CALIFORNIA\", \"MASSACHUSETTS\", \"NEW HAMPSHIRE\", \"OREGON\", \"VIRGINIA\", \"ARIZONA\", \"NEW YORK\", \"MONTANA\", \"MAINE\", \"VERMONT\", \"UTAH\", \"DELAWARE\", \"IDAHO\", \"WASHINGTON\", \"HAWAII\", \"RHODE ISLAND\", \"NEVADA\", \"ALASKA\"], \"z\": [1055, 1018, 228, 409, 193, 22, 281, 204, 2, 186, 392, 266, 164, 28, 203, 238, 358, 139, 303, 664, 180, 274, 127, 121, 44, 89, 232, 145, 211, 93, 13, 168, 23, 18, 52, 1, 62, 61, 240, 27, 64, 51, 29, 3, 25, 3, 2, 4, 9, 0]}]}, {\"name\": \"1987\", \"data\": [{\"autocolorscale\": false, \"colorbar\": {\"title\": {\"text\": \"Events\"}}, \"locations\": [\"OK\", \"TX\", \"PA\", \"NE\", \"MS\", \"NM\", \"AR\", \"MO\", \"CT\", \"FL\", \"NC\", \"AL\", \"KY\", \"MD\", \"MN\", \"SD\", \"IA\", \"LA\", \"OH\", \"KS\", \"ND\", \"IN\", \"CO\", \"SC\", \"WV\", \"WY\", \"GA\", \"WI\", \"IL\", \"TN\", \"NJ\", \"MI\", \"CA\", \"MA\", \"NH\", \"OR\", \"VA\", \"AZ\", \"NY\", \"MT\", \"ME\", \"VT\", \"UT\", \"DE\", \"ID\", \"WA\", \"HI\", \"RI\", \"NV\", \"AK\"], \"locationmode\": \"USA-states\", \"marker\": {\"line\": {\"width\": 2, \"color\": \"rgb(255,255,255)\"}}, \"colorscale\": [[0.0, \"rgb(242,240,247)\"], [0.2, \"rgb(218,218,235)\"], [0.4, \"rgb(188,189,220)\"], [0.6, \"rgb(158,154,200)\"], [0.8, \"rgb(117,107,177)\"], [1.0, \"rgb(84,39,143)\"]], \"type\": \"choropleth\", \"text\": [\"OKLAHOMA\", \"TEXAS\", \"PENNSYLVANIA\", \"NEBRASKA\", \"MISSISSIPPI\", \"NEW MEXICO\", \"ARKANSAS\", \"MISSOURI\", \"CONNECTICUT\", \"FLORIDA\", \"NORTH CAROLINA\", \"ALABAMA\", \"KENTUCKY\", \"MARYLAND\", \"MINNESOTA\", \"SOUTH DAKOTA\", \"IOWA\", \"LOUISIANA\", \"OHIO\", \"KANSAS\", \"NORTH DAKOTA\", \"INDIANA\", \"COLORADO\", \"SOUTH CAROLINA\", \"WEST VIRGINIA\", \"WYOMING\", \"GEORGIA\", \"WISCONSIN\", \"ILLINOIS\", \"TENNESSEE\", \"NEW JERSEY\", \"MICHIGAN\", \"CALIFORNIA\", \"MASSACHUSETTS\", \"NEW HAMPSHIRE\", \"OREGON\", \"VIRGINIA\", \"ARIZONA\", \"NEW YORK\", \"MONTANA\", \"MAINE\", \"VERMONT\", \"UTAH\", \"DELAWARE\", \"IDAHO\", \"WASHINGTON\", \"HAWAII\", \"RHODE ISLAND\", \"NEVADA\", \"ALASKA\"], \"z\": [626, 892, 177, 219, 230, 54, 162, 245, 4, 115, 296, 155, 236, 9, 207, 205, 248, 289, 222, 527, 114, 267, 186, 128, 27, 84, 124, 213, 232, 59, 103, 184, 13, 7, 22, 6, 26, 33, 174, 26, 37, 40, 33, 6, 71, 4, 0, 2, 22, 0]}]}, {\"name\": \"1988\", \"data\": [{\"autocolorscale\": false, \"colorbar\": {\"title\": {\"text\": \"Events\"}}, \"locations\": [\"OK\", \"TX\", \"PA\", \"NE\", \"MS\", \"NM\", \"AR\", \"MO\", \"CT\", \"FL\", \"NC\", \"AL\", \"KY\", \"MD\", \"MN\", \"SD\", \"IA\", \"LA\", \"OH\", \"KS\", \"ND\", \"IN\", \"CO\", \"SC\", \"WV\", \"WY\", \"GA\", \"WI\", \"IL\", \"TN\", \"NJ\", \"MI\", \"CA\", \"MA\", \"NH\", \"OR\", \"VA\", \"AZ\", \"NY\", \"MT\", \"ME\", \"VT\", \"UT\", \"DE\", \"ID\", \"WA\", \"HI\", \"RI\", \"NV\", \"AK\"], \"locationmode\": \"USA-states\", \"marker\": {\"line\": {\"width\": 2, \"color\": \"rgb(255,255,255)\"}}, \"colorscale\": [[0.0, \"rgb(242,240,247)\"], [0.2, \"rgb(218,218,235)\"], [0.4, \"rgb(188,189,220)\"], [0.6, \"rgb(158,154,200)\"], [0.8, \"rgb(117,107,177)\"], [1.0, \"rgb(84,39,143)\"]], \"type\": \"choropleth\", \"text\": [\"OKLAHOMA\", \"TEXAS\", \"PENNSYLVANIA\", \"NEBRASKA\", \"MISSISSIPPI\", \"NEW MEXICO\", \"ARKANSAS\", \"MISSOURI\", \"CONNECTICUT\", \"FLORIDA\", \"NORTH CAROLINA\", \"ALABAMA\", \"KENTUCKY\", \"MARYLAND\", \"MINNESOTA\", \"SOUTH DAKOTA\", \"IOWA\", \"LOUISIANA\", \"OHIO\", \"KANSAS\", \"NORTH DAKOTA\", \"INDIANA\", \"COLORADO\", \"SOUTH CAROLINA\", \"WEST VIRGINIA\", \"WYOMING\", \"GEORGIA\", \"WISCONSIN\", \"ILLINOIS\", \"TENNESSEE\", \"NEW JERSEY\", \"MICHIGAN\", \"CALIFORNIA\", \"MASSACHUSETTS\", \"NEW HAMPSHIRE\", \"OREGON\", \"VIRGINIA\", \"ARIZONA\", \"NEW YORK\", \"MONTANA\", \"MAINE\", \"VERMONT\", \"UTAH\", \"DELAWARE\", \"IDAHO\", \"WASHINGTON\", \"HAWAII\", \"RHODE ISLAND\", \"NEVADA\", \"ALASKA\"], \"z\": [564, 766, 253, 155, 374, 54, 310, 231, 6, 117, 359, 280, 42, 33, 127, 100, 205, 214, 147, 227, 138, 152, 130, 234, 26, 60, 246, 193, 204, 93, 77, 269, 16, 59, 44, 4, 97, 39, 324, 111, 42, 44, 26, 10, 23, 7, 2, 0, 20, 0]}]}, {\"name\": \"1989\", \"data\": [{\"autocolorscale\": false, \"colorbar\": {\"title\": {\"text\": \"Events\"}}, \"locations\": [\"OK\", \"TX\", \"PA\", \"NE\", \"MS\", \"NM\", \"AR\", \"MO\", \"CT\", \"FL\", \"NC\", \"AL\", \"KY\", \"MD\", \"MN\", \"SD\", \"IA\", \"LA\", \"OH\", \"KS\", \"ND\", \"IN\", \"CO\", \"SC\", \"WV\", \"WY\", \"GA\", \"WI\", \"IL\", \"TN\", \"NJ\", \"MI\", \"CA\", \"MA\", \"NH\", \"OR\", \"VA\", \"AZ\", \"NY\", \"MT\", \"ME\", \"VT\", \"UT\", \"DE\", \"ID\", \"WA\", \"HI\", \"RI\", \"NV\", \"AK\"], \"locationmode\": \"USA-states\", \"marker\": {\"line\": {\"width\": 2, \"color\": \"rgb(255,255,255)\"}}, \"colorscale\": [[0.0, \"rgb(242,240,247)\"], [0.2, \"rgb(218,218,235)\"], [0.4, \"rgb(188,189,220)\"], [0.6, \"rgb(158,154,200)\"], [0.8, \"rgb(117,107,177)\"], [1.0, \"rgb(84,39,143)\"]], \"type\": \"choropleth\", \"text\": [\"OKLAHOMA\", \"TEXAS\", \"PENNSYLVANIA\", \"NEBRASKA\", \"MISSISSIPPI\", \"NEW MEXICO\", \"ARKANSAS\", \"MISSOURI\", \"CONNECTICUT\", \"FLORIDA\", \"NORTH CAROLINA\", \"ALABAMA\", \"KENTUCKY\", \"MARYLAND\", \"MINNESOTA\", \"SOUTH DAKOTA\", \"IOWA\", \"LOUISIANA\", \"OHIO\", \"KANSAS\", \"NORTH DAKOTA\", \"INDIANA\", \"COLORADO\", \"SOUTH CAROLINA\", \"WEST VIRGINIA\", \"WYOMING\", \"GEORGIA\", \"WISCONSIN\", \"ILLINOIS\", \"TENNESSEE\", \"NEW JERSEY\", \"MICHIGAN\", \"CALIFORNIA\", \"MASSACHUSETTS\", \"NEW HAMPSHIRE\", \"OREGON\", \"VIRGINIA\", \"ARIZONA\", \"NEW YORK\", \"MONTANA\", \"MAINE\", \"VERMONT\", \"UTAH\", \"DELAWARE\", \"IDAHO\", \"WASHINGTON\", \"HAWAII\", \"RHODE ISLAND\", \"NEVADA\", \"ALASKA\"], \"z\": [998, 1626, 257, 280, 361, 127, 435, 179, 16, 291, 430, 369, 156, 70, 174, 113, 340, 323, 219, 450, 144, 270, 147, 298, 80, 70, 492, 231, 163, 134, 119, 147, 13, 69, 7, 5, 218, 26, 296, 89, 27, 42, 20, 15, 45, 8, 1, 2, 12, 0]}]}, {\"name\": \"1990\", \"data\": [{\"autocolorscale\": false, \"colorbar\": {\"title\": {\"text\": \"Events\"}}, \"locations\": [\"OK\", \"TX\", \"PA\", \"NE\", \"MS\", \"NM\", \"AR\", \"MO\", \"CT\", \"FL\", \"NC\", \"AL\", \"KY\", \"MD\", \"MN\", \"SD\", \"IA\", \"LA\", \"OH\", \"KS\", \"ND\", \"IN\", \"CO\", \"SC\", \"WV\", \"WY\", \"GA\", \"WI\", \"IL\", \"TN\", \"NJ\", \"MI\", \"CA\", \"MA\", \"NH\", \"OR\", \"VA\", \"AZ\", \"NY\", \"MT\", \"ME\", \"VT\", \"UT\", \"DE\", \"ID\", \"WA\", \"HI\", \"RI\", \"NV\", \"AK\"], \"locationmode\": \"USA-states\", \"marker\": {\"line\": {\"width\": 2, \"color\": \"rgb(255,255,255)\"}}, \"colorscale\": [[0.0, \"rgb(242,240,247)\"], [0.2, \"rgb(218,218,235)\"], [0.4, \"rgb(188,189,220)\"], [0.6, \"rgb(158,154,200)\"], [0.8, \"rgb(117,107,177)\"], [1.0, \"rgb(84,39,143)\"]], \"type\": \"choropleth\", \"text\": [\"OKLAHOMA\", \"TEXAS\", \"PENNSYLVANIA\", \"NEBRASKA\", \"MISSISSIPPI\", \"NEW MEXICO\", \"ARKANSAS\", \"MISSOURI\", \"CONNECTICUT\", \"FLORIDA\", \"NORTH CAROLINA\", \"ALABAMA\", \"KENTUCKY\", \"MARYLAND\", \"MINNESOTA\", \"SOUTH DAKOTA\", \"IOWA\", \"LOUISIANA\", \"OHIO\", \"KANSAS\", \"NORTH DAKOTA\", \"INDIANA\", \"COLORADO\", \"SOUTH CAROLINA\", \"WEST VIRGINIA\", \"WYOMING\", \"GEORGIA\", \"WISCONSIN\", \"ILLINOIS\", \"TENNESSEE\", \"NEW JERSEY\", \"MICHIGAN\", \"CALIFORNIA\", \"MASSACHUSETTS\", \"NEW HAMPSHIRE\", \"OREGON\", \"VIRGINIA\", \"ARIZONA\", \"NEW YORK\", \"MONTANA\", \"MAINE\", \"VERMONT\", \"UTAH\", \"DELAWARE\", \"IDAHO\", \"WASHINGTON\", \"HAWAII\", \"RHODE ISLAND\", \"NEVADA\", \"ALASKA\"], \"z\": [834, 1395, 389, 313, 332, 71, 320, 190, 14, 287, 321, 437, 210, 110, 217, 168, 336, 424, 319, 623, 176, 348, 179, 230, 105, 83, 645, 163, 275, 183, 102, 143, 23, 12, 15, 9, 259, 61, 386, 71, 36, 39, 28, 14, 30, 2, 0, 5, 7, 0]}]}, {\"name\": \"1991\", \"data\": [{\"autocolorscale\": false, \"colorbar\": {\"title\": {\"text\": \"Events\"}}, \"locations\": [\"OK\", \"TX\", \"PA\", \"NE\", \"MS\", \"NM\", \"AR\", \"MO\", \"CT\", \"FL\", \"NC\", \"AL\", \"KY\", \"MD\", \"MN\", \"SD\", \"IA\", \"LA\", \"OH\", \"KS\", \"ND\", \"IN\", \"CO\", \"SC\", \"WV\", \"WY\", \"GA\", \"WI\", \"IL\", \"TN\", \"NJ\", \"MI\", \"CA\", \"MA\", \"NH\", \"OR\", \"VA\", \"AZ\", \"NY\", \"MT\", \"ME\", \"VT\", \"UT\", \"DE\", \"ID\", \"WA\", \"HI\", \"RI\", \"NV\", \"AK\"], \"locationmode\": \"USA-states\", \"marker\": {\"line\": {\"width\": 2, \"color\": \"rgb(255,255,255)\"}}, \"colorscale\": [[0.0, \"rgb(242,240,247)\"], [0.2, \"rgb(218,218,235)\"], [0.4, \"rgb(188,189,220)\"], [0.6, \"rgb(158,154,200)\"], [0.8, \"rgb(117,107,177)\"], [1.0, \"rgb(84,39,143)\"]], \"type\": \"choropleth\", \"text\": [\"OKLAHOMA\", \"TEXAS\", \"PENNSYLVANIA\", \"NEBRASKA\", \"MISSISSIPPI\", \"NEW MEXICO\", \"ARKANSAS\", \"MISSOURI\", \"CONNECTICUT\", \"FLORIDA\", \"NORTH CAROLINA\", \"ALABAMA\", \"KENTUCKY\", \"MARYLAND\", \"MINNESOTA\", \"SOUTH DAKOTA\", \"IOWA\", \"LOUISIANA\", \"OHIO\", \"KANSAS\", \"NORTH DAKOTA\", \"INDIANA\", \"COLORADO\", \"SOUTH CAROLINA\", \"WEST VIRGINIA\", \"WYOMING\", \"GEORGIA\", \"WISCONSIN\", \"ILLINOIS\", \"TENNESSEE\", \"NEW JERSEY\", \"MICHIGAN\", \"CALIFORNIA\", \"MASSACHUSETTS\", \"NEW HAMPSHIRE\", \"OREGON\", \"VIRGINIA\", \"ARIZONA\", \"NEW YORK\", \"MONTANA\", \"MAINE\", \"VERMONT\", \"UTAH\", \"DELAWARE\", \"IDAHO\", \"WASHINGTON\", \"HAWAII\", \"RHODE ISLAND\", \"NEVADA\", \"ALASKA\"], \"z\": [1133, 1615, 457, 327, 383, 105, 381, 330, 36, 330, 180, 252, 205, 102, 317, 354, 383, 440, 373, 877, 189, 277, 318, 170, 146, 85, 546, 250, 308, 207, 110, 385, 26, 53, 23, 30, 94, 36, 372, 137, 32, 27, 29, 13, 48, 12, 0, 2, 6, 0]}]}, {\"name\": \"1992\", \"data\": [{\"autocolorscale\": false, \"colorbar\": {\"title\": {\"text\": \"Events\"}}, \"locations\": [\"OK\", \"TX\", \"PA\", \"NE\", \"MS\", \"NM\", \"AR\", \"MO\", \"CT\", \"FL\", \"NC\", \"AL\", \"KY\", \"MD\", \"MN\", \"SD\", \"IA\", \"LA\", \"OH\", \"KS\", \"ND\", \"IN\", \"CO\", \"SC\", \"WV\", \"WY\", \"GA\", \"WI\", \"IL\", \"TN\", \"NJ\", \"MI\", \"CA\", \"MA\", \"NH\", \"OR\", \"VA\", \"AZ\", \"NY\", \"MT\", \"ME\", \"VT\", \"UT\", \"DE\", \"ID\", \"WA\", \"HI\", \"RI\", \"NV\", \"AK\"], \"locationmode\": \"USA-states\", \"marker\": {\"line\": {\"width\": 2, \"color\": \"rgb(255,255,255)\"}}, \"colorscale\": [[0.0, \"rgb(242,240,247)\"], [0.2, \"rgb(218,218,235)\"], [0.4, \"rgb(188,189,220)\"], [0.6, \"rgb(158,154,200)\"], [0.8, \"rgb(117,107,177)\"], [1.0, \"rgb(84,39,143)\"]], \"type\": \"choropleth\", \"text\": [\"OKLAHOMA\", \"TEXAS\", \"PENNSYLVANIA\", \"NEBRASKA\", \"MISSISSIPPI\", \"NEW MEXICO\", \"ARKANSAS\", \"MISSOURI\", \"CONNECTICUT\", \"FLORIDA\", \"NORTH CAROLINA\", \"ALABAMA\", \"KENTUCKY\", \"MARYLAND\", \"MINNESOTA\", \"SOUTH DAKOTA\", \"IOWA\", \"LOUISIANA\", \"OHIO\", \"KANSAS\", \"NORTH DAKOTA\", \"INDIANA\", \"COLORADO\", \"SOUTH CAROLINA\", \"WEST VIRGINIA\", \"WYOMING\", \"GEORGIA\", \"WISCONSIN\", \"ILLINOIS\", \"TENNESSEE\", \"NEW JERSEY\", \"MICHIGAN\", \"CALIFORNIA\", \"MASSACHUSETTS\", \"NEW HAMPSHIRE\", \"OREGON\", \"VIRGINIA\", \"ARIZONA\", \"NEW YORK\", \"MONTANA\", \"MAINE\", \"VERMONT\", \"UTAH\", \"DELAWARE\", \"IDAHO\", \"WASHINGTON\", \"HAWAII\", \"RHODE ISLAND\", \"NEVADA\", \"ALASKA\"], \"z\": [1499, 2087, 372, 468, 372, 154, 567, 414, 46, 368, 317, 347, 156, 106, 203, 283, 287, 622, 433, 924, 91, 336, 266, 186, 110, 74, 393, 187, 397, 186, 106, 226, 33, 47, 8, 16, 185, 82, 268, 70, 38, 23, 47, 23, 68, 12, 0, 4, 18, 0]}]}, {\"name\": \"1993\", \"data\": [{\"autocolorscale\": false, \"colorbar\": {\"title\": {\"text\": \"Events\"}}, \"locations\": [\"OK\", \"TX\", \"PA\", \"NE\", \"MS\", \"NM\", \"AR\", \"MO\", \"CT\", \"FL\", \"NC\", \"AL\", \"KY\", \"MD\", \"MN\", \"SD\", \"IA\", \"LA\", \"OH\", \"KS\", \"ND\", \"IN\", \"CO\", \"SC\", \"WV\", \"WY\", \"GA\", \"WI\", \"IL\", \"TN\", \"NJ\", \"MI\", \"CA\", \"MA\", \"NH\", \"OR\", \"VA\", \"AZ\", \"NY\", \"MT\", \"ME\", \"VT\", \"UT\", \"DE\", \"ID\", \"WA\", \"HI\", \"RI\", \"NV\", \"AK\"], \"locationmode\": \"USA-states\", \"marker\": {\"line\": {\"width\": 2, \"color\": \"rgb(255,255,255)\"}}, \"colorscale\": [[0.0, \"rgb(242,240,247)\"], [0.2, \"rgb(218,218,235)\"], [0.4, \"rgb(188,189,220)\"], [0.6, \"rgb(158,154,200)\"], [0.8, \"rgb(117,107,177)\"], [1.0, \"rgb(84,39,143)\"]], \"type\": \"choropleth\", \"text\": [\"OKLAHOMA\", \"TEXAS\", \"PENNSYLVANIA\", \"NEBRASKA\", \"MISSISSIPPI\", \"NEW MEXICO\", \"ARKANSAS\", \"MISSOURI\", \"CONNECTICUT\", \"FLORIDA\", \"NORTH CAROLINA\", \"ALABAMA\", \"KENTUCKY\", \"MARYLAND\", \"MINNESOTA\", \"SOUTH DAKOTA\", \"IOWA\", \"LOUISIANA\", \"OHIO\", \"KANSAS\", \"NORTH DAKOTA\", \"INDIANA\", \"COLORADO\", \"SOUTH CAROLINA\", \"WEST VIRGINIA\", \"WYOMING\", \"GEORGIA\", \"WISCONSIN\", \"ILLINOIS\", \"TENNESSEE\", \"NEW JERSEY\", \"MICHIGAN\", \"CALIFORNIA\", \"MASSACHUSETTS\", \"NEW HAMPSHIRE\", \"OREGON\", \"VIRGINIA\", \"ARIZONA\", \"NEW YORK\", \"MONTANA\", \"MAINE\", \"VERMONT\", \"UTAH\", \"DELAWARE\", \"IDAHO\", \"WASHINGTON\", \"HAWAII\", \"RHODE ISLAND\", \"NEVADA\", \"ALASKA\"], \"z\": [1119, 1719, 166, 119, 233, 47, 563, 299, 23, 329, 195, 117, 132, 59, 64, 110, 129, 371, 72, 644, 35, 101, 154, 92, 101, 38, 254, 31, 139, 210, 31, 137, 29, 21, 16, 11, 145, 48, 279, 72, 14, 70, 40, 16, 40, 7, 0, 2, 12, 1]}]}, {\"name\": \"1994\", \"data\": [{\"autocolorscale\": false, \"colorbar\": {\"title\": {\"text\": \"Events\"}}, \"locations\": [\"OK\", \"TX\", \"PA\", \"NE\", \"MS\", \"NM\", \"AR\", \"MO\", \"CT\", \"FL\", \"NC\", \"AL\", \"KY\", \"MD\", \"MN\", \"SD\", \"IA\", \"LA\", \"OH\", \"KS\", \"ND\", \"IN\", \"CO\", \"SC\", \"WV\", \"WY\", \"GA\", \"WI\", \"IL\", \"TN\", \"NJ\", \"MI\", \"CA\", \"MA\", \"NH\", \"OR\", \"VA\", \"AZ\", \"NY\", \"MT\", \"ME\", \"VT\", \"UT\", \"DE\", \"ID\", \"WA\", \"HI\", \"RI\", \"NV\", \"AK\"], \"locationmode\": \"USA-states\", \"marker\": {\"line\": {\"width\": 2, \"color\": \"rgb(255,255,255)\"}}, \"colorscale\": [[0.0, \"rgb(242,240,247)\"], [0.2, \"rgb(218,218,235)\"], [0.4, \"rgb(188,189,220)\"], [0.6, \"rgb(158,154,200)\"], [0.8, \"rgb(117,107,177)\"], [1.0, \"rgb(84,39,143)\"]], \"type\": \"choropleth\", \"text\": [\"OKLAHOMA\", \"TEXAS\", \"PENNSYLVANIA\", \"NEBRASKA\", \"MISSISSIPPI\", \"NEW MEXICO\", \"ARKANSAS\", \"MISSOURI\", \"CONNECTICUT\", \"FLORIDA\", \"NORTH CAROLINA\", \"ALABAMA\", \"KENTUCKY\", \"MARYLAND\", \"MINNESOTA\", \"SOUTH DAKOTA\", \"IOWA\", \"LOUISIANA\", \"OHIO\", \"KANSAS\", \"NORTH DAKOTA\", \"INDIANA\", \"COLORADO\", \"SOUTH CAROLINA\", \"WEST VIRGINIA\", \"WYOMING\", \"GEORGIA\", \"WISCONSIN\", \"ILLINOIS\", \"TENNESSEE\", \"NEW JERSEY\", \"MICHIGAN\", \"CALIFORNIA\", \"MASSACHUSETTS\", \"NEW HAMPSHIRE\", \"OREGON\", \"VIRGINIA\", \"ARIZONA\", \"NEW YORK\", \"MONTANA\", \"MAINE\", \"VERMONT\", \"UTAH\", \"DELAWARE\", \"IDAHO\", \"WASHINGTON\", \"HAWAII\", \"RHODE ISLAND\", \"NEVADA\", \"ALASKA\"], \"z\": [1670, 2544, 461, 523, 423, 113, 893, 569, 45, 304, 144, 266, 89, 64, 387, 249, 606, 456, 610, 899, 223, 290, 308, 328, 191, 84, 365, 303, 305, 232, 109, 311, 22, 75, 38, 11, 99, 67, 567, 133, 77, 59, 46, 8, 18, 9, 0, 7, 16, 0]}]}, {\"name\": \"1995\", \"data\": [{\"autocolorscale\": false, \"colorbar\": {\"title\": {\"text\": \"Events\"}}, \"locations\": [\"OK\", \"TX\", \"PA\", \"NE\", \"MS\", \"NM\", \"AR\", \"MO\", \"CT\", \"FL\", \"NC\", \"AL\", \"KY\", \"MD\", \"MN\", \"SD\", \"IA\", \"LA\", \"OH\", \"KS\", \"ND\", \"IN\", \"CO\", \"SC\", \"WV\", \"WY\", \"GA\", \"WI\", \"IL\", \"TN\", \"NJ\", \"MI\", \"CA\", \"MA\", \"NH\", \"OR\", \"VA\", \"AZ\", \"NY\", \"MT\", \"ME\", \"VT\", \"UT\", \"DE\", \"ID\", \"WA\", \"HI\", \"RI\", \"NV\", \"AK\"], \"locationmode\": \"USA-states\", \"marker\": {\"line\": {\"width\": 2, \"color\": \"rgb(255,255,255)\"}}, \"colorscale\": [[0.0, \"rgb(242,240,247)\"], [0.2, \"rgb(218,218,235)\"], [0.4, \"rgb(188,189,220)\"], [0.6, \"rgb(158,154,200)\"], [0.8, \"rgb(117,107,177)\"], [1.0, \"rgb(84,39,143)\"]], \"type\": \"choropleth\", \"text\": [\"OKLAHOMA\", \"TEXAS\", \"PENNSYLVANIA\", \"NEBRASKA\", \"MISSISSIPPI\", \"NEW MEXICO\", \"ARKANSAS\", \"MISSOURI\", \"CONNECTICUT\", \"FLORIDA\", \"NORTH CAROLINA\", \"ALABAMA\", \"KENTUCKY\", \"MARYLAND\", \"MINNESOTA\", \"SOUTH DAKOTA\", \"IOWA\", \"LOUISIANA\", \"OHIO\", \"KANSAS\", \"NORTH DAKOTA\", \"INDIANA\", \"COLORADO\", \"SOUTH CAROLINA\", \"WEST VIRGINIA\", \"WYOMING\", \"GEORGIA\", \"WISCONSIN\", \"ILLINOIS\", \"TENNESSEE\", \"NEW JERSEY\", \"MICHIGAN\", \"CALIFORNIA\", \"MASSACHUSETTS\", \"NEW HAMPSHIRE\", \"OREGON\", \"VIRGINIA\", \"ARIZONA\", \"NEW YORK\", \"MONTANA\", \"MAINE\", \"VERMONT\", \"UTAH\", \"DELAWARE\", \"IDAHO\", \"WASHINGTON\", \"HAWAII\", \"RHODE ISLAND\", \"NEVADA\", \"ALASKA\"], \"z\": [1714, 2947, 632, 396, 683, 178, 961, 881, 95, 524, 583, 602, 525, 108, 232, 228, 465, 784, 701, 1123, 160, 273, 306, 573, 161, 72, 574, 455, 475, 652, 106, 320, 27, 98, 18, 39, 548, 97, 585, 262, 30, 42, 28, 9, 116, 8, 1, 20, 20, 0]}]}, {\"name\": \"1996\", \"data\": [{\"autocolorscale\": false, \"colorbar\": {\"title\": {\"text\": \"Events\"}}, \"locations\": [\"OK\", \"TX\", \"PA\", \"NE\", \"MS\", \"NM\", \"AR\", \"MO\", \"CT\", \"FL\", \"NC\", \"AL\", \"KY\", \"MD\", \"MN\", \"SD\", \"IA\", \"LA\", \"OH\", \"KS\", \"ND\", \"IN\", \"CO\", \"SC\", \"WV\", \"WY\", \"GA\", \"WI\", \"IL\", \"TN\", \"NJ\", \"MI\", \"CA\", \"MA\", \"NH\", \"OR\", \"VA\", \"AZ\", \"NY\", \"MT\", \"ME\", \"VT\", \"UT\", \"DE\", \"ID\", \"WA\", \"HI\", \"RI\", \"NV\", \"AK\"], \"locationmode\": \"USA-states\", \"marker\": {\"line\": {\"width\": 2, \"color\": \"rgb(255,255,255)\"}}, \"colorscale\": [[0.0, \"rgb(242,240,247)\"], [0.2, \"rgb(218,218,235)\"], [0.4, \"rgb(188,189,220)\"], [0.6, \"rgb(158,154,200)\"], [0.8, \"rgb(117,107,177)\"], [1.0, \"rgb(84,39,143)\"]], \"type\": \"choropleth\", \"text\": [\"OKLAHOMA\", \"TEXAS\", \"PENNSYLVANIA\", \"NEBRASKA\", \"MISSISSIPPI\", \"NEW MEXICO\", \"ARKANSAS\", \"MISSOURI\", \"CONNECTICUT\", \"FLORIDA\", \"NORTH CAROLINA\", \"ALABAMA\", \"KENTUCKY\", \"MARYLAND\", \"MINNESOTA\", \"SOUTH DAKOTA\", \"IOWA\", \"LOUISIANA\", \"OHIO\", \"KANSAS\", \"NORTH DAKOTA\", \"INDIANA\", \"COLORADO\", \"SOUTH CAROLINA\", \"WEST VIRGINIA\", \"WYOMING\", \"GEORGIA\", \"WISCONSIN\", \"ILLINOIS\", \"TENNESSEE\", \"NEW JERSEY\", \"MICHIGAN\", \"CALIFORNIA\", \"MASSACHUSETTS\", \"NEW HAMPSHIRE\", \"OREGON\", \"VIRGINIA\", \"ARIZONA\", \"NEW YORK\", \"MONTANA\", \"MAINE\", \"VERMONT\", \"UTAH\", \"DELAWARE\", \"IDAHO\", \"WASHINGTON\", \"HAWAII\", \"RHODE ISLAND\", \"NEVADA\", \"ALASKA\"], \"z\": [2392, 3966, 1660, 1741, 696, 378, 1198, 1309, 292, 959, 1725, 921, 1078, 522, 1654, 1262, 1847, 626, 1607, 2439, 939, 1202, 1647, 805, 867, 732, 795, 1389, 1262, 1071, 788, 723, 396, 542, 257, 334, 1739, 318, 1606, 625, 428, 278, 186, 92, 268, 139, 180, 142, 127, 280]}]}, {\"name\": \"1997\", \"data\": [{\"autocolorscale\": false, \"colorbar\": {\"title\": {\"text\": \"Events\"}}, \"locations\": [\"OK\", \"TX\", \"PA\", \"NE\", \"MS\", \"NM\", \"AR\", \"MO\", \"CT\", \"FL\", \"NC\", \"AL\", \"KY\", \"MD\", \"MN\", \"SD\", \"IA\", \"LA\", \"OH\", \"KS\", \"ND\", \"IN\", \"CO\", \"SC\", \"WV\", \"WY\", \"GA\", \"WI\", \"IL\", \"TN\", \"NJ\", \"MI\", \"CA\", \"MA\", \"NH\", \"OR\", \"VA\", \"AZ\", \"NY\", \"MT\", \"ME\", \"VT\", \"UT\", \"DE\", \"ID\", \"WA\", \"HI\", \"RI\", \"NV\", \"AK\"], \"locationmode\": \"USA-states\", \"marker\": {\"line\": {\"width\": 2, \"color\": \"rgb(255,255,255)\"}}, \"colorscale\": [[0.0, \"rgb(242,240,247)\"], [0.2, \"rgb(218,218,235)\"], [0.4, \"rgb(188,189,220)\"], [0.6, \"rgb(158,154,200)\"], [0.8, \"rgb(117,107,177)\"], [1.0, \"rgb(84,39,143)\"]], \"type\": \"choropleth\", \"text\": [\"OKLAHOMA\", \"TEXAS\", \"PENNSYLVANIA\", \"NEBRASKA\", \"MISSISSIPPI\", \"NEW MEXICO\", \"ARKANSAS\", \"MISSOURI\", \"CONNECTICUT\", \"FLORIDA\", \"NORTH CAROLINA\", \"ALABAMA\", \"KENTUCKY\", \"MARYLAND\", \"MINNESOTA\", \"SOUTH DAKOTA\", \"IOWA\", \"LOUISIANA\", \"OHIO\", \"KANSAS\", \"NORTH DAKOTA\", \"INDIANA\", \"COLORADO\", \"SOUTH CAROLINA\", \"WEST VIRGINIA\", \"WYOMING\", \"GEORGIA\", \"WISCONSIN\", \"ILLINOIS\", \"TENNESSEE\", \"NEW JERSEY\", \"MICHIGAN\", \"CALIFORNIA\", \"MASSACHUSETTS\", \"NEW HAMPSHIRE\", \"OREGON\", \"VIRGINIA\", \"ARIZONA\", \"NEW YORK\", \"MONTANA\", \"MAINE\", \"VERMONT\", \"UTAH\", \"DELAWARE\", \"IDAHO\", \"WASHINGTON\", \"HAWAII\", \"RHODE ISLAND\", \"NEVADA\", \"ALASKA\"], \"z\": [1670, 4001, 1135, 1627, 771, 395, 742, 1116, 164, 1264, 1005, 731, 1037, 377, 1415, 1238, 1542, 644, 1137, 1857, 736, 694, 1352, 550, 784, 412, 1206, 1069, 1367, 1145, 759, 1082, 664, 564, 142, 176, 706, 318, 1114, 601, 211, 319, 348, 116, 335, 204, 353, 140, 158, 278]}]}, {\"name\": \"1998\", \"data\": [{\"autocolorscale\": false, \"colorbar\": {\"title\": {\"text\": \"Events\"}}, \"locations\": [\"OK\", \"TX\", \"PA\", \"NE\", \"MS\", \"NM\", \"AR\", \"MO\", \"CT\", \"FL\", \"NC\", \"AL\", \"KY\", \"MD\", \"MN\", \"SD\", \"IA\", \"LA\", \"OH\", \"KS\", \"ND\", \"IN\", \"CO\", \"SC\", \"WV\", \"WY\", \"GA\", \"WI\", \"IL\", \"TN\", \"NJ\", \"MI\", \"CA\", \"MA\", \"NH\", \"OR\", \"VA\", \"AZ\", \"NY\", \"MT\", \"ME\", \"VT\", \"UT\", \"DE\", \"ID\", \"WA\", \"HI\", \"RI\", \"NV\", \"AK\"], \"locationmode\": \"USA-states\", \"marker\": {\"line\": {\"width\": 2, \"color\": \"rgb(255,255,255)\"}}, \"colorscale\": [[0.0, \"rgb(242,240,247)\"], [0.2, \"rgb(218,218,235)\"], [0.4, \"rgb(188,189,220)\"], [0.6, \"rgb(158,154,200)\"], [0.8, \"rgb(117,107,177)\"], [1.0, \"rgb(84,39,143)\"]], \"type\": \"choropleth\", \"text\": [\"OKLAHOMA\", \"TEXAS\", \"PENNSYLVANIA\", \"NEBRASKA\", \"MISSISSIPPI\", \"NEW MEXICO\", \"ARKANSAS\", \"MISSOURI\", \"CONNECTICUT\", \"FLORIDA\", \"NORTH CAROLINA\", \"ALABAMA\", \"KENTUCKY\", \"MARYLAND\", \"MINNESOTA\", \"SOUTH DAKOTA\", \"IOWA\", \"LOUISIANA\", \"OHIO\", \"KANSAS\", \"NORTH DAKOTA\", \"INDIANA\", \"COLORADO\", \"SOUTH CAROLINA\", \"WEST VIRGINIA\", \"WYOMING\", \"GEORGIA\", \"WISCONSIN\", \"ILLINOIS\", \"TENNESSEE\", \"NEW JERSEY\", \"MICHIGAN\", \"CALIFORNIA\", \"MASSACHUSETTS\", \"NEW HAMPSHIRE\", \"OREGON\", \"VIRGINIA\", \"ARIZONA\", \"NEW YORK\", \"MONTANA\", \"MAINE\", \"VERMONT\", \"UTAH\", \"DELAWARE\", \"IDAHO\", \"WASHINGTON\", \"HAWAII\", \"RHODE ISLAND\", \"NEVADA\", \"ALASKA\"], \"z\": [2112, 4092, 1508, 1477, 835, 305, 1166, 1723, 170, 1701, 1907, 1001, 1255, 561, 1386, 647, 1847, 852, 1725, 2334, 485, 1116, 1066, 908, 780, 372, 1625, 1291, 1589, 1260, 865, 1285, 1057, 659, 352, 335, 1475, 283, 1380, 621, 694, 311, 506, 161, 279, 217, 335, 139, 262, 407]}]}, {\"name\": \"1999\", \"data\": [{\"autocolorscale\": false, \"colorbar\": {\"title\": {\"text\": \"Events\"}}, \"locations\": [\"OK\", \"TX\", \"PA\", \"NE\", \"MS\", \"NM\", \"AR\", \"MO\", \"CT\", \"FL\", \"NC\", \"AL\", \"KY\", \"MD\", \"MN\", \"SD\", \"IA\", \"LA\", \"OH\", \"KS\", \"ND\", \"IN\", \"CO\", \"SC\", \"WV\", \"WY\", \"GA\", \"WI\", \"IL\", \"TN\", \"NJ\", \"MI\", \"CA\", \"MA\", \"NH\", \"OR\", \"VA\", \"AZ\", \"NY\", \"MT\", \"ME\", \"VT\", \"UT\", \"DE\", \"ID\", \"WA\", \"HI\", \"RI\", \"NV\", \"AK\"], \"locationmode\": \"USA-states\", \"marker\": {\"line\": {\"width\": 2, \"color\": \"rgb(255,255,255)\"}}, \"colorscale\": [[0.0, \"rgb(242,240,247)\"], [0.2, \"rgb(218,218,235)\"], [0.4, \"rgb(188,189,220)\"], [0.6, \"rgb(158,154,200)\"], [0.8, \"rgb(117,107,177)\"], [1.0, \"rgb(84,39,143)\"]], \"type\": \"choropleth\", \"text\": [\"OKLAHOMA\", \"TEXAS\", \"PENNSYLVANIA\", \"NEBRASKA\", \"MISSISSIPPI\", \"NEW MEXICO\", \"ARKANSAS\", \"MISSOURI\", \"CONNECTICUT\", \"FLORIDA\", \"NORTH CAROLINA\", \"ALABAMA\", \"KENTUCKY\", \"MARYLAND\", \"MINNESOTA\", \"SOUTH DAKOTA\", \"IOWA\", \"LOUISIANA\", \"OHIO\", \"KANSAS\", \"NORTH DAKOTA\", \"INDIANA\", \"COLORADO\", \"SOUTH CAROLINA\", \"WEST VIRGINIA\", \"WYOMING\", \"GEORGIA\", \"WISCONSIN\", \"ILLINOIS\", \"TENNESSEE\", \"NEW JERSEY\", \"MICHIGAN\", \"CALIFORNIA\", \"MASSACHUSETTS\", \"NEW HAMPSHIRE\", \"OREGON\", \"VIRGINIA\", \"ARIZONA\", \"NEW YORK\", \"MONTANA\", \"MAINE\", \"VERMONT\", \"UTAH\", \"DELAWARE\", \"IDAHO\", \"WASHINGTON\", \"HAWAII\", \"RHODE ISLAND\", \"NEVADA\", \"ALASKA\"], \"z\": [2651, 3140, 1542, 1407, 652, 411, 1343, 1336, 169, 1534, 1344, 714, 746, 607, 1387, 898, 1640, 602, 1477, 2112, 777, 805, 1104, 694, 951, 378, 1530, 1289, 1348, 916, 915, 987, 836, 469, 420, 444, 1324, 241, 1152, 728, 825, 221, 195, 155, 210, 220, 347, 137, 200, 581]}]}, {\"name\": \"2000\", \"data\": [{\"autocolorscale\": false, \"colorbar\": {\"title\": {\"text\": \"Events\"}}, \"locations\": [\"OK\", \"TX\", \"PA\", \"NE\", \"MS\", \"NM\", \"AR\", \"MO\", \"CT\", \"FL\", \"NC\", \"AL\", \"KY\", \"MD\", \"MN\", \"SD\", \"IA\", \"LA\", \"OH\", \"KS\", \"ND\", \"IN\", \"CO\", \"SC\", \"WV\", \"WY\", \"GA\", \"WI\", \"IL\", \"TN\", \"NJ\", \"MI\", \"CA\", \"MA\", \"NH\", \"OR\", \"VA\", \"AZ\", \"NY\", \"MT\", \"ME\", \"VT\", \"UT\", \"DE\", \"ID\", \"WA\", \"HI\", \"RI\", \"NV\", \"AK\"], \"locationmode\": \"USA-states\", \"marker\": {\"line\": {\"width\": 2, \"color\": \"rgb(255,255,255)\"}}, \"colorscale\": [[0.0, \"rgb(242,240,247)\"], [0.2, \"rgb(218,218,235)\"], [0.4, \"rgb(188,189,220)\"], [0.6, \"rgb(158,154,200)\"], [0.8, \"rgb(117,107,177)\"], [1.0, \"rgb(84,39,143)\"]], \"type\": \"choropleth\", \"text\": [\"OKLAHOMA\", \"TEXAS\", \"PENNSYLVANIA\", \"NEBRASKA\", \"MISSISSIPPI\", \"NEW MEXICO\", \"ARKANSAS\", \"MISSOURI\", \"CONNECTICUT\", \"FLORIDA\", \"NORTH CAROLINA\", \"ALABAMA\", \"KENTUCKY\", \"MARYLAND\", \"MINNESOTA\", \"SOUTH DAKOTA\", \"IOWA\", \"LOUISIANA\", \"OHIO\", \"KANSAS\", \"NORTH DAKOTA\", \"INDIANA\", \"COLORADO\", \"SOUTH CAROLINA\", \"WEST VIRGINIA\", \"WYOMING\", \"GEORGIA\", \"WISCONSIN\", \"ILLINOIS\", \"TENNESSEE\", \"NEW JERSEY\", \"MICHIGAN\", \"CALIFORNIA\", \"MASSACHUSETTS\", \"NEW HAMPSHIRE\", \"OREGON\", \"VIRGINIA\", \"ARIZONA\", \"NEW YORK\", \"MONTANA\", \"MAINE\", \"VERMONT\", \"UTAH\", \"DELAWARE\", \"IDAHO\", \"WASHINGTON\", \"HAWAII\", \"RHODE ISLAND\", \"NEVADA\", \"ALASKA\"], \"z\": [1796, 4288, 1353, 1505, 934, 419, 1181, 2015, 181, 1244, 1711, 1008, 1331, 774, 1017, 1323, 2046, 789, 1418, 2403, 967, 1037, 1163, 828, 1123, 363, 2211, 1335, 1720, 1047, 781, 1031, 873, 427, 363, 272, 1695, 263, 1676, 1002, 728, 306, 198, 126, 232, 191, 328, 87, 152, 493]}]}, {\"name\": \"2001\", \"data\": [{\"autocolorscale\": false, \"colorbar\": {\"title\": {\"text\": \"Events\"}}, \"locations\": [\"OK\", \"TX\", \"PA\", \"NE\", \"MS\", \"NM\", \"AR\", \"MO\", \"CT\", \"FL\", \"NC\", \"AL\", \"KY\", \"MD\", \"MN\", \"SD\", \"IA\", \"LA\", \"OH\", \"KS\", \"ND\", \"IN\", \"CO\", \"SC\", \"WV\", \"WY\", \"GA\", \"WI\", \"IL\", \"TN\", \"NJ\", \"MI\", \"CA\", \"MA\", \"NH\", \"OR\", \"VA\", \"AZ\", \"NY\", \"MT\", \"ME\", \"VT\", \"UT\", \"DE\", \"ID\", \"WA\", \"HI\", \"RI\", \"NV\", \"AK\"], \"locationmode\": \"USA-states\", \"marker\": {\"line\": {\"width\": 2, \"color\": \"rgb(255,255,255)\"}}, \"colorscale\": [[0.0, \"rgb(242,240,247)\"], [0.2, \"rgb(218,218,235)\"], [0.4, \"rgb(188,189,220)\"], [0.6, \"rgb(158,154,200)\"], [0.8, \"rgb(117,107,177)\"], [1.0, \"rgb(84,39,143)\"]], \"type\": \"choropleth\", \"text\": [\"OKLAHOMA\", \"TEXAS\", \"PENNSYLVANIA\", \"NEBRASKA\", \"MISSISSIPPI\", \"NEW MEXICO\", \"ARKANSAS\", \"MISSOURI\", \"CONNECTICUT\", \"FLORIDA\", \"NORTH CAROLINA\", \"ALABAMA\", \"KENTUCKY\", \"MARYLAND\", \"MINNESOTA\", \"SOUTH DAKOTA\", \"IOWA\", \"LOUISIANA\", \"OHIO\", \"KANSAS\", \"NORTH DAKOTA\", \"INDIANA\", \"COLORADO\", \"SOUTH CAROLINA\", \"WEST VIRGINIA\", \"WYOMING\", \"GEORGIA\", \"WISCONSIN\", \"ILLINOIS\", \"TENNESSEE\", \"NEW JERSEY\", \"MICHIGAN\", \"CALIFORNIA\", \"MASSACHUSETTS\", \"NEW HAMPSHIRE\", \"OREGON\", \"VIRGINIA\", \"ARIZONA\", \"NEW YORK\", \"MONTANA\", \"MAINE\", \"VERMONT\", \"UTAH\", \"DELAWARE\", \"IDAHO\", \"WASHINGTON\", \"HAWAII\", \"RHODE ISLAND\", \"NEVADA\", \"ALASKA\"], \"z\": [2230, 3488, 1051, 1688, 976, 204, 1114, 2279, 155, 1226, 944, 765, 1005, 561, 1924, 1171, 2352, 633, 953, 3307, 966, 995, 1011, 589, 838, 369, 1678, 1392, 1300, 1021, 768, 956, 1163, 357, 399, 332, 958, 255, 939, 1223, 664, 300, 189, 124, 284, 248, 543, 60, 136, 449]}]}, {\"name\": \"2002\", \"data\": [{\"autocolorscale\": false, \"colorbar\": {\"title\": {\"text\": \"Events\"}}, \"locations\": [\"OK\", \"TX\", \"PA\", \"NE\", \"MS\", \"NM\", \"AR\", \"MO\", \"CT\", \"FL\", \"NC\", \"AL\", \"KY\", \"MD\", \"MN\", \"SD\", \"IA\", \"LA\", \"OH\", \"KS\", \"ND\", \"IN\", \"CO\", \"SC\", \"WV\", \"WY\", \"GA\", \"WI\", \"IL\", \"TN\", \"NJ\", \"MI\", \"CA\", \"MA\", \"NH\", \"OR\", \"VA\", \"AZ\", \"NY\", \"MT\", \"ME\", \"VT\", \"UT\", \"DE\", \"ID\", \"WA\", \"HI\", \"RI\", \"NV\", \"AK\"], \"locationmode\": \"USA-states\", \"marker\": {\"line\": {\"width\": 2, \"color\": \"rgb(255,255,255)\"}}, \"colorscale\": [[0.0, \"rgb(242,240,247)\"], [0.2, \"rgb(218,218,235)\"], [0.4, \"rgb(188,189,220)\"], [0.6, \"rgb(158,154,200)\"], [0.8, \"rgb(117,107,177)\"], [1.0, \"rgb(84,39,143)\"]], \"type\": \"choropleth\", \"text\": [\"OKLAHOMA\", \"TEXAS\", \"PENNSYLVANIA\", \"NEBRASKA\", \"MISSISSIPPI\", \"NEW MEXICO\", \"ARKANSAS\", \"MISSOURI\", \"CONNECTICUT\", \"FLORIDA\", \"NORTH CAROLINA\", \"ALABAMA\", \"KENTUCKY\", \"MARYLAND\", \"MINNESOTA\", \"SOUTH DAKOTA\", \"IOWA\", \"LOUISIANA\", \"OHIO\", \"KANSAS\", \"NORTH DAKOTA\", \"INDIANA\", \"COLORADO\", \"SOUTH CAROLINA\", \"WEST VIRGINIA\", \"WYOMING\", \"GEORGIA\", \"WISCONSIN\", \"ILLINOIS\", \"TENNESSEE\", \"NEW JERSEY\", \"MICHIGAN\", \"CALIFORNIA\", \"MASSACHUSETTS\", \"NEW HAMPSHIRE\", \"OREGON\", \"VIRGINIA\", \"ARIZONA\", \"NEW YORK\", \"MONTANA\", \"MAINE\", \"VERMONT\", \"UTAH\", \"DELAWARE\", \"IDAHO\", \"WASHINGTON\", \"HAWAII\", \"RHODE ISLAND\", \"NEVADA\", \"ALASKA\"], \"z\": [1572, 3600, 1440, 1298, 809, 447, 900, 1962, 168, 870, 1255, 759, 1426, 647, 1550, 1273, 1374, 589, 1531, 3188, 874, 1018, 1193, 722, 889, 334, 2752, 1268, 1427, 1187, 1050, 1090, 916, 209, 325, 441, 1369, 213, 1376, 1147, 530, 309, 324, 182, 357, 226, 351, 31, 192, 463]}]}, {\"name\": \"2003\", \"data\": [{\"autocolorscale\": false, \"colorbar\": {\"title\": {\"text\": \"Events\"}}, \"locations\": [\"OK\", \"TX\", \"PA\", \"NE\", \"MS\", \"NM\", \"AR\", \"MO\", \"CT\", \"FL\", \"NC\", \"AL\", \"KY\", \"MD\", \"MN\", \"SD\", \"IA\", \"LA\", \"OH\", \"KS\", \"ND\", \"IN\", \"CO\", \"SC\", \"WV\", \"WY\", \"GA\", \"WI\", \"IL\", \"TN\", \"NJ\", \"MI\", \"CA\", \"MA\", \"NH\", \"OR\", \"VA\", \"AZ\", \"NY\", \"MT\", \"ME\", \"VT\", \"UT\", \"DE\", \"ID\", \"WA\", \"HI\", \"RI\", \"NV\", \"AK\"], \"locationmode\": \"USA-states\", \"marker\": {\"line\": {\"width\": 2, \"color\": \"rgb(255,255,255)\"}}, \"colorscale\": [[0.0, \"rgb(242,240,247)\"], [0.2, \"rgb(218,218,235)\"], [0.4, \"rgb(188,189,220)\"], [0.6, \"rgb(158,154,200)\"], [0.8, \"rgb(117,107,177)\"], [1.0, \"rgb(84,39,143)\"]], \"type\": \"choropleth\", \"text\": [\"OKLAHOMA\", \"TEXAS\", \"PENNSYLVANIA\", \"NEBRASKA\", \"MISSISSIPPI\", \"NEW MEXICO\", \"ARKANSAS\", \"MISSOURI\", \"CONNECTICUT\", \"FLORIDA\", \"NORTH CAROLINA\", \"ALABAMA\", \"KENTUCKY\", \"MARYLAND\", \"MINNESOTA\", \"SOUTH DAKOTA\", \"IOWA\", \"LOUISIANA\", \"OHIO\", \"KANSAS\", \"NORTH DAKOTA\", \"INDIANA\", \"COLORADO\", \"SOUTH CAROLINA\", \"WEST VIRGINIA\", \"WYOMING\", \"GEORGIA\", \"WISCONSIN\", \"ILLINOIS\", \"TENNESSEE\", \"NEW JERSEY\", \"MICHIGAN\", \"CALIFORNIA\", \"MASSACHUSETTS\", \"NEW HAMPSHIRE\", \"OREGON\", \"VIRGINIA\", \"ARIZONA\", \"NEW YORK\", \"MONTANA\", \"MAINE\", \"VERMONT\", \"UTAH\", \"DELAWARE\", \"IDAHO\", \"WASHINGTON\", \"HAWAII\", \"RHODE ISLAND\", \"NEVADA\", \"ALASKA\"], \"z\": [1975, 3224, 1591, 1381, 1197, 445, 1262, 2530, 129, 920, 1939, 1143, 1488, 793, 1050, 1207, 1646, 525, 1739, 2547, 583, 1422, 1384, 789, 866, 360, 1846, 759, 1765, 1737, 920, 1022, 823, 256, 180, 410, 2027, 261, 1101, 887, 446, 276, 419, 181, 312, 270, 308, 48, 164, 334]}]}, {\"name\": \"2004\", \"data\": [{\"autocolorscale\": false, \"colorbar\": {\"title\": {\"text\": \"Events\"}}, \"locations\": [\"OK\", \"TX\", \"PA\", \"NE\", \"MS\", \"NM\", \"AR\", \"MO\", \"CT\", \"FL\", \"NC\", \"AL\", \"KY\", \"MD\", \"MN\", \"SD\", \"IA\", \"LA\", \"OH\", \"KS\", \"ND\", \"IN\", \"CO\", \"SC\", \"WV\", \"WY\", \"GA\", \"WI\", \"IL\", \"TN\", \"NJ\", \"MI\", \"CA\", \"MA\", \"NH\", \"OR\", \"VA\", \"AZ\", \"NY\", \"MT\", \"ME\", \"VT\", \"UT\", \"DE\", \"ID\", \"WA\", \"HI\", \"RI\", \"NV\", \"AK\"], \"locationmode\": \"USA-states\", \"marker\": {\"line\": {\"width\": 2, \"color\": \"rgb(255,255,255)\"}}, \"colorscale\": [[0.0, \"rgb(242,240,247)\"], [0.2, \"rgb(218,218,235)\"], [0.4, \"rgb(188,189,220)\"], [0.6, \"rgb(158,154,200)\"], [0.8, \"rgb(117,107,177)\"], [1.0, \"rgb(84,39,143)\"]], \"type\": \"choropleth\", \"text\": [\"OKLAHOMA\", \"TEXAS\", \"PENNSYLVANIA\", \"NEBRASKA\", \"MISSISSIPPI\", \"NEW MEXICO\", \"ARKANSAS\", \"MISSOURI\", \"CONNECTICUT\", \"FLORIDA\", \"NORTH CAROLINA\", \"ALABAMA\", \"KENTUCKY\", \"MARYLAND\", \"MINNESOTA\", \"SOUTH DAKOTA\", \"IOWA\", \"LOUISIANA\", \"OHIO\", \"KANSAS\", \"NORTH DAKOTA\", \"INDIANA\", \"COLORADO\", \"SOUTH CAROLINA\", \"WEST VIRGINIA\", \"WYOMING\", \"GEORGIA\", \"WISCONSIN\", \"ILLINOIS\", \"TENNESSEE\", \"NEW JERSEY\", \"MICHIGAN\", \"CALIFORNIA\", \"MASSACHUSETTS\", \"NEW HAMPSHIRE\", \"OREGON\", \"VIRGINIA\", \"ARIZONA\", \"NEW YORK\", \"MONTANA\", \"MAINE\", \"VERMONT\", \"UTAH\", \"DELAWARE\", \"IDAHO\", \"WASHINGTON\", \"HAWAII\", \"RHODE ISLAND\", \"NEVADA\", \"ALASKA\"], \"z\": [1890, 3977, 1582, 1690, 849, 478, 1016, 1892, 97, 1123, 1550, 848, 1601, 505, 1590, 1300, 2341, 636, 1441, 3126, 1025, 1137, 1788, 788, 618, 214, 1814, 1176, 1657, 1269, 746, 1217, 766, 214, 173, 414, 1063, 280, 1207, 685, 339, 247, 292, 143, 289, 229, 476, 31, 192, 381]}]}, {\"name\": \"2005\", \"data\": [{\"autocolorscale\": false, \"colorbar\": {\"title\": {\"text\": \"Events\"}}, \"locations\": [\"OK\", \"TX\", \"PA\", \"NE\", \"MS\", \"NM\", \"AR\", \"MO\", \"CT\", \"FL\", \"NC\", \"AL\", \"KY\", \"MD\", \"MN\", \"SD\", \"IA\", \"LA\", \"OH\", \"KS\", \"ND\", \"IN\", \"CO\", \"SC\", \"WV\", \"WY\", \"GA\", \"WI\", \"IL\", \"TN\", \"NJ\", \"MI\", \"CA\", \"MA\", \"NH\", \"OR\", \"VA\", \"AZ\", \"NY\", \"MT\", \"ME\", \"VT\", \"UT\", \"DE\", \"ID\", \"WA\", \"HI\", \"RI\", \"NV\", \"AK\"], \"locationmode\": \"USA-states\", \"marker\": {\"line\": {\"width\": 2, \"color\": \"rgb(255,255,255)\"}}, \"colorscale\": [[0.0, \"rgb(242,240,247)\"], [0.2, \"rgb(218,218,235)\"], [0.4, \"rgb(188,189,220)\"], [0.6, \"rgb(158,154,200)\"], [0.8, \"rgb(117,107,177)\"], [1.0, \"rgb(84,39,143)\"]], \"type\": \"choropleth\", \"text\": [\"OKLAHOMA\", \"TEXAS\", \"PENNSYLVANIA\", \"NEBRASKA\", \"MISSISSIPPI\", \"NEW MEXICO\", \"ARKANSAS\", \"MISSOURI\", \"CONNECTICUT\", \"FLORIDA\", \"NORTH CAROLINA\", \"ALABAMA\", \"KENTUCKY\", \"MARYLAND\", \"MINNESOTA\", \"SOUTH DAKOTA\", \"IOWA\", \"LOUISIANA\", \"OHIO\", \"KANSAS\", \"NORTH DAKOTA\", \"INDIANA\", \"COLORADO\", \"SOUTH CAROLINA\", \"WEST VIRGINIA\", \"WYOMING\", \"GEORGIA\", \"WISCONSIN\", \"ILLINOIS\", \"TENNESSEE\", \"NEW JERSEY\", \"MICHIGAN\", \"CALIFORNIA\", \"MASSACHUSETTS\", \"NEW HAMPSHIRE\", \"OREGON\", \"VIRGINIA\", \"ARIZONA\", \"NEW YORK\", \"MONTANA\", \"MAINE\", \"VERMONT\", \"UTAH\", \"DELAWARE\", \"IDAHO\", \"WASHINGTON\", \"HAWAII\", \"RHODE ISLAND\", \"NEVADA\", \"ALASKA\"], \"z\": [1692, 3370, 1568, 1776, 1382, 382, 821, 2116, 215, 892, 1152, 1332, 856, 441, 2026, 1612, 1641, 704, 1140, 3081, 1199, 1273, 1863, 707, 422, 286, 2141, 1443, 1635, 1020, 931, 1134, 1061, 488, 284, 452, 1085, 341, 1600, 1128, 585, 491, 443, 144, 238, 245, 565, 87, 199, 305]}]}, {\"name\": \"2006\", \"data\": [{\"autocolorscale\": false, \"colorbar\": {\"title\": {\"text\": \"Events\"}}, \"locations\": [\"OK\", \"TX\", \"PA\", \"NE\", \"MS\", \"NM\", \"AR\", \"MO\", \"CT\", \"FL\", \"NC\", \"AL\", \"KY\", \"MD\", \"MN\", \"SD\", \"IA\", \"LA\", \"OH\", \"KS\", \"ND\", \"IN\", \"CO\", \"SC\", \"WV\", \"WY\", \"GA\", \"WI\", \"IL\", \"TN\", \"NJ\", \"MI\", \"CA\", \"MA\", \"NH\", \"OR\", \"VA\", \"AZ\", \"NY\", \"MT\", \"ME\", \"VT\", \"UT\", \"DE\", \"ID\", \"WA\", \"HI\", \"RI\", \"NV\", \"AK\"], \"locationmode\": \"USA-states\", \"marker\": {\"line\": {\"width\": 2, \"color\": \"rgb(255,255,255)\"}}, \"colorscale\": [[0.0, \"rgb(242,240,247)\"], [0.2, \"rgb(218,218,235)\"], [0.4, \"rgb(188,189,220)\"], [0.6, \"rgb(158,154,200)\"], [0.8, \"rgb(117,107,177)\"], [1.0, \"rgb(84,39,143)\"]], \"type\": \"choropleth\", \"text\": [\"OKLAHOMA\", \"TEXAS\", \"PENNSYLVANIA\", \"NEBRASKA\", \"MISSISSIPPI\", \"NEW MEXICO\", \"ARKANSAS\", \"MISSOURI\", \"CONNECTICUT\", \"FLORIDA\", \"NORTH CAROLINA\", \"ALABAMA\", \"KENTUCKY\", \"MARYLAND\", \"MINNESOTA\", \"SOUTH DAKOTA\", \"IOWA\", \"LOUISIANA\", \"OHIO\", \"KANSAS\", \"NORTH DAKOTA\", \"INDIANA\", \"COLORADO\", \"SOUTH CAROLINA\", \"WEST VIRGINIA\", \"WYOMING\", \"GEORGIA\", \"WISCONSIN\", \"ILLINOIS\", \"TENNESSEE\", \"NEW JERSEY\", \"MICHIGAN\", \"CALIFORNIA\", \"MASSACHUSETTS\", \"NEW HAMPSHIRE\", \"OREGON\", \"VIRGINIA\", \"ARIZONA\", \"NEW YORK\", \"MONTANA\", \"MAINE\", \"VERMONT\", \"UTAH\", \"DELAWARE\", \"IDAHO\", \"WASHINGTON\", \"HAWAII\", \"RHODE ISLAND\", \"NEVADA\", \"ALASKA\"], \"z\": [2536, 3812, 1277, 1389, 1010, 439, 1266, 2854, 199, 699, 1981, 1143, 1822, 539, 1377, 1377, 1507, 603, 1213, 2820, 811, 1592, 1564, 1145, 479, 277, 1287, 1626, 2661, 1427, 856, 1339, 862, 409, 257, 745, 1373, 389, 1306, 901, 540, 412, 409, 179, 388, 434, 552, 64, 202, 330]}]}, {\"name\": \"2007\", \"data\": [{\"autocolorscale\": false, \"colorbar\": {\"title\": {\"text\": \"Events\"}}, \"locations\": [\"OK\", \"TX\", \"PA\", \"NE\", \"MS\", \"NM\", \"AR\", \"MO\", \"CT\", \"FL\", \"NC\", \"AL\", \"KY\", \"MD\", \"MN\", \"SD\", \"IA\", \"LA\", \"OH\", \"KS\", \"ND\", \"IN\", \"CO\", \"SC\", \"WV\", \"WY\", \"GA\", \"WI\", \"IL\", \"TN\", \"NJ\", \"MI\", \"CA\", \"MA\", \"NH\", \"OR\", \"VA\", \"AZ\", \"NY\", \"MT\", \"ME\", \"VT\", \"UT\", \"DE\", \"ID\", \"WA\", \"HI\", \"RI\", \"NV\", \"AK\"], \"locationmode\": \"USA-states\", \"marker\": {\"line\": {\"width\": 2, \"color\": \"rgb(255,255,255)\"}}, \"colorscale\": [[0.0, \"rgb(242,240,247)\"], [0.2, \"rgb(218,218,235)\"], [0.4, \"rgb(188,189,220)\"], [0.6, \"rgb(158,154,200)\"], [0.8, \"rgb(117,107,177)\"], [1.0, \"rgb(84,39,143)\"]], \"type\": \"choropleth\", \"text\": [\"OKLAHOMA\", \"TEXAS\", \"PENNSYLVANIA\", \"NEBRASKA\", \"MISSISSIPPI\", \"NEW MEXICO\", \"ARKANSAS\", \"MISSOURI\", \"CONNECTICUT\", \"FLORIDA\", \"NORTH CAROLINA\", \"ALABAMA\", \"KENTUCKY\", \"MARYLAND\", \"MINNESOTA\", \"SOUTH DAKOTA\", \"IOWA\", \"LOUISIANA\", \"OHIO\", \"KANSAS\", \"NORTH DAKOTA\", \"INDIANA\", \"COLORADO\", \"SOUTH CAROLINA\", \"WEST VIRGINIA\", \"WYOMING\", \"GEORGIA\", \"WISCONSIN\", \"ILLINOIS\", \"TENNESSEE\", \"NEW JERSEY\", \"MICHIGAN\", \"CALIFORNIA\", \"MASSACHUSETTS\", \"NEW HAMPSHIRE\", \"OREGON\", \"VIRGINIA\", \"ARIZONA\", \"NEW YORK\", \"MONTANA\", \"MAINE\", \"VERMONT\", \"UTAH\", \"DELAWARE\", \"IDAHO\", \"WASHINGTON\", \"HAWAII\", \"RHODE ISLAND\", \"NEVADA\", \"ALASKA\"], \"z\": [1716, 4701, 1687, 1766, 1218, 527, 1028, 2016, 148, 1041, 1721, 1315, 1391, 673, 1881, 1568, 2337, 463, 1233, 3170, 905, 1165, 1687, 915, 757, 391, 1983, 1850, 2024, 1125, 1044, 1637, 862, 416, 394, 379, 1647, 341, 1750, 1212, 758, 600, 364, 200, 247, 275, 457, 51, 154, 257]}]}, {\"name\": \"2008\", \"data\": [{\"autocolorscale\": false, \"colorbar\": {\"title\": {\"text\": \"Events\"}}, \"locations\": [\"OK\", \"TX\", \"PA\", \"NE\", \"MS\", \"NM\", \"AR\", \"MO\", \"CT\", \"FL\", \"NC\", \"AL\", \"KY\", \"MD\", \"MN\", \"SD\", \"IA\", \"LA\", \"OH\", \"KS\", \"ND\", \"IN\", \"CO\", \"SC\", \"WV\", \"WY\", \"GA\", \"WI\", \"IL\", \"TN\", \"NJ\", \"MI\", \"CA\", \"MA\", \"NH\", \"OR\", \"VA\", \"AZ\", \"NY\", \"MT\", \"ME\", \"VT\", \"UT\", \"DE\", \"ID\", \"WA\", \"HI\", \"RI\", \"NV\", \"AK\"], \"locationmode\": \"USA-states\", \"marker\": {\"line\": {\"width\": 2, \"color\": \"rgb(255,255,255)\"}}, \"colorscale\": [[0.0, \"rgb(242,240,247)\"], [0.2, \"rgb(218,218,235)\"], [0.4, \"rgb(188,189,220)\"], [0.6, \"rgb(158,154,200)\"], [0.8, \"rgb(117,107,177)\"], [1.0, \"rgb(84,39,143)\"]], \"type\": \"choropleth\", \"text\": [\"OKLAHOMA\", \"TEXAS\", \"PENNSYLVANIA\", \"NEBRASKA\", \"MISSISSIPPI\", \"NEW MEXICO\", \"ARKANSAS\", \"MISSOURI\", \"CONNECTICUT\", \"FLORIDA\", \"NORTH CAROLINA\", \"ALABAMA\", \"KENTUCKY\", \"MARYLAND\", \"MINNESOTA\", \"SOUTH DAKOTA\", \"IOWA\", \"LOUISIANA\", \"OHIO\", \"KANSAS\", \"NORTH DAKOTA\", \"INDIANA\", \"COLORADO\", \"SOUTH CAROLINA\", \"WEST VIRGINIA\", \"WYOMING\", \"GEORGIA\", \"WISCONSIN\", \"ILLINOIS\", \"TENNESSEE\", \"NEW JERSEY\", \"MICHIGAN\", \"CALIFORNIA\", \"MASSACHUSETTS\", \"NEW HAMPSHIRE\", \"OREGON\", \"VIRGINIA\", \"ARIZONA\", \"NEW YORK\", \"MONTANA\", \"MAINE\", \"VERMONT\", \"UTAH\", \"DELAWARE\", \"IDAHO\", \"WASHINGTON\", \"HAWAII\", \"RHODE ISLAND\", \"NEVADA\", \"ALASKA\"], \"z\": [2341, 3718, 1424, 1934, 1809, 539, 2055, 3023, 304, 1173, 2539, 1695, 2031, 864, 2001, 1870, 3457, 1000, 1569, 3481, 1206, 1933, 1365, 1521, 733, 600, 1775, 2024, 2891, 1230, 966, 1675, 1138, 749, 382, 428, 1948, 397, 2490, 1336, 670, 539, 408, 181, 356, 433, 476, 88, 308, 334]}]}, {\"name\": \"2009\", \"data\": [{\"autocolorscale\": false, \"colorbar\": {\"title\": {\"text\": \"Events\"}}, \"locations\": [\"OK\", \"TX\", \"PA\", \"NE\", \"MS\", \"NM\", \"AR\", \"MO\", \"CT\", \"FL\", \"NC\", \"AL\", \"KY\", \"MD\", \"MN\", \"SD\", \"IA\", \"LA\", \"OH\", \"KS\", \"ND\", \"IN\", \"CO\", \"SC\", \"WV\", \"WY\", \"GA\", \"WI\", \"IL\", \"TN\", \"NJ\", \"MI\", \"CA\", \"MA\", \"NH\", \"OR\", \"VA\", \"AZ\", \"NY\", \"MT\", \"ME\", \"VT\", \"UT\", \"DE\", \"ID\", \"WA\", \"HI\", \"RI\", \"NV\", \"AK\"], \"locationmode\": \"USA-states\", \"marker\": {\"line\": {\"width\": 2, \"color\": \"rgb(255,255,255)\"}}, \"colorscale\": [[0.0, \"rgb(242,240,247)\"], [0.2, \"rgb(218,218,235)\"], [0.4, \"rgb(188,189,220)\"], [0.6, \"rgb(158,154,200)\"], [0.8, \"rgb(117,107,177)\"], [1.0, \"rgb(84,39,143)\"]], \"type\": \"choropleth\", \"text\": [\"OKLAHOMA\", \"TEXAS\", \"PENNSYLVANIA\", \"NEBRASKA\", \"MISSISSIPPI\", \"NEW MEXICO\", \"ARKANSAS\", \"MISSOURI\", \"CONNECTICUT\", \"FLORIDA\", \"NORTH CAROLINA\", \"ALABAMA\", \"KENTUCKY\", \"MARYLAND\", \"MINNESOTA\", \"SOUTH DAKOTA\", \"IOWA\", \"LOUISIANA\", \"OHIO\", \"KANSAS\", \"NORTH DAKOTA\", \"INDIANA\", \"COLORADO\", \"SOUTH CAROLINA\", \"WEST VIRGINIA\", \"WYOMING\", \"GEORGIA\", \"WISCONSIN\", \"ILLINOIS\", \"TENNESSEE\", \"NEW JERSEY\", \"MICHIGAN\", \"CALIFORNIA\", \"MASSACHUSETTS\", \"NEW HAMPSHIRE\", \"OREGON\", \"VIRGINIA\", \"ARIZONA\", \"NEW YORK\", \"MONTANA\", \"MAINE\", \"VERMONT\", \"UTAH\", \"DELAWARE\", \"IDAHO\", \"WASHINGTON\", \"HAWAII\", \"RHODE ISLAND\", \"NEVADA\", \"ALASKA\"], \"z\": [2038, 5051, 1226, 1817, 1221, 518, 1961, 1925, 286, 1037, 1842, 1756, 2113, 596, 1140, 1521, 1872, 915, 926, 2884, 957, 1158, 1739, 1069, 636, 651, 1603, 1173, 1879, 1593, 935, 751, 875, 326, 167, 342, 1500, 360, 1475, 883, 444, 312, 306, 179, 268, 306, 653, 37, 187, 464]}]}, {\"name\": \"2010\", \"data\": [{\"autocolorscale\": false, \"colorbar\": {\"title\": {\"text\": \"Events\"}}, \"locations\": [\"OK\", \"TX\", \"PA\", \"NE\", \"MS\", \"NM\", \"AR\", \"MO\", \"CT\", \"FL\", \"NC\", \"AL\", \"KY\", \"MD\", \"MN\", \"SD\", \"IA\", \"LA\", \"OH\", \"KS\", \"ND\", \"IN\", \"CO\", \"SC\", \"WV\", \"WY\", \"GA\", \"WI\", \"IL\", \"TN\", \"NJ\", \"MI\", \"CA\", \"MA\", \"NH\", \"OR\", \"VA\", \"AZ\", \"NY\", \"MT\", \"ME\", \"VT\", \"UT\", \"DE\", \"ID\", \"WA\", \"HI\", \"RI\", \"NV\", \"AK\"], \"locationmode\": \"USA-states\", \"marker\": {\"line\": {\"width\": 2, \"color\": \"rgb(255,255,255)\"}}, \"colorscale\": [[0.0, \"rgb(242,240,247)\"], [0.2, \"rgb(218,218,235)\"], [0.4, \"rgb(188,189,220)\"], [0.6, \"rgb(158,154,200)\"], [0.8, \"rgb(117,107,177)\"], [1.0, \"rgb(84,39,143)\"]], \"type\": \"choropleth\", \"text\": [\"OKLAHOMA\", \"TEXAS\", \"PENNSYLVANIA\", \"NEBRASKA\", \"MISSISSIPPI\", \"NEW MEXICO\", \"ARKANSAS\", \"MISSOURI\", \"CONNECTICUT\", \"FLORIDA\", \"NORTH CAROLINA\", \"ALABAMA\", \"KENTUCKY\", \"MARYLAND\", \"MINNESOTA\", \"SOUTH DAKOTA\", \"IOWA\", \"LOUISIANA\", \"OHIO\", \"KANSAS\", \"NORTH DAKOTA\", \"INDIANA\", \"COLORADO\", \"SOUTH CAROLINA\", \"WEST VIRGINIA\", \"WYOMING\", \"GEORGIA\", \"WISCONSIN\", \"ILLINOIS\", \"TENNESSEE\", \"NEW JERSEY\", \"MICHIGAN\", \"CALIFORNIA\", \"MASSACHUSETTS\", \"NEW HAMPSHIRE\", \"OREGON\", \"VIRGINIA\", \"ARIZONA\", \"NEW YORK\", \"MONTANA\", \"MAINE\", \"VERMONT\", \"UTAH\", \"DELAWARE\", \"IDAHO\", \"WASHINGTON\", \"HAWAII\", \"RHODE ISLAND\", \"NEVADA\", \"ALASKA\"], \"z\": [1229, 2950, 1263, 2151, 1579, 764, 1598, 2417, 312, 794, 2236, 1274, 2997, 754, 2023, 1957, 2940, 696, 1457, 2705, 1420, 1299, 1756, 1164, 674, 982, 1353, 1554, 2482, 1781, 906, 853, 871, 500, 236, 375, 2324, 546, 1479, 1185, 430, 330, 470, 143, 321, 324, 600, 54, 239, 255]}]}, {\"name\": \"2011\", \"data\": [{\"autocolorscale\": false, \"colorbar\": {\"title\": {\"text\": \"Events\"}}, \"locations\": [\"OK\", \"TX\", \"PA\", \"NE\", \"MS\", \"NM\", \"AR\", \"MO\", \"CT\", \"FL\", \"NC\", \"AL\", \"KY\", \"MD\", \"MN\", \"SD\", \"IA\", \"LA\", \"OH\", \"KS\", \"ND\", \"IN\", \"CO\", \"SC\", \"WV\", \"WY\", \"GA\", \"WI\", \"IL\", \"TN\", \"NJ\", \"MI\", \"CA\", \"MA\", \"NH\", \"OR\", \"VA\", \"AZ\", \"NY\", \"MT\", \"ME\", \"VT\", \"UT\", \"DE\", \"ID\", \"WA\", \"HI\", \"RI\", \"NV\", \"AK\"], \"locationmode\": \"USA-states\", \"marker\": {\"line\": {\"width\": 2, \"color\": \"rgb(255,255,255)\"}}, \"colorscale\": [[0.0, \"rgb(242,240,247)\"], [0.2, \"rgb(218,218,235)\"], [0.4, \"rgb(188,189,220)\"], [0.6, \"rgb(158,154,200)\"], [0.8, \"rgb(117,107,177)\"], [1.0, \"rgb(84,39,143)\"]], \"type\": \"choropleth\", \"text\": [\"OKLAHOMA\", \"TEXAS\", \"PENNSYLVANIA\", \"NEBRASKA\", \"MISSISSIPPI\", \"NEW MEXICO\", \"ARKANSAS\", \"MISSOURI\", \"CONNECTICUT\", \"FLORIDA\", \"NORTH CAROLINA\", \"ALABAMA\", \"KENTUCKY\", \"MARYLAND\", \"MINNESOTA\", \"SOUTH DAKOTA\", \"IOWA\", \"LOUISIANA\", \"OHIO\", \"KANSAS\", \"NORTH DAKOTA\", \"INDIANA\", \"COLORADO\", \"SOUTH CAROLINA\", \"WEST VIRGINIA\", \"WYOMING\", \"GEORGIA\", \"WISCONSIN\", \"ILLINOIS\", \"TENNESSEE\", \"NEW JERSEY\", \"MICHIGAN\", \"CALIFORNIA\", \"MASSACHUSETTS\", \"NEW HAMPSHIRE\", \"OREGON\", \"VIRGINIA\", \"ARIZONA\", \"NEW YORK\", \"MONTANA\", \"MAINE\", \"VERMONT\", \"UTAH\", \"DELAWARE\", \"IDAHO\", \"WASHINGTON\", \"HAWAII\", \"RHODE ISLAND\", \"NEVADA\", \"ALASKA\"], \"z\": [2805, 5582, 1925, 2479, 1739, 1009, 2811, 3194, 292, 1378, 2435, 2468, 2689, 1073, 1570, 1906, 2072, 1207, 2233, 3664, 1469, 1799, 1611, 1723, 1062, 936, 2359, 1552, 2859, 2038, 1047, 1270, 811, 503, 353, 342, 2542, 604, 2227, 1514, 665, 572, 375, 180, 270, 303, 666, 54, 187, 431]}]}, {\"name\": \"2012\", \"data\": [{\"autocolorscale\": false, \"colorbar\": {\"title\": {\"text\": \"Events\"}}, \"locations\": [\"OK\", \"TX\", \"PA\", \"NE\", \"MS\", \"NM\", \"AR\", \"MO\", \"CT\", \"FL\", \"NC\", \"AL\", \"KY\", \"MD\", \"MN\", \"SD\", \"IA\", \"LA\", \"OH\", \"KS\", \"ND\", \"IN\", \"CO\", \"SC\", \"WV\", \"WY\", \"GA\", \"WI\", \"IL\", \"TN\", \"NJ\", \"MI\", \"CA\", \"MA\", \"NH\", \"OR\", \"VA\", \"AZ\", \"NY\", \"MT\", \"ME\", \"VT\", \"UT\", \"DE\", \"ID\", \"WA\", \"HI\", \"RI\", \"NV\", \"AK\"], \"locationmode\": \"USA-states\", \"marker\": {\"line\": {\"width\": 2, \"color\": \"rgb(255,255,255)\"}}, \"colorscale\": [[0.0, \"rgb(242,240,247)\"], [0.2, \"rgb(218,218,235)\"], [0.4, \"rgb(188,189,220)\"], [0.6, \"rgb(158,154,200)\"], [0.8, \"rgb(117,107,177)\"], [1.0, \"rgb(84,39,143)\"]], \"type\": \"choropleth\", \"text\": [\"OKLAHOMA\", \"TEXAS\", \"PENNSYLVANIA\", \"NEBRASKA\", \"MISSISSIPPI\", \"NEW MEXICO\", \"ARKANSAS\", \"MISSOURI\", \"CONNECTICUT\", \"FLORIDA\", \"NORTH CAROLINA\", \"ALABAMA\", \"KENTUCKY\", \"MARYLAND\", \"MINNESOTA\", \"SOUTH DAKOTA\", \"IOWA\", \"LOUISIANA\", \"OHIO\", \"KANSAS\", \"NORTH DAKOTA\", \"INDIANA\", \"COLORADO\", \"SOUTH CAROLINA\", \"WEST VIRGINIA\", \"WYOMING\", \"GEORGIA\", \"WISCONSIN\", \"ILLINOIS\", \"TENNESSEE\", \"NEW JERSEY\", \"MICHIGAN\", \"CALIFORNIA\", \"MASSACHUSETTS\", \"NEW HAMPSHIRE\", \"OREGON\", \"VIRGINIA\", \"ARIZONA\", \"NEW YORK\", \"MONTANA\", \"MAINE\", \"VERMONT\", \"UTAH\", \"DELAWARE\", \"IDAHO\", \"WASHINGTON\", \"HAWAII\", \"RHODE ISLAND\", \"NEVADA\", \"ALASKA\"], \"z\": [1857, 4814, 1685, 1963, 1071, 1158, 1905, 2351, 253, 1406, 1915, 1723, 2314, 1073, 1777, 1556, 1982, 805, 1806, 2384, 687, 1596, 1326, 1275, 859, 953, 1804, 1458, 2134, 1553, 997, 992, 889, 453, 229, 503, 2202, 498, 1603, 1028, 283, 366, 419, 208, 333, 450, 580, 99, 241, 358]}]}, {\"name\": \"2013\", \"data\": [{\"autocolorscale\": false, \"colorbar\": {\"title\": {\"text\": \"Events\"}}, \"locations\": [\"OK\", \"TX\", \"PA\", \"NE\", \"MS\", \"NM\", \"AR\", \"MO\", \"CT\", \"FL\", \"NC\", \"AL\", \"KY\", \"MD\", \"MN\", \"SD\", \"IA\", \"LA\", \"OH\", \"KS\", \"ND\", \"IN\", \"CO\", \"SC\", \"WV\", \"WY\", \"GA\", \"WI\", \"IL\", \"TN\", \"NJ\", \"MI\", \"CA\", \"MA\", \"NH\", \"OR\", \"VA\", \"AZ\", \"NY\", \"MT\", \"ME\", \"VT\", \"UT\", \"DE\", \"ID\", \"WA\", \"HI\", \"RI\", \"NV\", \"AK\"], \"locationmode\": \"USA-states\", \"marker\": {\"line\": {\"width\": 2, \"color\": \"rgb(255,255,255)\"}}, \"colorscale\": [[0.0, \"rgb(242,240,247)\"], [0.2, \"rgb(218,218,235)\"], [0.4, \"rgb(188,189,220)\"], [0.6, \"rgb(158,154,200)\"], [0.8, \"rgb(117,107,177)\"], [1.0, \"rgb(84,39,143)\"]], \"type\": \"choropleth\", \"text\": [\"OKLAHOMA\", \"TEXAS\", \"PENNSYLVANIA\", \"NEBRASKA\", \"MISSISSIPPI\", \"NEW MEXICO\", \"ARKANSAS\", \"MISSOURI\", \"CONNECTICUT\", \"FLORIDA\", \"NORTH CAROLINA\", \"ALABAMA\", \"KENTUCKY\", \"MARYLAND\", \"MINNESOTA\", \"SOUTH DAKOTA\", \"IOWA\", \"LOUISIANA\", \"OHIO\", \"KANSAS\", \"NORTH DAKOTA\", \"INDIANA\", \"COLORADO\", \"SOUTH CAROLINA\", \"WEST VIRGINIA\", \"WYOMING\", \"GEORGIA\", \"WISCONSIN\", \"ILLINOIS\", \"TENNESSEE\", \"NEW JERSEY\", \"MICHIGAN\", \"CALIFORNIA\", \"MASSACHUSETTS\", \"NEW HAMPSHIRE\", \"OREGON\", \"VIRGINIA\", \"ARIZONA\", \"NEW YORK\", \"MONTANA\", \"MAINE\", \"VERMONT\", \"UTAH\", \"DELAWARE\", \"IDAHO\", \"WASHINGTON\", \"HAWAII\", \"RHODE ISLAND\", \"NEVADA\", \"ALASKA\"], \"z\": [2212, 5269, 1803, 2363, 661, 1387, 1341, 1979, 203, 866, 1237, 935, 1478, 629, 1836, 1743, 2170, 586, 1767, 2739, 1148, 1182, 1542, 920, 759, 1398, 997, 1272, 1847, 1121, 821, 1216, 739, 455, 261, 290, 1556, 561, 1759, 1672, 568, 311, 482, 144, 295, 247, 732, 63, 208, 269]}]}, {\"name\": \"2014\", \"data\": [{\"autocolorscale\": false, \"colorbar\": {\"title\": {\"text\": \"Events\"}}, \"locations\": [\"OK\", \"TX\", \"PA\", \"NE\", \"MS\", \"NM\", \"AR\", \"MO\", \"CT\", \"FL\", \"NC\", \"AL\", \"KY\", \"MD\", \"MN\", \"SD\", \"IA\", \"LA\", \"OH\", \"KS\", \"ND\", \"IN\", \"CO\", \"SC\", \"WV\", \"WY\", \"GA\", \"WI\", \"IL\", \"TN\", \"NJ\", \"MI\", \"CA\", \"MA\", \"NH\", \"OR\", \"VA\", \"AZ\", \"NY\", \"MT\", \"ME\", \"VT\", \"UT\", \"DE\", \"ID\", \"WA\", \"HI\", \"RI\", \"NV\", \"AK\"], \"locationmode\": \"USA-states\", \"marker\": {\"line\": {\"width\": 2, \"color\": \"rgb(255,255,255)\"}}, \"colorscale\": [[0.0, \"rgb(242,240,247)\"], [0.2, \"rgb(218,218,235)\"], [0.4, \"rgb(188,189,220)\"], [0.6, \"rgb(158,154,200)\"], [0.8, \"rgb(117,107,177)\"], [1.0, \"rgb(84,39,143)\"]], \"type\": \"choropleth\", \"text\": [\"OKLAHOMA\", \"TEXAS\", \"PENNSYLVANIA\", \"NEBRASKA\", \"MISSISSIPPI\", \"NEW MEXICO\", \"ARKANSAS\", \"MISSOURI\", \"CONNECTICUT\", \"FLORIDA\", \"NORTH CAROLINA\", \"ALABAMA\", \"KENTUCKY\", \"MARYLAND\", \"MINNESOTA\", \"SOUTH DAKOTA\", \"IOWA\", \"LOUISIANA\", \"OHIO\", \"KANSAS\", \"NORTH DAKOTA\", \"INDIANA\", \"COLORADO\", \"SOUTH CAROLINA\", \"WEST VIRGINIA\", \"WYOMING\", \"GEORGIA\", \"WISCONSIN\", \"ILLINOIS\", \"TENNESSEE\", \"NEW JERSEY\", \"MICHIGAN\", \"CALIFORNIA\", \"MASSACHUSETTS\", \"NEW HAMPSHIRE\", \"OREGON\", \"VIRGINIA\", \"ARIZONA\", \"NEW YORK\", \"MONTANA\", \"MAINE\", \"VERMONT\", \"UTAH\", \"DELAWARE\", \"IDAHO\", \"WASHINGTON\", \"HAWAII\", \"RHODE ISLAND\", \"NEVADA\", \"ALASKA\"], \"z\": [1440, 4708, 1676, 2352, 899, 1238, 1259, 1698, 170, 1121, 1557, 890, 1785, 977, 1799, 1335, 2571, 610, 1473, 2639, 876, 1205, 1458, 782, 1055, 1478, 1228, 1285, 1707, 1143, 972, 1214, 1141, 541, 264, 399, 1824, 570, 1782, 1311, 388, 194, 328, 161, 392, 433, 629, 50, 285, 172]}]}, {\"name\": \"2015\", \"data\": [{\"autocolorscale\": false, \"colorbar\": {\"title\": {\"text\": \"Events\"}}, \"locations\": [\"OK\", \"TX\", \"PA\", \"NE\", \"MS\", \"NM\", \"AR\", \"MO\", \"CT\", \"FL\", \"NC\", \"AL\", \"KY\", \"MD\", \"MN\", \"SD\", \"IA\", \"LA\", \"OH\", \"KS\", \"ND\", \"IN\", \"CO\", \"SC\", \"WV\", \"WY\", \"GA\", \"WI\", \"IL\", \"TN\", \"NJ\", \"MI\", \"CA\", \"MA\", \"NH\", \"OR\", \"VA\", \"AZ\", \"NY\", \"MT\", \"ME\", \"VT\", \"UT\", \"DE\", \"ID\", \"WA\", \"HI\", \"RI\", \"NV\", \"AK\"], \"locationmode\": \"USA-states\", \"marker\": {\"line\": {\"width\": 2, \"color\": \"rgb(255,255,255)\"}}, \"colorscale\": [[0.0, \"rgb(242,240,247)\"], [0.2, \"rgb(218,218,235)\"], [0.4, \"rgb(188,189,220)\"], [0.6, \"rgb(158,154,200)\"], [0.8, \"rgb(117,107,177)\"], [1.0, \"rgb(84,39,143)\"]], \"type\": \"choropleth\", \"text\": [\"OKLAHOMA\", \"TEXAS\", \"PENNSYLVANIA\", \"NEBRASKA\", \"MISSISSIPPI\", \"NEW MEXICO\", \"ARKANSAS\", \"MISSOURI\", \"CONNECTICUT\", \"FLORIDA\", \"NORTH CAROLINA\", \"ALABAMA\", \"KENTUCKY\", \"MARYLAND\", \"MINNESOTA\", \"SOUTH DAKOTA\", \"IOWA\", \"LOUISIANA\", \"OHIO\", \"KANSAS\", \"NORTH DAKOTA\", \"INDIANA\", \"COLORADO\", \"SOUTH CAROLINA\", \"WEST VIRGINIA\", \"WYOMING\", \"GEORGIA\", \"WISCONSIN\", \"ILLINOIS\", \"TENNESSEE\", \"NEW JERSEY\", \"MICHIGAN\", \"CALIFORNIA\", \"MASSACHUSETTS\", \"NEW HAMPSHIRE\", \"OREGON\", \"VIRGINIA\", \"ARIZONA\", \"NEW YORK\", \"MONTANA\", \"MAINE\", \"VERMONT\", \"UTAH\", \"DELAWARE\", \"IDAHO\", \"WASHINGTON\", \"HAWAII\", \"RHODE ISLAND\", \"NEVADA\", \"ALASKA\"], \"z\": [2057, 5278, 1470, 1481, 863, 814, 1243, 2477, 170, 1200, 1384, 892, 2457, 878, 1231, 1680, 2102, 752, 1416, 2047, 811, 1315, 1292, 1317, 895, 1016, 1355, 824, 1810, 1180, 861, 878, 1143, 605, 187, 381, 1686, 518, 1272, 787, 441, 234, 325, 166, 373, 538, 759, 109, 254, 220]}]}, {\"name\": \"2016\", \"data\": [{\"autocolorscale\": false, \"colorbar\": {\"title\": {\"text\": \"Events\"}}, \"locations\": [\"OK\", \"TX\", \"PA\", \"NE\", \"MS\", \"NM\", \"AR\", \"MO\", \"CT\", \"FL\", \"NC\", \"AL\", \"KY\", \"MD\", \"MN\", \"SD\", \"IA\", \"LA\", \"OH\", \"KS\", \"ND\", \"IN\", \"CO\", \"SC\", \"WV\", \"WY\", \"GA\", \"WI\", \"IL\", \"TN\", \"NJ\", \"MI\", \"CA\", \"MA\", \"NH\", \"OR\", \"VA\", \"AZ\", \"NY\", \"MT\", \"ME\", \"VT\", \"UT\", \"DE\", \"ID\", \"WA\", \"HI\", \"RI\", \"NV\", \"AK\"], \"locationmode\": \"USA-states\", \"marker\": {\"line\": {\"width\": 2, \"color\": \"rgb(255,255,255)\"}}, \"colorscale\": [[0.0, \"rgb(242,240,247)\"], [0.2, \"rgb(218,218,235)\"], [0.4, \"rgb(188,189,220)\"], [0.6, \"rgb(158,154,200)\"], [0.8, \"rgb(117,107,177)\"], [1.0, \"rgb(84,39,143)\"]], \"type\": \"choropleth\", \"text\": [\"OKLAHOMA\", \"TEXAS\", \"PENNSYLVANIA\", \"NEBRASKA\", \"MISSISSIPPI\", \"NEW MEXICO\", \"ARKANSAS\", \"MISSOURI\", \"CONNECTICUT\", \"FLORIDA\", \"NORTH CAROLINA\", \"ALABAMA\", \"KENTUCKY\", \"MARYLAND\", \"MINNESOTA\", \"SOUTH DAKOTA\", \"IOWA\", \"LOUISIANA\", \"OHIO\", \"KANSAS\", \"NORTH DAKOTA\", \"INDIANA\", \"COLORADO\", \"SOUTH CAROLINA\", \"WEST VIRGINIA\", \"WYOMING\", \"GEORGIA\", \"WISCONSIN\", \"ILLINOIS\", \"TENNESSEE\", \"NEW JERSEY\", \"MICHIGAN\", \"CALIFORNIA\", \"MASSACHUSETTS\", \"NEW HAMPSHIRE\", \"OREGON\", \"VIRGINIA\", \"ARIZONA\", \"NEW YORK\", \"MONTANA\", \"MAINE\", \"VERMONT\", \"UTAH\", \"DELAWARE\", \"IDAHO\", \"WASHINGTON\", \"HAWAII\", \"RHODE ISLAND\", \"NEVADA\", \"ALASKA\"], \"z\": [1363, 3474, 898, 1554, 1260, 482, 882, 1512, 210, 1065, 1656, 976, 2123, 888, 1826, 1793, 1880, 901, 1050, 2225, 1092, 1045, 1346, 1113, 894, 1636, 1664, 1194, 1412, 1592, 722, 797, 1330, 889, 168, 317, 2235, 444, 1334, 948, 385, 210, 348, 277, 280, 320, 727, 178, 187, 150]}]}, {\"name\": \"2017\", \"data\": [{\"autocolorscale\": false, \"colorbar\": {\"title\": {\"text\": \"Events\"}}, \"locations\": [\"OK\", \"TX\", \"PA\", \"NE\", \"MS\", \"NM\", \"AR\", \"MO\", \"CT\", \"FL\", \"NC\", \"AL\", \"KY\", \"MD\", \"MN\", \"SD\", \"IA\", \"LA\", \"OH\", \"KS\", \"ND\", \"IN\", \"CO\", \"SC\", \"WV\", \"WY\", \"GA\", \"WI\", \"IL\", \"TN\", \"NJ\", \"MI\", \"CA\", \"MA\", \"NH\", \"OR\", \"VA\", \"AZ\", \"NY\", \"MT\", \"ME\", \"VT\", \"UT\", \"DE\", \"ID\", \"WA\", \"HI\", \"RI\", \"NV\", \"AK\"], \"locationmode\": \"USA-states\", \"marker\": {\"line\": {\"width\": 2, \"color\": \"rgb(255,255,255)\"}}, \"colorscale\": [[0.0, \"rgb(242,240,247)\"], [0.2, \"rgb(218,218,235)\"], [0.4, \"rgb(188,189,220)\"], [0.6, \"rgb(158,154,200)\"], [0.8, \"rgb(117,107,177)\"], [1.0, \"rgb(84,39,143)\"]], \"type\": \"choropleth\", \"text\": [\"OKLAHOMA\", \"TEXAS\", \"PENNSYLVANIA\", \"NEBRASKA\", \"MISSISSIPPI\", \"NEW MEXICO\", \"ARKANSAS\", \"MISSOURI\", \"CONNECTICUT\", \"FLORIDA\", \"NORTH CAROLINA\", \"ALABAMA\", \"KENTUCKY\", \"MARYLAND\", \"MINNESOTA\", \"SOUTH DAKOTA\", \"IOWA\", \"LOUISIANA\", \"OHIO\", \"KANSAS\", \"NORTH DAKOTA\", \"INDIANA\", \"COLORADO\", \"SOUTH CAROLINA\", \"WEST VIRGINIA\", \"WYOMING\", \"GEORGIA\", \"WISCONSIN\", \"ILLINOIS\", \"TENNESSEE\", \"NEW JERSEY\", \"MICHIGAN\", \"CALIFORNIA\", \"MASSACHUSETTS\", \"NEW HAMPSHIRE\", \"OREGON\", \"VIRGINIA\", \"ARIZONA\", \"NEW YORK\", \"MONTANA\", \"MAINE\", \"VERMONT\", \"UTAH\", \"DELAWARE\", \"IDAHO\", \"WASHINGTON\", \"HAWAII\", \"RHODE ISLAND\", \"NEVADA\", \"ALASKA\"], \"z\": [1933, 3622, 1494, 1544, 1033, 761, 1212, 2289, 201, 1155, 1224, 1300, 1345, 851, 1314, 1423, 1942, 821, 1473, 2153, 720, 954, 1095, 912, 631, 1641, 1679, 1346, 1730, 1404, 628, 628, 1889, 757, 295, 398, 1544, 498, 2024, 969, 368, 346, 262, 152, 520, 521, 629, 68, 272, 231]}]}, {\"name\": \"2018\", \"data\": [{\"autocolorscale\": false, \"colorbar\": {\"title\": {\"text\": \"Events\"}}, \"locations\": [\"OK\", \"TX\", \"PA\", \"NE\", \"MS\", \"NM\", \"AR\", \"MO\", \"CT\", \"FL\", \"NC\", \"AL\", \"KY\", \"MD\", \"MN\", \"SD\", \"IA\", \"LA\", \"OH\", \"KS\", \"ND\", \"IN\", \"CO\", \"SC\", \"WV\", \"WY\", \"GA\", \"WI\", \"IL\", \"TN\", \"NJ\", \"MI\", \"CA\", \"MA\", \"NH\", \"OR\", \"VA\", \"AZ\", \"NY\", \"MT\", \"ME\", \"VT\", \"UT\", \"DE\", \"ID\", \"WA\", \"HI\", \"RI\", \"NV\", \"AK\"], \"locationmode\": \"USA-states\", \"marker\": {\"line\": {\"width\": 2, \"color\": \"rgb(255,255,255)\"}}, \"colorscale\": [[0.0, \"rgb(242,240,247)\"], [0.2, \"rgb(218,218,235)\"], [0.4, \"rgb(188,189,220)\"], [0.6, \"rgb(158,154,200)\"], [0.8, \"rgb(117,107,177)\"], [1.0, \"rgb(84,39,143)\"]], \"type\": \"choropleth\", \"text\": [\"OKLAHOMA\", \"TEXAS\", \"PENNSYLVANIA\", \"NEBRASKA\", \"MISSISSIPPI\", \"NEW MEXICO\", \"ARKANSAS\", \"MISSOURI\", \"CONNECTICUT\", \"FLORIDA\", \"NORTH CAROLINA\", \"ALABAMA\", \"KENTUCKY\", \"MARYLAND\", \"MINNESOTA\", \"SOUTH DAKOTA\", \"IOWA\", \"LOUISIANA\", \"OHIO\", \"KANSAS\", \"NORTH DAKOTA\", \"INDIANA\", \"COLORADO\", \"SOUTH CAROLINA\", \"WEST VIRGINIA\", \"WYOMING\", \"GEORGIA\", \"WISCONSIN\", \"ILLINOIS\", \"TENNESSEE\", \"NEW JERSEY\", \"MICHIGAN\", \"CALIFORNIA\", \"MASSACHUSETTS\", \"NEW HAMPSHIRE\", \"OREGON\", \"VIRGINIA\", \"ARIZONA\", \"NEW YORK\", \"MONTANA\", \"MAINE\", \"VERMONT\", \"UTAH\", \"DELAWARE\", \"IDAHO\", \"WASHINGTON\", \"HAWAII\", \"RHODE ISLAND\", \"NEVADA\", \"ALASKA\"], \"z\": [1532, 3370, 1556, 1708, 1124, 1152, 1331, 1944, 335, 985, 1830, 1005, 2050, 1198, 1731, 2089, 2715, 739, 1331, 2458, 923, 1017, 1761, 929, 1027, 1316, 1257, 1334, 1700, 1410, 626, 767, 1599, 672, 249, 246, 2999, 849, 1985, 1085, 400, 307, 306, 62, 321, 406, 840, 71, 400, 116]}]}]);\n",
       "                        }).then(function(){\n",
       "                            Plotly.animate('a247356e-affa-42b4-b249-507c220cc1bb', null);\n",
       "                        }).then(function(){\n",
       "                            \n",
       "var gd = document.getElementById('a247356e-affa-42b4-b249-507c220cc1bb');\n",
       "var x = new MutationObserver(function (mutations, observer) {{\n",
       "        var display = window.getComputedStyle(gd).display;\n",
       "        if (!display || display === 'none') {{\n",
       "            console.log([gd, 'removed!']);\n",
       "            Plotly.purge(gd);\n",
       "            observer.disconnect();\n",
       "        }}\n",
       "}});\n",
       "\n",
       "// Listen for the removal of the full notebook cells\n",
       "var notebookContainer = gd.closest('#notebook-container');\n",
       "if (notebookContainer) {{\n",
       "    x.observe(notebookContainer, {childList: true});\n",
       "}}\n",
       "\n",
       "// Listen for the clearing of the current output cell\n",
       "var outputEl = gd.closest('.output');\n",
       "if (outputEl) {{\n",
       "    x.observe(outputEl, {childList: true});\n",
       "}}\n",
       "\n",
       "                        })\n",
       "                };\n",
       "                });\n",
       "            </script>\n",
       "        </div>"
      ]
     },
     "metadata": {},
     "output_type": "display_data"
    }
   ],
   "source": [
    "#####################\n",
    "##    Animation    ##\n",
    "#####################\n",
    "\n",
    "init_notebook_mode(connected=True)\n",
    "iplot(figure)"
   ]
  },
  {
   "cell_type": "code",
   "execution_count": null,
   "metadata": {},
   "outputs": [],
   "source": []
  }
 ],
 "metadata": {
  "kernelspec": {
   "display_name": "Python 3",
   "language": "python",
   "name": "python3"
  },
  "language_info": {
   "codemirror_mode": {
    "name": "ipython",
    "version": 3
   },
   "file_extension": ".py",
   "mimetype": "text/x-python",
   "name": "python",
   "nbconvert_exporter": "python",
   "pygments_lexer": "ipython3",
   "version": "3.5.2"
  }
 },
 "nbformat": 4,
 "nbformat_minor": 2
}
